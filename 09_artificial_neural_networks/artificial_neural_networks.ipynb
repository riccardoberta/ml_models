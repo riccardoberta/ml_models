{
 "cells": [
  {
   "cell_type": "markdown",
   "metadata": {},
   "source": [
    "# Artificial Neural Networks\n",
    "\n",
    "An **Artificial Neural Networs** (ANN) is a ML model inspired by the networks of biological neurons found in our brains.\n",
    "\n",
    "1. [Biological neurons](#Biological-neurons)\n",
    "2. [Perceptron](#Perceptron)\n",
    "3. [Multilayer Perceptron](#Multilayer-Perceptron)\n",
    "4. [Backpropagation](#Backpropagation)\n",
    "5. [Activation Functions](#Activation-Functions)\n",
    "6. [Regression and Classification](#Regression-and-Classification)\n",
    "7. [Tuning Hyperparameters](#Tuning-Hyperparameters)"
   ]
  },
  {
   "cell_type": "code",
   "execution_count": 41,
   "metadata": {},
   "outputs": [],
   "source": [
    "import sklearn\n",
    "import tensorflow as tf\n",
    "import numpy as np\n",
    "import pandas as pd\n",
    "import os\n",
    "\n",
    "np.random.seed(42)\n",
    "\n",
    "%matplotlib inline\n",
    "import matplotlib as mpl\n",
    "import matplotlib.pyplot as plt\n",
    "mpl.rc('axes', labelsize=14)\n",
    "mpl.rc('xtick', labelsize=12)\n",
    "mpl.rc('ytick', labelsize=12)"
   ]
  },
  {
   "cell_type": "markdown",
   "metadata": {},
   "source": [
    "## Biological neurons\n",
    "A neuron is a cell  found in animal brains. It’s composed of a **cell body** containing the **nucleus** and most of the cell’s complex components, many branching extensions called **dendrites**, plus one very long extension called the **axon**. The axon’s length may be just a few times longer than the cell body, or up to tens of thousands of times longer. Near its extremity the axon splits off into many branches called **telodendria**, and at the tip of these branches are minuscule structures called **synapses**, which are\n",
    "connected to the dendrites or cell bodies of other neurons. \n",
    "\n",
    "<img src=\"biological-neuron.png\" width=\"600\">\n",
    "\n",
    "Biological neurons produce short electrical impulses called **action potentials** which travel along the axons and make the synapses release chemical signals called **neurotransmitters**. When a neuron receives a sufficient amount of these neurotransmitters within a few milliseconds, it fires its own electrical impulses (actually, it depends on the neurotransmitters, as some of them inhibit the neuron from firing).\n",
    "\n",
    "Thus, individual biological neurons seem to behave in a rather simple way, but they are organized in a vast network of billions, with each neuron typically connected to thousands of other neurons. Highly complex computations can be performed by a network of fairly simple neurons. The architecture of biological neural networks is still the subject of active research, but some parts of the brain have been mapped, and it seems that neurons are often organized in consecutive layers, especially in the cerebral cortex.\n",
    "\n",
    "ANN are inspired by this networks of biological neurons, however ANNs have\n",
    "gradually become quite different from their biological cousins. Some researchers even argue that we should drop the biological analogy altogether (e.g., by saying “units” rather than “neurons”), lest we restrict our creativity to biologically plausible systems."
   ]
  },
  {
   "cell_type": "markdown",
   "metadata": {},
   "source": [
    "## Perceptron\n",
    "The Perceptron is one of the simplest ANN architectures, invented in 1957\n",
    "by Frank Rosenblatt. It is based on a artificial neuron called **threshold logic unit** (TLU) or **linear threshold unit** (LTU). The inputs ($x$) and output ($y$) are numbers, and each input connection is associated with a weight ($w$. The TLU computes a weighted sum of its inputs: \n",
    "\n",
    "$z = w _1 x_1 + w_2 x_2 + ⋯ + w_n x_n = X^TW$\n",
    "\n",
    "then applies a step function to that sum and outputs the result:\n",
    "\n",
    "$y=f(z)=\\text{step}(z)$\n",
    "\n",
    "<img src=\"tlu.png\" width=\"600\">\n",
    "\n",
    "The most common step function used in Perceptrons is the **heaviside step\n",
    "function**, sometimes the **sign function** is used instead.\n",
    "\n",
    "$\\text{heaviside}(z) = \n",
    "\\begin{cases}\n",
    "    0 & \\text{if} & z \\lt 0 \\\\\n",
    "    1 & \\text{if} & z \\gt 1\n",
    "\\end{cases}$\n",
    "\n",
    "$\\text{sgn}(z) = \n",
    "\\begin{cases}\n",
    "    -1 & \\text{if} & z \\lt 0 \\\\\n",
    "     0 & \\text{if} & z = 0 \\\\\n",
    "     1 & \\text{if} & z \\gt 1\n",
    "\\end{cases}$\n",
    "\n",
    "A single TLU can be used for simple linear binary classification. It computes a linear combination of the inputs, and if the result exceeds a threshold, it outputs the positive class. Otherwise it outputs the negative class (just like a Logistic Regression or linear SVM classifier). Training a TLU means finding the right values for $w_1$, $w_2$, ..., $w_n$.\n",
    "\n",
    "A Perceptron is simply composed of a single layer of TLUs, with each TLU connected to all the inputs. When all the neurons in a layer are connected to every neuron in the previous layer (i.e., its input neurons), the layer is called a **fully connected layer**, or a **dense layer**. The inputs of the\n",
    "Perceptron are fed to special passthrough neurons called **input neurons**: they output whatever input they are fed. All the input neurons form the input\n",
    "layer. Moreover, an extra bias feature is generally added ($x_0=1$): it is\n",
    "typically represented using a special type of neuron called a **bias neuron**, which outputs 1 all the time. A Perceptron with two inputs and three outputs is represented in the following figure. This Perceptron can classify instances simultaneously into three different binary classes, which makes it a multioutput classifier.\n",
    "\n",
    "<img src=\"perceptron.png\" width=\"500\">\n",
    "\n",
    "$h_{W,b}=\\phi(XW+b)$\n",
    "\n",
    "where:\n",
    "- X represents the matrix of input features, it has one row per instance and one column per feature;\n",
    "- W is the weight matrix, it contains all the connection weights except for the ones from the bias neuron. It has one row per input neuron and one column per artificial neuron in the layer;\n",
    "- b is the bias vector, it contains all the connection weights between the bias neuron and the artificial neurons. It has one bias term per artificial neuron;\n",
    "- $\\phi$ is the activation function: when the artificial neurons are TLUs, it is a step function."
   ]
  },
  {
   "cell_type": "markdown",
   "metadata": {},
   "source": [
    "Perceptrons are trained taking into account the error made by the network when it makes a prediction: the learning rule **reinforces** connections that help reduce the error. More specifically, the Perceptron is fed one training\n",
    "instance at a time, and for each instance it makes its predictions. For every\n",
    "output neuron that produced a wrong prediction, it reinforces the connection\n",
    "weights from the inputs that would have contributed to the correct prediction (**delta rule**):\n",
    "\n",
    "$\\boxed{w_{ij}=w_{ij}+\\eta(y_j-t_j)x_i}$\n",
    "\n",
    "where:\n",
    "- $w_{ij}$ is the connection weight between the input neuron $i$ and the output neuron $j$;\n",
    "- $x_i$ is the input value $i$ of the current training instance;\n",
    "- $y_j$ is the output of the output neuron $j$ for the current training instance;\n",
    "- $t_j$ is the target output of the output neuron $j$ for the current training instance;\n",
    "- $\\eta$ is the **learning rate**.\n",
    "\n",
    "The decision boundary of each output neuron is linear, so Perceptrons are\n",
    "incapable of learning complex patterns (just like Logistic Regression\n",
    "classifiers). However, if the training instances are linearly separable,\n",
    "Rosenblatt demonstrated that this algorithm would converge to a solution.\n",
    "This is called the **Perceptron convergence theorem**."
   ]
  },
  {
   "cell_type": "markdown",
   "metadata": {},
   "source": [
    "Scikit-Learn provides a **Perceptron class** that implements a single-TLU\n",
    "network:"
   ]
  },
  {
   "cell_type": "code",
   "execution_count": 42,
   "metadata": {},
   "outputs": [
    {
     "name": "stdout",
     "output_type": "stream",
     "text": [
      "[1]\n"
     ]
    }
   ],
   "source": [
    "from sklearn.datasets import load_iris\n",
    "from sklearn.linear_model import Perceptron\n",
    "\n",
    "iris = load_iris()\n",
    "X = iris.data[:, (2, 3)]  # petal length, petal width\n",
    "y = (iris.target == 0).astype(np.int)\n",
    "\n",
    "perceptron_clf = Perceptron(max_iter=1000, tol=1e-3, random_state=42)\n",
    "perceptron_clf.fit(X, y)\n",
    "\n",
    "y_pred = perceptron_clf.predict([[2, 0.5]])\n",
    "print(y_pred)"
   ]
  },
  {
   "cell_type": "markdown",
   "metadata": {},
   "source": [
    "The Perceptron learning algorithm strongly resembles Stochastic Gradient Descent. In fact, Scikit-Learn’s Perceptron class is equivalent to using an SGDClassifier with the following hyperparameters: loss=\"perceptron\", learning_rate=\"constant\", eta0=1 (the learning rate), and penalty=None (no regularization). Note that contrary to Logistic Regression classifiers, Perceptrons do not output a class probability; rather, they make predictions based on a hard threshold. This is one reason to prefer Logistic Regression over Perceptrons."
   ]
  },
  {
   "cell_type": "markdown",
   "metadata": {},
   "source": [
    "## Multilayer Perceptron\n",
    "A **Multilayer Perceptron** (MLP) is composed of one (passthrough) input layer, one or more layers of TLUs, called **hidden layers**, and one final layer of TLUs called the **output layer**. Note the signal flows only in one direction (from the inputs to the outputs), so this architecture is an example of a **feedforward neural network** (FNN).\n",
    "\n",
    "<img src=\"mlp.png\" width=\"500\">"
   ]
  },
  {
   "cell_type": "markdown",
   "metadata": {},
   "source": [
    "## Backpropagation\n",
    "To train MLPs we can use the **backpropagation algorithm**, it is Gradient Descent using an efficient technique for computing the gradients automatically (**automatic differentiation** or **autodiff**): in just two passes through the network (one forward, one backward), the backpropagation algorithm is able to compute the gradient of the network’s error with regard to every single model parameter. In other words, it can find out how each connection weight and each bias term should be tweaked in order to reduce the error. Once it has these gradients, it just performs a regular Gradient Descent step, and the whole process is repeated until the network converges to the solution.\n",
    "\n",
    "Let’s run through this algorithm in a bit more detail."
   ]
  },
  {
   "cell_type": "markdown",
   "metadata": {},
   "source": [
    "1) Backpropagation handles one mini-batch at a time, and it goes through the full training set multiple times. Each pass is called an **epoch**. Each mini-batch is passed to the network’s input layer, which sends it to the first hidden layer. The algorithm then computes the output of all the neurons in this layer (for every instance in the mini-batch). The result is passed on to the next layer, its output is computed and passed to the next layer, and so on until we get the output of the last layer, the output layer. This is **the forward pass**: it is exactly like making predictions, except all intermediate results are preserved since they are needed for the backward pass.\n",
    "\n",
    "<img src=\"backpropagation-1.png\" width=\"900\">"
   ]
  },
  {
   "cell_type": "markdown",
   "metadata": {},
   "source": [
    "2) Next, the algorithm measures the network’s output error (i.e., it uses a **loss function** that compares the desired output and the actual output of the network, and returns some measure of the error).\n",
    "\n",
    "<img src=\"backpropagation-2.png\" width=\"400\">"
   ]
  },
  {
   "cell_type": "markdown",
   "metadata": {},
   "source": [
    "3) It is impossible to compute error signal for internal neurons directly, becouse output values of these neurons are unknown. The idea is to propagate error signal back to all neurons, working backward until the algorithm reaches the input layer. The weights used to propagate back are equal to these used during the computation of the output value. Only the direction of the data flow is changed. This reverse pass efficiently measures the error gradient across all the connection weights in the network by propagating the error gradient backward through the network (hence the name of the algorithm).\n",
    "\n",
    "<img src=\"backpropagation-3.png\" width=\"900\">"
   ]
  },
  {
   "cell_type": "markdown",
   "metadata": {},
   "source": [
    "4) Finally, the algorithm performs a Gradient Descent step to tweak all the connection weights in the network, using the error gradients it just computed.\n",
    "The rule used is actually similar to the conventional delta rule used for the perceptron, it updates the weights in proportion to the learning rate, the input to which the weight is applied, and the error in the output of the unit. The major difference is that the simple error term is replaced by\n",
    "the more complex error term previously calculated. \n",
    "\n",
    "<img src=\"backpropagation-4.png\" width=\"900\">"
   ]
  },
  {
   "cell_type": "markdown",
   "metadata": {},
   "source": [
    "In summary: for each training instance, the backpropagation algorithm first makes a prediction (forward pass) and measures the error, then goes through each layer in reverse to measure the error contribution from each connection (reverse pass), and finally tweaks the connection weights to reduce the error (Gradient Descent step)."
   ]
  },
  {
   "cell_type": "markdown",
   "metadata": {},
   "source": [
    "Let's try to derive the backprogation training rule. Recall the notation:\n",
    "- $x_{ij}$ is the input $i$ to unit $j$\n",
    "- $w_{ij}$ is the weight associated with input $i$ to unit $j$\n",
    "- $z_j$ is the weighted sum of input for unit $j$ $z_j=\\sum\\limits_{i}{w_{ij}x_{ij}}$\n",
    "- $y_j$ is the output computeted by unit $j$ $y_j=f(z_j)$\n",
    "- $t_j$ is the target value of the output unit $j$\n",
    "\n",
    "We start from the **stochastic gradient descent** rule, which involves iterating through the examples in the training set, for each training example descending the gradient of the error function with respect to this example. More specifically, for each example, every weight $w_{ij}$ is updated by adding to it the value $\\Delta w_{ij}$:\n",
    "\n",
    "$\\begin{align}\n",
    "\\Delta w_{ij}=-\\eta \\frac{\\partial J}{\\partial w_{ij}}\n",
    "\\end{align}$      (1)\n",
    "\n",
    "where $J$ is the error on the training example, summed over all output units ($O$) in the output layer of the network:\n",
    "\n",
    "$\\begin{align}\n",
    "J=\\frac{1}{2}\\sum\\limits_{k\\epsilon O}{(t_k-y_k)^2}\n",
    "\\end{align}$"
   ]
  },
  {
   "cell_type": "markdown",
   "metadata": {},
   "source": [
    "Let us now derive the partial derivative term in the gradient descent rule. Notice that weight $w_{ij}$ can influence the network output only through $y_j$. Using the chain rule we can write:\n",
    "\n",
    "$\\begin{align}\n",
    "\\frac{\\partial J}{\\partial w_{ij}}=\\frac{\\partial J}{\\partial z_j}\\frac{\\partial z_j}{\\partial w_{ij}}=\\frac{\\partial J}{\\partial z_j}x_{ij}=\\delta_jx_{ij}\n",
    "\\end{align}$     (2)\n",
    "\n",
    "we can substitute (2) in (1):\n",
    "\n",
    "$\\begin{align}\n",
    "\\boxed{\\Delta w_{ij}=-\\eta\\delta_jx_{ij}}\n",
    "\\end{align}$     \n",
    "\n",
    "the input $x_{ij}$ of an input unit is the input $x_i$ and of an internal or output units is the output $y_i$ of the previous layer.\n",
    "\n",
    "Our objective is now to derive the $\\delta_j$ term. We can consider two different case: the case for an output unit and the case for an internal unit."
   ]
  },
  {
   "cell_type": "markdown",
   "metadata": {},
   "source": [
    "**Case 1, output unit**\n",
    "\n",
    "Using the chain rule again we obtain:\n",
    "\n",
    "$\\begin{align}\n",
    "\\delta_j=\\frac{\\partial J}{\\partial z_j}=\\frac{\\partial J}{\\partial y_j}\\frac{\\partial y_j}{\\partial z_j}=\\frac{\\partial J}{\\partial y_j}y_j(1-y_j)\n",
    "\\end{align}$     (3)\n",
    "\n",
    "notice that the derivative of $y_j$ is just the derivative of the activation function. In order for this algorithm to work properly, we need to replace the step function with the logistic function( **sigmoid**). This was essential because the step function contains only flat segments, so there is no gradient to work with, while the logistic function has a well-defined nonzero derivative everywhere.\n",
    "\n",
    "$\\begin{align}\n",
    "\\sigma (x) = \\frac{1}{1+e^{-x}}\n",
    "\\end{align}$\n",
    "\n",
    "$\\begin{align}\n",
    "\\frac{d\\sigma (x)}{d(x)} = \\sigma (x)\\cdot (1-\\sigma(x))\n",
    "\\end{align}$\n",
    "\n",
    "we now proceed with finding the last derivative:\n",
    "\n",
    "$\\begin{align}\n",
    "\\frac{\\partial J}{\\partial y_j}=\\frac{\\partial}{\\partial y_j}\\frac{1}{2}\\sum\\limits_{k\\epsilon O}{(t_k-y_k)^2}=\\frac{\\partial}{\\partial y_j}\\frac{1}{2}(t_j-y_j)^2=\\frac{1}{2}2(t_j-y_j)\\frac{\\partial}{\\partial y_j}(t_j-y_j)=-(t_j-y_j)\n",
    "\\end{align}$     (4)\n",
    "\n",
    "the summation term over output units is dropped because the derivatives is zero for all output units except for the case when $k=j$. By substituting (4) into (3) we obtain:\n",
    "\n",
    "$\\begin{align}\n",
    "\\boxed{\\delta_j=-(t_j-y_j)y_j(1-y_j)}\n",
    "\\end{align}$"
   ]
  },
  {
   "cell_type": "markdown",
   "metadata": {},
   "source": [
    "**Case 2, internal unit**\n",
    "\n",
    "When unit $j$ is internal, we must also consider every unit immediately downstream of it (all units whose direct input include the output that unit). This is because a change in $w_{ji}$ (through $z_j$) influences the network outputs through these units. Let $ds(j)$ denote units downstream of unit $j$, then:\n",
    "\n",
    "$\\begin{align}\n",
    "\\delta_j=\\frac{\\partial J}{\\partial z_j}=\\sum\\limits_{k\\epsilon ds(j)} \\frac{\\partial J}{\\partial z_k}\\frac{\\partial z_k}{\\partial z_j}=\\sum\\limits_{k\\epsilon ds(j)}\\delta _k \\frac{\\partial z_k}{\\partial y_j}\\frac{\\partial y_j}{\\partial z_j}=\\sum\\limits_{k\\epsilon ds(j)}\\delta_kw_{jk}y_j(1-y_j)  \n",
    "\\end{align}$\n",
    "\n",
    "$\\begin{align}\n",
    "\\boxed{\\delta_j=y_j(1-y_j)\\sum\\limits_{k\\epsilon ds(j)}\\delta_kw_{jk}}\n",
    "\\end{align}$\n"
   ]
  },
  {
   "cell_type": "markdown",
   "metadata": {},
   "source": [
    "It is important to initialize all the connection weights randomly, or else training will fail. For example, if we initialize all weights and biases to zero, then all neurons in a given layer will be perfectly identical, and thus backpropagation will affect them in exactly the same way, so they will remain identical. If instead we randomly initialize the weights, we break the symmetry and allow backpropagation to train a diverse team of neurons."
   ]
  },
  {
   "cell_type": "markdown",
   "metadata": {},
   "source": [
    "## Activation Functions\n",
    "The backpropagation algorithm works well with many other activation functions, not just the logistic function. Here are two other popular choices:"
   ]
  },
  {
   "cell_type": "markdown",
   "metadata": {},
   "source": [
    "The **hyperbolic tangent function** is a S-shaped, continuous and differentiable, but its output value ranges from –1 to 1 (instead of 0 to 1 in the case of the logistic function). That range tends to make each layer’s output more or less centered around 0 at the beginning of training, which often helps speed up convergence.\n",
    "\n",
    "The **Rectified Linear Unit (ReLU) function** is continuous but unfortunately not differentiable at $x=0$ (the slope changes abruptly, which can make Gradient Descent bounce around), and its derivative is 0 for $z<0$. In practice, however, it works very well and has the advantage of being fast to compute, so it has become the default."
   ]
  },
  {
   "cell_type": "code",
   "execution_count": 43,
   "metadata": {},
   "outputs": [],
   "source": [
    "def sign(x):\n",
    "    return np.sign(x)\n",
    "\n",
    "def sigmoid(x):\n",
    "    return 1 / (1 + np.exp(-x))\n",
    "\n",
    "def tanh(x):\n",
    "    return np.tanh(x)\n",
    "\n",
    "def relu(x):\n",
    "    return np.maximum(0, x)\n",
    "\n",
    "def derivative(f, x, eps=0.000001):\n",
    "    return (f(x + eps) - f(x - eps))/(2 * eps)"
   ]
  },
  {
   "cell_type": "code",
   "execution_count": 44,
   "metadata": {},
   "outputs": [
    {
     "data": {
      "image/png": "[encoded data removed]",
      "text/plain": [
       "<Figure size 792x288 with 2 Axes>"
      ]
     },
     "metadata": {
      "needs_background": "light"
     },
     "output_type": "display_data"
    }
   ],
   "source": [
    "x = np.linspace(-5, 5, 200)\n",
    "\n",
    "plt.figure(figsize=(11,4))\n",
    "\n",
    "plt.subplot(121)\n",
    "plt.plot(x, sign(x), \"r-\", linewidth=1, label=\"Step\")\n",
    "plt.plot(x, sigmoid(x), \"g--\", linewidth=2, label=\"Sigmoid\")\n",
    "plt.plot(x, tanh(x), \"b-\", linewidth=2, label=\"Tanh\")\n",
    "plt.plot(x, relu(x), \"m-.\", linewidth=2, label=\"ReLU\")\n",
    "plt.grid(True)\n",
    "plt.legend(loc=\"center right\", fontsize=14)\n",
    "plt.title(\"Activation functions\", fontsize=14)\n",
    "plt.axis([-5, 5, -1.2, 1.2])\n",
    "\n",
    "plt.subplot(122)\n",
    "plt.plot(x, derivative(sign, x), \"r-\", linewidth=1, label=\"Step\")\n",
    "plt.plot(x, derivative(sigmoid, x), \"g--\", linewidth=2, label=\"Sigmoid\")\n",
    "plt.plot(x, derivative(tanh, x), \"b-\", linewidth=2, label=\"Tanh\")\n",
    "plt.plot(x, derivative(relu, x), \"m-.\", linewidth=2, label=\"ReLU\")\n",
    "plt.grid(True)\n",
    "plt.title(\"Derivatives\", fontsize=14)\n",
    "plt.axis([-5, 5, -0.2, 1.2])\n",
    "\n",
    "plt.show()"
   ]
  },
  {
   "cell_type": "markdown",
   "metadata": {},
   "source": [
    "Why do we need activation functions? Well, if we chain several linear transformations, all we get is a linear transformation. For example, if $f(x)=2x+3$ and $g(x)=5x–1$, then chaining these two linear functions gives us another linear function: $f(g(x))=2(5x–1)+3=10x+1$. So if we don’t have some nonlinearity between layers, then even a deep stack of layers is equivalent to a single\n",
    "layer, and we can’t solve very complex problems with that. Conversely, a large enough ANN with nonlinear activations can theoretically approximate any continuous function."
   ]
  },
  {
   "cell_type": "markdown",
   "metadata": {},
   "source": [
    "## Regression and Classification"
   ]
  },
  {
   "cell_type": "markdown",
   "metadata": {},
   "source": [
    "First, MLPs can be used for regression tasks. If you want to predict a single value (e.g., the price of a house, given many of its features), then you just need a single output neuron: its output is the predicted value. For multivariate regression (i.e., to predict multiple values at once), you need one output neuron per output dimension. \n",
    "For example, to locate the center of an object in an image, you need to predict 2D coordinates, so you need two output neurons. If you also want to place a bounding box around theo bject, then you need two more numbers: the width and the height of the object. So, you end up with four output neurons.\n",
    "In general, when building an MLP for regression, you do not want to use any activation function for the output neurons, so they are free to output any range of values. If you want to guarantee that the output will always be positive, then you can use the ReLU activation function in the output layer. Finally, if you want to guarantee that the predictions will fall within a given range of values, then you can use the logistic function or the hyperbolic tangent, and then scale the labels to the appropriate range.\n",
    "The loss function to use during training is typically the mean squared error, but if you have a lot of outliers in the training set, you may prefer to use the mean absolute error instead. Alternatively, you can use the **Huber loss**, which is a combination of both: it is quadratic when the error is smaller than a threshold, but linear when the error is larger than that. The linear part makes it less sensitive to outliers than the mean squared error, and the quadratic part allows it to converge faster and be more precise than the mean absolute error.\n",
    "The following are the typical hyperparameters of a regression MLP architecture:\n",
    "- number of input neurons: one per input feature (e.g. 28x28 for MNIST)\n",
    "- number of hidden layers: depends on the problem, typically 1 to 5\n",
    "- number of neurons per hidden layer: depends on the problem, typically 10 to 100\n",
    "- number of output neurons: 1 per prediction dimension\n",
    "- hidden activation function: ReLU\n",
    "- output activation function: ReLU, Logistic or Tanh\n",
    "- loss function: MSE ore Huber (if outliers)"
   ]
  },
  {
   "cell_type": "markdown",
   "metadata": {},
   "source": [
    "MLPs can also be used for classification tasks. For a binary classification problem, you just need a single output neuron using the logistic activation function: the output will be a number between 0 and 1, which you can interpret as the estimated probability of the positive class. The estimated probability of the negative class is equal to one minus that number. MLPs can also easily handle multilabel binary classification tasks: you would dedicate one output neuron for each positive class.  For example, you could have an email classification system that predicts whether each incoming email is ham or spam, and simultaneously predicts whether it is an urgent or nonurgent email. In this case, you would need two output neurons, both using the logistic activation function: the first would output the probability that the email is spam, and the second would output the probability that it is urgent. \n",
    "Note that the output probabilities do not necessarily add up to 1. This lets the model output any combination of labels: you can have nonurgent ham, urgent ham, nonurgent spam, and perhaps even urgent spam (although that would probably be an error).\n",
    "If each instance can belong only to a single class, out of three or more possible classes (e.g., classes 0 through 9 for digit image classification), then you need to have one output neuron per class, and you should use the softmax activation function for the whole output layer. The softmax function will ensure that all the estimated probabilities are between 0 and 1 and that they add up to 1 (which is required if the classes are exclusive). This is called multiclass classification.\n",
    "Regarding the loss function, since we are predicting probability distributions, the cross-entropy loss is generally a good choice.\n",
    "The following are the typical hyperparameters of a classification MLP architecture:\n",
    "- number of input neurons: one per input feature (e.g. 28x28 for MNIST)\n",
    "- number of hidden layers: depends on the problem, typically 1 to 5\n",
    "- number of neurons per hidden layer: depends on the problem, typically 10 to 100\n",
    "- number of output neurons: 1 (binary classification), 1 per label (multilabel binary), 1 per class (multiclass)\n",
    "- hidden activation function: ReLU\n",
    "- output activation function: Logistic (binary and multilabel) Softmax (multiclass)\n",
    "- loss function: cross entropy"
   ]
  },
  {
   "cell_type": "markdown",
   "metadata": {},
   "source": [
    "## Tuning Hyperparameters\n",
    "\n",
    "The flexibility of SNN is also one of their main drawbacks: there are many hyperparameters to tweak. We can change the number of layers, the number of neurons per layer, the type of activation function to use in each layer, the weight initialization logic, and much more. \n",
    "\n",
    "How do we know what combination of hyperparameters is the best for our task? One option is to simply try many combinations of hyperparameters and see which one works best on the validation set (or use K-fold cross-validation). \n",
    "\n",
    "However, it  helps to have an idea of what values are reasonable for each hyperparameter so that we can build a quick prototype and restrict the search space. The following sections provide guidelines for choosing the number of hidden layers and neurons in an MLP and for selecting good values for some of the main hyperparameters.\n",
    "\n",
    "For a review of best practices regarding tuning neural network hyperparameters, check out this excellent paper [A Disciplined Approach to Neural Network Hyperparameters](https://arxiv.org/abs/1803.09820)"
   ]
  },
  {
   "cell_type": "markdown",
   "metadata": {},
   "source": [
    "### Number of Hidden Layers\n",
    "For many problems, you can begin with a single hidden layer and get reasonable results. An MLP with just one hidden layer can theoretically model even the most complex functions, provided it has enough neurons. But for complex problems, **deep networks have a much higher parameter efficiency than shallow ones**: they can model complex functions using exponentially fewer neurons than shallow nets, allowing them to reach much better performance with the same amount of training data. The reason is that real-world data is often structured in a hierarchical way, and deep neural networks automatically take advantage of this fact: lower hidden layers model low-level structures (e.g., line segments of various shapes and orientations), intermediate hidden layers combine these low-level structures to model intermediate-level structures (e.g., squares, circles), and the highest hidden layers and the output layer combine these intermediate structures to model high-level structures (e.g., faces). This also improves the ability of deeper network to generalize well to new datasets. For example, if you have already trained a model to recognize faces in pictures and you now want to train a new neural network to recognize hairstyles, you can kickstart the training by reusing the lower layers of the first network. This way the network will not have to learn from scratch all the low-level structures, it will only have to learn the higher-level structures. This is called **transfer learning**.\n",
    "In summary, for many problems you can start with just one or two hidden\n",
    "layers, for more complex problems, you can ramp up the number of hidden layers until you start overfitting the training set.\n",
    "Very complex tasks, such as large image classification or speech recognition, typically require networks with dozens of layers (or even hundreds) and they need a huge amount of training data. We will rarely have to train such networks from scratch: it is much more common to reuse parts of a pretrained state-of-the-art network that performs a similar task."
   ]
  },
  {
   "cell_type": "markdown",
   "metadata": {},
   "source": [
    "### Number of Neurons per Hidden Layer\n",
    "The number of neurons in the input and output layers is determined by the type of input and output your task requires.  As for the hidden layers, it used to be common to size them to form a pyramid, with fewer and fewer neurons at each layer—the rationale being that many low-level features can coalesce into far fewer high-level features. However, this practice has been largely abandoned because it seems that using the same number of neurons in all hidden layers performs just as well in most cases, or even better; plus, there is only one hyperparameter to tune, instead of one per layer. That said, depending on the dataset, it can sometimes help to make the first hidden layer bigger than the others.\n",
    "Just like the number of layers, you can try increasing the number of neurons gradually until the network starts overfitting. But in practice, it’s often simpler and more efficient to pick a model with more layers and neurons than you actually need, then use early stopping and other regularization techniques to prevent it from overfitting.\n",
    "We can adopt the **stretch pants approach**: instead of wasting time looking for pants that perfectly match your size, just use large stretch pants that will shrink down to the right size.\n",
    "Anywaym, in general it is better to increase the number of layers instead of the number of neurons per layer."
   ]
  },
  {
   "cell_type": "markdown",
   "metadata": {},
   "source": [
    "### Learning rate\n",
    "The learning rate is arguably the most important hyperparameter. In general, the optimal learning rate is about half of the maximum learning rate (i.e., the learning rate above which the training algorithm diverges). One way to find a good learning rate is to train the model for a few hundred iterations, starting with a very low learning rate (e.g., $10^-5$ ) and gradually increasing it up to a very large value (e.g., 10). This is done by multiplying the learning rate by a constant factor at each iteration. If we plot the loss as a function of the learning rate, we should see it dropping at first. But after a while, the learning rate will be too large, so the loss will shoo back up: the optimal learning rate will be a bit lower than the point at which the loss starts to climb (typically about 10 times lower than the turning point). You can then reinitialize your model and train it\n",
    "normally using this good learning rate.\n",
    "Anyway, the optimal learning rate depends on the other hyperparameters (especially the batch size) so if you modify any hyperparameter, make sure to update the learning rate as well."
   ]
  },
  {
   "cell_type": "markdown",
   "metadata": {},
   "source": [
    "### Optimizer\n",
    "Choosing a better optimizer than plain old Mini-batch Gradient Descent\n",
    "is also quite important. We will see several advanced optimizers in more advanced topic."
   ]
  },
  {
   "cell_type": "markdown",
   "metadata": {},
   "source": [
    "### Batch size\n",
    "The batch size can have a significant impact on our model’s performance and training time. The main benefit of using large batch sizes is that hardware accelerators (like GPUs) can process them efficiently. Therefore, many researchers and practitioners recommend using the largest batch size that can fit in GPU RAM. However, large batch sizes often lead to training instabilities, especially at the beginning of training, and the resulting model may not generalize as well as a model trained with a small batch size. \n",
    "A possible strategy is to try to use a large batch size, using learning rate warmup, and if training is unstable or the final performance is disappointing, then try using a small batch size instead."
   ]
  },
  {
   "cell_type": "markdown",
   "metadata": {},
   "source": [
    "### Activation function\n",
    "In general, the ReLU activation function will be a good default for all hidden layers. For the output layer, it really depends on the task."
   ]
  },
  {
   "cell_type": "markdown",
   "metadata": {},
   "source": [
    "### Number of iterations\n",
    "In most cases, the number of training iterations does not actually need to\n",
    "be tweaked: just use early stopping instead."
   ]
  },
  {
   "cell_type": "code",
   "execution_count": null,
   "metadata": {},
   "outputs": [],
   "source": []
  }
 ],
 "metadata": {
  "kernelspec": {
   "display_name": "Python 3",
   "language": "python",
   "name": "python3"
  },
  "language_info": {
   "codemirror_mode": {
    "name": "ipython",
    "version": 3
   },
   "file_extension": ".py",
   "mimetype": "text/x-python",
   "name": "python",
   "nbconvert_exporter": "python",
   "pygments_lexer": "ipython3",
   "version": "3.8.3"
  },
  "nav_menu": {},
  "toc": {
   "navigate_menu": true,
   "number_sections": true,
   "sideBar": true,
   "threshold": 6,
   "toc_cell": false,
   "toc_section_display": "block",
   "toc_window_display": false
  }
 },
 "nbformat": 4,
 "nbformat_minor": 4
}
