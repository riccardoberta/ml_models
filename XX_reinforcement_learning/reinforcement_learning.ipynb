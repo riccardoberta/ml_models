{
 "cells": [
  {
   "cell_type": "markdown",
   "metadata": {},
   "source": [
    "# Reinforcement  Learning\n",
    "\n",
    "<a href=\"https://colab.research.google.com/github/riccardoberta/machine-learning/blob/master/XX_reinforcement_learning/reinforcement_learning.ipynb\" target=\"_blank\"><img src=\"https://colab.research.google.com/assets/colab-badge.svg\" alt=\"Open In Google Colab\"/></a>\n",
    "\n",
    "What if we need to tackle complex problems, such as detecting hundreds of types of objects in high-resolution images? We need to train a **deeper** ANN, perhaps with 10 layers or many more, each containing hundreds of neurons, linked by hundreds of thousands of connections. However, training a **Deep Deep Neural Network (DNN)** rise some problems:\n",
    "- the gradients can grow smaller and smaller, or larger and larger, when flowing backward through the DNN during training, making lower layers very hard to train (***vanishing/explodin gradients***);\n",
    "- we might not have enough training data for such a large network, or it might be too costly to label;\n",
    "- training may be extremely slow;\n",
    "- a model with millions of parameters would severely risk overfitting the training set.\n",
    "\n",
    "In the following we will go through each of these problems and present techniques to solve them. \n",
    "\n",
    "1. [The Vanishing Exploding Gradients Problems](#The-Vanishing-Exploding-Gradients-Problems)\n",
    "    - [Initialization strategies](#Initialization-strategies)\n",
    "    - [Nonsaturating Activation Functions](#Nonsaturating-Activation-Functions)\n",
    "    - [Batch Normalization](#Batch-Normalization)\n",
    "    - [Gradient Clipping](#Gradient-Clipping)\n",
    "2. [Transfer Learning](#Transfer-Learning)\n",
    "3. [Faster Optimization](#Faster-Optimization)\n",
    "    - [Momentum Optimization](#Momentum-Optimization)"
   ]
  },
  {
   "cell_type": "code",
   "execution_count": 1,
   "metadata": {},
   "outputs": [],
   "source": [
    "import sklearn\n",
    "import tensorflow as tf\n",
    "import numpy as np\n",
    "import pandas as pd\n",
    "import os\n",
    "\n",
    "import tensorflow as tf\n",
    "from tensorflow import keras\n",
    "\n",
    "%matplotlib inline\n",
    "import matplotlib as mpl\n",
    "import matplotlib.pyplot as plt\n",
    "mpl.rc('axes', labelsize=14)\n",
    "mpl.rc('xtick', labelsize=12)\n",
    "mpl.rc('ytick', labelsize=12)"
   ]
  },
  {
   "cell_type": "markdown",
   "metadata": {},
   "source": [
    "## The Vanishing Exploding Gradients Problems\n",
    "The backpropagation algorithm works by going from the output layer to the input layer, propagating the error gradient along the way. Once the algorithm has computed the gradient of the cost function with regard to each parameter in the network, it uses these gradients to update each parameter with a Gradient Descent step.\n",
    "\n",
    "Unfortunately, gradients often get smaller and smaller as the algorithm progresses down to the lower layers. As a result, the Gradient Descent update leaves the lower layers’ connection weights virtually unchanged, and training never converges to a good solution. We call this the **vanishing\n",
    "gradients problem**. \n",
    "\n",
    "In some cases, the opposite can happen: the gradients can grow bigger and bigger until layers get insanely large weight update and the algorithm diverges. This is the **exploding gradients problem**, which\n",
    "surfaces in recurrent neural networks. \n",
    "\n",
    "More generally, DNN suffer from **unstable gradients**."
   ]
  },
  {
   "cell_type": "markdown",
   "metadata": {},
   "source": [
    "The problem is due to  the combination of the logistic sigmoid activation function and the weight initialization technique (i.e., a normal distribution with a mean of 0 and a standard deviation of 1). \n",
    "\n",
    "It can be showed that with this combination, the variance of the outputs of each layer is much greater than the variance of its inputs. Going forward in the network, the variance keeps increasing after each layer until the activation function saturates at the top layers. This saturation is actually made worse by the fact that the logistic function has a mean of 0.5, not 0.\n",
    "\n",
    "For a detailed matematical description, see the paper [Xavier Glorot and Yoshua Bengio, **Understanding the Difficulty of Training Deep Feedforward Neural Networks**, Proceedings of the 13th International Conference on Artificial Intelligence and Statistics (2010)](http://proceedings.mlr.press/v9/glorot10a.html)"
   ]
  },
  {
   "cell_type": "markdown",
   "metadata": {},
   "source": [
    "Looking at the logistic activation function, we can see that when inputs become large (negative or positive), the function saturates at 0 or 1, with a derivative extremely close to 0:"
   ]
  },
  {
   "cell_type": "code",
   "execution_count": 9,
   "metadata": {},
   "outputs": [
    {
     "data": {
      "image/png": "[encoded data removed]",
      "text/plain": [
       "<Figure size 432x288 with 1 Axes>"
      ]
     },
     "metadata": {
      "needs_background": "light"
     },
     "output_type": "display_data"
    }
   ],
   "source": [
    "def logit(x):\n",
    "    return 1 / (1 + np.exp(-x))\n",
    "\n",
    "x = np.linspace(-5, 5, 200)\n",
    "\n",
    "plt.plot([-5, 5], [0, 0], 'k-')\n",
    "plt.plot([-5, 5], [1, 1], 'k--')\n",
    "plt.plot([0, 0], [-0.2, 1.2], 'k-')\n",
    "plt.plot([-5, 5], [-3/4, 7/4], 'g--')\n",
    "plt.plot(x, logit(x), \"b-\", linewidth=2)\n",
    "\n",
    "props = dict(facecolor='black', shrink=0.1)\n",
    "\n",
    "plt.annotate('Saturating', xytext=(3.5, 0.7), xy=(5, 1), arrowprops=props, fontsize=14, ha=\"center\")\n",
    "plt.annotate('Saturating', xytext=(-3.5, 0.3), xy=(-5, 0), arrowprops=props, fontsize=14, ha=\"center\")\n",
    "plt.annotate('Linear', xytext=(2, 0.2), xy=(0, 0.5), arrowprops=props, fontsize=14, ha=\"center\")\n",
    "\n",
    "plt.grid(True)\n",
    "plt.title(\"Logistic activation function\", fontsize=14)\n",
    "plt.axis([-5, 5, -0.2, 1.2])\n",
    "\n",
    "plt.show()"
   ]
  },
  {
   "cell_type": "markdown",
   "metadata": {},
   "source": [
    "Thus, when backpropagation kicks in it has virtually no gradient to propagate back through the network; and what little gradient exists keeps getting diluted as backpropagation progresses down through the top layers, so there is really nothing left for the lower layers."
   ]
  },
  {
   "cell_type": "markdown",
   "metadata": {},
   "source": [
    "### Initialization strategies\n",
    "In order to alleviate the unstable gradients problem, we need the signal to flow properly in both directions: in the forward direction when making predictions, and in the reverse direction when backpropagating gradients. \n",
    "\n",
    "We don’t want the signal to die out, nor do we want it to explode and saturate. For the signal to flow properly, we need the variance of the outputs of each layer to be equal to the variance of its inputs, and we need the gradients to have equal variance before and after flowing through a layer in the reverse direction. \n",
    "\n",
    "It is not possible to guarantee both unless the layer has an equal number of inputs and neurons (these numbers are called the **fan-in** and **fan-out** of the layer). A good compromise that has proven to work well in practice: the connection weights of each layer must be initialized randomly as described in the following equations\n",
    "\n",
    "- $ \\text{Normal distribution with mean 0 and variance } \\sigma^2=\\frac{1}{\\text{fan}_\\text{avg}}$  \n",
    "- $ \\text{Uniform distribution between } -r \\text{ and } +r \\text{ with } r=\\sqrt{\\frac{3}{\\text{fan}_\\text{avg}} } $\n",
    "- $ \\text{where } \\text{fan}_\\text{avg}=(\\text{fan}_\\text{in}+\\text{fan}_\\text{out})/2$\n",
    "\n",
    "This initialization strategy is called **Xavier initialization** or **Glorot initialization**."
   ]
  },
  {
   "cell_type": "markdown",
   "metadata": {},
   "source": [
    "Some papers have provided similar strategies for different activation functions. \n",
    "\n",
    "By default, Keras uses Glorot initialization with a uniform distribution, however it support a number of other strategies. When creating a layer, we can change the initialization stratergy by setting **kernel_initializer** parameter."
   ]
  },
  {
   "cell_type": "code",
   "execution_count": 5,
   "metadata": {},
   "outputs": [
    {
     "data": {
      "text/plain": [
       "['Constant',\n",
       " 'GlorotNormal',\n",
       " 'GlorotUniform',\n",
       " 'HeNormal',\n",
       " 'HeUniform',\n",
       " 'Identity',\n",
       " 'Initializer',\n",
       " 'LecunNormal',\n",
       " 'LecunUniform',\n",
       " 'Ones',\n",
       " 'Orthogonal',\n",
       " 'RandomNormal',\n",
       " 'RandomUniform',\n",
       " 'TruncatedNormal',\n",
       " 'VarianceScaling',\n",
       " 'Zeros',\n",
       " 'constant',\n",
       " 'deserialize',\n",
       " 'get',\n",
       " 'glorot_normal',\n",
       " 'glorot_uniform',\n",
       " 'he_normal',\n",
       " 'he_uniform',\n",
       " 'identity',\n",
       " 'lecun_normal',\n",
       " 'lecun_uniform',\n",
       " 'ones',\n",
       " 'orthogonal',\n",
       " 'random_normal',\n",
       " 'random_uniform',\n",
       " 'serialize',\n",
       " 'truncated_normal',\n",
       " 'variance_scaling',\n",
       " 'zeros']"
      ]
     },
     "execution_count": 5,
     "metadata": {},
     "output_type": "execute_result"
    }
   ],
   "source": [
    "[name for name in dir(keras.initializers) if not name.startswith(\"_\")]"
   ]
  },
  {
   "cell_type": "markdown",
   "metadata": {},
   "source": [
    "### Nonsaturating Activation Functions\n",
    "The problem with unstable gradients is in part due to a poor choice of activation function. The sigmoid activation function (used in biological neurons) is not the best choice. The **ReLU activation function** is fast to compute and does not saturate for positive values. Unfortunately, it is not perfect. It suffers from a problem known as the **dying ReLUs**: during training, some neurons “die” (they stop outputting anything other than 0). This happens when the neuron weights get tweaked in a way that the weighted sum of inputs are negative for all instances in the training set. In these conditions, the neuron just keeps outputting zeros, and Gradient Descent does not affect it anymore because the gradient of the ReLU function is zero when its input is negative.\n",
    "\n",
    "To solve this problem, we can use a variant of the ReLU function: the **leaky ReLU**. \n",
    "\n",
    "$\\text{LeakyReLU}(x)=\\text{max}(\\alpha x, x)$ "
   ]
  },
  {
   "cell_type": "code",
   "execution_count": 10,
   "metadata": {},
   "outputs": [
    {
     "data": {
      "image/png": "[encoded data removed]",
      "text/plain": [
       "<Figure size 432x288 with 1 Axes>"
      ]
     },
     "metadata": {
      "needs_background": "light"
     },
     "output_type": "display_data"
    }
   ],
   "source": [
    "def leaky_relu(x, alpha=0.01):\n",
    "    return np.maximum(alpha*x, x)\n",
    "\n",
    "plt.plot(x, leaky_relu(x, 0.05), \"b-\", linewidth=2)\n",
    "plt.plot([-5, 5], [0, 0], 'k-')\n",
    "plt.plot([0, 0], [-0.5, 4.2], 'k-')\n",
    "plt.grid(True)\n",
    "props = dict(facecolor='black', shrink=0.1)\n",
    "plt.annotate('Leak', xytext=(-3.5, 0.5), xy=(-5, -0.2), arrowprops=props, fontsize=14, ha=\"center\")\n",
    "plt.title(\"Leaky ReLU activation function\", fontsize=14)\n",
    "plt.axis([-5, 5, -0.5, 4.2])\n",
    "\n",
    "plt.show()"
   ]
  },
  {
   "cell_type": "markdown",
   "metadata": {},
   "source": [
    "The hyperparameter $\\alpha$ defines how much the function “leaks”: it is the slope of the function for z < 0. This small slope ensures that leaky ReLUs never die; they can go into a long coma, but they have a chance to eventually wake up. \n",
    "\n",
    "Other variants are: the **randomized leaky ReLU (RReLU)**, where $\\alpha$ is picked randomly in a given range during training and is fixed to an average value during testing, and the **parametric leaky ReLU (PReLU)**, where $\\alpha$ is authorized to be learned during training. For a comparison of several variants of the ReLU activation function, we can refer to the paper:[Bing Xu et al. **Empirical Evaluation of Rectified Activations in Convolutional Network** arXiv preprint arXiv:1505.00853 (2015)](https://arxiv.org/pdf/1505.00853.pdf)\n",
    "\n",
    "In Keras, to use the leaky ReLU activation function, we can just create a LeakyReLU layer and add it to our model just after the layer we want to apply it to."
   ]
  },
  {
   "cell_type": "markdown",
   "metadata": {},
   "source": [
    "Another possibility is to use the **exponential linear unit (ELU)** activation function, that outperform ReLU variants: \n",
    "\n",
    "$\\text{ELU}_\\alpha(x) = \n",
    "\\begin{cases}\n",
    "    \\alpha(\\text{exp}(x)-1 & \\text{if} & x \\lt 0 \\\\\n",
    "     x & \\text{if} & x \\gt 0\n",
    "\\end{cases}$\n",
    "\n",
    "\n"
   ]
  },
  {
   "cell_type": "code",
   "execution_count": 11,
   "metadata": {},
   "outputs": [
    {
     "data": {
      "image/png": "[encoded data removed]",
      "text/plain": [
       "<Figure size 432x288 with 1 Axes>"
      ]
     },
     "metadata": {
      "needs_background": "light"
     },
     "output_type": "display_data"
    }
   ],
   "source": [
    "def elu(x, alpha=1):\n",
    "    return np.where(x < 0, alpha * (np.exp(x) - 1), x)\n",
    "\n",
    "plt.plot(x, elu(x), \"b-\", linewidth=2)\n",
    "plt.plot([-5, 5], [0, 0], 'k-')\n",
    "plt.plot([-5, 5], [-1, -1], 'k--')\n",
    "plt.plot([0, 0], [-2.2, 3.2], 'k-')\n",
    "plt.grid(True)\n",
    "plt.title(r\"ELU activation function ($\\alpha=1$)\", fontsize=14)\n",
    "plt.axis([-5, 5, -2.2, 3.2])\n",
    "plt.show()"
   ]
  },
  {
   "cell_type": "markdown",
   "metadata": {},
   "source": [
    "The main drawback of the ELU activation function is that it is slower to compute than the ReLU functions (due to the use of the exponential function). Its faster convergence rate during training compensates for that slow computation, but still, at test time an ELU network will be slower than a ReLU network."
   ]
  },
  {
   "cell_type": "markdown",
   "metadata": {},
   "source": [
    "Finally, the **Scaled ELU (SELU)** activation function is a variant of the ELU activation function. For a neural network composed exclusively of a stack of dense layers, the SELU activation function allows a self-normalization:\n",
    "the output of each layer will tend to preserve a mean of 0 and standard deviation of 1 during training, which solves the vanishing/exploding gradients problem. As a result, the SELU activation function often significantly outperforms other activation functions for such neural nets."
   ]
  },
  {
   "cell_type": "code",
   "execution_count": 12,
   "metadata": {},
   "outputs": [
    {
     "data": {
      "image/png": "[encoded data removed]",
      "text/plain": [
       "<Figure size 432x288 with 1 Axes>"
      ]
     },
     "metadata": {
      "needs_background": "light"
     },
     "output_type": "display_data"
    }
   ],
   "source": [
    "from scipy.special import erfc\n",
    "\n",
    "# alpha and scale to self normalize with mean 0 and standard deviation 1\n",
    "alpha_0_1 = -np.sqrt(2 / np.pi) / (erfc(1/np.sqrt(2)) * np.exp(1/2) - 1)\n",
    "scale_0_1 = (1 - erfc(1 / np.sqrt(2)) * np.sqrt(np.e)) * np.sqrt(2 * np.pi) * (2 * erfc(np.sqrt(2))*np.e**2 + np.pi*erfc(1/np.sqrt(2))**2*np.e - 2*(2+np.pi)*erfc(1/np.sqrt(2))*np.sqrt(np.e)+np.pi+2)**(-1/2)\n",
    "\n",
    "def selu(x, scale=scale_0_1, alpha=alpha_0_1):\n",
    "    return scale * elu(x, alpha)\n",
    "\n",
    "plt.plot(x, selu(x), \"b-\", linewidth=2)\n",
    "plt.plot([-5, 5], [0, 0], 'k-')\n",
    "plt.plot([-5, 5], [-1.758, -1.758], 'k--')\n",
    "plt.plot([0, 0], [-2.2, 3.2], 'k-')\n",
    "plt.grid(True)\n",
    "plt.title(\"SELU activation function\", fontsize=14)\n",
    "plt.axis([-5, 5, -2.2, 3.2])\n",
    "\n",
    "plt.show()"
   ]
  },
  {
   "cell_type": "markdown",
   "metadata": {},
   "source": [
    "So, which activation function should we use? In general SELU -> ELU -> leaky ReLU (and its variants) -> ReLU -> tanh > logistic. However, because ReLU is the most used activation function, many libraries and hardware accelerators provide ReLU-specific optimizations; therefore, if speed is a priority, ReLU might  be the best choice.\n",
    "\n",
    "An update list of activation functions with refereces can be accessed [here](https://paperswithcode.com/methods/category/activation-functions)"
   ]
  },
  {
   "cell_type": "markdown",
   "metadata": {},
   "source": [
    "Let's train a neural network on Fashion MNIST using different activation functions."
   ]
  },
  {
   "cell_type": "markdown",
   "metadata": {},
   "source": [
    "**1) Leaky ReLU**"
   ]
  },
  {
   "cell_type": "code",
   "execution_count": 2,
   "metadata": {},
   "outputs": [],
   "source": [
    "(X_train_full, y_train_full), (X_test, y_test) = keras.datasets.fashion_mnist.load_data()\n",
    "X_train_full = X_train_full / 255.0\n",
    "X_test = X_test / 255.0\n",
    "X_valid, X_train = X_train_full[:5000], X_train_full[5000:]\n",
    "y_valid, y_train = y_train_full[:5000], y_train_full[5000:]"
   ]
  },
  {
   "cell_type": "code",
   "execution_count": 10,
   "metadata": {},
   "outputs": [],
   "source": [
    "model = keras.models.Sequential([\n",
    "    keras.layers.Flatten(input_shape=[28, 28]),\n",
    "    keras.layers.Dense(300, kernel_initializer=\"he_normal\"),\n",
    "    keras.layers.LeakyReLU(),\n",
    "    keras.layers.Dense(100, kernel_initializer=\"he_normal\"),\n",
    "    keras.layers.LeakyReLU(),\n",
    "    keras.layers.Dense(10, activation=\"softmax\")\n",
    "])"
   ]
  },
  {
   "cell_type": "code",
   "execution_count": 11,
   "metadata": {},
   "outputs": [],
   "source": [
    "model.compile(loss=\"sparse_categorical_crossentropy\",\n",
    "              optimizer=keras.optimizers.SGD(lr=1e-3),\n",
    "              metrics=[\"accuracy\"])"
   ]
  },
  {
   "cell_type": "code",
   "execution_count": 12,
   "metadata": {},
   "outputs": [
    {
     "name": "stdout",
     "output_type": "stream",
     "text": [
      "Epoch 1/10\n",
      "1719/1719 [==============================] - 3s 2ms/step - loss: 1.2934 - accuracy: 0.5906 - val_loss: 0.8794 - val_accuracy: 0.7226\n",
      "Epoch 2/10\n",
      "1719/1719 [==============================] - 3s 2ms/step - loss: 0.7985 - accuracy: 0.7396 - val_loss: 0.7106 - val_accuracy: 0.7720\n",
      "Epoch 3/10\n",
      "1719/1719 [==============================] - 3s 2ms/step - loss: 0.6858 - accuracy: 0.7737 - val_loss: 0.6366 - val_accuracy: 0.7956\n",
      "Epoch 4/10\n",
      "1719/1719 [==============================] - 3s 2ms/step - loss: 0.6263 - accuracy: 0.7918 - val_loss: 0.5925 - val_accuracy: 0.8048\n",
      "Epoch 5/10\n",
      "1719/1719 [==============================] - 3s 2ms/step - loss: 0.5877 - accuracy: 0.8037 - val_loss: 0.5637 - val_accuracy: 0.8140\n",
      "Epoch 6/10\n",
      "1719/1719 [==============================] - 3s 2ms/step - loss: 0.5605 - accuracy: 0.8126 - val_loss: 0.5383 - val_accuracy: 0.8220\n",
      "Epoch 7/10\n",
      "1719/1719 [==============================] - 3s 2ms/step - loss: 0.5395 - accuracy: 0.8186 - val_loss: 0.5243 - val_accuracy: 0.8262\n",
      "Epoch 8/10\n",
      "1719/1719 [==============================] - 3s 2ms/step - loss: 0.5236 - accuracy: 0.8233 - val_loss: 0.5072 - val_accuracy: 0.8320\n",
      "Epoch 9/10\n",
      "1719/1719 [==============================] - 3s 2ms/step - loss: 0.5099 - accuracy: 0.8260 - val_loss: 0.4969 - val_accuracy: 0.8360\n",
      "Epoch 10/10\n",
      "1719/1719 [==============================] - 3s 2ms/step - loss: 0.4988 - accuracy: 0.8289 - val_loss: 0.4852 - val_accuracy: 0.8362\n"
     ]
    }
   ],
   "source": [
    "history = model.fit(X_train, y_train, epochs=10,\n",
    "                    validation_data=(X_valid, y_valid))"
   ]
  },
  {
   "cell_type": "markdown",
   "metadata": {},
   "source": [
    "**2) Leaky PReLU**"
   ]
  },
  {
   "cell_type": "code",
   "execution_count": 13,
   "metadata": {},
   "outputs": [],
   "source": [
    "model = keras.models.Sequential([\n",
    "    keras.layers.Flatten(input_shape=[28, 28]),\n",
    "    keras.layers.Dense(300, kernel_initializer=\"he_normal\"),\n",
    "    keras.layers.PReLU(),\n",
    "    keras.layers.Dense(100, kernel_initializer=\"he_normal\"),\n",
    "    keras.layers.PReLU(),\n",
    "    keras.layers.Dense(10, activation=\"softmax\")\n",
    "])"
   ]
  },
  {
   "cell_type": "code",
   "execution_count": 14,
   "metadata": {},
   "outputs": [],
   "source": [
    "model.compile(loss=\"sparse_categorical_crossentropy\",\n",
    "              optimizer=keras.optimizers.SGD(lr=1e-3),\n",
    "              metrics=[\"accuracy\"])"
   ]
  },
  {
   "cell_type": "code",
   "execution_count": 15,
   "metadata": {},
   "outputs": [
    {
     "name": "stdout",
     "output_type": "stream",
     "text": [
      "Epoch 1/10\n",
      "1719/1719 [==============================] - 3s 2ms/step - loss: 1.3676 - accuracy: 0.5957 - val_loss: 0.9001 - val_accuracy: 0.7254\n",
      "Epoch 2/10\n",
      "1719/1719 [==============================] - 3s 2ms/step - loss: 0.8055 - accuracy: 0.7416 - val_loss: 0.7121 - val_accuracy: 0.7720\n",
      "Epoch 3/10\n",
      "1719/1719 [==============================] - 3s 2ms/step - loss: 0.6886 - accuracy: 0.7728 - val_loss: 0.6371 - val_accuracy: 0.7898\n",
      "Epoch 4/10\n",
      "1719/1719 [==============================] - 3s 2ms/step - loss: 0.6294 - accuracy: 0.7904 - val_loss: 0.5925 - val_accuracy: 0.8070\n",
      "Epoch 5/10\n",
      "1719/1719 [==============================] - 3s 2ms/step - loss: 0.5906 - accuracy: 0.8035 - val_loss: 0.5596 - val_accuracy: 0.8144\n",
      "Epoch 6/10\n",
      "1719/1719 [==============================] - 3s 2ms/step - loss: 0.5625 - accuracy: 0.8117 - val_loss: 0.5358 - val_accuracy: 0.8238\n",
      "Epoch 7/10\n",
      "1719/1719 [==============================] - 3s 2ms/step - loss: 0.5409 - accuracy: 0.8180 - val_loss: 0.5185 - val_accuracy: 0.8248\n",
      "Epoch 8/10\n",
      "1719/1719 [==============================] - 3s 2ms/step - loss: 0.5236 - accuracy: 0.8220 - val_loss: 0.5017 - val_accuracy: 0.8330\n",
      "Epoch 9/10\n",
      "1719/1719 [==============================] - 3s 2ms/step - loss: 0.5090 - accuracy: 0.8264 - val_loss: 0.4926 - val_accuracy: 0.8328\n",
      "Epoch 10/10\n",
      "1719/1719 [==============================] - 3s 1ms/step - loss: 0.4971 - accuracy: 0.8293 - val_loss: 0.4810 - val_accuracy: 0.8386\n"
     ]
    }
   ],
   "source": [
    "history = model.fit(X_train, y_train, epochs=10,\n",
    "                    validation_data=(X_valid, y_valid))"
   ]
  },
  {
   "cell_type": "markdown",
   "metadata": {},
   "source": [
    "**3) SELU (with 100 hidden layers)**"
   ]
  },
  {
   "cell_type": "code",
   "execution_count": 20,
   "metadata": {},
   "outputs": [],
   "source": [
    "pixel_means = X_train.mean(axis=0, keepdims=True)\n",
    "pixel_stds = X_train.std(axis=0, keepdims=True)\n",
    "X_train_scaled = (X_train - pixel_means) / pixel_stds\n",
    "X_valid_scaled = (X_valid - pixel_means) / pixel_stds\n",
    "X_test_scaled = (X_test - pixel_means) / pixel_stds"
   ]
  },
  {
   "cell_type": "code",
   "execution_count": 18,
   "metadata": {},
   "outputs": [],
   "source": [
    "model = keras.models.Sequential()\n",
    "model.add(keras.layers.Flatten(input_shape=[28, 28]))\n",
    "model.add(keras.layers.Dense(300, activation=\"selu\",\n",
    "                             kernel_initializer=\"lecun_normal\"))\n",
    "for layer in range(99):\n",
    "    model.add(keras.layers.Dense(100, activation=\"selu\",\n",
    "                                 kernel_initializer=\"lecun_normal\"))\n",
    "model.add(keras.layers.Dense(10, activation=\"softmax\"))"
   ]
  },
  {
   "cell_type": "code",
   "execution_count": 19,
   "metadata": {},
   "outputs": [],
   "source": [
    "model.compile(loss=\"sparse_categorical_crossentropy\",\n",
    "              optimizer=keras.optimizers.SGD(lr=1e-3),\n",
    "              metrics=[\"accuracy\"])"
   ]
  },
  {
   "cell_type": "code",
   "execution_count": 21,
   "metadata": {},
   "outputs": [
    {
     "name": "stdout",
     "output_type": "stream",
     "text": [
      "Epoch 1/5\n",
      "1719/1719 [==============================] - 13s 8ms/step - loss: 1.2919 - accuracy: 0.5059 - val_loss: 0.9045 - val_accuracy: 0.6812\n",
      "Epoch 2/5\n",
      "1719/1719 [==============================] - 13s 7ms/step - loss: 0.9088 - accuracy: 0.6622 - val_loss: 0.7168 - val_accuracy: 0.7502\n",
      "Epoch 3/5\n",
      "1719/1719 [==============================] - 13s 8ms/step - loss: 0.6925 - accuracy: 0.7489 - val_loss: 0.7484 - val_accuracy: 0.7152\n",
      "Epoch 4/5\n",
      "1719/1719 [==============================] - 13s 7ms/step - loss: 0.6030 - accuracy: 0.7850 - val_loss: 0.5741 - val_accuracy: 0.8050\n",
      "Epoch 5/5\n",
      "1719/1719 [==============================] - 13s 8ms/step - loss: 0.5305 - accuracy: 0.8142 - val_loss: 0.5149 - val_accuracy: 0.8294\n"
     ]
    }
   ],
   "source": [
    "history = model.fit(X_train_scaled, y_train, epochs=5,\n",
    "                    validation_data=(X_valid_scaled, y_valid))"
   ]
  },
  {
   "cell_type": "markdown",
   "metadata": {},
   "source": [
    "Now look at what happens if we try to use the ReLU activation function with 100 hidden layers:"
   ]
  },
  {
   "cell_type": "code",
   "execution_count": 22,
   "metadata": {},
   "outputs": [],
   "source": [
    "model = keras.models.Sequential()\n",
    "model.add(keras.layers.Flatten(input_shape=[28, 28]))\n",
    "model.add(keras.layers.Dense(300, activation=\"relu\", kernel_initializer=\"he_normal\"))\n",
    "for layer in range(99):\n",
    "    model.add(keras.layers.Dense(100, activation=\"relu\", kernel_initializer=\"he_normal\"))\n",
    "model.add(keras.layers.Dense(10, activation=\"softmax\"))"
   ]
  },
  {
   "cell_type": "code",
   "execution_count": 23,
   "metadata": {},
   "outputs": [],
   "source": [
    "model.compile(loss=\"sparse_categorical_crossentropy\",\n",
    "              optimizer=keras.optimizers.SGD(lr=1e-3),\n",
    "              metrics=[\"accuracy\"])"
   ]
  },
  {
   "cell_type": "code",
   "execution_count": 24,
   "metadata": {},
   "outputs": [
    {
     "name": "stdout",
     "output_type": "stream",
     "text": [
      "Epoch 1/5\n",
      "1719/1719 [==============================] - 12s 7ms/step - loss: 2.1582 - accuracy: 0.1884 - val_loss: 1.8396 - val_accuracy: 0.2968\n",
      "Epoch 2/5\n",
      "1719/1719 [==============================] - 12s 7ms/step - loss: 1.6136 - accuracy: 0.3405 - val_loss: 1.2495 - val_accuracy: 0.4862\n",
      "Epoch 3/5\n",
      "1719/1719 [==============================] - 12s 7ms/step - loss: 1.1963 - accuracy: 0.4847 - val_loss: 1.0074 - val_accuracy: 0.5718\n",
      "Epoch 4/5\n",
      "1719/1719 [==============================] - 12s 7ms/step - loss: 0.9312 - accuracy: 0.6046 - val_loss: 0.9630 - val_accuracy: 0.6234\n",
      "Epoch 5/5\n",
      "1719/1719 [==============================] - 12s 7ms/step - loss: 0.8274 - accuracy: 0.6680 - val_loss: 0.8217 - val_accuracy: 0.6752\n"
     ]
    }
   ],
   "source": [
    "history = model.fit(X_train_scaled, y_train, epochs=5,\n",
    "                    validation_data=(X_valid_scaled, y_valid))"
   ]
  },
  {
   "cell_type": "markdown",
   "metadata": {},
   "source": [
    "Not great at all, we suffered from the vanishing/exploding gradients problem."
   ]
  },
  {
   "cell_type": "markdown",
   "metadata": {},
   "source": [
    "### Batch Normalization"
   ]
  },
  {
   "cell_type": "markdown",
   "metadata": {},
   "source": [
    "Initialization techniques andELU (or variant of ReLU) can significantly reduce the the vanishing/exploding gradients problems at the beginning of training, however it doesn’t guarantee that they won’t come back during training.\n",
    "**Batch Normalization** (BN) technique consists of adding an operation in the model before or after the activation function of each hidden layer. This operation **zerocenters and normalizes** each input, then scales and shifts the result using\n",
    "two new parameters (to be learned during backpropagation). Often, if we add a BN layer as first layer, we do not need to standardize the training set; the BN layer will do it (approximately, since it only looks at one batch at a time).\n",
    "\n",
    "In order to zero-center and normalize the inputs, the algorithm needs to estimate each input’s mean and standard deviation. It does so by evaluating the mean and standard deviation of the input over the current mini-batch (hence the name “Batch Normalization”):\n",
    "\n",
    "$\\begin{align}\n",
    "\\mu_{B}=\\frac{1}{m_B}\\sum\\limits_{i=1}^{m_B}{x^{(i)}}\n",
    "\\end{align}$ \n",
    "\n",
    "$\\begin{align}\n",
    "\\sigma _B^2 =\\frac{1}{m_B}\\sum\\limits_{i=1}^{m_B}{(x^{(i)}-\\mu _B)^2}\n",
    "\\end{align}$ \n",
    "\n",
    "$\\begin{align}\n",
    "\\hat{x}^{(i)} =\\frac{x^{(i)}-\\mu _B}{\\sqrt{\\sigma _B^2+\\epsilon}} \n",
    "\\end{align}$\n",
    "\n",
    "$\\begin{align}\n",
    "z^{(i)}=\\gamma \\otimes \\hat{x}^{(i)}+\\beta \n",
    "\\end{align}$\n",
    "\n",
    "where:\n",
    "- $B$ is the mini-batch\n",
    "- $m_B$ is the number of instances in the mini-batch\n",
    "- $\\mu_{B}$ is the vector of input means, evaluated over the mini-batch\n",
    "- $\\sigma_B$ is the vector of input standard deviations, evaluated over the minibatch\n",
    "- $\\hat{x}^{(i)}$ is the vector of zero-centered and normalized inputs for instance i\n",
    "- $\\gamma$ is the scale parameter vector for the layer\n",
    "- $\\beta$ is the shift parameter vector for the layer\n",
    "- $\\epsilon$ is a tiny number (smoothing term) to avoids division by zero\n",
    "- $z^{(i)}$ is the output of the BN operation: a rescaled and shifted version of the inputs."
   ]
  },
  {
   "cell_type": "markdown",
   "metadata": {},
   "source": [
    "So during training, BN standardizes its inputs, then rescales and offsets\n",
    "them. But what about at prediction time? We may need to make predictions for individual instances or over small batch of instances, so computing statistics would be unreliable. \n",
    "\n",
    "One solution could be to wait until the end of training, then run the whole training set through the neural network and compute the mean and standard deviation of each input of the BN layer. These “final” input means and standard deviations could then be used instead of the batch ones when making predictions. \n",
    "\n",
    "Most implementations of BN (also Keras) estimate these \"final\" statistics during training by using a moving average of the layer’s input means and standard deviations."
   ]
  },
  {
   "cell_type": "markdown",
   "metadata": {},
   "source": [
    "The paper [Sergey Ioffe and Christian Szegedy **Batch Normalization: Accelerating Deep Network Training by Reducing Internal Covariate Shift** Proceedings of the 32nd International Conference on Machine Learning (2015)](https://arxiv.org/abs/1502.03167) shows tha BN considerably improve DNN, in particular leading to a huge improvement in the [ImageNet](http://www.image-net.org/) classification task. \n",
    "\n",
    "BN, however, adds some complexity to the model and there is a runtime penalty: the NN makes slower predictions due to the extra computations required at each layer. Fortunately, it’s  possible to fuse the BN layer with the previous layer, after training, in order to avoid the runtime penalty. This is done by updating the previous layer’s weights and biases so that it directly produces outputs of the appropriate scale and offset. The previous laryer computes: \n",
    "\n",
    "$\\begin{align}\n",
    "XW+b\n",
    "\\end{align}$\n",
    "\n",
    "the BN layers computes (ignoring the smoothing term): \n",
    "\n",
    "$\\begin{align}\n",
    "\\gamma \\otimes \\frac{(XW+b-\\mu)}{\\sigma} + \\beta\n",
    "\\end{align}$\n",
    "\n",
    "If we define:\n",
    "\n",
    "$\\begin{align}\n",
    "W' = \\gamma \\otimes \\frac{W}{\\sigma}\n",
    "\\end{align}$\n",
    "\n",
    "$\\begin{align}\n",
    "b'= \\gamma \\otimes \\frac{(b-\\mu)}{\\sigma} +\\beta\n",
    "\\end{align}$\n",
    "\n",
    "the equation simplifies to\n",
    "\n",
    "$\\begin{align}\n",
    "XW'+b'\n",
    "\\end{align}$\n",
    "\n",
    "So, if we replace the previous layer’s weights and biases ($W$ and $b$) with the updated weights and biases ($W'$ and $b'$), we can get rid of the BN layer."
   ]
  },
  {
   "cell_type": "markdown",
   "metadata": {},
   "source": [
    "In Keras, we can use BN just adding a **BatchNormalization** layer before or after each hidden layer activation function. As an example, the following model applies BN after every hidden layer and as the first layer (after flattening the input images): "
   ]
  },
  {
   "cell_type": "code",
   "execution_count": 4,
   "metadata": {},
   "outputs": [],
   "source": [
    "model = keras.models.Sequential([\n",
    "    keras.layers.Flatten(input_shape=[28, 28]),\n",
    "    keras.layers.BatchNormalization(),\n",
    "    keras.layers.Dense(300, activation=\"relu\"),\n",
    "    keras.layers.BatchNormalization(),\n",
    "    keras.layers.Dense(100, activation=\"relu\"),\n",
    "    keras.layers.BatchNormalization(),\n",
    "    keras.layers.Dense(10, activation=\"softmax\")\n",
    "])"
   ]
  },
  {
   "cell_type": "markdown",
   "metadata": {},
   "source": [
    "In tiny example with just two hidden layers, it’s unlikely that BN will have a positive impact, but for deeper networks it can make a tremendous difference."
   ]
  },
  {
   "cell_type": "code",
   "execution_count": 5,
   "metadata": {},
   "outputs": [
    {
     "name": "stdout",
     "output_type": "stream",
     "text": [
      "Model: \"sequential\"\n",
      "_________________________________________________________________\n",
      "Layer (type)                 Output Shape              Param #   \n",
      "=================================================================\n",
      "flatten (Flatten)            (None, 784)               0         \n",
      "_________________________________________________________________\n",
      "batch_normalization (BatchNo (None, 784)               3136      \n",
      "_________________________________________________________________\n",
      "dense (Dense)                (None, 300)               235500    \n",
      "_________________________________________________________________\n",
      "batch_normalization_1 (Batch (None, 300)               1200      \n",
      "_________________________________________________________________\n",
      "dense_1 (Dense)              (None, 100)               30100     \n",
      "_________________________________________________________________\n",
      "batch_normalization_2 (Batch (None, 100)               400       \n",
      "_________________________________________________________________\n",
      "dense_2 (Dense)              (None, 10)                1010      \n",
      "=================================================================\n",
      "Total params: 271,346\n",
      "Trainable params: 268,978\n",
      "Non-trainable params: 2,368\n",
      "_________________________________________________________________\n"
     ]
    }
   ],
   "source": [
    "model.summary()"
   ]
  },
  {
   "cell_type": "markdown",
   "metadata": {},
   "source": [
    "As we can see, each BN layer adds four parameters per input ($\\gamma$, $\\beta$, $\\mu$, and $\\sigma$), the first BN layer adds 3.136 parameters (which is 4x784). The last two parameters ($\\mu$, and $\\sigma$) are the moving averages and they are not affected by backpropagation, so Keras calls them **non-trainable** (3.136 + 1.200 + 400)/2=2.368"
   ]
  },
  {
   "cell_type": "code",
   "execution_count": 14,
   "metadata": {},
   "outputs": [
    {
     "name": "stdout",
     "output_type": "stream",
     "text": [
      "Epoch 1/10\n",
      "1719/1719 [==============================] - 2s 1ms/step - loss: 0.8672 - accuracy: 0.7114 - val_loss: 0.5619 - val_accuracy: 0.8130\n",
      "Epoch 2/10\n",
      "1719/1719 [==============================] - 2s 1ms/step - loss: 0.5810 - accuracy: 0.8026 - val_loss: 0.4835 - val_accuracy: 0.8356\n",
      "Epoch 3/10\n",
      "1719/1719 [==============================] - 2s 1ms/step - loss: 0.5197 - accuracy: 0.8202 - val_loss: 0.4453 - val_accuracy: 0.8460\n",
      "Epoch 4/10\n",
      "1719/1719 [==============================] - 2s 1ms/step - loss: 0.4811 - accuracy: 0.8328 - val_loss: 0.4223 - val_accuracy: 0.8506\n",
      "Epoch 5/10\n",
      "1719/1719 [==============================] - 2s 1ms/step - loss: 0.4590 - accuracy: 0.8411 - val_loss: 0.4074 - val_accuracy: 0.8568\n",
      "Epoch 6/10\n",
      "1719/1719 [==============================] - 2s 1ms/step - loss: 0.4412 - accuracy: 0.8439 - val_loss: 0.3960 - val_accuracy: 0.8606\n",
      "Epoch 7/10\n",
      "1719/1719 [==============================] - 2s 1ms/step - loss: 0.4247 - accuracy: 0.8501 - val_loss: 0.3860 - val_accuracy: 0.8654\n",
      "Epoch 8/10\n",
      "1719/1719 [==============================] - 2s 1ms/step - loss: 0.4178 - accuracy: 0.8535 - val_loss: 0.3803 - val_accuracy: 0.8660\n",
      "Epoch 9/10\n",
      "1719/1719 [==============================] - 2s 1ms/step - loss: 0.4061 - accuracy: 0.8561 - val_loss: 0.3745 - val_accuracy: 0.8674\n",
      "Epoch 10/10\n",
      "1719/1719 [==============================] - 2s 1ms/step - loss: 0.3936 - accuracy: 0.8615 - val_loss: 0.3686 - val_accuracy: 0.8696\n"
     ]
    }
   ],
   "source": [
    "model.compile(loss=\"sparse_categorical_crossentropy\",\n",
    "              optimizer=keras.optimizers.SGD(lr=1e-3),\n",
    "              metrics=[\"accuracy\"])\n",
    "\n",
    "history = model.fit(X_train, y_train, epochs=10, validation_data=(X_valid, y_valid))"
   ]
  },
  {
   "cell_type": "markdown",
   "metadata": {},
   "source": [
    "Sometimes applying BN before the activation function works better, there's a debate on this topic:"
   ]
  },
  {
   "cell_type": "code",
   "execution_count": 4,
   "metadata": {},
   "outputs": [
    {
     "name": "stdout",
     "output_type": "stream",
     "text": [
      "Epoch 1/10\n",
      "1719/1719 [==============================] - 2s 1ms/step - loss: 1.0439 - accuracy: 0.6797 - val_loss: 0.6768 - val_accuracy: 0.7884\n",
      "Epoch 2/10\n",
      "1719/1719 [==============================] - 2s 1ms/step - loss: 0.6844 - accuracy: 0.7812 - val_loss: 0.5584 - val_accuracy: 0.8158\n",
      "Epoch 3/10\n",
      "1719/1719 [==============================] - 2s 1ms/step - loss: 0.5949 - accuracy: 0.8039 - val_loss: 0.5024 - val_accuracy: 0.8320\n",
      "Epoch 4/10\n",
      "1719/1719 [==============================] - 2s 1ms/step - loss: 0.5458 - accuracy: 0.8173 - val_loss: 0.4678 - val_accuracy: 0.8424\n",
      "Epoch 5/10\n",
      "1719/1719 [==============================] - 3s 2ms/step - loss: 0.5151 - accuracy: 0.8262 - val_loss: 0.4441 - val_accuracy: 0.8496\n",
      "Epoch 6/10\n",
      "1719/1719 [==============================] - 3s 2ms/step - loss: 0.4920 - accuracy: 0.8335 - val_loss: 0.4271 - val_accuracy: 0.8554\n",
      "Epoch 7/10\n",
      "1719/1719 [==============================] - 3s 2ms/step - loss: 0.4720 - accuracy: 0.8397 - val_loss: 0.4136 - val_accuracy: 0.8590\n",
      "Epoch 8/10\n",
      "1719/1719 [==============================] - 2s 1ms/step - loss: 0.4556 - accuracy: 0.8454 - val_loss: 0.4038 - val_accuracy: 0.8628\n",
      "Epoch 9/10\n",
      "1719/1719 [==============================] - 2s 1ms/step - loss: 0.4458 - accuracy: 0.8468 - val_loss: 0.3948 - val_accuracy: 0.8642\n",
      "Epoch 10/10\n",
      "1719/1719 [==============================] - 2s 1ms/step - loss: 0.4316 - accuracy: 0.8509 - val_loss: 0.3879 - val_accuracy: 0.8652\n"
     ]
    }
   ],
   "source": [
    "model = keras.models.Sequential([\n",
    "    keras.layers.Flatten(input_shape=[28, 28]),\n",
    "    keras.layers.BatchNormalization(),\n",
    "    keras.layers.Dense(300, use_bias=False),\n",
    "    keras.layers.BatchNormalization(),\n",
    "    keras.layers.Activation(\"relu\"),\n",
    "    keras.layers.Dense(100, use_bias=False),\n",
    "    keras.layers.BatchNormalization(),\n",
    "    keras.layers.Activation(\"relu\"),\n",
    "    keras.layers.Dense(10, activation=\"softmax\")\n",
    "])\n",
    "\n",
    "model.compile(loss=\"sparse_categorical_crossentropy\",\n",
    "              optimizer=keras.optimizers.SGD(lr=1e-3),\n",
    "              metrics=[\"accuracy\"])\n",
    "\n",
    "history = model.fit(X_train, y_train, epochs=10, validation_data=(X_valid, y_valid))"
   ]
  },
  {
   "cell_type": "markdown",
   "metadata": {},
   "source": [
    "BN has become one of the most-used layers in DNN, to the point that it is often omitted in the diagrams, as it is assumed that BN is added after every layer. However, a recent paper [Hongyi Zhang et al. **Fixup Initialization: Residual Learning Without Normalization** arXiv preprint arXiv:1901.09321 (2019)](https://arxiv.org/abs/1901.09321) may change this assumption: by using a novel weight initialization technique, the authors managed to train a very deep NN (10,000 layers!) without BN, achieving state-of-the-art performance on complex image classification tasks."
   ]
  },
  {
   "cell_type": "markdown",
   "metadata": {},
   "source": [
    "### Gradient Clipping\n",
    "\n",
    "Another popular technique to mitigate the exploding gradients problem is to clip the gradients during backpropagation so that they never exceed some threshold. This technique, called **Gradient Clipping**, was presented in the paper [Razvan Pascanu et al. **On the Difficulty of Training Recurrent Neural Networks** Proceedings of the 30th International Conference on Machine Learning (2013)](https://arxiv.org/abs/1211.5063) and it is most often used in recurrent neural networks, for other types of networks, BN is usually sufficient."
   ]
  },
  {
   "cell_type": "markdown",
   "metadata": {},
   "source": [
    "In Keras, the use of Gradient Clipping is done by setting **clipvalue** or **clipnorm** arguments when creating an optimizer:"
   ]
  },
  {
   "cell_type": "code",
   "execution_count": 5,
   "metadata": {},
   "outputs": [],
   "source": [
    "optimizer = keras.optimizers.SGD(clipvalue=1.0)\n",
    "model.compile(loss=\"mse\", optimizer=optimizer)"
   ]
  },
  {
   "cell_type": "markdown",
   "metadata": {},
   "source": [
    "This optimizer will clip every component of the gradient vector to a value between –1.0 and 1.0. Note that this may change the orientation of the gradient vector. For instance, if the\n",
    "original gradient vector is [0.9, 100.0], it points mostly in the direction of the second axis; but once you clip it by value, you get [0.9, 1.0], which points roughly in the diagonal between the two axes. In practice, this approach works well. If we want to ensure that Gradient Clipping does not change the direction of the gradient vector, we can clip by norm by setting clipnorm instead of clipvalue. This will clip the whole gradient if its norm is greater than the threshold."
   ]
  },
  {
   "cell_type": "markdown",
   "metadata": {},
   "source": [
    "## Transfer Learning\n",
    "\n",
    "It is generally not a good idea to train a large DNN from scratch: instead, we can try to find an existing neural network that accomplishes a similar task to the one we are trying to tackle, then reuse the lower layers of this network. This technique is called **transfer learning**. It will not only speedcup training considerably, but also require significantly less training data."
   ]
  },
  {
   "cell_type": "markdown",
   "metadata": {},
   "source": [
    "Suppose we have access to a DNN that was trained to classify pictures into 100 different categories (e.g. animals, plants, vehicles, and everyday objects) and we want to train a DNN to classify specific types of vehicles. These tasks are very similar, even partly overlapping, so we can try to reuse parts of the first network.\n",
    "\n",
    "<img src=\"transfer-learning.png\" width=\"500\">\n",
    "\n",
    "The output layer of the original model should usually be replaced because it is most likely not useful at all for the new task, and it may not even have the right number of outputs for the new task. Similarly, the upper hidden layers of the original model are less likely to be as useful as the lower layers, since the high-level features that are most useful for the new task may differ significantly from the ones that were most useful for the original task. We have  to find the right number of layers to reuse: the more similar the tasks are, the more layers we can reuse (starting with the lower layers). For very similar tasks, we can try to keep all the hidden layers and just replace the output layer."
   ]
  },
  {
   "cell_type": "markdown",
   "metadata": {},
   "source": [
    "Let's look at a simple example in order to show how Transfer Learning can be implemented in Keras. Suppose someone has built a model on a simpler Fashion MNIST dataset (one with only eight classes, all the classes except for sandal and shirt). Let’s call this model A. We now want to tackle a different task: we have images of sandals and shirts, and we want to train a binary classifier (positive=shirt, negative=sandal). That task is quite similar to the first one, so we can try transfer learning."
   ]
  },
  {
   "cell_type": "markdown",
   "metadata": {},
   "source": [
    "Let's split the fashion MNIST training set in two:\n",
    "- X_train_A: all images of all items except for sandals and shirts (classes 5 and 6)\n",
    "- X_train_B: a much smaller training set of just the first 200 images of sandals or shirts"
   ]
  },
  {
   "cell_type": "code",
   "execution_count": 6,
   "metadata": {},
   "outputs": [],
   "source": [
    "def split_dataset(X, y):\n",
    "    y_5_or_6 = (y == 5) | (y == 6) # sandals or shirts\n",
    "    y_A = y[~y_5_or_6]\n",
    "    y_A[y_A > 6] -= 2 # class indices 7, 8, 9 should be moved to 5, 6, 7\n",
    "    y_B = (y[y_5_or_6] == 6).astype(np.float32) # binary classification task: is it a shirt (class 6)?\n",
    "    return ((X[~y_5_or_6], y_A),\n",
    "            (X[y_5_or_6], y_B))\n",
    "\n",
    "(X_train_A, y_train_A), (X_train_B, y_train_B) = split_dataset(X_train, y_train)\n",
    "(X_valid_A, y_valid_A), (X_valid_B, y_valid_B) = split_dataset(X_valid, y_valid)\n",
    "(X_test_A, y_test_A), (X_test_B, y_test_B) = split_dataset(X_test, y_test)\n",
    "X_train_B = X_train_B[:200]\n",
    "y_train_B = y_train_B[:200]"
   ]
  },
  {
   "cell_type": "code",
   "execution_count": 7,
   "metadata": {},
   "outputs": [],
   "source": [
    "model_A = keras.models.Sequential()\n",
    "model_A.add(keras.layers.Flatten(input_shape=[28, 28]))\n",
    "for n_hidden in (300, 100, 50, 50, 50):\n",
    "    model_A.add(keras.layers.Dense(n_hidden, activation=\"selu\"))\n",
    "model_A.add(keras.layers.Dense(8, activation=\"softmax\"))"
   ]
  },
  {
   "cell_type": "code",
   "execution_count": 8,
   "metadata": {},
   "outputs": [
    {
     "name": "stdout",
     "output_type": "stream",
     "text": [
      "Epoch 1/20\n",
      "1375/1375 [==============================] - 1s 980us/step - loss: 0.5599 - accuracy: 0.8162 - val_loss: 0.3792 - val_accuracy: 0.8647\n",
      "Epoch 2/20\n",
      "1375/1375 [==============================] - 1s 899us/step - loss: 0.3522 - accuracy: 0.8772 - val_loss: 0.3220 - val_accuracy: 0.8869\n",
      "Epoch 3/20\n",
      "1375/1375 [==============================] - 1s 904us/step - loss: 0.3161 - accuracy: 0.8896 - val_loss: 0.3056 - val_accuracy: 0.8924\n",
      "Epoch 4/20\n",
      "1375/1375 [==============================] - 1s 886us/step - loss: 0.2967 - accuracy: 0.8967 - val_loss: 0.2859 - val_accuracy: 0.8996\n",
      "Epoch 5/20\n",
      "1375/1375 [==============================] - 1s 892us/step - loss: 0.2841 - accuracy: 0.9012 - val_loss: 0.2817 - val_accuracy: 0.9028\n",
      "Epoch 6/20\n",
      "1375/1375 [==============================] - 1s 923us/step - loss: 0.2740 - accuracy: 0.9057 - val_loss: 0.2692 - val_accuracy: 0.9058\n",
      "Epoch 7/20\n",
      "1375/1375 [==============================] - 1s 890us/step - loss: 0.2665 - accuracy: 0.9090 - val_loss: 0.2656 - val_accuracy: 0.9076\n",
      "Epoch 8/20\n",
      "1375/1375 [==============================] - 1s 889us/step - loss: 0.2597 - accuracy: 0.9108 - val_loss: 0.2589 - val_accuracy: 0.9143\n",
      "Epoch 9/20\n",
      "1375/1375 [==============================] - 1s 910us/step - loss: 0.2541 - accuracy: 0.9124 - val_loss: 0.2502 - val_accuracy: 0.9131\n",
      "Epoch 10/20\n",
      "1375/1375 [==============================] - 1s 905us/step - loss: 0.2487 - accuracy: 0.9154 - val_loss: 0.2496 - val_accuracy: 0.9121\n",
      "Epoch 11/20\n",
      "1375/1375 [==============================] - 1s 917us/step - loss: 0.2446 - accuracy: 0.9177 - val_loss: 0.2444 - val_accuracy: 0.9168\n",
      "Epoch 12/20\n",
      "1375/1375 [==============================] - 1s 916us/step - loss: 0.2408 - accuracy: 0.9186 - val_loss: 0.2439 - val_accuracy: 0.9168\n",
      "Epoch 13/20\n",
      "1375/1375 [==============================] - 1s 895us/step - loss: 0.2374 - accuracy: 0.9198 - val_loss: 0.2453 - val_accuracy: 0.9141\n",
      "Epoch 14/20\n",
      "1375/1375 [==============================] - 1s 915us/step - loss: 0.2339 - accuracy: 0.9215 - val_loss: 0.2387 - val_accuracy: 0.9188\n",
      "Epoch 15/20\n",
      "1375/1375 [==============================] - 1s 912us/step - loss: 0.2306 - accuracy: 0.9218 - val_loss: 0.2462 - val_accuracy: 0.9193\n",
      "Epoch 16/20\n",
      "1375/1375 [==============================] - 1s 896us/step - loss: 0.2278 - accuracy: 0.9222 - val_loss: 0.2347 - val_accuracy: 0.9220\n",
      "Epoch 17/20\n",
      "1375/1375 [==============================] - 1s 900us/step - loss: 0.2251 - accuracy: 0.9230 - val_loss: 0.2332 - val_accuracy: 0.9200\n",
      "Epoch 18/20\n",
      "1375/1375 [==============================] - 1s 895us/step - loss: 0.2230 - accuracy: 0.9249 - val_loss: 0.2338 - val_accuracy: 0.9198\n",
      "Epoch 19/20\n",
      "1375/1375 [==============================] - 1s 903us/step - loss: 0.2205 - accuracy: 0.9245 - val_loss: 0.2312 - val_accuracy: 0.9218\n",
      "Epoch 20/20\n",
      "1375/1375 [==============================] - 1s 897us/step - loss: 0.2179 - accuracy: 0.9256 - val_loss: 0.2337 - val_accuracy: 0.9205\n"
     ]
    }
   ],
   "source": [
    "model_A.compile(loss=\"sparse_categorical_crossentropy\",\n",
    "                optimizer=keras.optimizers.SGD(lr=1e-3),\n",
    "                metrics=[\"accuracy\"])\n",
    "\n",
    "history = model_A.fit(X_train_A, y_train_A, epochs=20,\n",
    "                    validation_data=(X_valid_A, y_valid_A))"
   ]
  },
  {
   "cell_type": "markdown",
   "metadata": {},
   "source": [
    "Now we create a new model (model B) based on that model A layers, let’s reuse all the layers except for the output layer. We can train model B for task B, but since the new output layer was initialized randomly, it will make large errors, so there will be large error gradients that may wreck the reused weights. To avoid this, one approach is to freeze the reused layers during the first few epochs, giving the new layer some time to learn reasonable weights. To do this, we have to set every layer’s trainable attribute to false, compile the model and train it for a few epochs; then unfreeze the reused layers (which requires compiling the model again) and continue training to fine-tune the reused layers for task B."
   ]
  },
  {
   "cell_type": "code",
   "execution_count": 10,
   "metadata": {},
   "outputs": [
    {
     "name": "stdout",
     "output_type": "stream",
     "text": [
      "Epoch 1/4\n",
      "7/7 [==============================] - 0s 18ms/step - loss: 1.2335 - accuracy: 0.2200 - val_loss: 1.1227 - val_accuracy: 0.2617\n",
      "Epoch 2/4\n",
      "7/7 [==============================] - 0s 5ms/step - loss: 1.1146 - accuracy: 0.2450 - val_loss: 1.0182 - val_accuracy: 0.3103\n",
      "Epoch 3/4\n",
      "7/7 [==============================] - 0s 5ms/step - loss: 1.0087 - accuracy: 0.3000 - val_loss: 0.9248 - val_accuracy: 0.3580\n",
      "Epoch 4/4\n",
      "7/7 [==============================] - 0s 5ms/step - loss: 0.9144 - accuracy: 0.3750 - val_loss: 0.8416 - val_accuracy: 0.4199\n",
      "Epoch 1/16\n",
      "7/7 [==============================] - 0s 17ms/step - loss: 0.7006 - accuracy: 0.5600 - val_loss: 0.5144 - val_accuracy: 0.7323\n",
      "Epoch 2/16\n",
      "7/7 [==============================] - 0s 5ms/step - loss: 0.4434 - accuracy: 0.8300 - val_loss: 0.3640 - val_accuracy: 0.8773\n",
      "Epoch 3/16\n",
      "7/7 [==============================] - 0s 5ms/step - loss: 0.3171 - accuracy: 0.8950 - val_loss: 0.2824 - val_accuracy: 0.9249\n",
      "Epoch 4/16\n",
      "7/7 [==============================] - 0s 5ms/step - loss: 0.2461 - accuracy: 0.9200 - val_loss: 0.2318 - val_accuracy: 0.9462\n",
      "Epoch 5/16\n",
      "7/7 [==============================] - 0s 6ms/step - loss: 0.2012 - accuracy: 0.9500 - val_loss: 0.1973 - val_accuracy: 0.9584\n",
      "Epoch 6/16\n",
      "7/7 [==============================] - 0s 5ms/step - loss: 0.1694 - accuracy: 0.9700 - val_loss: 0.1698 - val_accuracy: 0.9665\n",
      "Epoch 7/16\n",
      "7/7 [==============================] - 0s 5ms/step - loss: 0.1442 - accuracy: 0.9800 - val_loss: 0.1514 - val_accuracy: 0.9716\n",
      "Epoch 8/16\n",
      "7/7 [==============================] - 0s 5ms/step - loss: 0.1272 - accuracy: 0.9900 - val_loss: 0.1370 - val_accuracy: 0.9746\n",
      "Epoch 9/16\n",
      "7/7 [==============================] - 0s 5ms/step - loss: 0.1136 - accuracy: 0.9900 - val_loss: 0.1258 - val_accuracy: 0.9767\n",
      "Epoch 10/16\n",
      "7/7 [==============================] - 0s 5ms/step - loss: 0.1029 - accuracy: 0.9900 - val_loss: 0.1156 - val_accuracy: 0.9777\n",
      "Epoch 11/16\n",
      "7/7 [==============================] - 0s 5ms/step - loss: 0.0932 - accuracy: 0.9900 - val_loss: 0.1079 - val_accuracy: 0.9787\n",
      "Epoch 12/16\n",
      "7/7 [==============================] - 0s 5ms/step - loss: 0.0859 - accuracy: 1.0000 - val_loss: 0.1015 - val_accuracy: 0.9807\n",
      "Epoch 13/16\n",
      "7/7 [==============================] - 0s 5ms/step - loss: 0.0794 - accuracy: 1.0000 - val_loss: 0.0953 - val_accuracy: 0.9817\n",
      "Epoch 14/16\n",
      "7/7 [==============================] - 0s 5ms/step - loss: 0.0736 - accuracy: 1.0000 - val_loss: 0.0902 - val_accuracy: 0.9817\n",
      "Epoch 15/16\n",
      "7/7 [==============================] - 0s 5ms/step - loss: 0.0688 - accuracy: 1.0000 - val_loss: 0.0859 - val_accuracy: 0.9817\n",
      "Epoch 16/16\n",
      "7/7 [==============================] - 0s 5ms/step - loss: 0.0648 - accuracy: 1.0000 - val_loss: 0.0818 - val_accuracy: 0.9838\n"
     ]
    }
   ],
   "source": [
    "model_A_clone = keras.models.clone_model(model_A)\n",
    "model_A_clone.set_weights(model_A.get_weights())\n",
    "model_B = keras.models.Sequential(model_A_clone.layers[:-1])\n",
    "model_B.add(keras.layers.Dense(1, activation=\"sigmoid\"))\n",
    "\n",
    "for layer in model_B.layers[:-1]:\n",
    "    layer.trainable = False\n",
    "\n",
    "model_B.compile(loss=\"binary_crossentropy\",\n",
    "                optimizer=keras.optimizers.SGD(lr=1e-3),\n",
    "                metrics=[\"accuracy\"])\n",
    "\n",
    "history = model_B.fit(X_train_B, y_train_B, epochs=4,\n",
    "                      validation_data=(X_valid_B, y_valid_B))\n",
    "\n",
    "for layer in model_B.layers[:-1]:\n",
    "    layer.trainable = True\n",
    "\n",
    "model_B.compile(loss=\"binary_crossentropy\",\n",
    "                optimizer=keras.optimizers.SGD(lr=1e-3),\n",
    "                metrics=[\"accuracy\"])\n",
    "\n",
    "history = model_B.fit(X_train_B, y_train_B, epochs=16,\n",
    "                      validation_data=(X_valid_B, y_valid_B))"
   ]
  },
  {
   "cell_type": "markdown",
   "metadata": {},
   "source": [
    "So, what’s the final verdict? We can compare with a network learned from scratch:"
   ]
  },
  {
   "cell_type": "code",
   "execution_count": 11,
   "metadata": {},
   "outputs": [
    {
     "name": "stdout",
     "output_type": "stream",
     "text": [
      "Epoch 1/20\n",
      "7/7 [==============================] - 0s 18ms/step - loss: 0.8604 - accuracy: 0.4950 - val_loss: 0.7212 - val_accuracy: 0.5781\n",
      "Epoch 2/20\n",
      "7/7 [==============================] - 0s 5ms/step - loss: 0.6356 - accuracy: 0.6300 - val_loss: 0.5620 - val_accuracy: 0.6937\n",
      "Epoch 3/20\n",
      "7/7 [==============================] - 0s 5ms/step - loss: 0.4898 - accuracy: 0.7600 - val_loss: 0.4558 - val_accuracy: 0.8022\n",
      "Epoch 4/20\n",
      "7/7 [==============================] - 0s 5ms/step - loss: 0.3944 - accuracy: 0.8650 - val_loss: 0.3824 - val_accuracy: 0.8621\n",
      "Epoch 5/20\n",
      "7/7 [==============================] - 0s 5ms/step - loss: 0.3271 - accuracy: 0.8900 - val_loss: 0.3303 - val_accuracy: 0.8895\n",
      "Epoch 6/20\n",
      "7/7 [==============================] - 0s 5ms/step - loss: 0.2788 - accuracy: 0.9200 - val_loss: 0.2899 - val_accuracy: 0.9189\n",
      "Epoch 7/20\n",
      "7/7 [==============================] - 0s 5ms/step - loss: 0.2422 - accuracy: 0.9350 - val_loss: 0.2607 - val_accuracy: 0.9290\n",
      "Epoch 8/20\n",
      "7/7 [==============================] - 0s 5ms/step - loss: 0.2149 - accuracy: 0.9500 - val_loss: 0.2361 - val_accuracy: 0.9402\n",
      "Epoch 9/20\n",
      "7/7 [==============================] - 0s 5ms/step - loss: 0.1930 - accuracy: 0.9600 - val_loss: 0.2149 - val_accuracy: 0.9462\n",
      "Epoch 10/20\n",
      "7/7 [==============================] - 0s 5ms/step - loss: 0.1735 - accuracy: 0.9800 - val_loss: 0.1968 - val_accuracy: 0.9564\n",
      "Epoch 11/20\n",
      "7/7 [==============================] - 0s 5ms/step - loss: 0.1562 - accuracy: 0.9850 - val_loss: 0.1836 - val_accuracy: 0.9584\n",
      "Epoch 12/20\n",
      "7/7 [==============================] - 0s 5ms/step - loss: 0.1436 - accuracy: 0.9900 - val_loss: 0.1715 - val_accuracy: 0.9584\n",
      "Epoch 13/20\n",
      "7/7 [==============================] - 0s 5ms/step - loss: 0.1323 - accuracy: 0.9950 - val_loss: 0.1615 - val_accuracy: 0.9645\n",
      "Epoch 14/20\n",
      "7/7 [==============================] - 0s 5ms/step - loss: 0.1227 - accuracy: 0.9950 - val_loss: 0.1525 - val_accuracy: 0.9716\n",
      "Epoch 15/20\n",
      "7/7 [==============================] - 0s 5ms/step - loss: 0.1142 - accuracy: 0.9950 - val_loss: 0.1444 - val_accuracy: 0.9716\n",
      "Epoch 16/20\n",
      "7/7 [==============================] - 0s 5ms/step - loss: 0.1068 - accuracy: 0.9950 - val_loss: 0.1383 - val_accuracy: 0.9726\n",
      "Epoch 17/20\n",
      "7/7 [==============================] - 0s 5ms/step - loss: 0.1006 - accuracy: 0.9950 - val_loss: 0.1317 - val_accuracy: 0.9757\n",
      "Epoch 18/20\n",
      "7/7 [==============================] - 0s 5ms/step - loss: 0.0946 - accuracy: 0.9950 - val_loss: 0.1261 - val_accuracy: 0.9777\n",
      "Epoch 19/20\n",
      "7/7 [==============================] - 0s 5ms/step - loss: 0.0893 - accuracy: 0.9950 - val_loss: 0.1212 - val_accuracy: 0.9777\n",
      "Epoch 20/20\n",
      "7/7 [==============================] - 0s 5ms/step - loss: 0.0846 - accuracy: 0.9950 - val_loss: 0.1171 - val_accuracy: 0.9787\n"
     ]
    }
   ],
   "source": [
    "model_B = keras.models.Sequential()\n",
    "model_B.add(keras.layers.Flatten(input_shape=[28, 28]))\n",
    "for n_hidden in (300, 100, 50, 50, 50):\n",
    "    model_B.add(keras.layers.Dense(n_hidden, activation=\"selu\"))\n",
    "model_B.add(keras.layers.Dense(1, activation=\"sigmoid\"))\n",
    "\n",
    "model_B.compile(loss=\"binary_crossentropy\",\n",
    "                optimizer=keras.optimizers.SGD(lr=1e-3),\n",
    "                metrics=[\"accuracy\"])\n",
    "\n",
    "history = model_B.fit(X_train_B, y_train_B, epochs=20,\n",
    "                      validation_data=(X_valid_B, y_valid_B))"
   ]
  },
  {
   "cell_type": "markdown",
   "metadata": {},
   "source": [
    "If you try to change the classes or the random seed, you will see that the improvement generally drops, or even vanishes or reverses.\n",
    "\n",
    "It turns out that transfer learning does not work very well with small dense networks, presumably because small networks learn few patterns, and dense networks learn very specific patterns, which are unlikely to be useful in other tasks. Transfer learning works best with deep convolutional neural networks, which tend to learn feature detectors that are much more general (especially in the lower layers). "
   ]
  },
  {
   "cell_type": "markdown",
   "metadata": {},
   "source": [
    "## Faster Optimization\n",
    "\n",
    "Training large DNNs can be painfully slow. A huge speed boost comes from using a\n",
    "faster optimizer than the regular Gradient Descent optimizer. In this section we will present the most popular algorithms: momentum optimization, Nesterov Accelerated Gradient, AdaGrad, RMSProp, and finally Adam and Nadam optimization."
   ]
  },
  {
   "cell_type": "markdown",
   "metadata": {},
   "source": [
    "### Momentum Optimization\n",
    "\n",
    "Imagine a bowling ball rolling down a gentle slope on a smooth surface: it will start out slowly, but it will quickly pick up momentum until it eventually reaches terminal velocity. In contrast, regular Gradient Descent will simply take small, regular steps down the slope, so the algorithm will take much more time to reach the bottom.\n",
    "\n",
    "Recall that Gradient Descent updates the weights by subtracting the gradient of the cost function with regard to the weight multiplied by the learning rate:\n",
    "\n",
    "$\\theta = \\theta - \\eta \\nabla J(\\theta)$\n",
    "\n",
    "It does not care about what the earlier gradients were. If the local gradient is tiny, it goes very slowly.\n",
    "\n",
    "Momentum optimization ([Boris T. Polyak **Some Methods of Speeding Up the Convergence of Iteration Methods** USSR Computational Mathematics and Mathematical Physics 4, no. 5 (1964)](https://vsokolov.org/courses/750/files/polyak64.pdf)) cares a great deal about what previous gradients were: at each iteration, it subtracts the local gradient from the momentum vector $m$ and it updates the weights by adding this momentum:\n",
    "\n",
    "$m = \\beta m - \\eta \\nabla J(\\theta)$\n",
    "\n",
    "$\\theta = \\theta + m$\n",
    "\n",
    "In other words, the gradient is **used for acceleration, not for speed**. To simulate some sort of friction mechanism and prevent the momentum from growing too large, the algorithm introduces a new hyperparameter $\\beta$, called the **momentum**, which must be set between 0 (high friction) and 1 (no friction). A typicalvmomentum value is 0.9."
   ]
  },
  {
   "cell_type": "markdown",
   "metadata": {},
   "source": [
    "In order to use momentum optimization in Keras, we have to use the SGD optimizer and set its **momentum hyperparameter**:"
   ]
  },
  {
   "cell_type": "code",
   "execution_count": 12,
   "metadata": {},
   "outputs": [],
   "source": [
    "optimizer = keras.optimizers.SGD(lr=0.001, momentum=0.9)"
   ]
  },
  {
   "cell_type": "markdown",
   "metadata": {},
   "source": [
    "### Nesterov Accelerated Gradient\n",
    "\n",
    "The **Nesterov Accelerated Gradient (NAG**) method ([Yurii Nesterov **A Method for Unconstrained Convex Minimization Problem with the Rate of Convergence** Doklady AN USSR 269 (1983)](http://mpawankumar.info/teaching/cdt-big-data/nesterov83.pdf)), is a small variant to momentum optimization which measures the gradient of the cost function not at the local position but slightly ahead in the direction of the momentum, at:\n",
    "\n",
    "$m = \\beta m - \\eta \\nabla J(\\theta + \\beta m)$\n",
    "\n",
    "$\\theta = \\theta + m$"
   ]
  },
  {
   "cell_type": "markdown",
   "metadata": {},
   "source": [
    "This small tweak works because in general the momentum vector will be pointing in the right direction (toward the optimum), so it will be slightly more accurate to use the gradient measured a bit farther in that direction rather than the gradient at the original position:  \n",
    "\n",
    "<img src=\"nesterov.png\" width=\"500\">\n"
   ]
  },
  {
   "cell_type": "markdown",
   "metadata": {},
   "source": [
    "To use it, simply set **nesterov=True** when creating the SGD optimizer:"
   ]
  },
  {
   "cell_type": "code",
   "execution_count": 13,
   "metadata": {},
   "outputs": [],
   "source": [
    "optimizer = keras.optimizers.SGD(lr=0.001, momentum=0.9, nesterov=True)"
   ]
  },
  {
   "cell_type": "markdown",
   "metadata": {},
   "source": [
    "### AdaGrad\n",
    "\n",
    "Consider the elongated bowl problem again: Gradient Descent starts by quickly going down the steepest slope, which does not point straight toward the global optimum, then it very slowly goes down to the bottom of the valley. It would be nice if the algorithm could correct its direction earlier to point a bit more toward the global optimum. The **AdaGrad algorithm** [John Duchi et al. **Adaptive Subgradient Methods for Online Learning and Stochastic Optimization** Journal of Machine Learning Research 12 (2011)](https://www.jmlr.org/papers/volume12/duchi11a/duchi11a.pdf) achieves this correction by scaling down the gradient vector along the\n",
    "steepest dimensions:\n",
    "\n",
    "\n",
    "\n",
    "\n",
    "\n"
   ]
  },
  {
   "cell_type": "code",
   "execution_count": null,
   "metadata": {},
   "outputs": [],
   "source": []
  }
 ],
 "metadata": {
  "kernelspec": {
   "display_name": "Python 3",
   "language": "python",
   "name": "python3"
  },
  "language_info": {
   "codemirror_mode": {
    "name": "ipython",
    "version": 3
   },
   "file_extension": ".py",
   "mimetype": "text/x-python",
   "name": "python",
   "nbconvert_exporter": "python",
   "pygments_lexer": "ipython3",
   "version": "3.8.3"
  },
  "nav_menu": {},
  "toc": {
   "navigate_menu": true,
   "number_sections": true,
   "sideBar": true,
   "threshold": 6,
   "toc_cell": false,
   "toc_section_display": "block",
   "toc_window_display": false
  }
 },
 "nbformat": 4,
 "nbformat_minor": 4
}
