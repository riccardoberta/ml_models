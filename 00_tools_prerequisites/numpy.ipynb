{
 "cells": [
  {
   "cell_type": "markdown",
   "metadata": {},
   "source": [
    "# NumPy\n",
    "\n",
    "<a href=\"https://colab.research.google.com/github/riccardoberta/machine-learning/blob/master/00_tools_prerequisites/numpy.ipynb\" target=\"_blank\"><img src=\"https://colab.research.google.com/assets/colab-badge.svg\" alt=\"Open In Google Colab\"/></a>\n",
    "\n",
    "NumPy is the fundamental library for scientific computing with Python. NumPy is centered around a powerful N-dimensional array object, and it also contains useful linear algebra, Fourier transform, and random number functions. An interesting scientific paper on the importance of NumPy can be found [here](https://www.nature.com/articles/s41586-020-2649-2)\n",
    "\n",
    "Some vocabulary:\n",
    "- each dimension is called an **axis**\n",
    "- the number of axes is called the **rank**\n",
    "- an array's list of axis lengths is called the **shape** of an arra\n",
    "- the **size** of an array is the total number of elements, which is the product of all axis lengths\n",
    "\n",
    "1. [Creating arrays](#Creating-arrays)\n",
    "2. [Array data](#Array-data)\n",
    "3. [Reshaping an array](#Reshaping-an-array)\n",
    "4. [Mathematical functions](#Mathematical-functions)\n",
    "5. [Array indexing](#Array-indexing)\n",
    "6. [Iterating](#Iterating)\n",
    "7. [Stacking arrays](#Stacking-arrays)\n",
    "8. [Splitting arrays](#Splitting-arrays)\n",
    "9. [Transposing arrays](#Transposing-arrays)\n",
    "10. [Linear algebra](#Linear-algebra)\n",
    "11. [Vectorization](#Vectorization)\n",
    "12. [Saving and loading](#Saving-and-loading)"
   ]
  },
  {
   "cell_type": "markdown",
   "metadata": {},
   "source": [
    "## Creating arrays\n",
    "\n",
    "Now let's import numpy. Most people import it as np:"
   ]
  },
  {
   "cell_type": "code",
   "execution_count": 1,
   "metadata": {},
   "outputs": [],
   "source": [
    "import numpy as np"
   ]
  },
  {
   "cell_type": "markdown",
   "metadata": {},
   "source": [
    "### np.zeros\n",
    "The **zero()** function creates an array containing any number of zeros:"
   ]
  },
  {
   "cell_type": "code",
   "execution_count": 2,
   "metadata": {},
   "outputs": [
    {
     "data": {
      "text/plain": [
       "array([0., 0., 0., 0., 0.])"
      ]
     },
     "execution_count": 2,
     "metadata": {},
     "output_type": "execute_result"
    }
   ],
   "source": [
    "np.zeros(5)"
   ]
  },
  {
   "cell_type": "markdown",
   "metadata": {},
   "source": [
    "To create a 2D array (ie. a matrix) we can provide a tuple with the desired number of rows and columns:"
   ]
  },
  {
   "cell_type": "code",
   "execution_count": 3,
   "metadata": {},
   "outputs": [
    {
     "name": "stdout",
     "output_type": "stream",
     "text": [
      "[[0. 0. 0. 0.]\n",
      " [0. 0. 0. 0.]\n",
      " [0. 0. 0. 0.]]\n"
     ]
    }
   ],
   "source": [
    "a = np.zeros((3,4))\n",
    "print(a)"
   ]
  },
  {
   "cell_type": "code",
   "execution_count": 4,
   "metadata": {},
   "outputs": [
    {
     "name": "stdout",
     "output_type": "stream",
     "text": [
      "(3, 4)\n"
     ]
    }
   ],
   "source": [
    "print(a.shape)"
   ]
  },
  {
   "cell_type": "code",
   "execution_count": 5,
   "metadata": {},
   "outputs": [
    {
     "data": {
      "text/plain": [
       "array([[0., 0., 0., 0.],\n",
       "       [0., 0., 0., 0.],\n",
       "       [0., 0., 0., 0.]])"
      ]
     },
     "execution_count": 5,
     "metadata": {},
     "output_type": "execute_result"
    }
   ],
   "source": [
    "a = np.zeros((3,4))\n",
    "a"
   ]
  },
  {
   "cell_type": "code",
   "execution_count": 6,
   "metadata": {},
   "outputs": [
    {
     "name": "stdout",
     "output_type": "stream",
     "text": [
      "shape: (3, 4)\n",
      "dim: 2\n",
      "size: 12\n"
     ]
    }
   ],
   "source": [
    "print('shape:', a.shape)\n",
    "print('dim:',  a.ndim)\n",
    "print('size:',  a.size)"
   ]
  },
  {
   "cell_type": "markdown",
   "metadata": {},
   "source": [
    "We can also create **n-dimensional array** of arbitrary rank: "
   ]
  },
  {
   "cell_type": "code",
   "execution_count": 7,
   "metadata": {},
   "outputs": [
    {
     "data": {
      "text/plain": [
       "array([[[0., 0., 0., 0.],\n",
       "        [0., 0., 0., 0.],\n",
       "        [0., 0., 0., 0.]],\n",
       "\n",
       "       [[0., 0., 0., 0.],\n",
       "        [0., 0., 0., 0.],\n",
       "        [0., 0., 0., 0.]]])"
      ]
     },
     "execution_count": 7,
     "metadata": {},
     "output_type": "execute_result"
    }
   ],
   "source": [
    "np.zeros((2,3,4))"
   ]
  },
  {
   "cell_type": "markdown",
   "metadata": {},
   "source": [
    "### np.ones"
   ]
  },
  {
   "cell_type": "code",
   "execution_count": 8,
   "metadata": {},
   "outputs": [
    {
     "data": {
      "text/plain": [
       "array([[1., 1., 1., 1.],\n",
       "       [1., 1., 1., 1.],\n",
       "       [1., 1., 1., 1.]])"
      ]
     },
     "execution_count": 8,
     "metadata": {},
     "output_type": "execute_result"
    }
   ],
   "source": [
    "np.ones((3,4))"
   ]
  },
  {
   "cell_type": "markdown",
   "metadata": {},
   "source": [
    "### np.full\n",
    "Creates an array of the given shape initialized with the given value."
   ]
  },
  {
   "cell_type": "code",
   "execution_count": 9,
   "metadata": {},
   "outputs": [
    {
     "data": {
      "text/plain": [
       "array([[3.14159265, 3.14159265, 3.14159265, 3.14159265],\n",
       "       [3.14159265, 3.14159265, 3.14159265, 3.14159265],\n",
       "       [3.14159265, 3.14159265, 3.14159265, 3.14159265]])"
      ]
     },
     "execution_count": 9,
     "metadata": {},
     "output_type": "execute_result"
    }
   ],
   "source": [
    "np.full((3,4), np.pi)"
   ]
  },
  {
   "cell_type": "code",
   "execution_count": 10,
   "metadata": {},
   "outputs": [
    {
     "data": {
      "text/plain": [
       "array([[3.14159265, 3.14159265, 3.14159265, 3.14159265],\n",
       "       [3.14159265, 3.14159265, 3.14159265, 3.14159265],\n",
       "       [3.14159265, 3.14159265, 3.14159265, 3.14159265]])"
      ]
     },
     "execution_count": 10,
     "metadata": {},
     "output_type": "execute_result"
    }
   ],
   "source": [
    "np.full((3,4), np.pi)"
   ]
  },
  {
   "cell_type": "markdown",
   "metadata": {},
   "source": [
    "### np.empty\n",
    "An uninitialized array (its content is not predictable, as it is whatever is in memory at that point)."
   ]
  },
  {
   "cell_type": "code",
   "execution_count": 11,
   "metadata": {},
   "outputs": [
    {
     "data": {
      "text/plain": [
       "array([[-1.28822975e-231,  1.49457758e-154,  1.48219694e-323],\n",
       "       [ 0.00000000e+000,  0.00000000e+000,  4.17201348e-309]])"
      ]
     },
     "execution_count": 11,
     "metadata": {},
     "output_type": "execute_result"
    }
   ],
   "source": [
    "np.empty((2,3))"
   ]
  },
  {
   "cell_type": "markdown",
   "metadata": {},
   "source": [
    "### np.array\n",
    "Of course we can initialize an array using a regular python array"
   ]
  },
  {
   "cell_type": "code",
   "execution_count": 12,
   "metadata": {},
   "outputs": [
    {
     "data": {
      "text/plain": [
       "array([[ 1,  2,  3,  4],\n",
       "       [10, 20, 30, 40]])"
      ]
     },
     "execution_count": 12,
     "metadata": {},
     "output_type": "execute_result"
    }
   ],
   "source": [
    "np.array([[1,2,3,4], [10, 20, 30, 40]])"
   ]
  },
  {
   "cell_type": "markdown",
   "metadata": {},
   "source": [
    "### np.arange\n",
    "We can create an array using NumPy's arange function, which is similar to python's built-in range function. It also works with floats and we can provide a step parameter. However, when dealing with floats, the exact number of elements in the array is not always predictible."
   ]
  },
  {
   "cell_type": "code",
   "execution_count": 13,
   "metadata": {},
   "outputs": [
    {
     "data": {
      "text/plain": [
       "array([1, 2, 3, 4])"
      ]
     },
     "execution_count": 13,
     "metadata": {},
     "output_type": "execute_result"
    }
   ],
   "source": [
    "np.arange(1, 5)"
   ]
  },
  {
   "cell_type": "code",
   "execution_count": 14,
   "metadata": {},
   "outputs": [
    {
     "data": {
      "text/plain": [
       "array([1., 2., 3., 4.])"
      ]
     },
     "execution_count": 14,
     "metadata": {},
     "output_type": "execute_result"
    }
   ],
   "source": [
    "np.arange(1.0, 5.0)"
   ]
  },
  {
   "cell_type": "code",
   "execution_count": 15,
   "metadata": {},
   "outputs": [
    {
     "data": {
      "text/plain": [
       "array([1. , 1.5, 2. , 2.5, 3. , 3.5, 4. , 4.5])"
      ]
     },
     "execution_count": 15,
     "metadata": {},
     "output_type": "execute_result"
    }
   ],
   "source": [
    "np.arange(1, 5, 0.5)"
   ]
  },
  {
   "cell_type": "code",
   "execution_count": 16,
   "metadata": {},
   "outputs": [
    {
     "name": "stdout",
     "output_type": "stream",
     "text": [
      "[0.         0.33333333 0.66666667 1.         1.33333333 1.66666667]\n",
      "[0.         0.33333333 0.66666667 1.         1.33333333 1.66666667]\n",
      "[0.         0.33333333 0.66666667 1.         1.33333334]\n"
     ]
    }
   ],
   "source": [
    "print(np.arange(0, 5/3, 1/3)) # depending on floating point errors, the max value is 4/3 or 5/3.\n",
    "print(np.arange(0, 5/3, 0.333333333))\n",
    "print(np.arange(0, 5/3, 0.333333334))"
   ]
  },
  {
   "cell_type": "markdown",
   "metadata": {},
   "source": [
    "### np.linspace\n",
    "It is generally preferable to use the linspace function instead of arange when working with floats. It returns an array containing a specific number of points evenly distributed between two values (note that the maximum value is included, contrary to `arange`):"
   ]
  },
  {
   "cell_type": "code",
   "execution_count": 17,
   "metadata": {},
   "outputs": [
    {
     "name": "stdout",
     "output_type": "stream",
     "text": [
      "[0.         0.33333333 0.66666667 1.         1.33333333 1.66666667]\n"
     ]
    }
   ],
   "source": [
    "print(np.linspace(0, 5/3, 6))"
   ]
  },
  {
   "cell_type": "markdown",
   "metadata": {},
   "source": [
    "### np.rand\n",
    "A number of functions are available in NumPy's random module to create arrays initialized with random values.\n",
    "Here a matrix initialized with random floats with **uniform distribution**:"
   ]
  },
  {
   "cell_type": "code",
   "execution_count": 18,
   "metadata": {},
   "outputs": [
    {
     "data": {
      "text/plain": [
       "array([[0.872468  , 0.7576632 , 0.76896864, 0.8254766 ],\n",
       "       [0.21450485, 0.80355227, 0.82260117, 0.86478236],\n",
       "       [0.81917673, 0.79780069, 0.64859317, 0.04408153]])"
      ]
     },
     "execution_count": 18,
     "metadata": {},
     "output_type": "execute_result"
    }
   ],
   "source": [
    "np.random.rand(3,4)"
   ]
  },
  {
   "cell_type": "markdown",
   "metadata": {},
   "source": [
    "Here a matrix containing random floats sampled from a **normal distribution**:"
   ]
  },
  {
   "cell_type": "code",
   "execution_count": 19,
   "metadata": {},
   "outputs": [
    {
     "data": {
      "text/plain": [
       "array([[-0.52901207, -0.98492219, -1.38372985, -0.24604689],\n",
       "       [ 0.64798739,  1.00698438, -0.03305686, -1.24433179],\n",
       "       [-0.99514045, -0.53660564,  1.01110588,  0.40909663]])"
      ]
     },
     "execution_count": 19,
     "metadata": {},
     "output_type": "execute_result"
    }
   ],
   "source": [
    "np.random.randn(3,4)"
   ]
  },
  {
   "cell_type": "markdown",
   "metadata": {},
   "source": [
    "To get a feel of these distributions, we can use matplotlib:"
   ]
  },
  {
   "cell_type": "code",
   "execution_count": 20,
   "metadata": {},
   "outputs": [
    {
     "data": {
      "image/png": "[encoded data removed]",
      "text/plain": [
       "<Figure size 432x288 with 1 Axes>"
      ]
     },
     "metadata": {
      "needs_background": "light"
     },
     "output_type": "display_data"
    }
   ],
   "source": [
    "import matplotlib.pyplot as plt\n",
    "plt.hist(np.random.rand(100000), density=True, bins=100, histtype=\"step\", color=\"blue\", label=\"rand\")\n",
    "plt.hist(np.random.randn(100000), density=True, bins=100, histtype=\"step\", color=\"red\", label=\"randn\")\n",
    "plt.axis([-2.5, 2.5, 0, 1.1])\n",
    "plt.legend(loc = \"upper left\")\n",
    "plt.title(\"Random distributions\")\n",
    "plt.xlabel(\"Value\")\n",
    "plt.ylabel(\"Density\")\n",
    "plt.show()"
   ]
  },
  {
   "cell_type": "markdown",
   "metadata": {},
   "source": [
    "### np.fromfunction\n",
    "You can also initialize an array using a function. The function is called with N parameters, where N is the rank of shape. The resulting array therefore has a value f(x, y) at coordinate (x, y)."
   ]
  },
  {
   "cell_type": "code",
   "execution_count": 21,
   "metadata": {},
   "outputs": [
    {
     "data": {
      "text/plain": [
       "array([[0., 0., 0., 0.],\n",
       "       [0., 1., 2., 3.],\n",
       "       [0., 2., 4., 6.]])"
      ]
     },
     "execution_count": 21,
     "metadata": {},
     "output_type": "execute_result"
    }
   ],
   "source": [
    "def my_function(x,y):\n",
    "    return x * y\n",
    "\n",
    "np.fromfunction(my_function, (3, 4))"
   ]
  },
  {
   "cell_type": "markdown",
   "metadata": {},
   "source": [
    "## Array data"
   ]
  },
  {
   "cell_type": "markdown",
   "metadata": {},
   "source": [
    "### dtype\n",
    "NumPy's array are efficient in part because all their elements must have the same type (usually numbers). Available data types include **int8**, **int16**, **int32**, **int64**, **uint8|16|32|64**, **float16|32|64** and **complex64|128**. You can check what the data type is by looking at the dtype attribute. "
   ]
  },
  {
   "cell_type": "code",
   "execution_count": 22,
   "metadata": {},
   "outputs": [
    {
     "name": "stdout",
     "output_type": "stream",
     "text": [
      "int64 [1 2 3 4]\n"
     ]
    }
   ],
   "source": [
    "c = np.arange(1, 5)\n",
    "print(c.dtype, c)"
   ]
  },
  {
   "cell_type": "code",
   "execution_count": 23,
   "metadata": {},
   "outputs": [
    {
     "name": "stdout",
     "output_type": "stream",
     "text": [
      "float64 [1. 2. 3. 4.]\n"
     ]
    }
   ],
   "source": [
    "c = np.arange(1.0, 5.0)\n",
    "print(c.dtype, c)"
   ]
  },
  {
   "cell_type": "markdown",
   "metadata": {},
   "source": [
    "Instead of letting NumPy guess what data type to use, you can set it explicitly when creating an array by setting the dtype parameter"
   ]
  },
  {
   "cell_type": "code",
   "execution_count": 24,
   "metadata": {},
   "outputs": [
    {
     "name": "stdout",
     "output_type": "stream",
     "text": [
      "complex64 [1.+0.j 2.+0.j 3.+0.j 4.+0.j]\n"
     ]
    }
   ],
   "source": [
    "d = np.arange(1, 5, dtype=np.complex64)\n",
    "print(d.dtype, d)"
   ]
  },
  {
   "cell_type": "markdown",
   "metadata": {},
   "source": [
    "### itemsize\n",
    "The itemsize attribute returns the size (in bytes) of each item:"
   ]
  },
  {
   "cell_type": "code",
   "execution_count": 25,
   "metadata": {},
   "outputs": [
    {
     "data": {
      "text/plain": [
       "8"
      ]
     },
     "execution_count": 25,
     "metadata": {},
     "output_type": "execute_result"
    }
   ],
   "source": [
    "e = np.arange(1, 5, dtype=np.complex64)\n",
    "e.itemsize"
   ]
  },
  {
   "cell_type": "markdown",
   "metadata": {},
   "source": [
    "### data buffer\n",
    "An array's data is actually stored in memory as a flat (one dimensional) byte buffer. It is available via the data attribute (we will rarely need it)."
   ]
  },
  {
   "cell_type": "code",
   "execution_count": 26,
   "metadata": {},
   "outputs": [
    {
     "name": "stdout",
     "output_type": "stream",
     "text": [
      "b'\\x01\\x00\\x00\\x00\\x02\\x00\\x00\\x00\\xe8\\x03\\x00\\x00\\xd0\\x07\\x00\\x00'\n"
     ]
    }
   ],
   "source": [
    "f = np.array([[1,2],[1000, 2000]], dtype=np.int32)\n",
    "f.data\n",
    "data_bytes = f.data.tobytes()\n",
    "print(data_bytes)"
   ]
  },
  {
   "cell_type": "markdown",
   "metadata": {},
   "source": [
    "## Reshaping an array"
   ]
  },
  {
   "cell_type": "markdown",
   "metadata": {},
   "source": [
    "### In place\n",
    "Changing the shape of an array is as simple as setting its shape attribute. However, the array's size must remain the same."
   ]
  },
  {
   "cell_type": "code",
   "execution_count": 27,
   "metadata": {},
   "outputs": [
    {
     "name": "stdout",
     "output_type": "stream",
     "text": [
      "[ 0  1  2  3  4  5  6  7  8  9 10 11 12 13 14 15 16 17 18 19 20 21 22 23]\n",
      "Rank: 1\n",
      "Size: 24\n"
     ]
    }
   ],
   "source": [
    "g = np.arange(24)\n",
    "print(g)\n",
    "print(\"Rank:\", g.ndim)\n",
    "print(\"Size:\", g.size)"
   ]
  },
  {
   "cell_type": "code",
   "execution_count": 28,
   "metadata": {},
   "outputs": [
    {
     "name": "stdout",
     "output_type": "stream",
     "text": [
      "[[ 0  1  2  3]\n",
      " [ 4  5  6  7]\n",
      " [ 8  9 10 11]\n",
      " [12 13 14 15]\n",
      " [16 17 18 19]\n",
      " [20 21 22 23]]\n",
      "Rank: 2\n",
      "Size: 24\n"
     ]
    }
   ],
   "source": [
    "g.shape = (6, 4)\n",
    "print(g)\n",
    "print(\"Rank:\", g.ndim)\n",
    "print(\"Size:\", g.size)"
   ]
  },
  {
   "cell_type": "code",
   "execution_count": 29,
   "metadata": {},
   "outputs": [
    {
     "name": "stdout",
     "output_type": "stream",
     "text": [
      "[[[ 0  1  2  3]\n",
      "  [ 4  5  6  7]\n",
      "  [ 8  9 10 11]]\n",
      "\n",
      " [[12 13 14 15]\n",
      "  [16 17 18 19]\n",
      "  [20 21 22 23]]]\n",
      "Rank: 3\n",
      "Size: 24\n"
     ]
    }
   ],
   "source": [
    "g.shape = (2, 3, 4)\n",
    "print(g)\n",
    "print(\"Rank:\", g.ndim)\n",
    "print(\"Size:\", g.size)"
   ]
  },
  {
   "cell_type": "markdown",
   "metadata": {},
   "source": [
    "### reshape\n",
    "The reshape function returns a new array pointing at the **same data**. This means that modifying one array will also modify the other."
   ]
  },
  {
   "cell_type": "code",
   "execution_count": 30,
   "metadata": {},
   "outputs": [
    {
     "name": "stdout",
     "output_type": "stream",
     "text": [
      "[[ 0  1  2  3  4  5]\n",
      " [ 6  7  8  9 10 11]\n",
      " [12 13 14 15 16 17]\n",
      " [18 19 20 21 22 23]]\n",
      "Rank: 2\n"
     ]
    }
   ],
   "source": [
    "g2 = g.reshape(4,6)\n",
    "print(g2)\n",
    "print(\"Rank:\", g2.ndim)"
   ]
  },
  {
   "cell_type": "markdown",
   "metadata": {},
   "source": [
    "Set item at row 1, col 2 to 999"
   ]
  },
  {
   "cell_type": "code",
   "execution_count": 31,
   "metadata": {},
   "outputs": [
    {
     "name": "stdout",
     "output_type": "stream",
     "text": [
      "[[  0   1   2   3   4   5]\n",
      " [  6   7 999   9  10  11]\n",
      " [ 12  13  14  15  16  17]\n",
      " [ 18  19  20  21  22  23]]\n"
     ]
    }
   ],
   "source": [
    "g2[1, 2] = 999\n",
    "print(g2)"
   ]
  },
  {
   "cell_type": "markdown",
   "metadata": {},
   "source": [
    "The corresponding element in g has been modified."
   ]
  },
  {
   "cell_type": "code",
   "execution_count": 32,
   "metadata": {},
   "outputs": [
    {
     "name": "stdout",
     "output_type": "stream",
     "text": [
      "[[[  0   1   2   3]\n",
      "  [  4   5   6   7]\n",
      "  [999   9  10  11]]\n",
      "\n",
      " [[ 12  13  14  15]\n",
      "  [ 16  17  18  19]\n",
      "  [ 20  21  22  23]]]\n"
     ]
    }
   ],
   "source": [
    "print(g)"
   ]
  },
  {
   "cell_type": "markdown",
   "metadata": {},
   "source": [
    "### ravel\n",
    "Finally, the ravel function returns a new one-dimensional array that also points to the same data:"
   ]
  },
  {
   "cell_type": "code",
   "execution_count": 33,
   "metadata": {},
   "outputs": [
    {
     "name": "stdout",
     "output_type": "stream",
     "text": [
      "[  0   1   2   3   4   5   6   7 999   9  10  11  12  13  14  15  16  17\n",
      "  18  19  20  21  22  23]\n"
     ]
    }
   ],
   "source": [
    "g3 = g.ravel()\n",
    "print(g3)"
   ]
  },
  {
   "cell_type": "markdown",
   "metadata": {},
   "source": [
    "## Mathematical functions"
   ]
  },
  {
   "cell_type": "markdown",
   "metadata": {},
   "source": [
    "### Arithmetic operations\n",
    "All the usual arithmetic operators (+, -, /, //, etc.) can be used with array. They apply **elementwise**. Note that the multiplication is **not** a matrix multiplication. We will discuss matrix operations below. The arrays must have the same shape. If they do not, NumPy will apply the **broadcasting rules**."
   ]
  },
  {
   "cell_type": "code",
   "execution_count": 34,
   "metadata": {},
   "outputs": [
    {
     "name": "stdout",
     "output_type": "stream",
     "text": [
      "a + b  = [19 27 35 43]\n",
      "a - b  = [ 9 19 29 39]\n",
      "a * b  = [70 92 96 82]\n",
      "a / b  = [ 2.8         5.75       10.66666667 20.5       ]\n",
      "a // b  = [ 2  5 10 20]\n",
      "a % b  = [4 3 2 1]\n",
      "a ** b = [537824 279841  32768   1681]\n"
     ]
    }
   ],
   "source": [
    "a = np.array([14, 23, 32, 41])\n",
    "b = np.array([5,  4,  3,  2])\n",
    "\n",
    "print(\"a + b  =\", a + b)\n",
    "print(\"a - b  =\", a - b)\n",
    "print(\"a * b  =\", a * b)\n",
    "print(\"a / b  =\", a / b)\n",
    "print(\"a // b  =\", a // b)\n",
    "print(\"a % b  =\", a % b)\n",
    "print(\"a ** b =\", a ** b)"
   ]
  },
  {
   "cell_type": "markdown",
   "metadata": {},
   "source": [
    "### Broadcasting"
   ]
  },
  {
   "cell_type": "markdown",
   "metadata": {},
   "source": [
    "In general, when NumPy expects arrays of the same shape but finds that this is not the case, it applies the so-called *broadcasting* rules:\n",
    "\n",
    "**First rule**: if the arrays do not have the same rank, then a 1 will be prepended to the smaller ranking arrays until their ranks match:"
   ]
  },
  {
   "cell_type": "code",
   "execution_count": 35,
   "metadata": {},
   "outputs": [
    {
     "name": "stdout",
     "output_type": "stream",
     "text": [
      "[[0 1 2]\n",
      " [3 4 5]]\n",
      "[[2 4 6]\n",
      " [5 7 9]]\n"
     ]
    }
   ],
   "source": [
    "h = np.arange(6).reshape(2,3)\n",
    "print(h)\n",
    "\n",
    "h1 = h + [2,3,4]\n",
    "print(h1)"
   ]
  },
  {
   "cell_type": "markdown",
   "metadata": {},
   "source": [
    "**Second rule**: arrays with a 1 along a particular dimension act as if they had the size of the array with the largest shape along that dimension. The value of the array element is repeated along that dimension:"
   ]
  },
  {
   "cell_type": "code",
   "execution_count": 36,
   "metadata": {},
   "outputs": [
    {
     "name": "stdout",
     "output_type": "stream",
     "text": [
      "[[0 1 2]\n",
      " [3 4 5]]\n",
      "[[100 101 102]\n",
      " [203 204 205]]\n"
     ]
    }
   ],
   "source": [
    "k = np.arange(6).reshape(2, 3)\n",
    "print(k)\n",
    "\n",
    "k1 = k + [[100], [200]]\n",
    "print(k1)"
   ]
  },
  {
   "cell_type": "markdown",
   "metadata": {},
   "source": [
    "Thanks to these rules, we can do something like that:"
   ]
  },
  {
   "cell_type": "code",
   "execution_count": 37,
   "metadata": {},
   "outputs": [
    {
     "name": "stdout",
     "output_type": "stream",
     "text": [
      "[[1000 1001 1002]\n",
      " [1003 1004 1005]]\n"
     ]
    }
   ],
   "source": [
    "k2 = k + 1000\n",
    "print(k2)"
   ]
  },
  {
   "cell_type": "markdown",
   "metadata": {},
   "source": [
    "**Third rule**: after rules 1 & 2, the sizes of all arrays must match"
   ]
  },
  {
   "cell_type": "code",
   "execution_count": 38,
   "metadata": {},
   "outputs": [
    {
     "name": "stdout",
     "output_type": "stream",
     "text": [
      "operands could not be broadcast together with shapes (2,3) (2,) \n"
     ]
    }
   ],
   "source": [
    "try:\n",
    "    k3 = k + [33, 44]\n",
    "except ValueError as e:\n",
    "    print(e)"
   ]
  },
  {
   "cell_type": "markdown",
   "metadata": {},
   "source": [
    "### Upcasting\n",
    "When trying to combine arrays with different dtype, NumPy will **upcast** to a type capable of handling all possible values (regardless of what the actual values are)"
   ]
  },
  {
   "cell_type": "code",
   "execution_count": 39,
   "metadata": {},
   "outputs": [
    {
     "name": "stdout",
     "output_type": "stream",
     "text": [
      "uint8 [0 1 2 3 4]\n",
      "int8 [5 6 7 8 9]\n",
      "int16 [ 5  7  9 11 13]\n",
      "float64 [1.5 2.5 3.5 4.5 5.5]\n"
     ]
    }
   ],
   "source": [
    "k1 = np.arange(0, 5, dtype=np.uint8)\n",
    "print(k1.dtype, k1)\n",
    "\n",
    "k2 = np.array([5, 6, 7, 8, 9], dtype=np.int8)\n",
    "print(k2.dtype, k2)\n",
    "\n",
    "k3 = k1 + k2\n",
    "print(k3.dtype, k3)\n",
    "\n",
    "k4 = k1 + 1.5\n",
    "print(k4.dtype, k4)"
   ]
  },
  {
   "cell_type": "markdown",
   "metadata": {},
   "source": [
    "### Conditional operators\n",
    "The conditional operators also apply elementwise and using broadcasting"
   ]
  },
  {
   "cell_type": "code",
   "execution_count": 40,
   "metadata": {},
   "outputs": [
    {
     "data": {
      "text/plain": [
       "array([False,  True,  True, False])"
      ]
     },
     "execution_count": 40,
     "metadata": {},
     "output_type": "execute_result"
    }
   ],
   "source": [
    "m = np.array([20, -5, 30, 40])\n",
    "m < [15, 16, 35, 36]"
   ]
  },
  {
   "cell_type": "code",
   "execution_count": 41,
   "metadata": {},
   "outputs": [
    {
     "data": {
      "text/plain": [
       "array([ True,  True, False, False])"
      ]
     },
     "execution_count": 41,
     "metadata": {},
     "output_type": "execute_result"
    }
   ],
   "source": [
    "m < 25"
   ]
  },
  {
   "cell_type": "markdown",
   "metadata": {},
   "source": [
    "### Statistical methods\n",
    "Some functions are simply array methods:"
   ]
  },
  {
   "cell_type": "code",
   "execution_count": 42,
   "metadata": {},
   "outputs": [
    {
     "name": "stdout",
     "output_type": "stream",
     "text": [
      "[[-2.5  3.1  7. ]\n",
      " [10.  11.  12. ]]\n",
      "mean = 6.766666666666667\n",
      "min = -2.5\n",
      "max = 12.0\n",
      "sum = 40.6\n",
      "prod = -71610.0\n",
      "std = 5.084835843520964\n",
      "var = 25.855555555555554\n"
     ]
    }
   ],
   "source": [
    "a = np.array([[-2.5, 3.1, 7], [10, 11, 12]])\n",
    "print(a)\n",
    "print(\"mean =\", a.mean())\n",
    "print(\"min =\", a.min())\n",
    "print(\"max =\", a.max())\n",
    "print(\"sum =\", a.sum())\n",
    "print(\"prod =\", a.prod())\n",
    "print(\"std =\", a.std())\n",
    "print(\"var =\", a.var())"
   ]
  },
  {
   "cell_type": "markdown",
   "metadata": {},
   "source": [
    "These functions accept an optional argument **axis** which lets you ask for the operation to be performed on elements along the given axis"
   ]
  },
  {
   "cell_type": "code",
   "execution_count": 43,
   "metadata": {},
   "outputs": [
    {
     "name": "stdout",
     "output_type": "stream",
     "text": [
      "[[0 1 2]\n",
      " [3 4 5]]\n",
      "(2, 3)\n",
      "sum across rows\n",
      " [3 5 7]\n",
      "sum across columns\n",
      " [ 3 12]\n"
     ]
    }
   ],
   "source": [
    "c = np.arange(6).reshape(2,3)\n",
    "print(c)\n",
    "print(c.shape)\n",
    "\n",
    "print('sum across rows\\n', c.sum(axis=0))\n",
    "print('sum across columns\\n', c.sum(axis=1))"
   ]
  },
  {
   "cell_type": "markdown",
   "metadata": {},
   "source": [
    "### Universal functions\n",
    "NumPy also provides fast elementwise functions called **universal functions**, or **ufunc**. They are vectorized wrappers of simple functions. For example square returns a new array which is a copy of the original array except that each element is squared"
   ]
  },
  {
   "cell_type": "code",
   "execution_count": 44,
   "metadata": {},
   "outputs": [
    {
     "name": "stdout",
     "output_type": "stream",
     "text": [
      "Original ndarray\n",
      "[[-2.5  3.1  7. ]\n",
      " [10.  11.  12. ]]\n",
      "\n",
      " square\n",
      "[[  6.25   9.61  49.  ]\n",
      " [100.   121.   144.  ]]\n",
      "\n",
      " absolute\n",
      "[[ 2.5  3.1  7. ]\n",
      " [10.  11.  12. ]]\n",
      "\n",
      " sqrt\n",
      "[[       nan 1.76068169 2.64575131]\n",
      " [3.16227766 3.31662479 3.46410162]]\n",
      "\n",
      " exp\n",
      "[[8.20849986e-02 2.21979513e+01 1.09663316e+03]\n",
      " [2.20264658e+04 5.98741417e+04 1.62754791e+05]]\n",
      "\n",
      " log\n",
      "[[       nan 1.13140211 1.94591015]\n",
      " [2.30258509 2.39789527 2.48490665]]\n",
      "\n",
      " sign\n",
      "[[-1.  1.  1.]\n",
      " [ 1.  1.  1.]]\n",
      "\n",
      " ceil\n",
      "[[-2.  4.  7.]\n",
      " [10. 11. 12.]]\n",
      "\n",
      " modf\n",
      "(array([[-0.5,  0.1,  0. ],\n",
      "       [ 0. ,  0. ,  0. ]]), array([[-2.,  3.,  7.],\n",
      "       [10., 11., 12.]]))\n",
      "\n",
      " isnan\n",
      "[[False False False]\n",
      " [False False False]]\n",
      "\n",
      " cos\n",
      "[[-0.80114362 -0.99913515  0.75390225]\n",
      " [-0.83907153  0.0044257   0.84385396]]\n"
     ]
    },
    {
     "name": "stderr",
     "output_type": "stream",
     "text": [
      "<ipython-input-44-ed281e380009>:7: RuntimeWarning: invalid value encountered in sqrt\n",
      "  print(func(a))\n",
      "<ipython-input-44-ed281e380009>:7: RuntimeWarning: invalid value encountered in log\n",
      "  print(func(a))\n"
     ]
    }
   ],
   "source": [
    "a = np.array([[-2.5, 3.1, 7], [10, 11, 12]])\n",
    "print(\"Original ndarray\")\n",
    "print(a)\n",
    "\n",
    "for func in (np.square, np.abs, np.sqrt, np.exp, np.log, np.sign, np.ceil, np.modf, np.isnan, np.cos):\n",
    "    print(\"\\n\", func.__name__)\n",
    "    print(func(a))"
   ]
  },
  {
   "cell_type": "markdown",
   "metadata": {},
   "source": [
    "### Binary ufuncs\n",
    "There are also many binary ufuncs, that apply elementwise on two arrays, broadcasting rules are applied if the arrays do not have the same shape"
   ]
  },
  {
   "cell_type": "code",
   "execution_count": 45,
   "metadata": {},
   "outputs": [
    {
     "data": {
      "text/plain": [
       "array([ 3,  6,  2, 11])"
      ]
     },
     "execution_count": 45,
     "metadata": {},
     "output_type": "execute_result"
    }
   ],
   "source": [
    "a = np.array([1, -2, 3, 4])\n",
    "b = np.array([2, 8, -1, 7])\n",
    "np.add(a, b)"
   ]
  },
  {
   "cell_type": "code",
   "execution_count": 46,
   "metadata": {},
   "outputs": [
    {
     "data": {
      "text/plain": [
       "array([False, False,  True, False])"
      ]
     },
     "execution_count": 46,
     "metadata": {},
     "output_type": "execute_result"
    }
   ],
   "source": [
    "np.greater(a, b)"
   ]
  },
  {
   "cell_type": "code",
   "execution_count": 47,
   "metadata": {},
   "outputs": [
    {
     "data": {
      "text/plain": [
       "array([2, 8, 3, 7])"
      ]
     },
     "execution_count": 47,
     "metadata": {},
     "output_type": "execute_result"
    }
   ],
   "source": [
    "np.maximum(a, b)"
   ]
  },
  {
   "cell_type": "code",
   "execution_count": 48,
   "metadata": {},
   "outputs": [
    {
     "data": {
      "text/plain": [
       "array([ 1.,  2., -3.,  4.])"
      ]
     },
     "execution_count": 48,
     "metadata": {},
     "output_type": "execute_result"
    }
   ],
   "source": [
    "np.copysign(a, b)"
   ]
  },
  {
   "cell_type": "markdown",
   "metadata": {},
   "source": [
    "## Array indexing"
   ]
  },
  {
   "cell_type": "markdown",
   "metadata": {},
   "source": [
    "### One-dimensional arrays\n",
    "One-dimensional NumPy arrays can be accessed more or less like regular python arrays"
   ]
  },
  {
   "cell_type": "code",
   "execution_count": 49,
   "metadata": {},
   "outputs": [
    {
     "data": {
      "text/plain": [
       "19"
      ]
     },
     "execution_count": 49,
     "metadata": {},
     "output_type": "execute_result"
    }
   ],
   "source": [
    "a = np.array([1, 5, 3, 19, 13, 7, 3])\n",
    "a[3]"
   ]
  },
  {
   "cell_type": "code",
   "execution_count": 50,
   "metadata": {},
   "outputs": [
    {
     "data": {
      "text/plain": [
       "array([ 3, 19, 13])"
      ]
     },
     "execution_count": 50,
     "metadata": {},
     "output_type": "execute_result"
    }
   ],
   "source": [
    "a[2:5]"
   ]
  },
  {
   "cell_type": "code",
   "execution_count": 51,
   "metadata": {},
   "outputs": [
    {
     "data": {
      "text/plain": [
       "array([ 3, 19, 13,  7])"
      ]
     },
     "execution_count": 51,
     "metadata": {},
     "output_type": "execute_result"
    }
   ],
   "source": [
    "a[2:-1]"
   ]
  },
  {
   "cell_type": "code",
   "execution_count": 52,
   "metadata": {},
   "outputs": [
    {
     "data": {
      "text/plain": [
       "array([1, 5])"
      ]
     },
     "execution_count": 52,
     "metadata": {},
     "output_type": "execute_result"
    }
   ],
   "source": [
    "a[:2]"
   ]
  },
  {
   "cell_type": "code",
   "execution_count": 53,
   "metadata": {},
   "outputs": [
    {
     "data": {
      "text/plain": [
       "array([ 3, 13,  3])"
      ]
     },
     "execution_count": 53,
     "metadata": {},
     "output_type": "execute_result"
    }
   ],
   "source": [
    "a[2::2]"
   ]
  },
  {
   "cell_type": "code",
   "execution_count": 54,
   "metadata": {},
   "outputs": [
    {
     "data": {
      "text/plain": [
       "array([ 3,  7, 13, 19,  3,  5,  1])"
      ]
     },
     "execution_count": 54,
     "metadata": {},
     "output_type": "execute_result"
    }
   ],
   "source": [
    "a[::-1]"
   ]
  },
  {
   "cell_type": "markdown",
   "metadata": {},
   "source": [
    "Of course, we can modify elements or slices:"
   ]
  },
  {
   "cell_type": "code",
   "execution_count": 55,
   "metadata": {},
   "outputs": [
    {
     "data": {
      "text/plain": [
       "array([  1,   5,   3, 999,  13,   7,   3])"
      ]
     },
     "execution_count": 55,
     "metadata": {},
     "output_type": "execute_result"
    }
   ],
   "source": [
    "a[3]=999\n",
    "a"
   ]
  },
  {
   "cell_type": "code",
   "execution_count": 56,
   "metadata": {},
   "outputs": [
    {
     "data": {
      "text/plain": [
       "array([  1,   5, 997, 998, 999,   7,   3])"
      ]
     },
     "execution_count": 56,
     "metadata": {},
     "output_type": "execute_result"
    }
   ],
   "source": [
    "a[2:5] = [997, 998, 999]\n",
    "a"
   ]
  },
  {
   "cell_type": "markdown",
   "metadata": {},
   "source": [
    "If we assign a single value to a slice, it is copied across the whole slice, thanks to broadcasting rules"
   ]
  },
  {
   "cell_type": "code",
   "execution_count": 57,
   "metadata": {},
   "outputs": [
    {
     "data": {
      "text/plain": [
       "array([ 1,  5, -1, -1, -1,  7,  3])"
      ]
     },
     "execution_count": 57,
     "metadata": {},
     "output_type": "execute_result"
    }
   ],
   "source": [
    "a[2:5] = -1\n",
    "a"
   ]
  },
  {
   "cell_type": "markdown",
   "metadata": {},
   "source": [
    "**Slices are actually views** on the same data buffer. This means that if you create a slice and modify it, you are actually going to modify the original array as well"
   ]
  },
  {
   "cell_type": "code",
   "execution_count": 58,
   "metadata": {},
   "outputs": [
    {
     "name": "stdout",
     "output_type": "stream",
     "text": [
      "[   1    5   -1 1000   -1    7    3]\n"
     ]
    }
   ],
   "source": [
    "a_slice = a[2:6]\n",
    "a_slice[1] = 1000\n",
    "print(a)"
   ]
  },
  {
   "cell_type": "code",
   "execution_count": 59,
   "metadata": {},
   "outputs": [
    {
     "name": "stdout",
     "output_type": "stream",
     "text": [
      "[  -1 2000   -1    7]\n"
     ]
    }
   ],
   "source": [
    "a[3] = 2000\n",
    "print(a_slice) "
   ]
  },
  {
   "cell_type": "markdown",
   "metadata": {},
   "source": [
    "If you want a copy of the data, you need to use the **copy** method:"
   ]
  },
  {
   "cell_type": "code",
   "execution_count": 60,
   "metadata": {},
   "outputs": [
    {
     "name": "stdout",
     "output_type": "stream",
     "text": [
      "[   1    5   -1 2000   -1    7    3]\n"
     ]
    }
   ],
   "source": [
    "another_slice = a[2:6].copy()\n",
    "another_slice[1] = 3000\n",
    "print(a)"
   ]
  },
  {
   "cell_type": "code",
   "execution_count": 61,
   "metadata": {},
   "outputs": [
    {
     "name": "stdout",
     "output_type": "stream",
     "text": [
      "[  -1 3000   -1    7]\n"
     ]
    }
   ],
   "source": [
    "a[3] = 4000\n",
    "print(another_slice)"
   ]
  },
  {
   "cell_type": "markdown",
   "metadata": {},
   "source": [
    "### Multi-dimensional arrays\n",
    "Multi-dimensional arrays can be accessed in a similar way by providing an index or slice for each axis, separated by commas"
   ]
  },
  {
   "cell_type": "code",
   "execution_count": 62,
   "metadata": {},
   "outputs": [
    {
     "name": "stdout",
     "output_type": "stream",
     "text": [
      "[[ 0  1  2  3  4  5  6  7  8  9 10 11]\n",
      " [12 13 14 15 16 17 18 19 20 21 22 23]\n",
      " [24 25 26 27 28 29 30 31 32 33 34 35]\n",
      " [36 37 38 39 40 41 42 43 44 45 46 47]]\n"
     ]
    }
   ],
   "source": [
    "b = np.arange(48).reshape(4, 12)\n",
    "print(b)"
   ]
  },
  {
   "cell_type": "code",
   "execution_count": 63,
   "metadata": {},
   "outputs": [
    {
     "data": {
      "text/plain": [
       "14"
      ]
     },
     "execution_count": 63,
     "metadata": {},
     "output_type": "execute_result"
    }
   ],
   "source": [
    "b[1, 2]  # row 1, col 2"
   ]
  },
  {
   "cell_type": "code",
   "execution_count": 64,
   "metadata": {},
   "outputs": [
    {
     "data": {
      "text/plain": [
       "array([12, 13, 14, 15, 16, 17, 18, 19, 20, 21, 22, 23])"
      ]
     },
     "execution_count": 64,
     "metadata": {},
     "output_type": "execute_result"
    }
   ],
   "source": [
    "b[1, :]  # row 1, all columns"
   ]
  },
  {
   "cell_type": "code",
   "execution_count": 65,
   "metadata": {},
   "outputs": [
    {
     "data": {
      "text/plain": [
       "array([ 1, 13, 25, 37])"
      ]
     },
     "execution_count": 65,
     "metadata": {},
     "output_type": "execute_result"
    }
   ],
   "source": [
    "b[:, 1]  # all rows, column 1"
   ]
  },
  {
   "cell_type": "markdown",
   "metadata": {},
   "source": [
    "Caution, note the subtle difference between these two expressions "
   ]
  },
  {
   "cell_type": "code",
   "execution_count": 66,
   "metadata": {},
   "outputs": [
    {
     "name": "stdout",
     "output_type": "stream",
     "text": [
      "[12 13 14 15 16 17 18 19 20 21 22 23]\n",
      "[[12 13 14 15 16 17 18 19 20 21 22 23]]\n"
     ]
    }
   ],
   "source": [
    "print(b[1, :])\n",
    "print(b[1:2, :])"
   ]
  },
  {
   "cell_type": "markdown",
   "metadata": {},
   "source": [
    "The first expression returns row 1 as a 1D array of shape (12,), while the second returns that same row as a 2D array of shape (1, 12)"
   ]
  },
  {
   "cell_type": "markdown",
   "metadata": {},
   "source": [
    "You may also specify a list of indices that you are interested in. This is referred to as **fancy indexing**"
   ]
  },
  {
   "cell_type": "code",
   "execution_count": 67,
   "metadata": {},
   "outputs": [
    {
     "data": {
      "text/plain": [
       "array([[ 2,  3,  4],\n",
       "       [26, 27, 28]])"
      ]
     },
     "execution_count": 67,
     "metadata": {},
     "output_type": "execute_result"
    }
   ],
   "source": [
    "b[(0,2), 2:5]  # rows 0 and 2, columns 2 to 4 (5-1)"
   ]
  },
  {
   "cell_type": "code",
   "execution_count": 68,
   "metadata": {},
   "outputs": [
    {
     "data": {
      "text/plain": [
       "array([[11,  2, 11],\n",
       "       [23, 14, 23],\n",
       "       [35, 26, 35],\n",
       "       [47, 38, 47]])"
      ]
     },
     "execution_count": 68,
     "metadata": {},
     "output_type": "execute_result"
    }
   ],
   "source": [
    "b[:, (-1, 2, -1)]  # all rows, columns -1 (last), 2 and -1"
   ]
  },
  {
   "cell_type": "markdown",
   "metadata": {},
   "source": [
    "If you provide multiple index arrays, you get a 1D array containing the values of the elements at the specified coordinates"
   ]
  },
  {
   "cell_type": "code",
   "execution_count": 69,
   "metadata": {},
   "outputs": [
    {
     "data": {
      "text/plain": [
       "array([41, 33, 37, 33])"
      ]
     },
     "execution_count": 69,
     "metadata": {},
     "output_type": "execute_result"
    }
   ],
   "source": [
    "b[(-1, 2, -1, 2), (5, 9, 1, 9)]  # returns a 1D array with b[-1, 5], b[2, 9], b[-1, 1] and b[2, 9]"
   ]
  },
  {
   "cell_type": "markdown",
   "metadata": {},
   "source": [
    "### Higher dimensions\n",
    "Everything works just as well with higher dimensional arrays"
   ]
  },
  {
   "cell_type": "code",
   "execution_count": 70,
   "metadata": {},
   "outputs": [
    {
     "name": "stdout",
     "output_type": "stream",
     "text": [
      "[[[ 0  1  2  3  4  5]\n",
      "  [ 6  7  8  9 10 11]]\n",
      "\n",
      " [[12 13 14 15 16 17]\n",
      "  [18 19 20 21 22 23]]\n",
      "\n",
      " [[24 25 26 27 28 29]\n",
      "  [30 31 32 33 34 35]]\n",
      "\n",
      " [[36 37 38 39 40 41]\n",
      "  [42 43 44 45 46 47]]]\n"
     ]
    }
   ],
   "source": [
    "c = b.reshape(4,2,6)\n",
    "print(c)"
   ]
  },
  {
   "cell_type": "code",
   "execution_count": 71,
   "metadata": {},
   "outputs": [
    {
     "data": {
      "text/plain": [
       "34"
      ]
     },
     "execution_count": 71,
     "metadata": {},
     "output_type": "execute_result"
    }
   ],
   "source": [
    "c[2, 1, 4]  # matrix 2, row 1, col 4"
   ]
  },
  {
   "cell_type": "code",
   "execution_count": 72,
   "metadata": {},
   "outputs": [
    {
     "data": {
      "text/plain": [
       "array([27, 33])"
      ]
     },
     "execution_count": 72,
     "metadata": {},
     "output_type": "execute_result"
    }
   ],
   "source": [
    "c[2, :, 3]  # matrix 2, all rows, col 3"
   ]
  },
  {
   "cell_type": "markdown",
   "metadata": {},
   "source": [
    "If you omit coordinates for some axes, then all elements in these axes are returned:"
   ]
  },
  {
   "cell_type": "code",
   "execution_count": 73,
   "metadata": {},
   "outputs": [
    {
     "data": {
      "text/plain": [
       "array([30, 31, 32, 33, 34, 35])"
      ]
     },
     "execution_count": 73,
     "metadata": {},
     "output_type": "execute_result"
    }
   ],
   "source": [
    "c[2, 1]  # Return matrix 2, row 1, all columns.  This is equivalent to c[2, 1, :]"
   ]
  },
  {
   "cell_type": "markdown",
   "metadata": {},
   "source": [
    "You may also write an ellipsis (...) to ask that all non-specified axes be entirely included"
   ]
  },
  {
   "cell_type": "code",
   "execution_count": 74,
   "metadata": {},
   "outputs": [
    {
     "data": {
      "text/plain": [
       "array([[24, 25, 26, 27, 28, 29],\n",
       "       [30, 31, 32, 33, 34, 35]])"
      ]
     },
     "execution_count": 74,
     "metadata": {},
     "output_type": "execute_result"
    }
   ],
   "source": [
    "c[2, ...]  #  matrix 2, all rows, all columns.  This is equivalent to c[2, :, :]"
   ]
  },
  {
   "cell_type": "code",
   "execution_count": 75,
   "metadata": {},
   "outputs": [
    {
     "data": {
      "text/plain": [
       "array([30, 31, 32, 33, 34, 35])"
      ]
     },
     "execution_count": 75,
     "metadata": {},
     "output_type": "execute_result"
    }
   ],
   "source": [
    "c[2, 1, ...]  # matrix 2, row 1, all columns.  This is equivalent to c[2, 1, :]"
   ]
  },
  {
   "cell_type": "code",
   "execution_count": 76,
   "metadata": {},
   "outputs": [
    {
     "data": {
      "text/plain": [
       "array([27, 33])"
      ]
     },
     "execution_count": 76,
     "metadata": {},
     "output_type": "execute_result"
    }
   ],
   "source": [
    "c[2, ..., 3]  # matrix 2, all rows, column 3.  This is equivalent to c[2, :, 3]"
   ]
  },
  {
   "cell_type": "code",
   "execution_count": 77,
   "metadata": {},
   "outputs": [
    {
     "data": {
      "text/plain": [
       "array([[ 3,  9],\n",
       "       [15, 21],\n",
       "       [27, 33],\n",
       "       [39, 45]])"
      ]
     },
     "execution_count": 77,
     "metadata": {},
     "output_type": "execute_result"
    }
   ],
   "source": [
    "c[..., 3]  # all matrices, all rows, column 3.  This is equivalent to c[:, :, 3]"
   ]
  },
  {
   "cell_type": "markdown",
   "metadata": {},
   "source": [
    "### Boolean indexing\n",
    "You can also provide an array of boolean values on one axis to specify the indices that you want to access."
   ]
  },
  {
   "cell_type": "code",
   "execution_count": 78,
   "metadata": {},
   "outputs": [
    {
     "name": "stdout",
     "output_type": "stream",
     "text": [
      "[[ 0  1  2  3  4  5  6  7  8  9 10 11]\n",
      " [12 13 14 15 16 17 18 19 20 21 22 23]\n",
      " [24 25 26 27 28 29 30 31 32 33 34 35]\n",
      " [36 37 38 39 40 41 42 43 44 45 46 47]]\n",
      "[[ 0  1  2  3  4  5  6  7  8  9 10 11]\n",
      " [24 25 26 27 28 29 30 31 32 33 34 35]]\n",
      "[[ 1  4  7 10]\n",
      " [13 16 19 22]\n",
      " [25 28 31 34]\n",
      " [37 40 43 46]]\n"
     ]
    }
   ],
   "source": [
    "b = np.arange(48).reshape(4, 12)\n",
    "print(b)\n",
    "\n",
    "rows_on = np.array([True, False, True, False])\n",
    "print(b[rows_on, :])  # Rows 0 and 2, all columns. Equivalent to b[(0, 2), :]\n",
    "\n",
    "cols_on = np.array([False, True, False] * 4)\n",
    "print(b[:, cols_on])  # All rows, columns 1, 4, 7 and 10"
   ]
  },
  {
   "cell_type": "markdown",
   "metadata": {},
   "source": [
    "You cannot use boolean indexing on multiple axes, but you can work around this by using the **ix_** function"
   ]
  },
  {
   "cell_type": "code",
   "execution_count": 79,
   "metadata": {},
   "outputs": [
    {
     "name": "stdout",
     "output_type": "stream",
     "text": [
      "[[ 1  4  7 10]\n",
      " [25 28 31 34]]\n"
     ]
    }
   ],
   "source": [
    "print(b[np.ix_(rows_on, cols_on)])"
   ]
  },
  {
   "cell_type": "markdown",
   "metadata": {},
   "source": [
    "## Iterating\n",
    "Iterating over multidimensional arrays is done with respect to the first axis"
   ]
  },
  {
   "cell_type": "code",
   "execution_count": 80,
   "metadata": {},
   "outputs": [
    {
     "name": "stdout",
     "output_type": "stream",
     "text": [
      "Item:\n",
      "[[ 0  1  2  3]\n",
      " [ 4  5  6  7]\n",
      " [ 8  9 10 11]]\n",
      "Item:\n",
      "[[12 13 14 15]\n",
      " [16 17 18 19]\n",
      " [20 21 22 23]]\n"
     ]
    }
   ],
   "source": [
    "c = np.arange(24).reshape(2, 3, 4)  # A 3D array (composed of two 3x4 matrices)\n",
    "for m in c:\n",
    "    print(\"Item:\")\n",
    "    print(m)"
   ]
  },
  {
   "cell_type": "markdown",
   "metadata": {},
   "source": [
    "If you want to iterate on all elements, simply iterate over the **flat** attribute:"
   ]
  },
  {
   "cell_type": "code",
   "execution_count": 81,
   "metadata": {},
   "outputs": [
    {
     "name": "stdout",
     "output_type": "stream",
     "text": [
      "Item: 0\n",
      "Item: 1\n",
      "Item: 2\n",
      "Item: 3\n",
      "Item: 4\n",
      "Item: 5\n",
      "Item: 6\n",
      "Item: 7\n",
      "Item: 8\n",
      "Item: 9\n",
      "Item: 10\n",
      "Item: 11\n",
      "Item: 12\n",
      "Item: 13\n",
      "Item: 14\n",
      "Item: 15\n",
      "Item: 16\n",
      "Item: 17\n",
      "Item: 18\n",
      "Item: 19\n",
      "Item: 20\n",
      "Item: 21\n",
      "Item: 22\n",
      "Item: 23\n"
     ]
    }
   ],
   "source": [
    "for i in c.flat:\n",
    "    print(\"Item:\", i)"
   ]
  },
  {
   "cell_type": "markdown",
   "metadata": {},
   "source": [
    "## Stacking arrays\n",
    "It is often useful to stack together different arrays."
   ]
  },
  {
   "cell_type": "code",
   "execution_count": 82,
   "metadata": {},
   "outputs": [],
   "source": [
    "q1 = np.full((3,4), 1.0)\n",
    "q2 = np.full((4,4), 2.0)\n",
    "q3 = np.full((3,4), 3.0)\n",
    "q4 = np.full((3,5), 4.0)"
   ]
  },
  {
   "cell_type": "markdown",
   "metadata": {},
   "source": [
    "### vstack\n",
    "Now let's stack them vertically"
   ]
  },
  {
   "cell_type": "code",
   "execution_count": 83,
   "metadata": {},
   "outputs": [
    {
     "name": "stdout",
     "output_type": "stream",
     "text": [
      "[[1. 1. 1. 1.]\n",
      " [1. 1. 1. 1.]\n",
      " [1. 1. 1. 1.]\n",
      " [2. 2. 2. 2.]\n",
      " [2. 2. 2. 2.]\n",
      " [2. 2. 2. 2.]\n",
      " [2. 2. 2. 2.]\n",
      " [3. 3. 3. 3.]\n",
      " [3. 3. 3. 3.]\n",
      " [3. 3. 3. 3.]]\n",
      "(10, 4)\n"
     ]
    }
   ],
   "source": [
    "q5 = np.vstack((q1, q2, q3))\n",
    "print(q5)\n",
    "print(q5.shape)"
   ]
  },
  {
   "cell_type": "markdown",
   "metadata": {},
   "source": [
    "### hstack\n",
    "We can also stack arrays horizontally"
   ]
  },
  {
   "cell_type": "code",
   "execution_count": 84,
   "metadata": {},
   "outputs": [
    {
     "name": "stdout",
     "output_type": "stream",
     "text": [
      "[[1. 1. 1. 1. 3. 3. 3. 3. 4. 4. 4. 4. 4.]\n",
      " [1. 1. 1. 1. 3. 3. 3. 3. 4. 4. 4. 4. 4.]\n",
      " [1. 1. 1. 1. 3. 3. 3. 3. 4. 4. 4. 4. 4.]]\n",
      "(3, 13)\n"
     ]
    }
   ],
   "source": [
    "q6 = np.hstack((q1, q3, q4))\n",
    "print(q6)\n",
    "print(q6.shape)"
   ]
  },
  {
   "cell_type": "code",
   "execution_count": 85,
   "metadata": {},
   "outputs": [
    {
     "name": "stdout",
     "output_type": "stream",
     "text": [
      "all the input array dimensions for the concatenation axis must match exactly, but along dimension 1, the array at index 0 has size 4 and the array at index 3 has size 5\n",
      "all the input array dimensions for the concatenation axis must match exactly, but along dimension 0, the array at index 0 has size 3 and the array at index 1 has size 4\n"
     ]
    }
   ],
   "source": [
    "try:\n",
    "    q7 = np.vstack((q1, q2, q3, q4))\n",
    "except ValueError as e:\n",
    "    print(e)\n",
    "    \n",
    "try:\n",
    "    q8 = np.hstack((q1, q2, q3, q4))\n",
    "except ValueError as e:\n",
    "    print(e)"
   ]
  },
  {
   "cell_type": "markdown",
   "metadata": {},
   "source": [
    "### concatenate\n",
    "The concatenate function stacks arrays along any given existing axis."
   ]
  },
  {
   "cell_type": "code",
   "execution_count": 86,
   "metadata": {},
   "outputs": [
    {
     "name": "stdout",
     "output_type": "stream",
     "text": [
      "[[1. 1. 1. 1.]\n",
      " [1. 1. 1. 1.]\n",
      " [1. 1. 1. 1.]\n",
      " [2. 2. 2. 2.]\n",
      " [2. 2. 2. 2.]\n",
      " [2. 2. 2. 2.]\n",
      " [2. 2. 2. 2.]\n",
      " [3. 3. 3. 3.]\n",
      " [3. 3. 3. 3.]\n",
      " [3. 3. 3. 3.]]\n",
      "[[1. 1. 1. 1. 3. 3. 3. 3. 4. 4. 4. 4. 4.]\n",
      " [1. 1. 1. 1. 3. 3. 3. 3. 4. 4. 4. 4. 4.]\n",
      " [1. 1. 1. 1. 3. 3. 3. 3. 4. 4. 4. 4. 4.]]\n"
     ]
    }
   ],
   "source": [
    "q9 = np.concatenate((q1, q2, q3), axis=0)  # Equivalent to vstack\n",
    "print(q9)\n",
    "\n",
    "q10 = np.concatenate((q1, q3, q4), axis=1)  # Equivalent to hstack\n",
    "print(q10)"
   ]
  },
  {
   "cell_type": "markdown",
   "metadata": {},
   "source": [
    "### stack\n",
    "The stack function stacks arrays along a new axis. All arrays have to have the same shape."
   ]
  },
  {
   "cell_type": "code",
   "execution_count": 87,
   "metadata": {},
   "outputs": [
    {
     "name": "stdout",
     "output_type": "stream",
     "text": [
      "[[[1. 1. 1. 1.]\n",
      "  [1. 1. 1. 1.]\n",
      "  [1. 1. 1. 1.]]\n",
      "\n",
      " [[3. 3. 3. 3.]\n",
      "  [3. 3. 3. 3.]\n",
      "  [3. 3. 3. 3.]]]\n",
      "(2, 3, 4)\n"
     ]
    }
   ],
   "source": [
    "q11 = np.stack((q1, q3))\n",
    "print(q11)\n",
    "print(q11.shape)"
   ]
  },
  {
   "cell_type": "markdown",
   "metadata": {},
   "source": [
    "## Splitting arrays\n",
    "Splitting is the opposite of stacking."
   ]
  },
  {
   "cell_type": "markdown",
   "metadata": {},
   "source": [
    "### vsplit"
   ]
  },
  {
   "cell_type": "code",
   "execution_count": 88,
   "metadata": {},
   "outputs": [
    {
     "name": "stdout",
     "output_type": "stream",
     "text": [
      "[[ 0  1  2  3]\n",
      " [ 4  5  6  7]\n",
      " [ 8  9 10 11]\n",
      " [12 13 14 15]\n",
      " [16 17 18 19]\n",
      " [20 21 22 23]]\n"
     ]
    }
   ],
   "source": [
    "r = np.arange(24).reshape(6,4)\n",
    "print(r)"
   ]
  },
  {
   "cell_type": "code",
   "execution_count": 89,
   "metadata": {},
   "outputs": [
    {
     "name": "stdout",
     "output_type": "stream",
     "text": [
      "[[0 1 2 3]\n",
      " [4 5 6 7]]\n",
      "[[ 8  9 10 11]\n",
      " [12 13 14 15]]\n",
      "[[16 17 18 19]\n",
      " [20 21 22 23]]\n"
     ]
    }
   ],
   "source": [
    "r1, r2, r3 = np.vsplit(r, 3)\n",
    "print(r1)\n",
    "print(r2)\n",
    "print(r3)"
   ]
  },
  {
   "cell_type": "markdown",
   "metadata": {},
   "source": [
    "### hsplit"
   ]
  },
  {
   "cell_type": "code",
   "execution_count": 90,
   "metadata": {},
   "outputs": [
    {
     "name": "stdout",
     "output_type": "stream",
     "text": [
      "[[ 0  1]\n",
      " [ 4  5]\n",
      " [ 8  9]\n",
      " [12 13]\n",
      " [16 17]\n",
      " [20 21]]\n",
      "[[ 2  3]\n",
      " [ 6  7]\n",
      " [10 11]\n",
      " [14 15]\n",
      " [18 19]\n",
      " [22 23]]\n"
     ]
    }
   ],
   "source": [
    "r4, r5 = np.hsplit(r, 2)\n",
    "print(r4)\n",
    "print(r5)"
   ]
  },
  {
   "cell_type": "markdown",
   "metadata": {},
   "source": [
    "### split"
   ]
  },
  {
   "cell_type": "code",
   "execution_count": 91,
   "metadata": {},
   "outputs": [
    {
     "name": "stdout",
     "output_type": "stream",
     "text": [
      "[[0 1 2 3]\n",
      " [4 5 6 7]]\n",
      "[[ 8  9 10 11]\n",
      " [12 13 14 15]]\n",
      "[[16 17 18 19]\n",
      " [20 21 22 23]]\n",
      "[[ 0  1]\n",
      " [ 4  5]\n",
      " [ 8  9]\n",
      " [12 13]\n",
      " [16 17]\n",
      " [20 21]]\n",
      "[[ 2  3]\n",
      " [ 6  7]\n",
      " [10 11]\n",
      " [14 15]\n",
      " [18 19]\n",
      " [22 23]]\n"
     ]
    }
   ],
   "source": [
    "r6, r7, r8 = np.split(r, 3, axis=0)  # Equivalent to vsplit\n",
    "print(r6)\n",
    "print(r7)\n",
    "print(r8)\n",
    "\n",
    "r9, r10 = np.split(r, 2, axis=1)  # Equivalent to hsplit\n",
    "print(r9)\n",
    "print(r10)"
   ]
  },
  {
   "cell_type": "markdown",
   "metadata": {},
   "source": [
    "## Transposing arrays\n",
    "The transpose method creates a new view on an array data, with axes permuted in the given order."
   ]
  },
  {
   "cell_type": "code",
   "execution_count": 92,
   "metadata": {},
   "outputs": [
    {
     "name": "stdout",
     "output_type": "stream",
     "text": [
      "[[[ 0  1  2]\n",
      "  [ 3  4  5]]\n",
      "\n",
      " [[ 6  7  8]\n",
      "  [ 9 10 11]]\n",
      "\n",
      " [[12 13 14]\n",
      "  [15 16 17]]\n",
      "\n",
      " [[18 19 20]\n",
      "  [21 22 23]]]\n",
      "(4, 2, 3)\n",
      "[[[ 0  6 12 18]\n",
      "  [ 1  7 13 19]\n",
      "  [ 2  8 14 20]]\n",
      "\n",
      " [[ 3  9 15 21]\n",
      "  [ 4 10 16 22]\n",
      "  [ 5 11 17 23]]]\n",
      "(2, 3, 4)\n"
     ]
    }
   ],
   "source": [
    "t = np.arange(24).reshape(4,2,3)\n",
    "print(t)\n",
    "print(t.shape)\n",
    "\n",
    "t1 = t.transpose((1,2,0)) # axes 0, 1, 2 (depth, height, width) are re-ordered to 1, 2, 0\n",
    "print(t1)\n",
    "print(t1.shape)"
   ]
  },
  {
   "cell_type": "markdown",
   "metadata": {},
   "source": [
    "By default, transpose reverses the order of the dimensions"
   ]
  },
  {
   "cell_type": "code",
   "execution_count": 93,
   "metadata": {},
   "outputs": [
    {
     "name": "stdout",
     "output_type": "stream",
     "text": [
      "[[[ 0  6 12 18]\n",
      "  [ 3  9 15 21]]\n",
      "\n",
      " [[ 1  7 13 19]\n",
      "  [ 4 10 16 22]]\n",
      "\n",
      " [[ 2  8 14 20]\n",
      "  [ 5 11 17 23]]]\n",
      "(3, 2, 4)\n"
     ]
    }
   ],
   "source": [
    "t2 = t.transpose()  # equivalent to t.transpose((2, 1, 0))\n",
    "print(t2)\n",
    "print(t2.shape)"
   ]
  },
  {
   "cell_type": "markdown",
   "metadata": {},
   "source": [
    "NumPy provides a convenience function **swapaxes** to swap two axes"
   ]
  },
  {
   "cell_type": "code",
   "execution_count": 94,
   "metadata": {},
   "outputs": [
    {
     "name": "stdout",
     "output_type": "stream",
     "text": [
      "[[[ 0  1  2]\n",
      "  [ 6  7  8]\n",
      "  [12 13 14]\n",
      "  [18 19 20]]\n",
      "\n",
      " [[ 3  4  5]\n",
      "  [ 9 10 11]\n",
      "  [15 16 17]\n",
      "  [21 22 23]]]\n",
      "(2, 4, 3)\n"
     ]
    }
   ],
   "source": [
    "t3 = t.swapaxes(0,1)  # equivalent to t.transpose((1, 0, 2))\n",
    "print(t3)\n",
    "print(t3.shape)"
   ]
  },
  {
   "cell_type": "markdown",
   "metadata": {},
   "source": [
    "## Linear algebra\n",
    "NumPy arrays can be used to represent matrices efficiently. We will just quickly go through some of the main matrix operations available. For more details about Linear Algebra go through the [Linear Algebra](/00_linear_algebra_calculus/linear_algebra.ipynb) notebook."
   ]
  },
  {
   "cell_type": "markdown",
   "metadata": {},
   "source": [
    "### Matrix transpose\n",
    "The T attribute is equivalent to calling transpose() when the rank is ≥2. The T attribute has no effect on rank 0 (empty) or rank 1 arrays"
   ]
  },
  {
   "cell_type": "code",
   "execution_count": 95,
   "metadata": {},
   "outputs": [
    {
     "name": "stdout",
     "output_type": "stream",
     "text": [
      "[[0 1 2 3 4]\n",
      " [5 6 7 8 9]]\n",
      "[[0 5]\n",
      " [1 6]\n",
      " [2 7]\n",
      " [3 8]\n",
      " [4 9]]\n"
     ]
    }
   ],
   "source": [
    "m1 = np.arange(10).reshape(2,5)\n",
    "print(m1)\n",
    "\n",
    "print(m1.T)"
   ]
  },
  {
   "cell_type": "code",
   "execution_count": 96,
   "metadata": {},
   "outputs": [
    {
     "name": "stdout",
     "output_type": "stream",
     "text": [
      "[0 1 2 3 4]\n",
      "[0 1 2 3 4]\n"
     ]
    }
   ],
   "source": [
    "m2 = np.arange(5)\n",
    "print(m2)\n",
    "\n",
    "print(m2.T)"
   ]
  },
  {
   "cell_type": "markdown",
   "metadata": {},
   "source": [
    "We can get the desired transposition by first reshaping the 1D array to a single-row matrix (2D):"
   ]
  },
  {
   "cell_type": "code",
   "execution_count": 97,
   "metadata": {},
   "outputs": [
    {
     "name": "stdout",
     "output_type": "stream",
     "text": [
      "[[0 1 2 3 4]]\n",
      "[[0]\n",
      " [1]\n",
      " [2]\n",
      " [3]\n",
      " [4]]\n"
     ]
    }
   ],
   "source": [
    "m2r = m2.reshape(1,5)\n",
    "print(m2r)\n",
    "\n",
    "print(m2r.T)"
   ]
  },
  {
   "cell_type": "markdown",
   "metadata": {},
   "source": [
    "### Matrix multiplication"
   ]
  },
  {
   "cell_type": "code",
   "execution_count": 98,
   "metadata": {},
   "outputs": [
    {
     "name": "stdout",
     "output_type": "stream",
     "text": [
      "[[0 1 2 3 4]\n",
      " [5 6 7 8 9]]\n",
      "[[ 0  1  2]\n",
      " [ 3  4  5]\n",
      " [ 6  7  8]\n",
      " [ 9 10 11]\n",
      " [12 13 14]]\n",
      "[[ 90 100 110]\n",
      " [240 275 310]]\n"
     ]
    }
   ],
   "source": [
    "n1 = np.arange(10).reshape(2, 5)\n",
    "print(n1)\n",
    "\n",
    "n2 = np.arange(15).reshape(5,3)\n",
    "print(n2)\n",
    "\n",
    "n3 = n1.dot(n2)\n",
    "print(n3)"
   ]
  },
  {
   "cell_type": "markdown",
   "metadata": {},
   "source": [
    "### Matrix inverse and pseudo-inverse\n",
    "Many of the linear algebra functions are available in the **numpy.linalg** module, in particular the **inv** function to compute a square matrix's inverse and **pinv** to calculate the matrix's pseudoinverse"
   ]
  },
  {
   "cell_type": "code",
   "execution_count": 99,
   "metadata": {},
   "outputs": [
    {
     "name": "stdout",
     "output_type": "stream",
     "text": [
      "[[ 1  2  3]\n",
      " [ 5  7 11]\n",
      " [21 29 31]]\n",
      "[[-2.31818182  0.56818182  0.02272727]\n",
      " [ 1.72727273 -0.72727273  0.09090909]\n",
      " [-0.04545455  0.29545455 -0.06818182]]\n",
      "[[-2.31818182  0.56818182  0.02272727]\n",
      " [ 1.72727273 -0.72727273  0.09090909]\n",
      " [-0.04545455  0.29545455 -0.06818182]]\n"
     ]
    }
   ],
   "source": [
    "import numpy.linalg as linalg\n",
    "\n",
    "m3 = np.array([[1,2,3],[5,7,11],[21,29,31]])\n",
    "print(m3)\n",
    "\n",
    "m4 = linalg.inv(m3)\n",
    "print(m4)\n",
    "\n",
    "m5 = linalg.pinv(m3)\n",
    "print(m5)"
   ]
  },
  {
   "cell_type": "markdown",
   "metadata": {},
   "source": [
    "### Identity matrix\n",
    "The product of a matrix by its inverse returns the identiy matrix (with small floating point errors)"
   ]
  },
  {
   "cell_type": "code",
   "execution_count": 100,
   "metadata": {},
   "outputs": [
    {
     "data": {
      "text/plain": [
       "array([[ 1.00000000e+00, -5.55111512e-17,  0.00000000e+00],\n",
       "       [-2.98372438e-16,  1.00000000e+00, -5.55111512e-17],\n",
       "       [ 5.78009862e-15,  1.27675648e-15,  1.00000000e+00]])"
      ]
     },
     "execution_count": 100,
     "metadata": {},
     "output_type": "execute_result"
    }
   ],
   "source": [
    "m3.dot(linalg.inv(m3))"
   ]
  },
  {
   "cell_type": "markdown",
   "metadata": {},
   "source": [
    "You can create an identity matrix of size NxN by calling **eye** function"
   ]
  },
  {
   "cell_type": "code",
   "execution_count": 101,
   "metadata": {},
   "outputs": [
    {
     "data": {
      "text/plain": [
       "array([[1., 0., 0.],\n",
       "       [0., 1., 0.],\n",
       "       [0., 0., 1.]])"
      ]
     },
     "execution_count": 101,
     "metadata": {},
     "output_type": "execute_result"
    }
   ],
   "source": [
    "np.eye(3)"
   ]
  },
  {
   "cell_type": "markdown",
   "metadata": {},
   "source": [
    "### Determinant"
   ]
  },
  {
   "cell_type": "code",
   "execution_count": 102,
   "metadata": {},
   "outputs": [
    {
     "data": {
      "text/plain": [
       "43.99999999999999"
      ]
     },
     "execution_count": 102,
     "metadata": {},
     "output_type": "execute_result"
    }
   ],
   "source": [
    "linalg.det(m3)"
   ]
  },
  {
   "cell_type": "markdown",
   "metadata": {},
   "source": [
    "### Eigenvalues and eigenvectors"
   ]
  },
  {
   "cell_type": "code",
   "execution_count": 103,
   "metadata": {},
   "outputs": [
    {
     "name": "stdout",
     "output_type": "stream",
     "text": [
      "[42.26600592 -0.35798416 -2.90802176]\n",
      "[[-0.08381182 -0.76283526 -0.18913107]\n",
      " [-0.3075286   0.64133975 -0.6853186 ]\n",
      " [-0.94784057 -0.08225377  0.70325518]]\n"
     ]
    }
   ],
   "source": [
    "eigenvalues, eigenvectors = linalg.eig(m3)\n",
    "print(eigenvalues)\n",
    "print(eigenvectors)"
   ]
  },
  {
   "cell_type": "markdown",
   "metadata": {},
   "source": [
    "### Singular Value Decomposition"
   ]
  },
  {
   "cell_type": "code",
   "execution_count": 104,
   "metadata": {},
   "outputs": [
    {
     "name": "stdout",
     "output_type": "stream",
     "text": [
      "M=\n",
      " [[1 0 0 0 2]\n",
      " [0 0 3 0 0]\n",
      " [0 0 0 0 0]\n",
      " [0 2 0 0 0]]\n",
      "U=\n",
      " [[ 0.  1.  0.  0.]\n",
      " [ 1.  0.  0.  0.]\n",
      " [ 0.  0.  0. -1.]\n",
      " [ 0.  0.  1.  0.]]\n",
      "S=\n",
      " [[3.         0.         0.         0.         0.        ]\n",
      " [0.         2.23606798 0.         0.         0.        ]\n",
      " [0.         0.         2.         0.         0.        ]\n",
      " [0.         0.         0.         0.         0.        ]]\n",
      "V=\n",
      " [[-0.          0.          1.          0.          0.        ]\n",
      " [ 0.4472136   0.          0.          0.          0.89442719]\n",
      " [-0.          1.          0.          0.          0.        ]\n",
      " [ 0.          0.          0.          1.          0.        ]\n",
      " [-0.89442719  0.          0.          0.          0.4472136 ]]\n",
      "U*S*V=\n",
      " [[1. 0. 0. 0. 2.]\n",
      " [0. 0. 3. 0. 0.]\n",
      " [0. 0. 0. 0. 0.]\n",
      " [0. 2. 0. 0. 0.]]\n"
     ]
    }
   ],
   "source": [
    "m6 = np.array([[1,0,0,0,2], [0,0,3,0,0], [0,0,0,0,0], [0,2,0,0,0]])\n",
    "print(\"M=\\n\", m6)\n",
    "\n",
    "U, S_diag, V = linalg.svd(m6)\n",
    "S = np.zeros((4, 5))\n",
    "S[np.diag_indices(4)] = S_diag\n",
    "\n",
    "print(\"U=\\n\", U)\n",
    "print(\"S=\\n\", S)\n",
    "print(\"V=\\n\", V)\n",
    "\n",
    "print(\"U*S*V=\\n\", U.dot(S).dot(V))"
   ]
  },
  {
   "cell_type": "markdown",
   "metadata": {},
   "source": [
    "### Diagonal and trace"
   ]
  },
  {
   "cell_type": "code",
   "execution_count": 105,
   "metadata": {},
   "outputs": [
    {
     "data": {
      "text/plain": [
       "array([1, 0, 0, 0])"
      ]
     },
     "execution_count": 105,
     "metadata": {},
     "output_type": "execute_result"
    }
   ],
   "source": [
    "np.diag(m6)  # the values in the diagonal of m3 (top left to bottom right)"
   ]
  },
  {
   "cell_type": "code",
   "execution_count": 106,
   "metadata": {},
   "outputs": [
    {
     "data": {
      "text/plain": [
       "1"
      ]
     },
     "execution_count": 106,
     "metadata": {},
     "output_type": "execute_result"
    }
   ],
   "source": [
    "np.trace(m6)  # equivalent to np.diag(m3).sum()"
   ]
  },
  {
   "cell_type": "markdown",
   "metadata": {},
   "source": [
    "### Solving a system of linear scalar equations"
   ]
  },
  {
   "cell_type": "markdown",
   "metadata": {},
   "source": [
    "* $2x + 6y = 6$\n",
    "* $5x + 3y = -9$"
   ]
  },
  {
   "cell_type": "code",
   "execution_count": 107,
   "metadata": {},
   "outputs": [
    {
     "data": {
      "text/plain": [
       "array([-3.,  2.])"
      ]
     },
     "execution_count": 107,
     "metadata": {},
     "output_type": "execute_result"
    }
   ],
   "source": [
    "coeffs  = np.array([[2, 6], [5, 3]])\n",
    "depvars = np.array([6, -9])\n",
    "solution = linalg.solve(coeffs, depvars)\n",
    "solution"
   ]
  },
  {
   "cell_type": "markdown",
   "metadata": {},
   "source": [
    "## Vectorization\n",
    "Instead of executing operations on individual array items, one at a time, your code is much more efficient if you try to stick to array operations. This is called **vectorization**. This way, you can benefit from NumPy's many optimizations."
   ]
  },
  {
   "cell_type": "markdown",
   "metadata": {},
   "source": [
    "For example, let's say we want to generate a 768x1024 array based on the formula $sin(xy/40.5)$. A bad option would be to do the math in python using nested loops:"
   ]
  },
  {
   "cell_type": "code",
   "execution_count": 108,
   "metadata": {},
   "outputs": [],
   "source": [
    "import math\n",
    "data = np.empty((768, 1024))\n",
    "for y in range(768):\n",
    "    for x in range(1024):\n",
    "        data[y, x] = math.sin(x*y/40.5)  # BAD! Very inefficient."
   ]
  },
  {
   "cell_type": "markdown",
   "metadata": {},
   "source": [
    "Sure, this works, but it's terribly inefficient since the loops are taking place in pure python. Let's **vectorize this algorithm**. First, we will use NumPy's **meshgrid** function which generates coordinate matrices from coordinate vectors."
   ]
  },
  {
   "cell_type": "code",
   "execution_count": 109,
   "metadata": {},
   "outputs": [
    {
     "name": "stdout",
     "output_type": "stream",
     "text": [
      "X=\n",
      " [[   0    1    2 ... 1021 1022 1023]\n",
      " [   0    1    2 ... 1021 1022 1023]\n",
      " [   0    1    2 ... 1021 1022 1023]\n",
      " ...\n",
      " [   0    1    2 ... 1021 1022 1023]\n",
      " [   0    1    2 ... 1021 1022 1023]\n",
      " [   0    1    2 ... 1021 1022 1023]]\n",
      "Y=\n",
      " [[  0   0   0 ...   0   0   0]\n",
      " [  1   1   1 ...   1   1   1]\n",
      " [  2   2   2 ...   2   2   2]\n",
      " ...\n",
      " [765 765 765 ... 765 765 765]\n",
      " [766 766 766 ... 766 766 766]\n",
      " [767 767 767 ... 767 767 767]]\n"
     ]
    }
   ],
   "source": [
    "x_coords = np.arange(0, 1024)  # [0, 1, 2, ..., 1023]\n",
    "y_coords = np.arange(0, 768)   # [0, 1, 2, ..., 767]\n",
    "X, Y = np.meshgrid(x_coords, y_coords)\n",
    "print(\"X=\\n\", X)\n",
    "print(\"Y=\\n\", Y)"
   ]
  },
  {
   "cell_type": "markdown",
   "metadata": {},
   "source": [
    "As you can see, both X and Y are 768x1024 arrays, and all values in X correspond to the horizontal coordinate, while all values in Y correspond to the the vertical coordinate. Now we can simply compute the result using array operation"
   ]
  },
  {
   "cell_type": "code",
   "execution_count": 110,
   "metadata": {},
   "outputs": [],
   "source": [
    "data = np.sin(X*Y/40.5)"
   ]
  },
  {
   "cell_type": "markdown",
   "metadata": {},
   "source": [
    "## Saving and loading\n",
    "NumPy makes it easy to save and load arrays in binary or text format"
   ]
  },
  {
   "cell_type": "markdown",
   "metadata": {},
   "source": [
    "### Binary format"
   ]
  },
  {
   "cell_type": "code",
   "execution_count": 111,
   "metadata": {},
   "outputs": [
    {
     "name": "stdout",
     "output_type": "stream",
     "text": [
      "[[0.02165556 0.8636169  0.44419238]\n",
      " [0.54607126 0.59795629 0.6140412 ]]\n"
     ]
    }
   ],
   "source": [
    "a = np.random.rand(2,3)\n",
    "print(a)"
   ]
  },
  {
   "cell_type": "code",
   "execution_count": 112,
   "metadata": {},
   "outputs": [],
   "source": [
    "np.save(\"my_array\", a)"
   ]
  },
  {
   "cell_type": "markdown",
   "metadata": {},
   "source": [
    "Since the file name contains no extension, NumPy automatically added .npy"
   ]
  },
  {
   "cell_type": "code",
   "execution_count": 113,
   "metadata": {},
   "outputs": [
    {
     "name": "stdout",
     "output_type": "stream",
     "text": [
      "b'\\x93NUMPY\\x01\\x00v\\x00{\\'descr\\': \\'<f8\\', \\'fortran_order\\': False, \\'shape\\': (2, 3), }                                                          \\n i\\xb5\\xfa\\xdf,\\x96?<\\x00/\\xea\\xbf\\xa2\\xeb?\\xf2\\x11[\\xe3\\xa5m\\xdc?\\x9d\\x8a(njy\\xe1?\\xee\\x02\\xe58u\"\\xe3?6\\x10\\xdc\\xbc9\\xa6\\xe3?'\n"
     ]
    }
   ],
   "source": [
    "with open(\"my_array.npy\", \"rb\") as f:\n",
    "    content = f.read()\n",
    "print(content)"
   ]
  },
  {
   "cell_type": "markdown",
   "metadata": {},
   "source": [
    "To load this file into a NumPy array, simply call **load**"
   ]
  },
  {
   "cell_type": "code",
   "execution_count": 114,
   "metadata": {},
   "outputs": [
    {
     "name": "stdout",
     "output_type": "stream",
     "text": [
      "[[0.02165556 0.8636169  0.44419238]\n",
      " [0.54607126 0.59795629 0.6140412 ]]\n"
     ]
    }
   ],
   "source": [
    "a_loaded = np.load(\"my_array.npy\")\n",
    "print(a_loaded)"
   ]
  },
  {
   "cell_type": "markdown",
   "metadata": {},
   "source": [
    "### Text format"
   ]
  },
  {
   "cell_type": "code",
   "execution_count": 115,
   "metadata": {},
   "outputs": [],
   "source": [
    "np.savetxt(\"my_array\", a)"
   ]
  },
  {
   "cell_type": "markdown",
   "metadata": {},
   "source": [
    "Now let's look at the file content:"
   ]
  },
  {
   "cell_type": "code",
   "execution_count": 116,
   "metadata": {},
   "outputs": [
    {
     "name": "stdout",
     "output_type": "stream",
     "text": [
      "2.165555923179696141e-02 8.636169027231583861e-01 4.441923828383372852e-01\n",
      "5.460712577372138776e-01 5.979562865469156829e-01 6.140412033714770512e-01\n",
      "\n"
     ]
    }
   ],
   "source": [
    "with open(\"my_array\", \"rt\") as f:\n",
    "    print(f.read())"
   ]
  },
  {
   "cell_type": "code",
   "execution_count": 117,
   "metadata": {},
   "outputs": [
    {
     "data": {
      "text/plain": [
       "array([[0.02165556, 0.8636169 , 0.44419238],\n",
       "       [0.54607126, 0.59795629, 0.6140412 ]])"
      ]
     },
     "execution_count": 117,
     "metadata": {},
     "output_type": "execute_result"
    }
   ],
   "source": [
    "a_loaded = np.loadtxt(\"my_array\")\n",
    "a_loaded"
   ]
  },
  {
   "cell_type": "markdown",
   "metadata": {},
   "source": [
    "### CSV format"
   ]
  },
  {
   "cell_type": "code",
   "execution_count": 118,
   "metadata": {},
   "outputs": [],
   "source": [
    "np.savetxt(\"my_array.csv\", a, delimiter=\",\")"
   ]
  },
  {
   "cell_type": "code",
   "execution_count": 119,
   "metadata": {},
   "outputs": [
    {
     "data": {
      "text/plain": [
       "array([[0.02165556, 0.8636169 , 0.44419238],\n",
       "       [0.54607126, 0.59795629, 0.6140412 ]])"
      ]
     },
     "execution_count": 119,
     "metadata": {},
     "output_type": "execute_result"
    }
   ],
   "source": [
    "a_loaded = np.loadtxt(\"my_array.csv\", delimiter=\",\")\n",
    "a_loaded"
   ]
  },
  {
   "cell_type": "markdown",
   "metadata": {},
   "source": [
    "### Zipped format\n",
    "It is also possible to save multiple arrays in one zipped file:"
   ]
  },
  {
   "cell_type": "code",
   "execution_count": 120,
   "metadata": {},
   "outputs": [],
   "source": [
    "b = np.arange(24, dtype=np.uint8).reshape(2, 3, 4)\n",
    "\n",
    "np.savez(\"my_arrays\", my_a=a, my_b=b)"
   ]
  },
  {
   "cell_type": "code",
   "execution_count": 121,
   "metadata": {},
   "outputs": [
    {
     "name": "stdout",
     "output_type": "stream",
     "text": [
      "[[0.02165556 0.8636169  0.44419238]\n",
      " [0.54607126 0.59795629 0.6140412 ]]\n",
      "[[[ 0  1  2  3]\n",
      "  [ 4  5  6  7]\n",
      "  [ 8  9 10 11]]\n",
      "\n",
      " [[12 13 14 15]\n",
      "  [16 17 18 19]\n",
      "  [20 21 22 23]]]\n"
     ]
    }
   ],
   "source": [
    "my_arrays = np.load(\"my_arrays.npz\")\n",
    "print(my_arrays[\"my_a\"])\n",
    "print(my_arrays[\"my_b\"])"
   ]
  }
 ],
 "metadata": {
  "kernelspec": {
   "display_name": "Python 3",
   "language": "python",
   "name": "python3"
  },
  "language_info": {
   "codemirror_mode": {
    "name": "ipython",
    "version": 3
   },
   "file_extension": ".py",
   "mimetype": "text/x-python",
   "name": "python",
   "nbconvert_exporter": "python",
   "pygments_lexer": "ipython3",
   "version": "3.8.3"
  },
  "toc": {
   "toc_cell": false,
   "toc_number_sections": true,
   "toc_section_display": "block",
   "toc_threshold": 6,
   "toc_window_display": false
  },
  "toc_position": {
   "height": "677px",
   "left": "1195.02px",
   "right": "20px",
   "top": "78px",
   "width": "238px"
  }
 },
 "nbformat": 4,
 "nbformat_minor": 4
}
