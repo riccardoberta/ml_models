{
 "cells": [
  {
   "cell_type": "markdown",
   "metadata": {},
   "source": [
    "# Artificial Neural Networks\n",
    "\n",
    "<a href=\"https://colab.research.google.com/github/riccardoberta/machine-learning/blob/master/11_artificial_neural_networks/artificial_neural_networks.ipynb\" target=\"_blank\"><img src=\"https://colab.research.google.com/assets/colab-badge.svg\" alt=\"Open In Google Colab\"/></a>\n",
    "\n",
    "An **Artificial Neural Networs** (ANN) is a ML model inspired by the networks of biological neurons found in our brains.\n",
    "\n",
    "1. [Biological neurons](#Biological-neurons)\n",
    "2. [Perceptron](#Perceptron)\n",
    "3. [Multilayer Perceptron](#Multilayer-Perceptron)\n",
    "4. [Backpropagation](#Backpropagation)\n",
    "5. [Activation Functions](#Activation-Functions)\n",
    "6. [Regression and Classification](#Regression-and-Classification)\n",
    "7. [Tuning Hyperparameters](#Tuning-Hyperparameters)\n",
    "8. [From Scratch](#From-Scratch)"
   ]
  },
  {
   "cell_type": "code",
   "execution_count": 1,
   "metadata": {},
   "outputs": [],
   "source": [
    "import sklearn\n",
    "import tensorflow as tf\n",
    "import numpy as np\n",
    "import pandas as pd\n",
    "import os\n",
    "\n",
    "np.random.seed(42)\n",
    "\n",
    "%matplotlib inline\n",
    "import matplotlib as mpl\n",
    "import matplotlib.pyplot as plt\n",
    "mpl.rc('axes', labelsize=14)\n",
    "mpl.rc('xtick', labelsize=12)\n",
    "mpl.rc('ytick', labelsize=12)"
   ]
  },
  {
   "cell_type": "markdown",
   "metadata": {},
   "source": [
    "## Biological neurons\n",
    "A neuron is a cell  found in animal brains. It’s composed of a **cell body** containing the **nucleus** and most of the cell’s complex components, many branching extensions called **dendrites**, plus one very long extension called the **axon**. The axon’s length may be just a few times longer than the cell body, or up to tens of thousands of times longer. Near its extremity the axon splits off into many branches called **telodendria**, and at the tip of these branches are minuscule structures called **synapses**, which are\n",
    "connected to the dendrites or cell bodies of other neurons. \n",
    "\n",
    "<img src=\"images/biological-neuron.png\" width=\"600\">\n",
    "\n",
    "Biological neurons produce short electrical impulses called **action potentials** which travel along the axons and make the synapses release chemical signals called **neurotransmitters**. When a neuron receives a sufficient amount of these neurotransmitters within a few milliseconds, it fires its own electrical impulses (actually, it depends on the neurotransmitters, as some of them inhibit the neuron from firing).\n",
    "\n",
    "Thus, individual biological neurons seem to behave in a rather simple way, but they are organized in a vast network of billions, with each neuron typically connected to thousands of other neurons. Highly complex computations can be performed by a network of fairly simple neurons. The architecture of biological neural networks is still the subject of active research, but some parts of the brain have been mapped, and it seems that neurons are often organized in consecutive layers, especially in the cerebral cortex.\n",
    "\n",
    "ANN are inspired by this networks of biological neurons, however ANNs have\n",
    "gradually become quite different from their biological cousins. Some researchers even argue that we should drop the biological analogy altogether (e.g., by saying “units” rather than “neurons”), lest we restrict our creativity to biologically plausible systems."
   ]
  },
  {
   "cell_type": "markdown",
   "metadata": {},
   "source": [
    "## Perceptron\n",
    "The Perceptron is one of the simplest ANN architectures, invented in 1957\n",
    "by Frank Rosenblatt. It is based on a artificial neuron called **threshold logic unit** (TLU) or **linear threshold unit** (LTU). The inputs ($x$) and output ($y$) are numbers, and each input connection is associated with a weight ($w$. The TLU computes a weighted sum of its inputs: \n",
    "\n",
    "$z = w _1 x_1 + w_2 x_2 + ⋯ + w_n x_n = X^TW$\n",
    "\n",
    "then applies a step function to that sum and outputs the result:\n",
    "\n",
    "$y=f(z)=\\text{step}(z)$\n",
    "\n",
    "<img src=\"images/tlu.png\" width=\"600\">\n",
    "\n",
    "The most common step function used in Perceptrons is the **heaviside step\n",
    "function**, sometimes the **sign function** is used instead.\n",
    "\n",
    "$\\text{heaviside}(z) = \n",
    "\\begin{cases}\n",
    "    0 & \\text{if} & z \\lt 0 \\\\\n",
    "    1 & \\text{if} & z \\gt 1\n",
    "\\end{cases}$\n",
    "\n",
    "$\\text{sgn}(z) = \n",
    "\\begin{cases}\n",
    "    -1 & \\text{if} & z \\lt 0 \\\\\n",
    "     0 & \\text{if} & z = 0 \\\\\n",
    "     1 & \\text{if} & z \\gt 1\n",
    "\\end{cases}$"
   ]
  },
  {
   "cell_type": "markdown",
   "metadata": {},
   "source": [
    "A single TLU can be used for simple linear binary classification. It computes a linear combination of the inputs, and if the result exceeds a threshold, it outputs the positive class. Otherwise it outputs the negative class (just like a Logistic Regression or linear SVM classifier). Training a TLU means finding the right values for $w_1$, $w_2$, ..., $w_n$."
   ]
  },
  {
   "cell_type": "markdown",
   "metadata": {},
   "source": [
    "A Perceptron is simply composed of a single layer of TLUs, with each TLU connected to all the inputs. When all the neurons in a layer are connected to every neuron in the previous layer (i.e., its input neurons), the layer is called a **fully connected layer**, or a **dense layer**. The inputs of the\n",
    "Perceptron are fed to special passthrough neurons called **input neurons**: they output whatever input they are fed. All the input neurons form the input\n",
    "layer. Moreover, an extra bias feature is generally added ($x_0=1$): it is\n",
    "typically represented using a special type of neuron called a **bias neuron**, which outputs 1 all the time. A Perceptron with two inputs and three outputs is represented in the following figure. This Perceptron can classify instances simultaneously into three different binary classes, which makes it a multioutput classifier.\n",
    "\n",
    "<img src=\"images/perceptron.png\" width=\"500\">\n",
    "\n",
    "$h_{W,b}=\\phi(XW+b)$\n",
    "\n",
    "where:\n",
    "- X represents the matrix of input features, it has one row per instance and one column per feature;\n",
    "- W is the weight matrix, it contains all the connection weights except for the ones from the bias neuron. It has one row per input neuron and one column per artificial neuron in the layer;\n",
    "- b is the bias vector, it contains all the connection weights between the bias neuron and the artificial neurons. It has one bias term per artificial neuron;\n",
    "- $\\phi$ is the activation function: when the artificial neurons are TLUs, it is a step function."
   ]
  },
  {
   "cell_type": "code",
   "execution_count": 5,
   "metadata": {},
   "outputs": [],
   "source": [
    "import sys; sys.path.insert(0, '..')\n",
    "from scratch.linear_algebra import Vector, dot\n",
    "\n",
    "def step(z: float) -> float:\n",
    "    return 1.0 if z >= 0 else 0.0\n",
    "\n",
    "def perceptron(w: Vector, bias: float, x: Vector) -> float:\n",
    "    z = dot(w, x) + bias\n",
    "    return step(z)"
   ]
  },
  {
   "cell_type": "markdown",
   "metadata": {},
   "source": [
    "With properly chosen weights, perceptrons can solve a number of simple problems. For example, we can create an AND gate with:"
   ]
  },
  {
   "cell_type": "code",
   "execution_count": 6,
   "metadata": {},
   "outputs": [
    {
     "name": "stdout",
     "output_type": "stream",
     "text": [
      "1.0\n",
      "0.0\n",
      "0.0\n",
      "0.0\n"
     ]
    }
   ],
   "source": [
    "and_weights = [2., 2]\n",
    "and_bias = -3.\n",
    "\n",
    "print(perceptron(and_weights, and_bias, [1, 1]))\n",
    "print(perceptron(and_weights, and_bias, [0, 1]))\n",
    "print(perceptron(and_weights, and_bias, [1, 0]))\n",
    "print(perceptron(and_weights, and_bias, [0, 0]))"
   ]
  },
  {
   "cell_type": "markdown",
   "metadata": {},
   "source": [
    "Using similar reasoning, we could build an OR gate with:"
   ]
  },
  {
   "cell_type": "code",
   "execution_count": 7,
   "metadata": {},
   "outputs": [
    {
     "name": "stdout",
     "output_type": "stream",
     "text": [
      "1.0\n",
      "1.0\n",
      "1.0\n",
      "0.0\n"
     ]
    }
   ],
   "source": [
    "or_weights = [2., 2]\n",
    "or_bias = -1.\n",
    "\n",
    "print(perceptron(or_weights, or_bias, [1, 1]))\n",
    "print(perceptron(or_weights, or_bias, [0, 1]))\n",
    "print(perceptron(or_weights, or_bias, [1, 0]))\n",
    "print(perceptron(or_weights, or_bias, [0, 0]))"
   ]
  },
  {
   "cell_type": "markdown",
   "metadata": {},
   "source": [
    "However, there are some problems that simply can’t be solved by a single perceptron. For example, no matter how hard you try, you cannot use a perceptron to build an XOR gate."
   ]
  },
  {
   "cell_type": "markdown",
   "metadata": {},
   "source": [
    "Perceptrons are trained taking into account the error made by the network when it makes a prediction: the learning rule **reinforces** connections that help reduce the error. More specifically, the Perceptron is fed one training\n",
    "instance at a time, and for each instance it makes its predictions. For every\n",
    "output neuron that produced a wrong prediction, it reinforces the connection\n",
    "weights from the inputs that would have contributed to the correct prediction (**delta rule**):\n",
    "\n",
    "$\\boxed{w_{ij}=w_{ij}+\\eta(y_j-t_j)x_i}$\n",
    "\n",
    "where:\n",
    "- $w_{ij}$ is the connection weight between the input neuron $i$ and the output neuron $j$;\n",
    "- $x_i$ is the input value $i$ of the current training instance;\n",
    "- $y_j$ is the output of the output neuron $j$ for the current training instance;\n",
    "- $t_j$ is the target output of the output neuron $j$ for the current training instance;\n",
    "- $\\eta$ is the **learning rate**.\n",
    "\n",
    "The decision boundary of each output neuron is linear, so Perceptrons are\n",
    "incapable of learning complex patterns (just like Logistic Regression\n",
    "classifiers). However, if the training instances are linearly separable,\n",
    "Rosenblatt demonstrated that this algorithm would converge to a solution.\n",
    "This is called the **Perceptron convergence theorem**."
   ]
  },
  {
   "cell_type": "markdown",
   "metadata": {},
   "source": [
    "Scikit-Learn provides a **Perceptron class** that implements a single-TLU\n",
    "network:"
   ]
  },
  {
   "cell_type": "code",
   "execution_count": 9,
   "metadata": {},
   "outputs": [
    {
     "name": "stdout",
     "output_type": "stream",
     "text": [
      "[1]\n"
     ]
    }
   ],
   "source": [
    "from sklearn.datasets import load_iris\n",
    "from sklearn.linear_model import Perceptron\n",
    "\n",
    "iris = load_iris()\n",
    "X = iris.data[:, (2, 3)]  # petal length, petal width\n",
    "y = (iris.target == 0).astype(int)\n",
    "\n",
    "perceptron_clf = Perceptron(max_iter=1000, tol=1e-3, random_state=42)\n",
    "perceptron_clf.fit(X, y)\n",
    "\n",
    "y_pred = perceptron_clf.predict([[2, 0.5]])\n",
    "print(y_pred)"
   ]
  },
  {
   "cell_type": "markdown",
   "metadata": {},
   "source": [
    "The Perceptron learning algorithm strongly resembles Stochastic Gradient Descent. In fact, Scikit-Learn’s Perceptron class is equivalent to using an SGDClassifier with the following hyperparameters: loss=\"perceptron\", learning_rate=\"constant\", eta0=1 (the learning rate), and penalty=None (no regularization). Note that contrary to Logistic Regression classifiers, Perceptrons do not output a class probability; rather, they make predictions based on a hard threshold. This is one reason to prefer Logistic Regression over Perceptrons."
   ]
  },
  {
   "cell_type": "markdown",
   "metadata": {},
   "source": [
    "## Multilayer Perceptron\n",
    "A **Multilayer Perceptron** (MLP) is composed of one (passthrough) input layer, one or more layers of TLUs, called **hidden layers**, and one final layer of TLUs called the **output layer**. Note the signal flows only in one direction (from the inputs to the outputs), so this architecture is an example of a **feedforward neural network** (FNN).\n",
    "\n",
    "<img src=\"images/mlp.png\" width=\"500\">"
   ]
  },
  {
   "cell_type": "markdown",
   "metadata": {},
   "source": [
    "As with the perceptron, for each neuron we’ll sum up the products of its inputs and its weights. But here, rather than outputting the step function applied to that product, we’ll output a smooth approximation of it, like the sigmoid function:"
   ]
  },
  {
   "cell_type": "code",
   "execution_count": 10,
   "metadata": {},
   "outputs": [],
   "source": [
    "import math\n",
    "\n",
    "def sigmoid(z: float) -> float:\n",
    "    return 1 / (1 + math.exp(-z))"
   ]
  },
  {
   "cell_type": "code",
   "execution_count": 11,
   "metadata": {},
   "outputs": [
    {
     "data": {
      "text/plain": [
       "(-10.0, 10.0, -0.2, 1.2)"
      ]
     },
     "execution_count": 11,
     "metadata": {},
     "output_type": "execute_result"
    },
    {
     "data": {
      "image/png": "[encoded data removed]",
      "text/plain": [
       "<Figure size 792x288 with 1 Axes>"
      ]
     },
     "metadata": {
      "needs_background": "light"
     },
     "output_type": "display_data"
    }
   ],
   "source": [
    "x = np.linspace(-10, 10, 200).tolist()\n",
    "y_step =  [step(point) for point in x]\n",
    "y_sigmoid =  [sigmoid(point) for point in x]\n",
    "\n",
    "plt.figure(figsize=(11,4))\n",
    "plt.plot(x, y_step, \"r-\", linewidth=1, label=\"Step\")\n",
    "plt.plot(x, y_sigmoid, \"g--\", linewidth=2, label=\"Sigmoid\")\n",
    "plt.grid(True)\n",
    "plt.legend(loc=\"center right\", fontsize=14)\n",
    "plt.title(\"Step and Sigmoid functions\", fontsize=14)\n",
    "plt.axis([-10, 10, -0.2, 1.2])"
   ]
  },
  {
   "cell_type": "markdown",
   "metadata": {},
   "source": [
    "Why use sigmoid instead of the simpler step function? In order to train a neural network, we need to use calculus, and in order to use calculus, we need smooth functions. Step function isn’t even continuous, and sigmoid is a good smooth approximation of it."
   ]
  },
  {
   "cell_type": "code",
   "execution_count": 12,
   "metadata": {},
   "outputs": [],
   "source": [
    "def neuron(w: Vector, x: Vector) -> float:\n",
    "    # weights includes the bias term, inputs includes a 1\n",
    "    return sigmoid(dot(w, x))"
   ]
  },
  {
   "cell_type": "markdown",
   "metadata": {},
   "source": [
    "Given this function, we can represent a neuron simply as a vector of weights whose length is one more than the number of inputs to that neuron (because of the bias weight). Then we can represent a neural network as a list of (noninput) layers,\n",
    "where each layer is just a list of the neurons in that layer.\n",
    "\n",
    "That is, we’ll represent a neural network as a list (layers) of lists (neurons) of vectors (weights). Given such a representation, using the neural network is quite\n",
    "simple:"
   ]
  },
  {
   "cell_type": "code",
   "execution_count": 13,
   "metadata": {},
   "outputs": [],
   "source": [
    "from typing import List\n",
    "\n",
    "def feed_forward(neural_network: List[List[Vector]], input_vector: Vector) -> List[Vector]:\n",
    "    outputs: List[Vector] = []\n",
    "    for layer in neural_network:\n",
    "        input_with_bias = input_vector + [1]              \n",
    "        output = [neuron(n, input_with_bias) for n in layer]               \n",
    "        outputs.append(output)\n",
    "        input_vector = output\n",
    "    return outputs"
   ]
  },
  {
   "cell_type": "markdown",
   "metadata": {},
   "source": [
    "Now, we cab build the XOR gate that we couldn’t build with a single perceptron:"
   ]
  },
  {
   "cell_type": "code",
   "execution_count": 14,
   "metadata": {},
   "outputs": [
    {
     "name": "stdout",
     "output_type": "stream",
     "text": [
      "9.38314668300676e-14\n",
      "0.9999999999999059\n",
      "0.9999999999999059\n",
      "9.383146683006828e-14\n"
     ]
    }
   ],
   "source": [
    "xor_network = [# hidden layer\n",
    "               [[20., 20, -30],      \n",
    "                [20., 20, -10]],     \n",
    "               # output layer\n",
    "               [[-60., 60, -30]]]\n",
    "\n",
    "print(feed_forward(xor_network, [0, 0])[-1][0])\n",
    "print(feed_forward(xor_network, [1, 0])[-1][0])\n",
    "print(feed_forward(xor_network, [0, 1])[-1][0])\n",
    "print(feed_forward(xor_network, [1, 1])[-1][0])"
   ]
  },
  {
   "cell_type": "markdown",
   "metadata": {},
   "source": [
    "One suggestive way of thinking about this is that the hidden layer is computing features of the input data and the output layer is combining those features in a way that generates the desired output."
   ]
  },
  {
   "cell_type": "markdown",
   "metadata": {},
   "source": [
    "Usually we don’t build neural networks by hand. This is in part because we use them to solve much bigger problems, and in part because we usually won’t be able to reason out what the neurons should be. Instead, we use data to train neural networks. The typical approach is an algorithm called backpropagation, which uses gradient descent or one of its variants."
   ]
  },
  {
   "cell_type": "markdown",
   "metadata": {},
   "source": [
    "## Backpropagation\n",
    "\n",
    "Imagine we have a training set that consists of input vectors and corresponding target output vectors. Imagine that our network has some set of weights. Backpropagation, in just two passes through the network (one forward, one backward), is able to compute the gradient of the network’s error with regard to every single model parameter. In other words, it can find out how each connection weight and each bias term should be tweaked in order to reduce the error. Once it has these gradients, it just performs a regular Gradient Descent step, and the whole process is repeated until the network converges to the solution.\n",
    "\n",
    "Let’s run through this algorithm in a bit more detail."
   ]
  },
  {
   "cell_type": "markdown",
   "metadata": {},
   "source": [
    "1) Backpropagation handles one mini-batch at a time, and it goes through the full training set multiple times. Each pass is called an **epoch**. Each mini-batch is passed to the network’s input layer, which sends it to the first hidden layer. The algorithm then computes the output of all the neurons in this layer (for every instance in the mini-batch). The result is passed on to the next layer, its output is computed and passed to the next layer, and so on until we get the output of the last layer, the output layer. This is **the forward pass**: it is exactly like making predictions, except all intermediate results are preserved since they are needed for the backward pass.\n",
    "\n",
    "<img src=\"images/backpropagation-1.png\" width=\"900\">"
   ]
  },
  {
   "cell_type": "markdown",
   "metadata": {},
   "source": [
    "2) Next, the algorithm measures the network’s output error (i.e., it uses a **loss function** that compares the desired output and the actual output of the network, and returns some measure of the error).\n",
    "\n",
    "<img src=\"images/backpropagation-2.png\" width=\"400\">"
   ]
  },
  {
   "cell_type": "markdown",
   "metadata": {},
   "source": [
    "3) It is impossible to compute error signal for internal neurons directly, becouse output values of these neurons are unknown. The idea is to propagate error signal back to all neurons, working backward until the algorithm reaches the input layer. The weights used to propagate back are equal to these used during the computation of the output value. Only the direction of the data flow is changed. This reverse pass efficiently measures the error gradient across all the connection weights in the network by propagating the error gradient backward through the network (hence the name of the algorithm).\n",
    "\n",
    "<img src=\"images/backpropagation-3.png\" width=\"900\">"
   ]
  },
  {
   "cell_type": "markdown",
   "metadata": {},
   "source": [
    "4) Finally, the algorithm performs a Gradient Descent step to tweak all the connection weights in the network, using the error gradients it just computed.\n",
    "The rule used is actually similar to the conventional delta rule used for the perceptron, it updates the weights in proportion to the learning rate, the input to which the weight is applied, and the error in the output of the unit. The major difference is that the simple error term is replaced by\n",
    "the more complex error term previously calculated. \n",
    "\n",
    "<img src=\"images/backpropagation-4.png\" width=\"900\">"
   ]
  },
  {
   "cell_type": "markdown",
   "metadata": {},
   "source": [
    "In summary: for each training instance, the backpropagation algorithm first makes a prediction (forward pass) and measures the error, then goes through each layer in reverse to measure the error contribution from each connection (reverse pass), and finally tweaks the connection weights to reduce the error (Gradient Descent step)."
   ]
  },
  {
   "cell_type": "markdown",
   "metadata": {},
   "source": [
    "Let's try to derive the backprogation training rule. Recall the notation:\n",
    "- $x_{ij}$ is the input $i$ to unit $j$\n",
    "- $w_{ij}$ is the weight associated with input $i$ to unit $j$\n",
    "- $z_j$ is the weighted sum of input for unit $j$ $z_j=\\sum\\limits_{i}{w_{ij}x_{ij}}$\n",
    "- $y_j$ is the output computeted by unit $j$ $y_j=f(z_j)$\n",
    "- $t_j$ is the target value of the output unit $j$\n",
    "\n",
    "We start from the **stochastic gradient descent** rule, which involves iterating through the examples in the training set, for each training example descending the gradient of the error function with respect to this example. More specifically, for each example, every weight $w_{ij}$ is updated by adding to it the value $\\Delta w_{ij}$:\n",
    "\n",
    "$\\begin{align}\n",
    "\\Delta w_{ij}=-\\eta \\frac{\\partial J}{\\partial w_{ij}}\n",
    "\\end{align}$      (1)\n",
    "\n",
    "where $J$ is the error on the training example, summed over all output units ($O$) in the output layer of the network:\n",
    "\n",
    "$\\begin{align}\n",
    "J=\\frac{1}{2}\\sum\\limits_{k\\epsilon O}{(t_k-y_k)^2}\n",
    "\\end{align}$"
   ]
  },
  {
   "cell_type": "markdown",
   "metadata": {},
   "source": [
    "Let us now derive the partial derivative term in the gradient descent rule. Notice that weight $w_{ij}$ can influence the network output only through $y_j$. Using the chain rule we can write:\n",
    "\n",
    "$\\begin{align}\n",
    "\\frac{\\partial J}{\\partial w_{ij}}=\\frac{\\partial J}{\\partial z_j}\\frac{\\partial z_j}{\\partial w_{ij}}=\\frac{\\partial J}{\\partial z_j}x_{ij}=\\delta_jx_{ij}\n",
    "\\end{align}$     (2)\n",
    "\n",
    "we can substitute (2) in (1):\n",
    "\n",
    "$\\begin{align}\n",
    "\\boxed{\\Delta w_{ij}=-\\eta\\delta_jx_{ij}}\n",
    "\\end{align}$     \n",
    "\n",
    "the input $x_{ij}$ of an input unit is the input $x_i$ and of an internal or output units is the output $y_i$ of the previous layer.\n",
    "\n",
    "Our objective is now to derive the $\\delta_j$ term. We can consider two different case: the case for an output unit and the case for an internal unit."
   ]
  },
  {
   "cell_type": "markdown",
   "metadata": {},
   "source": [
    "**Case 1, output unit**\n",
    "\n",
    "Using the chain rule again we obtain:\n",
    "\n",
    "$\\begin{align}\n",
    "\\delta_j=\\frac{\\partial J}{\\partial z_j}=\\frac{\\partial J}{\\partial y_j}\\frac{\\partial y_j}{\\partial z_j}=\\frac{\\partial J}{\\partial y_j}y_j(1-y_j)\n",
    "\\end{align}$     (3)\n",
    "\n",
    "notice that the derivative of $y_j$ is just the derivative of the activation function. In order for this algorithm to work properly, we need to replace the step function with the logistic function( **sigmoid**). This was essential because the step function contains only flat segments, so there is no gradient to work with, while the logistic function has a well-defined nonzero derivative everywhere.\n",
    "\n",
    "$\\begin{align}\n",
    "\\sigma (x) = \\frac{1}{1+e^{-x}}\n",
    "\\end{align}$\n",
    "\n",
    "$\\begin{align}\n",
    "\\frac{d\\sigma (x)}{d(x)} = \\sigma (x)\\cdot (1-\\sigma(x))\n",
    "\\end{align}$\n",
    "\n",
    "we now proceed with finding the last derivative:\n",
    "\n",
    "$\\begin{align}\n",
    "\\frac{\\partial J}{\\partial y_j}=\\frac{\\partial}{\\partial y_j}\\frac{1}{2}\\sum\\limits_{k\\epsilon O}{(t_k-y_k)^2}=\\frac{\\partial}{\\partial y_j}\\frac{1}{2}(t_j-y_j)^2=\\frac{1}{2}2(t_j-y_j)\\frac{\\partial}{\\partial y_j}(t_j-y_j)=-(t_j-y_j)\n",
    "\\end{align}$     (4)\n",
    "\n",
    "the summation term over output units is dropped because the derivatives is zero for all output units except for the case when $k=j$. By substituting (4) into (3) we obtain:\n",
    "\n",
    "$\\begin{align}\n",
    "\\boxed{\\delta_j=-(t_j-y_j)y_j(1-y_j)}\n",
    "\\end{align}$"
   ]
  },
  {
   "cell_type": "markdown",
   "metadata": {},
   "source": [
    "**Case 2, internal unit**\n",
    "\n",
    "When unit $j$ is internal, we must also consider every unit immediately downstream of it (all units whose direct input include the output that unit). This is because a change in $w_{ji}$ (through $z_j$) influences the network outputs through these units. Let $ds(j)$ denote units downstream of unit $j$, then:\n",
    "\n",
    "$\\begin{align}\n",
    "\\delta_j=\\frac{\\partial J}{\\partial z_j}=\\sum\\limits_{k\\epsilon ds(j)} \\frac{\\partial J}{\\partial z_k}\\frac{\\partial z_k}{\\partial z_j}=\\sum\\limits_{k\\epsilon ds(j)}\\delta _k \\frac{\\partial z_k}{\\partial y_j}\\frac{\\partial y_j}{\\partial z_j}=\\sum\\limits_{k\\epsilon ds(j)}\\delta_kw_{jk}y_j(1-y_j)  \n",
    "\\end{align}$\n",
    "\n",
    "$\\begin{align}\n",
    "\\boxed{\\delta_j=y_j(1-y_j)\\sum\\limits_{k\\epsilon ds(j)}\\delta_kw_{jk}}\n",
    "\\end{align}$\n"
   ]
  },
  {
   "cell_type": "markdown",
   "metadata": {},
   "source": [
    "It is important to initialize all the connection weights randomly, or else training will fail. For example, if we initialize all weights and biases to zero, then all neurons in a given layer will be perfectly identical, and thus backpropagation will affect them in exactly the same way, so they will remain identical. If instead we randomly initialize the weights, we break the symmetry and allow backpropagation to train a diverse team of neurons."
   ]
  },
  {
   "cell_type": "markdown",
   "metadata": {},
   "source": [
    "Let’s write a function to compute the gradients:"
   ]
  },
  {
   "cell_type": "code",
   "execution_count": 15,
   "metadata": {},
   "outputs": [],
   "source": [
    "def sqerror_gradients(network: List[List[Vector]], input_vector: Vector, target_vector: Vector) -> List[List[Vector]]:\n",
    "    \"\"\"\n",
    "    Given a neural network, an input vector, and a target vector,\n",
    "    make a prediction and compute the gradient of the squared error\n",
    "    loss with respect to the neuron weights.\n",
    "    \"\"\"\n",
    "    # forward pass\n",
    "    hidden_outputs, outputs = feed_forward(network, input_vector)\n",
    "\n",
    "    # gradients with respect to output neuron pre-activation outputs\n",
    "    output_deltas = [output * (1 - output) * (output - target)\n",
    "                     for output, target in zip(outputs, target_vector)]\n",
    "\n",
    "    # gradients with respect to output neuron weights\n",
    "    output_grads = [[output_deltas[i] * hidden_output\n",
    "                     for hidden_output in hidden_outputs + [1]]\n",
    "                     for i, output_neuron in enumerate(network[-1])]\n",
    "\n",
    "    # gradients with respect to hidden neuron pre-activation outputs\n",
    "    hidden_deltas = [hidden_output * (1 - hidden_output) *\n",
    "                     dot(output_deltas, [n[i] for n in network[-1]])\n",
    "                     for i, hidden_output in enumerate(hidden_outputs)]\n",
    "\n",
    "    # gradients with respect to hidden neuron weights\n",
    "    hidden_grads = [[hidden_deltas[i] * input for input in input_vector + [1]]\n",
    "                    for i, hidden_neuron in enumerate(network[0])]\n",
    "\n",
    "    return [hidden_grads, output_grads]"
   ]
  },
  {
   "cell_type": "markdown",
   "metadata": {},
   "source": [
    "As usual, we can train it using gradient descent"
   ]
  },
  {
   "cell_type": "code",
   "execution_count": 16,
   "metadata": {},
   "outputs": [],
   "source": [
    "from scratch.gradient_descent import gradient_step\n",
    "import tqdm\n",
    "    \n",
    "def train(network: List[List[Vector]], xs: Vector, ys: Vector, epochs: int, learning_rate: float) -> List[List[Vector]]:\n",
    "    for epoch in tqdm.trange(epochs, desc=\"Neural network for xor\"):\n",
    "        for x, y in zip(xs, ys):\n",
    "            gradients = sqerror_gradients(network, x, y)\n",
    "            # Take a gradient step for each neuron in each layer\n",
    "            network = [[gradient_step(neuron, grad, -learning_rate)\n",
    "                        for neuron, grad in zip(layer, layer_grad)]\n",
    "                        for layer, layer_grad in zip(network, gradients)]\n",
    "    return network;"
   ]
  },
  {
   "cell_type": "markdown",
   "metadata": {},
   "source": [
    "Let’s try to learn the XOR network we previously designed by hand. We start by generating the training data and initializing our neural network with random weights:"
   ]
  },
  {
   "cell_type": "code",
   "execution_count": 17,
   "metadata": {},
   "outputs": [],
   "source": [
    "import random\n",
    "random.seed(0)\n",
    "    \n",
    "# training data\n",
    "xs = [[0., 0], [0., 1], [1., 0], [1., 1]]\n",
    "ys = [[0.], [1.], [1.], [0.]]\n",
    "    \n",
    "# start with random weights\n",
    "network = [ # hidden layer: 2 inputs -> 2 outputs\n",
    "            [[random.random() for _ in range(2 + 1)],   # 1st hidden neuron\n",
    "             [random.random() for _ in range(2 + 1)]],  # 2nd hidden neuron\n",
    "            # output layer: 2 inputs -> 1 output\n",
    "            [[random.random() for _ in range(2 + 1)]]   # 1st output neuron\n",
    "          ]"
   ]
  },
  {
   "cell_type": "code",
   "execution_count": 18,
   "metadata": {},
   "outputs": [
    {
     "name": "stderr",
     "output_type": "stream",
     "text": [
      "Neural network for xor: 100%|██████████| 2000/2000 [00:00<00:00, 14412.20it/s]\n"
     ]
    }
   ],
   "source": [
    "learning_rate = 1.0\n",
    "epochs = 2000;\n",
    "network = train(network, xs, ys, epochs, learning_rate);"
   ]
  },
  {
   "cell_type": "code",
   "execution_count": 19,
   "metadata": {},
   "outputs": [
    {
     "name": "stdout",
     "output_type": "stream",
     "text": [
      "0.034333804574649227\n",
      "0.9695399969539419\n",
      "0.969456050523935\n",
      "0.03202405432763502\n"
     ]
    }
   ],
   "source": [
    "print(feed_forward(network, [0, 0])[-1][0])\n",
    "print(feed_forward(network, [0, 1])[-1][0])\n",
    "print(feed_forward(network, [1, 0])[-1][0])\n",
    "print(feed_forward(network, [1, 1])[-1][0])"
   ]
  },
  {
   "cell_type": "markdown",
   "metadata": {},
   "source": [
    "## Activation Functions\n",
    "The backpropagation algorithm works well with many other activation functions, not just the logistic function. Here are two other popular choices:"
   ]
  },
  {
   "cell_type": "markdown",
   "metadata": {},
   "source": [
    "The **hyperbolic tangent function** is a S-shaped, continuous and differentiable, but its output value ranges from –1 to 1 (instead of 0 to 1 in the case of the logistic function). That range tends to make each layer’s output more or less centered around 0 at the beginning of training, which often helps speed up convergence.\n",
    "\n",
    "The **Rectified Linear Unit (ReLU) function** is continuous but unfortunately not differentiable at $x=0$ (the slope changes abruptly, which can make Gradient Descent bounce around), and its derivative is 0 for $z<0$. In practice, however, it works very well and has the advantage of being fast to compute, so it has become the default."
   ]
  },
  {
   "cell_type": "code",
   "execution_count": 20,
   "metadata": {},
   "outputs": [],
   "source": [
    "def sign(x):\n",
    "    return np.sign(x)\n",
    "\n",
    "def sigmoid(x):\n",
    "    return 1 / (1 + np.exp(-x))\n",
    "\n",
    "def tanh(x):\n",
    "    return np.tanh(x)\n",
    "\n",
    "def relu(x):\n",
    "    return np.maximum(0, x)\n",
    "\n",
    "def derivative(f, x, eps=0.000001):\n",
    "    return (f(x + eps) - f(x - eps))/(2 * eps)"
   ]
  },
  {
   "cell_type": "code",
   "execution_count": 21,
   "metadata": {},
   "outputs": [
    {
     "data": {
      "image/png": "[encoded data removed]",
      "text/plain": [
       "<Figure size 792x288 with 2 Axes>"
      ]
     },
     "metadata": {
      "needs_background": "light"
     },
     "output_type": "display_data"
    }
   ],
   "source": [
    "x = np.linspace(-5, 5, 200)\n",
    "\n",
    "plt.figure(figsize=(11,4))\n",
    "\n",
    "plt.subplot(121)\n",
    "plt.plot(x, sign(x), \"r-\", linewidth=1, label=\"Step\")\n",
    "plt.plot(x, sigmoid(x), \"g--\", linewidth=2, label=\"Sigmoid\")\n",
    "plt.plot(x, tanh(x), \"b-\", linewidth=2, label=\"Tanh\")\n",
    "plt.plot(x, relu(x), \"m-.\", linewidth=2, label=\"ReLU\")\n",
    "plt.grid(True)\n",
    "plt.legend(loc=\"center right\", fontsize=14)\n",
    "plt.title(\"Activation functions\", fontsize=14)\n",
    "plt.axis([-5, 5, -1.2, 1.2])\n",
    "\n",
    "plt.subplot(122)\n",
    "plt.plot(x, derivative(sign, x), \"r-\", linewidth=1, label=\"Step\")\n",
    "plt.plot(x, derivative(sigmoid, x), \"g--\", linewidth=2, label=\"Sigmoid\")\n",
    "plt.plot(x, derivative(tanh, x), \"b-\", linewidth=2, label=\"Tanh\")\n",
    "plt.plot(x, derivative(relu, x), \"m-.\", linewidth=2, label=\"ReLU\")\n",
    "plt.grid(True)\n",
    "plt.title(\"Derivatives\", fontsize=14)\n",
    "plt.axis([-5, 5, -0.2, 1.2])\n",
    "\n",
    "plt.show()"
   ]
  },
  {
   "cell_type": "markdown",
   "metadata": {},
   "source": [
    "Why do we need activation functions? Well, if we chain several linear transformations, all we get is a linear transformation. For example, if $f(x)=2x+3$ and $g(x)=5x–1$, then chaining these two linear functions gives us another linear function: $f(g(x))=2(5x–1)+3=10x+1$. So if we don’t have some nonlinearity between layers, then even a deep stack of layers is equivalent to a single\n",
    "layer, and we can’t solve very complex problems with that. Conversely, a large enough ANN with nonlinear activations can theoretically approximate any continuous function."
   ]
  },
  {
   "cell_type": "markdown",
   "metadata": {},
   "source": [
    "## Regression and Classification"
   ]
  },
  {
   "cell_type": "markdown",
   "metadata": {},
   "source": [
    "First, MLPs can be used for regression tasks. If you want to predict a single value (e.g., the price of a house, given many of its features), then you just need a single output neuron: its output is the predicted value. For multivariate regression (i.e., to predict multiple values at once), you need one output neuron per output dimension. \n",
    "For example, to locate the center of an object in an image, you need to predict 2D coordinates, so you need two output neurons. If you also want to place a bounding box around theo bject, then you need two more numbers: the width and the height of the object. So, you end up with four output neurons.\n",
    "In general, when building an MLP for regression, you do not want to use any activation function for the output neurons, so they are free to output any range of values. If you want to guarantee that the output will always be positive, then you can use the ReLU activation function in the output layer. Finally, if you want to guarantee that the predictions will fall within a given range of values, then you can use the logistic function or the hyperbolic tangent, and then scale the labels to the appropriate range.\n",
    "The loss function to use during training is typically the mean squared error, but if you have a lot of outliers in the training set, you may prefer to use the mean absolute error instead. Alternatively, you can use the **Huber loss**, which is a combination of both: it is quadratic when the error is smaller than a threshold, but linear when the error is larger than that. The linear part makes it less sensitive to outliers than the mean squared error, and the quadratic part allows it to converge faster and be more precise than the mean absolute error.\n",
    "The following are the typical hyperparameters of a regression MLP architecture:\n",
    "- number of input neurons: one per input feature (e.g. 28x28 for MNIST)\n",
    "- number of hidden layers: depends on the problem, typically 1 to 5\n",
    "- number of neurons per hidden layer: depends on the problem, typically 10 to 100\n",
    "- number of output neurons: 1 per prediction dimension\n",
    "- hidden activation function: ReLU\n",
    "- output activation function: ReLU, Logistic or Tanh\n",
    "- loss function: MSE ore Huber (if outliers)"
   ]
  },
  {
   "cell_type": "markdown",
   "metadata": {},
   "source": [
    "MLPs can also be used for classification tasks. For a binary classification problem, you just need a single output neuron using the logistic activation function: the output will be a number between 0 and 1, which you can interpret as the estimated probability of the positive class. The estimated probability of the negative class is equal to one minus that number. MLPs can also easily handle multilabel binary classification tasks: you would dedicate one output neuron for each positive class.  For example, you could have an email classification system that predicts whether each incoming email is ham or spam, and simultaneously predicts whether it is an urgent or nonurgent email. In this case, you would need two output neurons, both using the logistic activation function: the first would output the probability that the email is spam, and the second would output the probability that it is urgent. \n",
    "Note that the output probabilities do not necessarily add up to 1. This lets the model output any combination of labels: you can have nonurgent ham, urgent ham, nonurgent spam, and perhaps even urgent spam (although that would probably be an error).\n",
    "If each instance can belong only to a single class, out of three or more possible classes (e.g., classes 0 through 9 for digit image classification), then you need to have one output neuron per class, and you should use the softmax activation function for the whole output layer. The softmax function will ensure that all the estimated probabilities are between 0 and 1 and that they add up to 1 (which is required if the classes are exclusive). This is called multiclass classification.\n",
    "Regarding the loss function, since we are predicting probability distributions, the cross-entropy loss is generally a good choice.\n",
    "The following are the typical hyperparameters of a classification MLP architecture:\n",
    "- number of input neurons: one per input feature (e.g. 28x28 for MNIST)\n",
    "- number of hidden layers: depends on the problem, typically 1 to 5\n",
    "- number of neurons per hidden layer: depends on the problem, typically 10 to 100\n",
    "- number of output neurons: 1 (binary classification), 1 per label (multilabel binary), 1 per class (multiclass)\n",
    "- hidden activation function: ReLU\n",
    "- output activation function: Logistic (binary and multilabel) Softmax (multiclass)\n",
    "- loss function: cross entropy"
   ]
  },
  {
   "cell_type": "markdown",
   "metadata": {},
   "source": [
    "## Tuning Hyperparameters\n",
    "\n",
    "The flexibility of SNN is also one of their main drawbacks: there are many hyperparameters to tweak. We can change the number of layers, the number of neurons per layer, the type of activation function to use in each layer, the weight initialization logic, and much more. \n",
    "\n",
    "How do we know what combination of hyperparameters is the best for our task? One option is to simply try many combinations of hyperparameters and see which one works best on the validation set (or use K-fold cross-validation). \n",
    "\n",
    "However, it  helps to have an idea of what values are reasonable for each hyperparameter so that we can build a quick prototype and restrict the search space. The following sections provide guidelines for choosing the number of hidden layers and neurons in an MLP and for selecting good values for some of the main hyperparameters.\n",
    "\n",
    "For a review of best practices regarding tuning neural network hyperparameters, check out this excellent paper [A Disciplined Approach to Neural Network Hyperparameters](https://arxiv.org/abs/1803.09820)"
   ]
  },
  {
   "cell_type": "markdown",
   "metadata": {},
   "source": [
    "### Number of Hidden Layers\n",
    "For many problems, you can begin with a single hidden layer and get reasonable results. An MLP with just one hidden layer can theoretically model even the most complex functions, provided it has enough neurons. But for complex problems, **deep networks have a much higher parameter efficiency than shallow ones**: they can model complex functions using exponentially fewer neurons than shallow nets, allowing them to reach much better performance with the same amount of training data. The reason is that real-world data is often structured in a hierarchical way, and deep neural networks automatically take advantage of this fact: lower hidden layers model low-level structures (e.g., line segments of various shapes and orientations), intermediate hidden layers combine these low-level structures to model intermediate-level structures (e.g., squares, circles), and the highest hidden layers and the output layer combine these intermediate structures to model high-level structures (e.g., faces). This also improves the ability of deeper network to generalize well to new datasets. For example, if you have already trained a model to recognize faces in pictures and you now want to train a new neural network to recognize hairstyles, you can kickstart the training by reusing the lower layers of the first network. This way the network will not have to learn from scratch all the low-level structures, it will only have to learn the higher-level structures. This is called **transfer learning**.\n",
    "In summary, for many problems you can start with just one or two hidden\n",
    "layers, for more complex problems, you can ramp up the number of hidden layers until you start overfitting the training set.\n",
    "Very complex tasks, such as large image classification or speech recognition, typically require networks with dozens of layers (or even hundreds) and they need a huge amount of training data. We will rarely have to train such networks from scratch: it is much more common to reuse parts of a pretrained state-of-the-art network that performs a similar task."
   ]
  },
  {
   "cell_type": "markdown",
   "metadata": {},
   "source": [
    "### Number of Neurons per Hidden Layer\n",
    "The number of neurons in the input and output layers is determined by the type of input and output your task requires.  As for the hidden layers, it used to be common to size them to form a pyramid, with fewer and fewer neurons at each layer—the rationale being that many low-level features can coalesce into far fewer high-level features. However, this practice has been largely abandoned because it seems that using the same number of neurons in all hidden layers performs just as well in most cases, or even better; plus, there is only one hyperparameter to tune, instead of one per layer. That said, depending on the dataset, it can sometimes help to make the first hidden layer bigger than the others.\n",
    "Just like the number of layers, you can try increasing the number of neurons gradually until the network starts overfitting. But in practice, it’s often simpler and more efficient to pick a model with more layers and neurons than you actually need, then use early stopping and other regularization techniques to prevent it from overfitting.\n",
    "We can adopt the **stretch pants approach**: instead of wasting time looking for pants that perfectly match your size, just use large stretch pants that will shrink down to the right size.\n",
    "Anywaym, in general it is better to increase the number of layers instead of the number of neurons per layer."
   ]
  },
  {
   "cell_type": "markdown",
   "metadata": {},
   "source": [
    "### Learning rate\n",
    "The learning rate is arguably the most important hyperparameter. In general, the optimal learning rate is about half of the maximum learning rate (i.e., the learning rate above which the training algorithm diverges). One way to find a good learning rate is to train the model for a few hundred iterations, starting with a very low learning rate (e.g., $10^-5$ ) and gradually increasing it up to a very large value (e.g., 10). This is done by multiplying the learning rate by a constant factor at each iteration. If we plot the loss as a function of the learning rate, we should see it dropping at first. But after a while, the learning rate will be too large, so the loss will shoo back up: the optimal learning rate will be a bit lower than the point at which the loss starts to climb (typically about 10 times lower than the turning point). You can then reinitialize your model and train it\n",
    "normally using this good learning rate.\n",
    "Anyway, the optimal learning rate depends on the other hyperparameters (especially the batch size) so if you modify any hyperparameter, make sure to update the learning rate as well."
   ]
  },
  {
   "cell_type": "markdown",
   "metadata": {},
   "source": [
    "### Optimizer\n",
    "Choosing a better optimizer than plain old Mini-batch Gradient Descent\n",
    "is also quite important. We will see several advanced optimizers in more advanced topic."
   ]
  },
  {
   "cell_type": "markdown",
   "metadata": {},
   "source": [
    "### Batch size\n",
    "The batch size can have a significant impact on our model’s performance and training time. The main benefit of using large batch sizes is that hardware accelerators (like GPUs) can process them efficiently. Therefore, many researchers and practitioners recommend using the largest batch size that can fit in GPU RAM. However, large batch sizes often lead to training instabilities, especially at the beginning of training, and the resulting model may not generalize as well as a model trained with a small batch size. \n",
    "A possible strategy is to try to use a large batch size, using learning rate warmup, and if training is unstable or the final performance is disappointing, then try using a small batch size instead."
   ]
  },
  {
   "cell_type": "markdown",
   "metadata": {},
   "source": [
    "### Activation function\n",
    "In general, the ReLU activation function will be a good default for all hidden layers. For the output layer, it really depends on the task."
   ]
  },
  {
   "cell_type": "markdown",
   "metadata": {},
   "source": [
    "### Number of iterations\n",
    "In most cases, the number of training iterations does not actually need to\n",
    "be tweaked: just use early stopping instead."
   ]
  },
  {
   "cell_type": "markdown",
   "metadata": {},
   "source": [
    "## From Scratch\n",
    "\n",
    "Previously, we built a simple neural network that allowed us to stack two layers of neurons, each of which computed sigmoid(dot(weights, inputs)). Although that’s perhaps an idealized representation of what an actual neuron does, in practice we’d like to allow a wider variety of things. Perhaps we’d like the neurons to remember something about their previous inputs. Perhaps we’d like to use a different activation function than sigmoid. And frequently we’d like\n",
    "to use more than two layers. \n",
    "\n",
    "Before to introduce Keras (a powerful opensource library), we’ll build from scratch the machinery for implementing such a variety of neural networks. Our fundamental abstraction will be the Layer, something that knows how to apply some function to its inputs and that knows how to backpropagate gradients.\n",
    "\n",
    "One way of thinking about the neural networks we built previously is as a \"linear\" layer, followed by a \"sigmoid\" layer, then another linear layer and another sigmoid layer.\n",
    "\n",
    "We can define a general class to manage a layer:"
   ]
  },
  {
   "cell_type": "code",
   "execution_count": 22,
   "metadata": {},
   "outputs": [],
   "source": [
    "from typing import Iterable, Tuple\n",
    "from scratch.linear_algebra import Tensor\n",
    "\n",
    "class Layer:\n",
    "    \"\"\"\n",
    "    Our neural networks will be composed of Layers, each of which\n",
    "    knows how to do some computation on its inputs in the \"forward\"\n",
    "    direction and propagate gradients in the \"backward\" direction.\n",
    "    \"\"\"\n",
    "    def forward(self, input):\n",
    "        \"\"\"\n",
    "        Note the lack of types. We're not going to be prescriptive\n",
    "        about what kinds of inputs layers can take and what kinds\n",
    "        of outputs they can return.\n",
    "        \"\"\"\n",
    "        raise NotImplementedError\n",
    "\n",
    "    def backward(self, gradient):\n",
    "        \"\"\"\n",
    "        Similarly, we're not going to be prescriptive about what the\n",
    "        gradient looks like. It's up to you the user to make sure\n",
    "        that you're doing things sensibly.\n",
    "        \"\"\"\n",
    "        raise NotImplementedError\n",
    "\n",
    "    def params(self) -> Iterable[Tensor]:\n",
    "        \"\"\"\n",
    "        Returns the parameters of this layer. The default implementation\n",
    "        returns nothing, so that if you have a layer with no parameters\n",
    "        you don't have to implement this.\n",
    "        \"\"\"\n",
    "        return ()\n",
    "\n",
    "    def grads(self) -> Iterable[Tensor]:\n",
    "        \"\"\"\n",
    "        Returns the gradients, in the same order as params()\n",
    "        \"\"\"\n",
    "        return ()\n"
   ]
  },
  {
   "cell_type": "markdown",
   "metadata": {},
   "source": [
    "The \"forward\" and \"backward\" methods will have to be implemented in our concrete subclasses. Once we build a neural net, we’ll want to train it using gradient descent, which means we’ll want to update each parameter in the network using its gradient. Accordingly, we insist that each layer be able to tell us its parameters and gradients."
   ]
  },
  {
   "cell_type": "markdown",
   "metadata": {},
   "source": [
    "Some layers (for example, a layer that applies sigmoid to each of its inputs) have no parameters to update."
   ]
  },
  {
   "cell_type": "code",
   "execution_count": 24,
   "metadata": {},
   "outputs": [],
   "source": [
    "from scratch.linear_algebra import Tensor, tensor_apply, tensor_combine\n",
    "\n",
    "class Sigmoid(Layer):\n",
    "    def forward(self, input: Tensor) -> Tensor:\n",
    "        \"\"\"\n",
    "        Apply sigmoid to each element of the input tensor,\n",
    "        and save the results to use in backpropagation.\n",
    "        \"\"\"\n",
    "        self.sigmoids = tensor_apply(sigmoid, input)\n",
    "        return self.sigmoids\n",
    "\n",
    "    def backward(self, gradient: Tensor) -> Tensor:\n",
    "        return tensor_combine(lambda sig, grad: sig * (1 - sig) * grad,\n",
    "                              self.sigmoids,\n",
    "                              gradient)"
   ]
  },
  {
   "cell_type": "markdown",
   "metadata": {},
   "source": [
    "During the forward pass we saved the computed sigmoids so that we could use them later in the backward pass. The sig * (1 - sig) * grad comes from the chain rule from calculus and corresponds to the output * (1 - output) * (output - target) term."
   ]
  },
  {
   "cell_type": "markdown",
   "metadata": {},
   "source": [
    "In larger networks a popular replacement for the sigmoid is Relu:"
   ]
  },
  {
   "cell_type": "code",
   "execution_count": 36,
   "metadata": {},
   "outputs": [],
   "source": [
    "class Relu(Layer):\n",
    "    def forward(self, input: Tensor) -> Tensor:\n",
    "        self.input = input\n",
    "        return tensor_apply(lambda x: max(x, 0), input)\n",
    "\n",
    "    def backward(self, gradient: Tensor) -> Tensor:\n",
    "        return tensor_combine(lambda x, grad: grad if x > 0 else 0,\n",
    "                              self.input,\n",
    "                              gradient)"
   ]
  },
  {
   "cell_type": "markdown",
   "metadata": {},
   "source": [
    "Now, we implement the \"linear\" layer that represents the dot(weights, inputs) part of the neurons. This layer has parameters, which we initialize with random values. It turns out that the initial parameter values can make a huge difference in how quickly (and sometimes whether) the network trains. If weights are too big, they may produce large outputs in a range where the activation function has near-zero gradients. And parts of the network that have zero gradients necessarily can’t learn anything via gradient descent. Accordingly, we’ll implement two different schemes for randomly generating our weight tensors. The first is to choose each value from the random uniform distribution on (0, 1). The second is to choose each value randomly from a standard normal distribution."
   ]
  },
  {
   "cell_type": "code",
   "execution_count": 72,
   "metadata": {},
   "outputs": [],
   "source": [
    "import random\n",
    "\n",
    "from scratch.probability import inverse_normal_cdf\n",
    "\n",
    "def random_uniform(*dims: int) -> Tensor:\n",
    "    if len(dims) == 1:\n",
    "        return [random.random() for _ in range(dims[0])]\n",
    "    else:\n",
    "        return [random_uniform(*dims[1:]) for _ in range(dims[0])]\n",
    "\n",
    "def random_normal(*dims: int, mean: float = 0.0, variance: float = 1.0) -> Tensor:\n",
    "    if len(dims) == 1:\n",
    "        return [mean + variance * inverse_normal_cdf(random.random()) for _ in range(dims[0])]\n",
    "    else:\n",
    "        return [random_normal(*dims[1:], mean=mean, variance=variance) for _ in range(dims[0])]\n",
    "\n",
    "def random_tensor(*dims: int, init: str = 'normal') -> Tensor:\n",
    "    if init == 'normal':\n",
    "        return random_normal(*dims)\n",
    "    elif init == 'uniform':\n",
    "        return random_uniform(*dims)\n",
    "    else:\n",
    "        raise ValueError(f\"unknown init: {init}\")"
   ]
  },
  {
   "cell_type": "code",
   "execution_count": 26,
   "metadata": {},
   "outputs": [],
   "source": [
    "from scratch.linear_algebra import dot\n",
    "\n",
    "class Linear(Layer):\n",
    "    def __init__(self, input_dim: int, output_dim: int, init: str = 'normal') -> None:\n",
    "        \"\"\"\n",
    "        A layer of output_dim neurons, each with input_dim weights\n",
    "        (and a bias).\n",
    "        \"\"\"\n",
    "        self.input_dim = input_dim\n",
    "        self.output_dim = output_dim\n",
    "\n",
    "        # self.w[o] is the weights for the o-th neuron\n",
    "        self.w = random_tensor(output_dim, input_dim, init=init)\n",
    "\n",
    "        # self.b[o] is the bias term for the o-th neuron\n",
    "        self.b = random_tensor(output_dim, init=init)\n",
    "\n",
    "    def forward(self, input: Tensor) -> Tensor:\n",
    "        # Save the input to use in the backward pass.\n",
    "        self.input = input\n",
    "\n",
    "        # Return the vector of neuron outputs.\n",
    "        return [dot(input, self.w[o]) + self.b[o] for o in range(self.output_dim)]\n",
    "\n",
    "    def backward(self, gradient: Tensor) -> Tensor:\n",
    "        # Each b[o] gets added to output[o], which means\n",
    "        # the gradient of b is the same as the output gradient.\n",
    "        self.b_grad = gradient\n",
    "\n",
    "        # Each w[o][i] multiplies input[i] and gets added to output[o].\n",
    "        # So its gradient is input[i] * gradient[o].\n",
    "        self.w_grad = [[self.input[i] * gradient[o] \n",
    "                        for i in range(self.input_dim)]\n",
    "                        for o in range(self.output_dim)]\n",
    "\n",
    "        # Each input[i] multiplies every w[o][i] and gets added to every\n",
    "        # output[o]. So its gradient is the sum of w[o][i] * gradient[o]\n",
    "        # across all the outputs.\n",
    "        return [sum(self.w[o][i] * gradient[o] \n",
    "                for o in range(self.output_dim))\n",
    "                for i in range(self.input_dim)]\n",
    "\n",
    "    def params(self) -> Iterable[Tensor]:\n",
    "        return [self.w, self.b]\n",
    "\n",
    "    def grads(self) -> Iterable[Tensor]:\n",
    "        return [self.w_grad, self.b_grad]"
   ]
  },
  {
   "cell_type": "markdown",
   "metadata": {},
   "source": [
    "In a real library, the operations written before would be represented as matrix multiplications in an optimized way, probably in C++. Our library is very slow."
   ]
  },
  {
   "cell_type": "markdown",
   "metadata": {},
   "source": [
    "We are thinking of neural networks as sequences of layers, so let’s come up with a way to combine multiple layers into one. The resulting neural network is itself a layer, and it implements the Layer methods in the obvious ways."
   ]
  },
  {
   "cell_type": "code",
   "execution_count": 27,
   "metadata": {},
   "outputs": [],
   "source": [
    "class Sequential(Layer):\n",
    "    \"\"\"\n",
    "    A layer consisting of a sequence of other layers.\n",
    "    \"\"\"\n",
    "    def __init__(self, layers: List[Layer]) -> None:\n",
    "        self.layers = layers\n",
    "\n",
    "    def forward(self, input):\n",
    "        \"\"\"Just forward the input through the layers in order.\"\"\"\n",
    "        for layer in self.layers:\n",
    "            input = layer.forward(input)\n",
    "        return input\n",
    "\n",
    "    def backward(self, gradient):\n",
    "        \"\"\"Just backpropagate the gradient through the layers in reverse.\"\"\"\n",
    "        for layer in reversed(self.layers):\n",
    "            gradient = layer.backward(gradient)\n",
    "        return gradient\n",
    "\n",
    "    def params(self) -> Iterable[Tensor]:\n",
    "        \"\"\"Just return the params from each layer.\"\"\"\n",
    "        return (param for layer in self.layers for param in layer.params())\n",
    "\n",
    "    def grads(self) -> Iterable[Tensor]:\n",
    "        \"\"\"Just return the grads from each layer.\"\"\"\n",
    "        return (grad for layer in self.layers for grad in layer.grads())"
   ]
  },
  {
   "cell_type": "markdown",
   "metadata": {},
   "source": [
    "Previously we wrote individual loss functions and gradient functions for our models. Here we’ll want to experiment with different loss functions, so we introduce a new Loss abstraction that encapsulates both the loss computation and the gradient computation. And we provide a first implementation usgin the sum of squared errors."
   ]
  },
  {
   "cell_type": "code",
   "execution_count": 29,
   "metadata": {},
   "outputs": [],
   "source": [
    "class Loss:\n",
    "    def loss(self, predicted: Tensor, actual: Tensor) -> float:\n",
    "        \"\"\"How good are our predictions? (Larger numbers are worse.)\"\"\"\n",
    "        raise NotImplementedError\n",
    "\n",
    "    def gradient(self, predicted: Tensor, actual: Tensor) -> Tensor:\n",
    "        \"\"\"How does the loss change as the predictions change?\"\"\"\n",
    "        raise NotImplementedError"
   ]
  },
  {
   "cell_type": "code",
   "execution_count": 32,
   "metadata": {},
   "outputs": [],
   "source": [
    "class SSE(Loss):\n",
    "    \"\"\"Loss function that computes the sum of the squared errors.\"\"\"\n",
    "    def loss(self, predicted: Tensor, actual: Tensor) -> float:\n",
    "        squared_errors = tensor_combine(lambda predicted, actual: (predicted - actual) ** 2, predicted, actual)\n",
    "        return tensor_sum(squared_errors)\n",
    "\n",
    "    def gradient(self, predicted: Tensor, actual: Tensor) -> Tensor:\n",
    "        return tensor_combine(\n",
    "            lambda predicted, actual: 2 * (predicted - actual), predicted, actual)"
   ]
  },
  {
   "cell_type": "markdown",
   "metadata": {},
   "source": [
    "Finally, we introduce an Optimizer abstraction, of which gradient descent will be a specific instance. This allow su to  implemetn more clever variants of gradient descent, and we don’t want to have to rewrite them each time."
   ]
  },
  {
   "cell_type": "code",
   "execution_count": 33,
   "metadata": {},
   "outputs": [],
   "source": [
    "class Optimizer:\n",
    "    \"\"\"\n",
    "    An optimizer updates the weights of a layer (in place) using information\n",
    "    known by either the layer or the optimizer (or by both).\n",
    "    \"\"\"\n",
    "    def step(self, layer: Layer) -> None:\n",
    "        raise NotImplementedError"
   ]
  },
  {
   "cell_type": "code",
   "execution_count": 35,
   "metadata": {},
   "outputs": [],
   "source": [
    "class GradientDescent(Optimizer):\n",
    "    def __init__(self, learning_rate: float = 0.1) -> None:\n",
    "        self.lr = learning_rate\n",
    "\n",
    "    def step(self, layer: Layer) -> None:\n",
    "        for param, grad in zip(layer.params(), layer.grads()):\n",
    "            param[:] = tensor_combine(lambda param, grad: param - grad * self.lr, param, grad)"
   ]
  },
  {
   "cell_type": "markdown",
   "metadata": {},
   "source": [
    "When we’re doing classification problems, we’d like to output a 1 for the correct class and a 0 for all the incorrect classes. Generally, our predictions will not be so perfect, but we’d at least like to predict an actual probability distribution over the classes. In order to accomplish this, we typically forgot the final sigmoid layer and\n",
    "instead use the softmax function, which converts a vector of real numbers to a vector of probabilities."
   ]
  },
  {
   "cell_type": "code",
   "execution_count": 63,
   "metadata": {},
   "outputs": [],
   "source": [
    "from scratch.linear_algebra import is_1d\n",
    "\n",
    "def softmax(tensor: Tensor) -> Tensor:\n",
    "    \"\"\"Softmax along the last dimension\"\"\"\n",
    "    if is_1d(tensor):\n",
    "        # Subtract largest value for numerical stabilitity.\n",
    "        largest = max(tensor)\n",
    "        exps = [math.exp(x - largest) for x in tensor]\n",
    "\n",
    "        sum_of_exps = sum(exps)                 # This is the total \"weight\".\n",
    "        return [exp_i / sum_of_exps             # Probability is the fraction\n",
    "                for exp_i in exps]              # of the total weight.\n",
    "    else:\n",
    "        return [softmax(tensor_i) for tensor_i in tensor]"
   ]
  },
  {
   "cell_type": "markdown",
   "metadata": {},
   "source": [
    "We have one remaining issue. Our network will produce a multi-dimensional vector of numbers, but we want a single prediction. We’ll do that by taking the argmax, which is the index of the largest value:"
   ]
  },
  {
   "cell_type": "code",
   "execution_count": 57,
   "metadata": {},
   "outputs": [],
   "source": [
    "def argmax(xs: list) -> int:\n",
    "    \"\"\"Returns the index of the largest value\"\"\"\n",
    "    return max(range(len(xs)), key=lambda i: xs[i])"
   ]
  },
  {
   "cell_type": "markdown",
   "metadata": {},
   "source": [
    "We can try our implementation over the MNIST dataset. This time, we use the mnist python library insted of scikitlearn (python -m pip install mnist)"
   ]
  },
  {
   "cell_type": "code",
   "execution_count": 50,
   "metadata": {},
   "outputs": [
    {
     "name": "stdout",
     "output_type": "stream",
     "text": [
      "[60000, 28, 28]\n",
      "[60000]\n",
      "[10000, 28, 28]\n",
      "[10000]\n"
     ]
    }
   ],
   "source": [
    "import mnist\n",
    "import os\n",
    "from scratch.linear_algebra import shape \n",
    "\n",
    "mnist.temporary_dir = lambda: './data/'\n",
    "\n",
    "train_images = mnist.train_images().tolist()\n",
    "train_labels = mnist.train_labels().tolist()\n",
    "\n",
    "test_images = mnist.test_images().tolist()\n",
    "test_labels = mnist.test_labels().tolist()\n",
    "\n",
    "print(shape(train_images))\n",
    "print(shape(train_labels))\n",
    "\n",
    "print(shape(test_images))\n",
    "print(shape(test_labels))"
   ]
  },
  {
   "cell_type": "markdown",
   "metadata": {},
   "source": [
    "Each image is 28x28 pixels, but our linear layer can only deal with one-dimensional\n",
    "inputs, so we’ll just flatten them (and also divide by 256 to get them between 0 and 1). In addition, our neural net will train better if our inputs are 0 on average, so we’ll subtract out the average value."
   ]
  },
  {
   "cell_type": "code",
   "execution_count": 52,
   "metadata": {},
   "outputs": [
    {
     "name": "stdout",
     "output_type": "stream",
     "text": [
      "[60000, 784]\n",
      "[10000, 784]\n",
      "1.0862287069812737e-08\n"
     ]
    }
   ],
   "source": [
    "from scratch.linear_algebra import tensor_sum \n",
    "\n",
    "# Compute the average pixel value\n",
    "avg = tensor_sum(train_images) / 60000 / 28 / 28\n",
    "\n",
    "# Recenter, rescale, and flatten\n",
    "train_images = [[(pixel - avg) / 256 for row in image for pixel in row] for image in train_images]\n",
    "test_images = [[(pixel - avg) / 256 for row in image for pixel in row] for image in test_images]\n",
    "\n",
    "print(shape(train_images))\n",
    "print(shape(test_images))\n",
    "print(tensor_sum(train_images))"
   ]
  },
  {
   "cell_type": "markdown",
   "metadata": {},
   "source": [
    "We also want to one-hot-encode the targets, since we have 10 outputs. First let’s\n",
    "write a one_hot_encode function:"
   ]
  },
  {
   "cell_type": "code",
   "execution_count": 53,
   "metadata": {},
   "outputs": [],
   "source": [
    "def one_hot_encode(i: int, num_labels: int = 10) -> List[float]:\n",
    "    return [1.0 if j == i else 0.0 for j in range(num_labels)]"
   ]
  },
  {
   "cell_type": "code",
   "execution_count": 54,
   "metadata": {},
   "outputs": [
    {
     "name": "stdout",
     "output_type": "stream",
     "text": [
      "[60000, 10]\n",
      "[10000, 10]\n"
     ]
    }
   ],
   "source": [
    "train_labels = [one_hot_encode(label) for label in train_labels]\n",
    "test_labels = [one_hot_encode(label) for label in test_labels]\n",
    "\n",
    "print(shape(train_labels))\n",
    "print(shape(test_labels))"
   ]
  },
  {
   "cell_type": "markdown",
   "metadata": {},
   "source": [
    "One of the strengths of our abstractions is that we can use the same training/evaluation loop with a variety of models. So let’s write that first. We’ll\n",
    "pass it our model, the data, a loss function, and an optimizer. It will make a pass through our data, track performance, and update our parameters:"
   ]
  },
  {
   "cell_type": "code",
   "execution_count": 55,
   "metadata": {},
   "outputs": [],
   "source": [
    "import tqdm\n",
    "    \n",
    "def loop(model: Layer, \n",
    "         images: List[Tensor], labels: List[Tensor], \n",
    "         loss: Loss, optimizer: Optimizer = None) -> None:\n",
    "        correct = 0         # Track number of correct predictions.\n",
    "        total_loss = 0.0    # Track total loss.\n",
    "        \n",
    "        with tqdm.trange(len(images)) as t:\n",
    "            for i in t:\n",
    "                predicted = model.forward(images[i])             # Predict.\n",
    "                if argmax(predicted) == argmax(labels[i]):       # Check for\n",
    "                    correct += 1                                 # correctness.\n",
    "                total_loss += loss.loss(predicted, labels[i])    # Compute loss.\n",
    "    \n",
    "                # If we're training, backpropagate gradient and update weights.\n",
    "                if optimizer is not None:\n",
    "                    gradient = loss.gradient(predicted, labels[i])\n",
    "                    model.backward(gradient)\n",
    "                    optimizer.step(model)\n",
    "    \n",
    "                # And update our metrics in the progress bar.\n",
    "                avg_loss = total_loss / (i + 1)\n",
    "                acc = correct / (i + 1)\n",
    "                t.set_description(f\"mnist loss: {avg_loss:.3f} acc: {acc:.3f}\")"
   ]
  },
  {
   "cell_type": "markdown",
   "metadata": {},
   "source": [
    "As a baseline, we can use our library to train a logistic regression model, which is just a single linear layer followed by a softmax."
   ]
  },
  {
   "cell_type": "code",
   "execution_count": 69,
   "metadata": {},
   "outputs": [
    {
     "name": "stderr",
     "output_type": "stream",
     "text": [
      "mnist loss: 11.150 acc: 0.483: 100%|██████████| 60000/60000 [05:15<00:00, 190.42it/s]\n",
      "mnist loss: 243.831 acc: 0.140: 100%|██████████| 10000/10000 [00:12<00:00, 796.39it/s]\n"
     ]
    }
   ],
   "source": [
    "random.seed(0)\n",
    "\n",
    "model = Linear(784, 10)\n",
    "loss = SSE()\n",
    "optimizer = GradientDescent(learning_rate=0.01)\n",
    "\n",
    "# Train on the training data\n",
    "loop(model, train_images, train_labels, loss, optimizer)\n",
    "\n",
    "# Test on the test data (no optimizer means just evaluate)\n",
    "loop(model, test_images, test_labels, loss)"
   ]
  },
  {
   "cell_type": "markdown",
   "metadata": {},
   "source": [
    "Let’s see if we can do better with a more complex neural network. We’ll use two hidden layers, the first with 30 neurons, and the second with 10 neurons. And we can just use the same training loop!"
   ]
  },
  {
   "cell_type": "code",
   "execution_count": 71,
   "metadata": {},
   "outputs": [
    {
     "name": "stderr",
     "output_type": "stream",
     "text": [
      "mnist loss: 0.189 acc: 0.903: 100%|██████████| 60000/60000 [14:36<00:00, 68.46it/s]\n",
      "mnist loss: 0.133 acc: 0.937: 100%|██████████| 10000/10000 [00:23<00:00, 433.06it/s]\n"
     ]
    }
   ],
   "source": [
    "random.seed(0)\n",
    "\n",
    "model = Sequential([\n",
    "            Linear(784, 30),  # Hidden layer 1: size 30\n",
    "            Relu(),\n",
    "            Linear(30, 10),   # Hidden layer 2: size 10\n",
    "            Relu(),\n",
    "            Linear(10, 10)    # Output layer: size 10\n",
    "        ])\n",
    "    \n",
    "optimizer = GradientDescent(learning_rate=0.01)\n",
    "loss = SSE()\n",
    "\n",
    "# Train on the training data\n",
    "loop(model, train_images, train_labels, loss, optimizer)\n",
    "\n",
    "# Test on the test data (no optimizer means just evaluate)\n",
    "loop(model, test_images, test_labels, loss)"
   ]
  },
  {
   "cell_type": "markdown",
   "metadata": {},
   "source": [
    "The [MNIST website](http://yann.lecun.com/exdb/mnist/) describes a variety of models that outperform these. Many of them could be implemented using the machinery we’ve developed so far, but would take an extremely long time to train in our naive framework. We can start using some more optimized solution, like Keras."
   ]
  }
 ],
 "metadata": {
  "kernelspec": {
   "display_name": "Python 3",
   "language": "python",
   "name": "python3"
  },
  "language_info": {
   "codemirror_mode": {
    "name": "ipython",
    "version": 3
   },
   "file_extension": ".py",
   "mimetype": "text/x-python",
   "name": "python",
   "nbconvert_exporter": "python",
   "pygments_lexer": "ipython3",
   "version": "3.8.10"
  },
  "nav_menu": {},
  "toc": {
   "navigate_menu": true,
   "number_sections": true,
   "sideBar": true,
   "threshold": 6,
   "toc_cell": false,
   "toc_section_display": "block",
   "toc_window_display": false
  }
 },
 "nbformat": 4,
 "nbformat_minor": 4
}
