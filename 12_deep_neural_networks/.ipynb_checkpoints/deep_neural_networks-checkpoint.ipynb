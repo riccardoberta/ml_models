{
 "cells": [
  {
   "cell_type": "markdown",
   "metadata": {},
   "source": [
    "# Deep Neural Networks\n",
    "\n",
    "<a href=\"https://colab.research.google.com/github/riccardoberta/machine-learning/blob/master/13_deep_neural_networks/deep_neural_networks.ipynb\" target=\"_blank\"><img src=\"https://colab.research.google.com/assets/colab-badge.svg\" alt=\"Open In Google Colab\"/></a>\n",
    "\n",
    "\n",
    "What if we need to tackle complex problems, such as detecting hundreds of types of objects in high-resolution images? We need to train a **deeper** ANN, perhaps with 10 layers or many more, each containing hundreds of neurons, linked by hundreds of thousands of connections. However, training a **Deep Deep Neural Network (DNN)** rise some problems:\n",
    "- the gradients can grow smaller and smaller, or larger and larger, when flowing backward through the DNN during training, making lower layers very hard to train (***vanishing/explodin gradients***);\n",
    "- we might not have enough training data for such a large network, or it might be too costly to label;\n",
    "- training may be extremely slow;\n",
    "- a model with millions of parameters would severely risk overfitting the training set.\n",
    "\n",
    "In the following we will go through each of these problems and present techniques to solve them. \n",
    "\n",
    "1. [The Vanishing Exploding Gradients Problems](#The-Vanishing-Exploding-Gradients-Problems)\n",
    "    - [Initialization strategies](#Initialization-strategies)\n",
    "    - [Nonsaturating Activation Functions](#Nonsaturating-Activation-Functions)\n",
    "    - [Batch Normalization](#Batch-Normalization)\n",
    "    - [Gradient Clipping](#Gradient-Clipping)\n",
    "2. [Transfer Learning](#Transfer-Learning)\n",
    "3. [Faster Optimization](#Faster-Optimization)\n",
    "    - [Momentum Optimization](#Momentum-Optimization)\n",
    "    - [Nesterov Accelerated Gradient](#Nesterov-Accelerated-Gradient)\n",
    "    - [AdaGrad](#AdaGrad)\n",
    "    - [RMSProp](#RMSProp)\n",
    "    - [Adam](#Adam)\n",
    "    - [Higher orders derivatives](#Higher-orders-derivatives)\n",
    "    - [Remarks](#Remarks)\n",
    "4. [Learning Rate Scheduling](#Learning-Rate-Scheduling)\n",
    "    - [Power scheduling](#Power-scheduling)\n",
    "    - [Exponential scheduling](#Exponential-scheduling)\n",
    "    - [Piecewise constant scheduling](#Piecewise-constant-scheduling)\n",
    "    - [Performance scheduling](#Performance-scheduling)\n",
    "    - [Comparison](#Comparison)\n",
    "5. [Regularization](#Regularization)\n",
    "    - [Early stopping](#Early-stopping)\n",
    "    - [L1 and L2 regularization](#L1-and-L2-regularization)\n",
    "    - [Dropout](#Dropout)\n",
    "    - [Monte Carlo Dropout](#Monte-Carlo-Dropout)\n",
    "    - [MaxNorm Regularization](#MaxNorm-Regularization)\n",
    "6. [Summary and Practical Guidelines](#Summary-and-Practical-Guidelines)\n",
    "5. [Exercise](#Exercise)\n"
   ]
  },
  {
   "cell_type": "code",
   "execution_count": 1,
   "metadata": {},
   "outputs": [],
   "source": [
    "import sklearn\n",
    "import tensorflow as tf\n",
    "import numpy as np\n",
    "import pandas as pd\n",
    "import os\n",
    "\n",
    "import tensorflow as tf\n",
    "from tensorflow import keras\n",
    "\n",
    "%matplotlib inline\n",
    "import matplotlib as mpl\n",
    "import matplotlib.pyplot as plt\n",
    "mpl.rc('axes', labelsize=14)\n",
    "mpl.rc('xtick', labelsize=12)\n",
    "mpl.rc('ytick', labelsize=12)"
   ]
  },
  {
   "cell_type": "markdown",
   "metadata": {},
   "source": [
    "## The Vanishing Exploding Gradients Problems\n",
    "The backpropagation algorithm works by going from the output layer to the input layer, propagating the error gradient along the way. Once the algorithm has computed the gradient of the cost function with regard to each parameter in the network, it uses these gradients to update each parameter with a Gradient Descent step.\n",
    "\n",
    "Unfortunately, gradients often get smaller and smaller as the algorithm progresses down to the lower layers. As a result, the Gradient Descent update leaves the lower layers’ connection weights virtually unchanged, and training never converges to a good solution. We call this the **vanishing\n",
    "gradients problem**. \n",
    "\n",
    "In some cases, the opposite can happen: the gradients can grow bigger and bigger until layers get insanely large weight update and the algorithm diverges. This is the **exploding gradients problem**, which\n",
    "surfaces in recurrent neural networks. \n",
    "\n",
    "More generally, DNN suffer from **unstable gradients**."
   ]
  },
  {
   "cell_type": "markdown",
   "metadata": {},
   "source": [
    "The problem is due to  the combination of the logistic sigmoid activation function and the weight initialization technique (i.e., a normal distribution with a mean of 0 and a standard deviation of 1). \n",
    "\n",
    "It can be showed that with this combination, the variance of the outputs of each layer is much greater than the variance of its inputs. Going forward in the network, the variance keeps increasing after each layer until the activation function saturates at the top layers. This saturation is actually made worse by the fact that the logistic function has a mean of 0.5, not 0.\n",
    "\n",
    "For a detailed matematical description, see the paper [Xavier Glorot and Yoshua Bengio, **Understanding the Difficulty of Training Deep Feedforward Neural Networks**, Proceedings of the 13th International Conference on Artificial Intelligence and Statistics (2010)](http://proceedings.mlr.press/v9/glorot10a.html)"
   ]
  },
  {
   "cell_type": "markdown",
   "metadata": {},
   "source": [
    "Looking at the logistic activation function, we can see that when inputs become large (negative or positive), the function saturates at 0 or 1, with a derivative extremely close to 0:"
   ]
  },
  {
   "cell_type": "code",
   "execution_count": 2,
   "metadata": {},
   "outputs": [
    {
     "data": {
      "image/png": "[encoded data removed]",
      "text/plain": [
       "<Figure size 432x288 with 1 Axes>"
      ]
     },
     "metadata": {
      "needs_background": "light"
     },
     "output_type": "display_data"
    }
   ],
   "source": [
    "def logit(x):\n",
    "    return 1 / (1 + np.exp(-x))\n",
    "\n",
    "x = np.linspace(-5, 5, 200)\n",
    "\n",
    "plt.plot([-5, 5], [0, 0], 'k-')\n",
    "plt.plot([-5, 5], [1, 1], 'k--')\n",
    "plt.plot([0, 0], [-0.2, 1.2], 'k-')\n",
    "plt.plot([-5, 5], [-3/4, 7/4], 'g--')\n",
    "plt.plot(x, logit(x), \"b-\", linewidth=2)\n",
    "\n",
    "props = dict(facecolor='black', shrink=0.1)\n",
    "\n",
    "plt.annotate('Saturating', xytext=(3.5, 0.7), xy=(5, 1), arrowprops=props, fontsize=14, ha=\"center\")\n",
    "plt.annotate('Saturating', xytext=(-3.5, 0.3), xy=(-5, 0), arrowprops=props, fontsize=14, ha=\"center\")\n",
    "plt.annotate('Linear', xytext=(2, 0.2), xy=(0, 0.5), arrowprops=props, fontsize=14, ha=\"center\")\n",
    "\n",
    "plt.grid(True)\n",
    "plt.title(\"Logistic activation function\", fontsize=14)\n",
    "plt.axis([-5, 5, -0.2, 1.2])\n",
    "\n",
    "plt.show()"
   ]
  },
  {
   "cell_type": "markdown",
   "metadata": {},
   "source": [
    "Thus, when backpropagation kicks in it has virtually no gradient to propagate back through the network; and what little gradient exists keeps getting diluted as backpropagation progresses down through the top layers, so there is really nothing left for the lower layers."
   ]
  },
  {
   "cell_type": "markdown",
   "metadata": {},
   "source": [
    "### Initialization strategies\n",
    "In order to alleviate the unstable gradients problem, we need the signal to flow properly in both directions: in the forward direction when making predictions, and in the reverse direction when backpropagating gradients. \n",
    "\n",
    "We don’t want the signal to die out, nor do we want it to explode and saturate. For the signal to flow properly, we need the variance of the outputs of each layer to be equal to the variance of its inputs, and we need the gradients to have equal variance before and after flowing through a layer in the reverse direction. \n",
    "\n",
    "It is not possible to guarantee both unless the layer has an equal number of inputs and neurons (these numbers are called the **fan-in** and **fan-out** of the layer). A good compromise that has proven to work well in practice: the connection weights of each layer must be initialized randomly as described in the following equations\n",
    "\n",
    "- $ \\text{Normal distribution with mean 0 and variance } \\sigma^2=\\frac{1}{\\text{fan}_\\text{avg}}$  \n",
    "- $ \\text{Uniform distribution between } -r \\text{ and } +r \\text{ with } r=\\sqrt{\\frac{3}{\\text{fan}_\\text{avg}} } $\n",
    "- $ \\text{where } \\text{fan}_\\text{avg}=(\\text{fan}_\\text{in}+\\text{fan}_\\text{out})/2$\n",
    "\n",
    "This initialization strategy is called **Xavier initialization** or **Glorot initialization**."
   ]
  },
  {
   "cell_type": "markdown",
   "metadata": {},
   "source": [
    "We can update our  from scratch library in order to add Xavier initialization strategy:"
   ]
  },
  {
   "cell_type": "code",
   "execution_count": 4,
   "metadata": {},
   "outputs": [],
   "source": [
    "import sys; sys.path.insert(0, '..')\n",
    "import random\n",
    "from scratch.neural_networks import random_normal, random_uniform\n",
    "from scratch.linear_algebra import Tensor\n",
    "\n",
    "def random_tensor(*dims: int, init: str = 'normal') -> Tensor:\n",
    "    if init == 'normal':\n",
    "        return random_normal(*dims)\n",
    "    elif init == 'uniform':\n",
    "        return random_uniform(*dims)\n",
    "    elif init == 'xavier':\n",
    "        variance = len(dims) / sum(dims)\n",
    "        return random_normal(*dims, variance=variance)\n",
    "    else:\n",
    "        raise ValueError(f\"unknown init: {init}\")"
   ]
  },
  {
   "cell_type": "markdown",
   "metadata": {},
   "source": [
    "Some papers have provided similar strategies for different activation functions. \n",
    "\n",
    "By default, Keras uses Glorot initialization with a uniform distribution, however it support a number of other strategies. When creating a layer, we can change the initialization stratergy by setting **kernel_initializer** parameter."
   ]
  },
  {
   "cell_type": "code",
   "execution_count": 5,
   "metadata": {},
   "outputs": [
    {
     "data": {
      "text/plain": [
       "['Constant',\n",
       " 'GlorotNormal',\n",
       " 'GlorotUniform',\n",
       " 'HeNormal',\n",
       " 'HeUniform',\n",
       " 'Identity',\n",
       " 'Initializer',\n",
       " 'LecunNormal',\n",
       " 'LecunUniform',\n",
       " 'Ones',\n",
       " 'Orthogonal',\n",
       " 'RandomNormal',\n",
       " 'RandomUniform',\n",
       " 'TruncatedNormal',\n",
       " 'VarianceScaling',\n",
       " 'Zeros',\n",
       " 'constant',\n",
       " 'deserialize',\n",
       " 'get',\n",
       " 'glorot_normal',\n",
       " 'glorot_uniform',\n",
       " 'he_normal',\n",
       " 'he_uniform',\n",
       " 'identity',\n",
       " 'lecun_normal',\n",
       " 'lecun_uniform',\n",
       " 'ones',\n",
       " 'orthogonal',\n",
       " 'random_normal',\n",
       " 'random_uniform',\n",
       " 'serialize',\n",
       " 'truncated_normal',\n",
       " 'variance_scaling',\n",
       " 'zeros']"
      ]
     },
     "execution_count": 5,
     "metadata": {},
     "output_type": "execute_result"
    }
   ],
   "source": [
    "[name for name in dir(keras.initializers) if not name.startswith(\"_\")]"
   ]
  },
  {
   "cell_type": "markdown",
   "metadata": {},
   "source": [
    "### Nonsaturating Activation Functions\n",
    "The problem with unstable gradients is in part due to a poor choice of activation function. The sigmoid activation function (used in biological neurons) is not the best choice. The **ReLU activation function** is fast to compute and does not saturate for positive values. Unfortunately, it is not perfect. It suffers from a problem known as the **dying ReLUs**: during training, some neurons “die” (they stop outputting anything other than 0). This happens when the neuron weights get tweaked in a way that the weighted sum of inputs are negative for all instances in the training set. In these conditions, the neuron just keeps outputting zeros, and Gradient Descent does not affect it anymore because the gradient of the ReLU function is zero when its input is negative.\n",
    "\n",
    "To solve this problem, we can use a variant of the ReLU function: the **leaky ReLU**. \n",
    "\n",
    "$\\text{LeakyReLU}(x)=\\text{max}(\\alpha x, x)$ "
   ]
  },
  {
   "cell_type": "code",
   "execution_count": 6,
   "metadata": {},
   "outputs": [
    {
     "data": {
      "image/png": "[encoded data removed]",
      "text/plain": [
       "<Figure size 432x288 with 1 Axes>"
      ]
     },
     "metadata": {
      "needs_background": "light"
     },
     "output_type": "display_data"
    }
   ],
   "source": [
    "def leaky_relu(x, alpha=0.01):\n",
    "    return np.maximum(alpha*x, x)\n",
    "\n",
    "plt.plot(x, leaky_relu(x, 0.05), \"b-\", linewidth=2)\n",
    "plt.plot([-5, 5], [0, 0], 'k-')\n",
    "plt.plot([0, 0], [-0.5, 4.2], 'k-')\n",
    "plt.grid(True)\n",
    "props = dict(facecolor='black', shrink=0.1)\n",
    "plt.annotate('Leak', xytext=(-3.5, 0.5), xy=(-5, -0.2), arrowprops=props, fontsize=14, ha=\"center\")\n",
    "plt.title(\"Leaky ReLU activation function\", fontsize=14)\n",
    "plt.axis([-5, 5, -0.5, 4.2])\n",
    "\n",
    "plt.show()"
   ]
  },
  {
   "cell_type": "markdown",
   "metadata": {},
   "source": [
    "The hyperparameter $\\alpha$ defines how much the function “leaks”: it is the slope of the function for z < 0. This small slope ensures that leaky ReLUs never die; they can go into a long coma, but they have a chance to eventually wake up. \n",
    "\n",
    "Other variants are: the **randomized leaky ReLU (RReLU)**, where $\\alpha$ is picked randomly in a given range during training and is fixed to an average value during testing, and the **parametric leaky ReLU (PReLU)**, where $\\alpha$ is authorized to be learned during training. For a comparison of several variants of the ReLU activation function, we can refer to the paper:[Bing Xu et al. **Empirical Evaluation of Rectified Activations in Convolutional Network** arXiv preprint arXiv:1505.00853 (2015)](https://arxiv.org/pdf/1505.00853.pdf)\n",
    "\n",
    "In Keras, to use the leaky ReLU activation function, we can just create a LeakyReLU layer and add it to our model just after the layer we want to apply it to."
   ]
  },
  {
   "cell_type": "markdown",
   "metadata": {},
   "source": [
    "Another possibility is to use the **exponential linear unit (ELU)** activation function, that outperform ReLU variants: \n",
    "\n",
    "$\\text{ELU}_\\alpha(x) = \n",
    "\\begin{cases}\n",
    "    \\alpha(\\text{exp}(x)-1 & \\text{if} & x \\lt 0 \\\\\n",
    "     x & \\text{if} & x \\gt 0\n",
    "\\end{cases}$\n",
    "\n",
    "\n"
   ]
  },
  {
   "cell_type": "code",
   "execution_count": 7,
   "metadata": {},
   "outputs": [
    {
     "data": {
      "image/png": "[encoded data removed]",
      "text/plain": [
       "<Figure size 432x288 with 1 Axes>"
      ]
     },
     "metadata": {
      "needs_background": "light"
     },
     "output_type": "display_data"
    }
   ],
   "source": [
    "def elu(x, alpha=1):\n",
    "    return np.where(x < 0, alpha * (np.exp(x) - 1), x)\n",
    "\n",
    "plt.plot(x, elu(x), \"b-\", linewidth=2)\n",
    "plt.plot([-5, 5], [0, 0], 'k-')\n",
    "plt.plot([-5, 5], [-1, -1], 'k--')\n",
    "plt.plot([0, 0], [-2.2, 3.2], 'k-')\n",
    "plt.grid(True)\n",
    "plt.title(r\"ELU activation function ($\\alpha=1$)\", fontsize=14)\n",
    "plt.axis([-5, 5, -2.2, 3.2])\n",
    "plt.show()"
   ]
  },
  {
   "cell_type": "markdown",
   "metadata": {},
   "source": [
    "The main drawback of the ELU activation function is that it is slower to compute than the ReLU functions (due to the use of the exponential function). Its faster convergence rate during training compensates for that slow computation, but still, at test time an ELU network will be slower than a ReLU network."
   ]
  },
  {
   "cell_type": "markdown",
   "metadata": {},
   "source": [
    "Finally, the **Scaled ELU (SELU)** activation function is a variant of the ELU activation function. For a neural network composed exclusively of a stack of dense layers, the SELU activation function allows a self-normalization:\n",
    "the output of each layer will tend to preserve a mean of 0 and standard deviation of 1 during training, which solves the vanishing/exploding gradients problem. As a result, the SELU activation function often significantly outperforms other activation functions for such neural nets."
   ]
  },
  {
   "cell_type": "code",
   "execution_count": 8,
   "metadata": {},
   "outputs": [
    {
     "data": {
      "image/png": "[encoded data removed]",
      "text/plain": [
       "<Figure size 432x288 with 1 Axes>"
      ]
     },
     "metadata": {
      "needs_background": "light"
     },
     "output_type": "display_data"
    }
   ],
   "source": [
    "from scipy.special import erfc\n",
    "\n",
    "# alpha and scale to self normalize with mean 0 and standard deviation 1\n",
    "alpha_0_1 = -np.sqrt(2 / np.pi) / (erfc(1/np.sqrt(2)) * np.exp(1/2) - 1)\n",
    "scale_0_1 = (1 - erfc(1 / np.sqrt(2)) * np.sqrt(np.e)) * np.sqrt(2 * np.pi) * (2 * erfc(np.sqrt(2))*np.e**2 + np.pi*erfc(1/np.sqrt(2))**2*np.e - 2*(2+np.pi)*erfc(1/np.sqrt(2))*np.sqrt(np.e)+np.pi+2)**(-1/2)\n",
    "\n",
    "def selu(x, scale=scale_0_1, alpha=alpha_0_1):\n",
    "    return scale * elu(x, alpha)\n",
    "\n",
    "plt.plot(x, selu(x), \"b-\", linewidth=2)\n",
    "plt.plot([-5, 5], [0, 0], 'k-')\n",
    "plt.plot([-5, 5], [-1.758, -1.758], 'k--')\n",
    "plt.plot([0, 0], [-2.2, 3.2], 'k-')\n",
    "plt.grid(True)\n",
    "plt.title(\"SELU activation function\", fontsize=14)\n",
    "plt.axis([-5, 5, -2.2, 3.2])\n",
    "\n",
    "plt.show()"
   ]
  },
  {
   "cell_type": "markdown",
   "metadata": {},
   "source": [
    "So, which activation function should we use? In general SELU -> ELU -> leaky ReLU (and its variants) -> ReLU -> tanh > logistic. However, because ReLU is the most used activation function, many libraries and hardware accelerators provide ReLU-specific optimizations; therefore, if speed is a priority, ReLU might  be the best choice.\n",
    "\n",
    "An update list of activation functions with refereces can be accessed [here](https://paperswithcode.com/methods/category/activation-functions)"
   ]
  },
  {
   "cell_type": "markdown",
   "metadata": {},
   "source": [
    "Let's train a neural network on Fashion MNIST using different activation functions."
   ]
  },
  {
   "cell_type": "markdown",
   "metadata": {},
   "source": [
    "**1) Leaky ReLU**"
   ]
  },
  {
   "cell_type": "code",
   "execution_count": 9,
   "metadata": {},
   "outputs": [],
   "source": [
    "(X_train_full, y_train_full), (X_test, y_test) = keras.datasets.fashion_mnist.load_data()\n",
    "X_train_full = X_train_full / 255.0\n",
    "X_test = X_test / 255.0\n",
    "X_valid, X_train = X_train_full[:5000], X_train_full[5000:]\n",
    "y_valid, y_train = y_train_full[:5000], y_train_full[5000:]"
   ]
  },
  {
   "cell_type": "code",
   "execution_count": 10,
   "metadata": {},
   "outputs": [],
   "source": [
    "model = keras.models.Sequential([\n",
    "    keras.layers.Flatten(input_shape=[28, 28]),\n",
    "    keras.layers.Dense(300, kernel_initializer=\"he_normal\"),\n",
    "    keras.layers.LeakyReLU(),\n",
    "    keras.layers.Dense(100, kernel_initializer=\"he_normal\"),\n",
    "    keras.layers.LeakyReLU(),\n",
    "    keras.layers.Dense(10, activation=\"softmax\")\n",
    "])"
   ]
  },
  {
   "cell_type": "code",
   "execution_count": 11,
   "metadata": {},
   "outputs": [],
   "source": [
    "model.compile(loss=\"sparse_categorical_crossentropy\",\n",
    "              optimizer=keras.optimizers.SGD(lr=1e-3),\n",
    "              metrics=[\"accuracy\"])"
   ]
  },
  {
   "cell_type": "code",
   "execution_count": 12,
   "metadata": {},
   "outputs": [
    {
     "name": "stdout",
     "output_type": "stream",
     "text": [
      "Epoch 1/10\n",
      "1719/1719 [==============================] - 1s 863us/step - loss: 1.2790 - accuracy: 0.6202 - val_loss: 0.8498 - val_accuracy: 0.7422\n",
      "Epoch 2/10\n",
      "1719/1719 [==============================] - 1s 826us/step - loss: 0.7691 - accuracy: 0.7520 - val_loss: 0.6846 - val_accuracy: 0.7780\n",
      "Epoch 3/10\n",
      "1719/1719 [==============================] - 1s 821us/step - loss: 0.6611 - accuracy: 0.7825 - val_loss: 0.6151 - val_accuracy: 0.7958\n",
      "Epoch 4/10\n",
      "1719/1719 [==============================] - 1s 810us/step - loss: 0.6042 - accuracy: 0.8006 - val_loss: 0.5733 - val_accuracy: 0.8084\n",
      "Epoch 5/10\n",
      "1719/1719 [==============================] - 1s 802us/step - loss: 0.5679 - accuracy: 0.8126 - val_loss: 0.5409 - val_accuracy: 0.8214\n",
      "Epoch 6/10\n",
      "1719/1719 [==============================] - 1s 806us/step - loss: 0.5421 - accuracy: 0.8204 - val_loss: 0.5231 - val_accuracy: 0.8234\n",
      "Epoch 7/10\n",
      "1719/1719 [==============================] - 1s 797us/step - loss: 0.5228 - accuracy: 0.8262 - val_loss: 0.5035 - val_accuracy: 0.8316\n",
      "Epoch 8/10\n",
      "1719/1719 [==============================] - 1s 798us/step - loss: 0.5076 - accuracy: 0.8297 - val_loss: 0.4900 - val_accuracy: 0.8382\n",
      "Epoch 9/10\n",
      "1719/1719 [==============================] - 1s 802us/step - loss: 0.4950 - accuracy: 0.8326 - val_loss: 0.4806 - val_accuracy: 0.8402\n",
      "Epoch 10/10\n",
      "1719/1719 [==============================] - 1s 800us/step - loss: 0.4848 - accuracy: 0.8359 - val_loss: 0.4701 - val_accuracy: 0.8432\n"
     ]
    }
   ],
   "source": [
    "history = model.fit(X_train, y_train, epochs=10,\n",
    "                    validation_data=(X_valid, y_valid))"
   ]
  },
  {
   "cell_type": "markdown",
   "metadata": {},
   "source": [
    "**2) Leaky PReLU**"
   ]
  },
  {
   "cell_type": "code",
   "execution_count": 11,
   "metadata": {},
   "outputs": [],
   "source": [
    "model = keras.models.Sequential([\n",
    "    keras.layers.Flatten(input_shape=[28, 28]),\n",
    "    keras.layers.Dense(300, kernel_initializer=\"he_normal\"),\n",
    "    keras.layers.PReLU(),\n",
    "    keras.layers.Dense(100, kernel_initializer=\"he_normal\"),\n",
    "    keras.layers.PReLU(),\n",
    "    keras.layers.Dense(10, activation=\"softmax\")\n",
    "])"
   ]
  },
  {
   "cell_type": "code",
   "execution_count": 12,
   "metadata": {},
   "outputs": [],
   "source": [
    "model.compile(loss=\"sparse_categorical_crossentropy\",\n",
    "              optimizer=keras.optimizers.SGD(lr=1e-3),\n",
    "              metrics=[\"accuracy\"])"
   ]
  },
  {
   "cell_type": "code",
   "execution_count": 13,
   "metadata": {},
   "outputs": [
    {
     "name": "stdout",
     "output_type": "stream",
     "text": [
      "Epoch 1/10\n",
      "1719/1719 [==============================] - 2s 953us/step - loss: 1.4294 - accuracy: 0.5748 - val_loss: 0.9422 - val_accuracy: 0.7078\n",
      "Epoch 2/10\n",
      "1719/1719 [==============================] - 2s 925us/step - loss: 0.8367 - accuracy: 0.7343 - val_loss: 0.7381 - val_accuracy: 0.7656\n",
      "Epoch 3/10\n",
      "1719/1719 [==============================] - 2s 912us/step - loss: 0.7064 - accuracy: 0.7716 - val_loss: 0.6550 - val_accuracy: 0.7862\n",
      "Epoch 4/10\n",
      "1719/1719 [==============================] - 2s 903us/step - loss: 0.6386 - accuracy: 0.7916 - val_loss: 0.5994 - val_accuracy: 0.8034\n",
      "Epoch 5/10\n",
      "1719/1719 [==============================] - 2s 932us/step - loss: 0.5955 - accuracy: 0.8040 - val_loss: 0.5640 - val_accuracy: 0.8208\n",
      "Epoch 6/10\n",
      "1719/1719 [==============================] - 2s 913us/step - loss: 0.5651 - accuracy: 0.8128 - val_loss: 0.5382 - val_accuracy: 0.8260\n",
      "Epoch 7/10\n",
      "1719/1719 [==============================] - 2s 920us/step - loss: 0.5429 - accuracy: 0.8176 - val_loss: 0.5195 - val_accuracy: 0.8308\n",
      "Epoch 8/10\n",
      "1719/1719 [==============================] - 2s 903us/step - loss: 0.5255 - accuracy: 0.8223 - val_loss: 0.5079 - val_accuracy: 0.8316\n",
      "Epoch 9/10\n",
      "1719/1719 [==============================] - 2s 910us/step - loss: 0.5112 - accuracy: 0.8264 - val_loss: 0.4899 - val_accuracy: 0.8402\n",
      "Epoch 10/10\n",
      "1719/1719 [==============================] - 2s 908us/step - loss: 0.4990 - accuracy: 0.8297 - val_loss: 0.4803 - val_accuracy: 0.8430\n"
     ]
    }
   ],
   "source": [
    "history = model.fit(X_train, y_train, epochs=10,\n",
    "                    validation_data=(X_valid, y_valid))"
   ]
  },
  {
   "cell_type": "markdown",
   "metadata": {},
   "source": [
    "**3) SELU (with 100 hidden layers)**"
   ]
  },
  {
   "cell_type": "code",
   "execution_count": 14,
   "metadata": {},
   "outputs": [],
   "source": [
    "pixel_means = X_train.mean(axis=0, keepdims=True)\n",
    "pixel_stds = X_train.std(axis=0, keepdims=True)\n",
    "X_train_scaled = (X_train - pixel_means) / pixel_stds\n",
    "X_valid_scaled = (X_valid - pixel_means) / pixel_stds\n",
    "X_test_scaled = (X_test - pixel_means) / pixel_stds"
   ]
  },
  {
   "cell_type": "code",
   "execution_count": 15,
   "metadata": {},
   "outputs": [],
   "source": [
    "model = keras.models.Sequential()\n",
    "model.add(keras.layers.Flatten(input_shape=[28, 28]))\n",
    "model.add(keras.layers.Dense(300, activation=\"selu\",\n",
    "                             kernel_initializer=\"lecun_normal\"))\n",
    "for layer in range(99):\n",
    "    model.add(keras.layers.Dense(100, activation=\"selu\",\n",
    "                                 kernel_initializer=\"lecun_normal\"))\n",
    "model.add(keras.layers.Dense(10, activation=\"softmax\"))"
   ]
  },
  {
   "cell_type": "code",
   "execution_count": 16,
   "metadata": {},
   "outputs": [],
   "source": [
    "model.compile(loss=\"sparse_categorical_crossentropy\",\n",
    "              optimizer=keras.optimizers.SGD(lr=1e-3),\n",
    "              metrics=[\"accuracy\"])"
   ]
  },
  {
   "cell_type": "code",
   "execution_count": 17,
   "metadata": {},
   "outputs": [
    {
     "name": "stdout",
     "output_type": "stream",
     "text": [
      "Epoch 1/5\n",
      "1719/1719 [==============================] - 11s 6ms/step - loss: 0.9661 - accuracy: 0.6285 - val_loss: 0.7183 - val_accuracy: 0.7312\n",
      "Epoch 2/5\n",
      "1719/1719 [==============================] - 10s 6ms/step - loss: 0.6572 - accuracy: 0.7659 - val_loss: 0.6298 - val_accuracy: 0.7804\n",
      "Epoch 3/5\n",
      "1719/1719 [==============================] - 11s 6ms/step - loss: 0.6931 - accuracy: 0.7527 - val_loss: 1.1169 - val_accuracy: 0.7006\n",
      "Epoch 4/5\n",
      "1719/1719 [==============================] - 12s 7ms/step - loss: 0.7993 - accuracy: 0.7246 - val_loss: 0.7850 - val_accuracy: 0.7318\n",
      "Epoch 5/5\n",
      "1719/1719 [==============================] - 11s 6ms/step - loss: 0.8747 - accuracy: 0.6790 - val_loss: 0.8143 - val_accuracy: 0.6766\n"
     ]
    }
   ],
   "source": [
    "history = model.fit(X_train_scaled, y_train, epochs=5,\n",
    "                    validation_data=(X_valid_scaled, y_valid))"
   ]
  },
  {
   "cell_type": "markdown",
   "metadata": {},
   "source": [
    "Now look at what happens if we try to use the ReLU activation function with 100 hidden layers:"
   ]
  },
  {
   "cell_type": "code",
   "execution_count": 18,
   "metadata": {},
   "outputs": [],
   "source": [
    "model = keras.models.Sequential()\n",
    "model.add(keras.layers.Flatten(input_shape=[28, 28]))\n",
    "model.add(keras.layers.Dense(300, activation=\"relu\", kernel_initializer=\"he_normal\"))\n",
    "for layer in range(99):\n",
    "    model.add(keras.layers.Dense(100, activation=\"relu\", kernel_initializer=\"he_normal\"))\n",
    "model.add(keras.layers.Dense(10, activation=\"softmax\"))"
   ]
  },
  {
   "cell_type": "code",
   "execution_count": 19,
   "metadata": {},
   "outputs": [],
   "source": [
    "model.compile(loss=\"sparse_categorical_crossentropy\",\n",
    "              optimizer=keras.optimizers.SGD(lr=1e-3),\n",
    "              metrics=[\"accuracy\"])"
   ]
  },
  {
   "cell_type": "code",
   "execution_count": 20,
   "metadata": {},
   "outputs": [
    {
     "name": "stdout",
     "output_type": "stream",
     "text": [
      "Epoch 1/5\n",
      "1719/1719 [==============================] - 9s 5ms/step - loss: 1.8988 - accuracy: 0.2553 - val_loss: 1.3451 - val_accuracy: 0.4562\n",
      "Epoch 2/5\n",
      "1719/1719 [==============================] - 9s 5ms/step - loss: 1.2564 - accuracy: 0.4710 - val_loss: 1.1376 - val_accuracy: 0.4636\n",
      "Epoch 3/5\n",
      "1719/1719 [==============================] - 9s 5ms/step - loss: 0.9766 - accuracy: 0.5870 - val_loss: 0.8601 - val_accuracy: 0.6506\n",
      "Epoch 4/5\n",
      "1719/1719 [==============================] - 9s 5ms/step - loss: 0.8390 - accuracy: 0.6529 - val_loss: 0.7783 - val_accuracy: 0.6848\n",
      "Epoch 5/5\n",
      "1719/1719 [==============================] - 9s 5ms/step - loss: 0.7797 - accuracy: 0.6988 - val_loss: 0.8253 - val_accuracy: 0.6862\n"
     ]
    }
   ],
   "source": [
    "history = model.fit(X_train_scaled, y_train, epochs=5,\n",
    "                    validation_data=(X_valid_scaled, y_valid))"
   ]
  },
  {
   "cell_type": "markdown",
   "metadata": {},
   "source": [
    "Not great at all, we suffered from the vanishing/exploding gradients problem."
   ]
  },
  {
   "cell_type": "markdown",
   "metadata": {},
   "source": [
    "### Batch Normalization"
   ]
  },
  {
   "cell_type": "markdown",
   "metadata": {},
   "source": [
    "Initialization techniques andELU (or variant of ReLU) can significantly reduce the the vanishing/exploding gradients problems at the beginning of training, however it doesn’t guarantee that they won’t come back during training.\n",
    "**Batch Normalization** (BN) technique consists of adding an operation in the model before or after the activation function of each hidden layer. This operation **zerocenters and normalizes** each input, then scales and shifts the result using\n",
    "two new parameters (to be learned during backpropagation). Often, if we add a BN layer as first layer, we do not need to standardize the training set; the BN layer will do it (approximately, since it only looks at one batch at a time).\n",
    "\n",
    "In order to zero-center and normalize the inputs, the algorithm needs to estimate each input’s mean and standard deviation. It does so by evaluating the mean and standard deviation of the input over the current mini-batch (hence the name “Batch Normalization”):\n",
    "\n",
    "$\\begin{align}\n",
    "\\mu_{B}=\\frac{1}{m_B}\\sum\\limits_{i=1}^{m_B}{x^{(i)}}\n",
    "\\end{align}$ \n",
    "\n",
    "$\\begin{align}\n",
    "\\sigma _B^2 =\\frac{1}{m_B}\\sum\\limits_{i=1}^{m_B}{(x^{(i)}-\\mu _B)^2}\n",
    "\\end{align}$ \n",
    "\n",
    "$\\begin{align}\n",
    "\\hat{x}^{(i)} =\\frac{x^{(i)}-\\mu _B}{\\sqrt{\\sigma _B^2+\\epsilon}} \n",
    "\\end{align}$\n",
    "\n",
    "$\\begin{align}\n",
    "z^{(i)}=\\gamma \\otimes \\hat{x}^{(i)}+\\beta \n",
    "\\end{align}$\n",
    "\n",
    "where:\n",
    "- $B$ is the mini-batch\n",
    "- $m_B$ is the number of instances in the mini-batch\n",
    "- $\\mu_{B}$ is the vector of input means, evaluated over the mini-batch\n",
    "- $\\sigma_B$ is the vector of input standard deviations, evaluated over the minibatch\n",
    "- $\\hat{x}^{(i)}$ is the vector of zero-centered and normalized inputs for instance i\n",
    "- $\\gamma$ is the scale parameter vector for the layer\n",
    "- $\\beta$ is the shift parameter vector for the layer\n",
    "- $\\epsilon$ is a tiny number (smoothing term) to avoids division by zero\n",
    "- $z^{(i)}$ is the output of the BN operation: a rescaled and shifted version of the inputs."
   ]
  },
  {
   "cell_type": "markdown",
   "metadata": {},
   "source": [
    "So during training, BN standardizes its inputs, then rescales and offsets\n",
    "them. But what about at prediction time? We may need to make predictions for individual instances or over small batch of instances, so computing statistics would be unreliable. \n",
    "\n",
    "One solution could be to wait until the end of training, then run the whole training set through the neural network and compute the mean and standard deviation of each input of the BN layer. These “final” input means and standard deviations could then be used instead of the batch ones when making predictions. \n",
    "\n",
    "Most implementations of BN (also Keras) estimate these \"final\" statistics during training by using a moving average of the layer’s input means and standard deviations."
   ]
  },
  {
   "cell_type": "markdown",
   "metadata": {},
   "source": [
    "The paper [Sergey Ioffe and Christian Szegedy **Batch Normalization: Accelerating Deep Network Training by Reducing Internal Covariate Shift** Proceedings of the 32nd International Conference on Machine Learning (2015)](https://arxiv.org/abs/1502.03167) shows tha BN considerably improve DNN, in particular leading to a huge improvement in the [ImageNet](http://www.image-net.org/) classification task. \n",
    "\n",
    "BN, however, adds some complexity to the model and there is a runtime penalty: the NN makes slower predictions due to the extra computations required at each layer. Fortunately, it’s  possible to fuse the BN layer with the previous layer, after training, in order to avoid the runtime penalty. This is done by updating the previous layer’s weights and biases so that it directly produces outputs of the appropriate scale and offset. The previous laryer computes: \n",
    "\n",
    "$\\begin{align}\n",
    "XW+b\n",
    "\\end{align}$\n",
    "\n",
    "the BN layers computes (ignoring the smoothing term): \n",
    "\n",
    "$\\begin{align}\n",
    "\\gamma \\otimes \\frac{(XW+b-\\mu)}{\\sigma} + \\beta\n",
    "\\end{align}$\n",
    "\n",
    "If we define:\n",
    "\n",
    "$\\begin{align}\n",
    "W' = \\gamma \\otimes \\frac{W}{\\sigma}\n",
    "\\end{align}$\n",
    "\n",
    "$\\begin{align}\n",
    "b'= \\gamma \\otimes \\frac{(b-\\mu)}{\\sigma} +\\beta\n",
    "\\end{align}$\n",
    "\n",
    "the equation simplifies to\n",
    "\n",
    "$\\begin{align}\n",
    "XW'+b'\n",
    "\\end{align}$\n",
    "\n",
    "So, if we replace the previous layer’s weights and biases ($W$ and $b$) with the updated weights and biases ($W'$ and $b'$), we can get rid of the BN layer."
   ]
  },
  {
   "cell_type": "markdown",
   "metadata": {},
   "source": [
    "In Keras, we can use BN just adding a **BatchNormalization** layer before or after each hidden layer activation function. As an example, the following model applies BN after every hidden layer and as the first layer (after flattening the input images): "
   ]
  },
  {
   "cell_type": "code",
   "execution_count": 21,
   "metadata": {},
   "outputs": [],
   "source": [
    "model = keras.models.Sequential([\n",
    "    keras.layers.Flatten(input_shape=[28, 28]),\n",
    "    keras.layers.BatchNormalization(),\n",
    "    keras.layers.Dense(300, activation=\"relu\"),\n",
    "    keras.layers.BatchNormalization(),\n",
    "    keras.layers.Dense(100, activation=\"relu\"),\n",
    "    keras.layers.BatchNormalization(),\n",
    "    keras.layers.Dense(10, activation=\"softmax\")\n",
    "])"
   ]
  },
  {
   "cell_type": "markdown",
   "metadata": {},
   "source": [
    "In tiny example with just two hidden layers, it’s unlikely that BN will have a positive impact, but for deeper networks it can make a tremendous difference."
   ]
  },
  {
   "cell_type": "code",
   "execution_count": 22,
   "metadata": {},
   "outputs": [
    {
     "name": "stdout",
     "output_type": "stream",
     "text": [
      "Model: \"sequential_4\"\n",
      "_________________________________________________________________\n",
      "Layer (type)                 Output Shape              Param #   \n",
      "=================================================================\n",
      "flatten_4 (Flatten)          (None, 784)               0         \n",
      "_________________________________________________________________\n",
      "batch_normalization (BatchNo (None, 784)               3136      \n",
      "_________________________________________________________________\n",
      "dense_208 (Dense)            (None, 300)               235500    \n",
      "_________________________________________________________________\n",
      "batch_normalization_1 (Batch (None, 300)               1200      \n",
      "_________________________________________________________________\n",
      "dense_209 (Dense)            (None, 100)               30100     \n",
      "_________________________________________________________________\n",
      "batch_normalization_2 (Batch (None, 100)               400       \n",
      "_________________________________________________________________\n",
      "dense_210 (Dense)            (None, 10)                1010      \n",
      "=================================================================\n",
      "Total params: 271,346\n",
      "Trainable params: 268,978\n",
      "Non-trainable params: 2,368\n",
      "_________________________________________________________________\n"
     ]
    }
   ],
   "source": [
    "model.summary()"
   ]
  },
  {
   "cell_type": "markdown",
   "metadata": {},
   "source": [
    "As we can see, each BN layer adds four parameters per input ($\\gamma$, $\\beta$, $\\mu$, and $\\sigma$), the first BN layer adds 3.136 parameters (which is 4x784). The last two parameters ($\\mu$, and $\\sigma$) are the moving averages and they are not affected by backpropagation, so Keras calls them **non-trainable** (3.136 + 1.200 + 400)/2=2.368"
   ]
  },
  {
   "cell_type": "code",
   "execution_count": 23,
   "metadata": {},
   "outputs": [
    {
     "name": "stdout",
     "output_type": "stream",
     "text": [
      "Epoch 1/10\n",
      "1719/1719 [==============================] - 2s 1ms/step - loss: 0.8207 - accuracy: 0.7272 - val_loss: 0.5385 - val_accuracy: 0.8208\n",
      "Epoch 2/10\n",
      "1719/1719 [==============================] - 2s 1ms/step - loss: 0.5607 - accuracy: 0.8067 - val_loss: 0.4672 - val_accuracy: 0.8418\n",
      "Epoch 3/10\n",
      "1719/1719 [==============================] - 2s 1ms/step - loss: 0.5059 - accuracy: 0.8235 - val_loss: 0.4333 - val_accuracy: 0.8524\n",
      "Epoch 4/10\n",
      "1719/1719 [==============================] - 2s 1ms/step - loss: 0.4742 - accuracy: 0.8345 - val_loss: 0.4137 - val_accuracy: 0.8600\n",
      "Epoch 5/10\n",
      "1719/1719 [==============================] - 2s 1ms/step - loss: 0.4525 - accuracy: 0.8414 - val_loss: 0.4014 - val_accuracy: 0.8630\n",
      "Epoch 6/10\n",
      "1719/1719 [==============================] - 2s 1ms/step - loss: 0.4342 - accuracy: 0.8474 - val_loss: 0.3884 - val_accuracy: 0.8656\n",
      "Epoch 7/10\n",
      "1719/1719 [==============================] - 2s 1ms/step - loss: 0.4220 - accuracy: 0.8533 - val_loss: 0.3819 - val_accuracy: 0.8700\n",
      "Epoch 8/10\n",
      "1719/1719 [==============================] - 2s 1ms/step - loss: 0.4092 - accuracy: 0.8558 - val_loss: 0.3713 - val_accuracy: 0.8718\n",
      "Epoch 9/10\n",
      "1719/1719 [==============================] - 2s 1ms/step - loss: 0.3947 - accuracy: 0.8597 - val_loss: 0.3671 - val_accuracy: 0.8718\n",
      "Epoch 10/10\n",
      "1719/1719 [==============================] - 3s 1ms/step - loss: 0.3876 - accuracy: 0.8639 - val_loss: 0.3606 - val_accuracy: 0.8744\n"
     ]
    }
   ],
   "source": [
    "model.compile(loss=\"sparse_categorical_crossentropy\",\n",
    "              optimizer=keras.optimizers.SGD(lr=1e-3),\n",
    "              metrics=[\"accuracy\"])\n",
    "\n",
    "history = model.fit(X_train, y_train, epochs=10, validation_data=(X_valid, y_valid))"
   ]
  },
  {
   "cell_type": "markdown",
   "metadata": {},
   "source": [
    "Sometimes applying BN before the activation function works better, there's a debate on this topic:"
   ]
  },
  {
   "cell_type": "code",
   "execution_count": 24,
   "metadata": {},
   "outputs": [
    {
     "name": "stdout",
     "output_type": "stream",
     "text": [
      "Epoch 1/10\n",
      "1719/1719 [==============================] - 2s 1ms/step - loss: 1.0846 - accuracy: 0.6596 - val_loss: 0.6806 - val_accuracy: 0.7862\n",
      "Epoch 2/10\n",
      "1719/1719 [==============================] - 2s 1ms/step - loss: 0.6804 - accuracy: 0.7793 - val_loss: 0.5559 - val_accuracy: 0.8176\n",
      "Epoch 3/10\n",
      "1719/1719 [==============================] - 2s 1ms/step - loss: 0.5916 - accuracy: 0.8027 - val_loss: 0.5020 - val_accuracy: 0.8314\n",
      "Epoch 4/10\n",
      "1719/1719 [==============================] - 2s 1ms/step - loss: 0.5435 - accuracy: 0.8162 - val_loss: 0.4686 - val_accuracy: 0.8432\n",
      "Epoch 5/10\n",
      "1719/1719 [==============================] - 2s 1ms/step - loss: 0.5118 - accuracy: 0.8251 - val_loss: 0.4459 - val_accuracy: 0.8502\n",
      "Epoch 6/10\n",
      "1719/1719 [==============================] - 2s 1ms/step - loss: 0.4906 - accuracy: 0.8320 - val_loss: 0.4294 - val_accuracy: 0.8568\n",
      "Epoch 7/10\n",
      "1719/1719 [==============================] - 2s 1ms/step - loss: 0.4699 - accuracy: 0.8387 - val_loss: 0.4171 - val_accuracy: 0.8578\n",
      "Epoch 8/10\n",
      "1719/1719 [==============================] - 2s 1ms/step - loss: 0.4584 - accuracy: 0.8406 - val_loss: 0.4053 - val_accuracy: 0.8616\n",
      "Epoch 9/10\n",
      "1719/1719 [==============================] - 2s 1ms/step - loss: 0.4441 - accuracy: 0.8451 - val_loss: 0.3970 - val_accuracy: 0.8642\n",
      "Epoch 10/10\n",
      "1719/1719 [==============================] - 2s 1ms/step - loss: 0.4324 - accuracy: 0.8498 - val_loss: 0.3897 - val_accuracy: 0.8666\n"
     ]
    }
   ],
   "source": [
    "model = keras.models.Sequential([\n",
    "    keras.layers.Flatten(input_shape=[28, 28]),\n",
    "    keras.layers.BatchNormalization(),\n",
    "    keras.layers.Dense(300, use_bias=False),\n",
    "    keras.layers.BatchNormalization(),\n",
    "    keras.layers.Activation(\"relu\"),\n",
    "    keras.layers.Dense(100, use_bias=False),\n",
    "    keras.layers.BatchNormalization(),\n",
    "    keras.layers.Activation(\"relu\"),\n",
    "    keras.layers.Dense(10, activation=\"softmax\")\n",
    "])\n",
    "\n",
    "model.compile(loss=\"sparse_categorical_crossentropy\",\n",
    "              optimizer=keras.optimizers.SGD(lr=1e-3),\n",
    "              metrics=[\"accuracy\"])\n",
    "\n",
    "history = model.fit(X_train, y_train, epochs=10, validation_data=(X_valid, y_valid))"
   ]
  },
  {
   "cell_type": "markdown",
   "metadata": {},
   "source": [
    "BN has become one of the most-used layers in DNN, to the point that it is often omitted in the diagrams, as it is assumed that BN is added after every layer. However, a recent paper [Hongyi Zhang et al. **Fixup Initialization: Residual Learning Without Normalization** arXiv preprint arXiv:1901.09321 (2019)](https://arxiv.org/abs/1901.09321) may change this assumption: by using a novel weight initialization technique, the authors managed to train a very deep NN (10,000 layers!) without BN, achieving state-of-the-art performance on complex image classification tasks."
   ]
  },
  {
   "cell_type": "markdown",
   "metadata": {},
   "source": [
    "### Gradient Clipping\n",
    "\n",
    "Another popular technique to mitigate the exploding gradients problem is to clip the gradients during backpropagation so that they never exceed some threshold. This technique, called **Gradient Clipping**, was presented in the paper [Razvan Pascanu et al. **On the Difficulty of Training Recurrent Neural Networks** Proceedings of the 30th International Conference on Machine Learning (2013)](https://arxiv.org/abs/1211.5063) and it is most often used in recurrent neural networks, for other types of networks, BN is usually sufficient."
   ]
  },
  {
   "cell_type": "markdown",
   "metadata": {},
   "source": [
    "In Keras, the use of Gradient Clipping is done by setting **clipvalue** or **clipnorm** arguments when creating an optimizer:"
   ]
  },
  {
   "cell_type": "code",
   "execution_count": 25,
   "metadata": {},
   "outputs": [],
   "source": [
    "optimizer = keras.optimizers.SGD(clipvalue=1.0)\n",
    "model.compile(loss=\"mse\", optimizer=optimizer)"
   ]
  },
  {
   "cell_type": "markdown",
   "metadata": {},
   "source": [
    "This optimizer will clip every component of the gradient vector to a value between –1.0 and 1.0. Note that this may change the orientation of the gradient vector. For instance, if the\n",
    "original gradient vector is [0.9, 100.0], it points mostly in the direction of the second axis; but once you clip it by value, you get [0.9, 1.0], which points roughly in the diagonal between the two axes. In practice, this approach works well. If we want to ensure that Gradient Clipping does not change the direction of the gradient vector, we can clip by norm by setting clipnorm instead of clipvalue. This will clip the whole gradient if its norm is greater than the threshold."
   ]
  },
  {
   "cell_type": "markdown",
   "metadata": {},
   "source": [
    "## Transfer Learning\n",
    "\n",
    "It is generally not a good idea to train a large DNN from scratch: instead, we can try to find an existing neural network that accomplishes a similar task to the one we are trying to tackle, then reuse the lower layers of this network. This technique is called **transfer learning**. It will not only speedcup training considerably, but also require significantly less training data."
   ]
  },
  {
   "cell_type": "markdown",
   "metadata": {},
   "source": [
    "Suppose we have access to a DNN that was trained to classify pictures into 100 different categories (e.g. animals, plants, vehicles, and everyday objects) and we want to train a DNN to classify specific types of vehicles. These tasks are very similar, even partly overlapping, so we can try to reuse parts of the first network.\n",
    "\n",
    "<img src=\"./images/transfer-learning.png\" width=\"500\">\n",
    "\n",
    "The output layer of the original model should usually be replaced because it is most likely not useful at all for the new task, and it may not even have the right number of outputs for the new task. Similarly, the upper hidden layers of the original model are less likely to be as useful as the lower layers, since the high-level features that are most useful for the new task may differ significantly from the ones that were most useful for the original task. We have  to find the right number of layers to reuse: the more similar the tasks are, the more layers we can reuse (starting with the lower layers). For very similar tasks, we can try to keep all the hidden layers and just replace the output layer."
   ]
  },
  {
   "cell_type": "markdown",
   "metadata": {},
   "source": [
    "Let's look at a simple example in order to show how Transfer Learning can be implemented in Keras. Suppose someone has built a model on a simpler Fashion MNIST dataset (one with only eight classes, all the classes except for sandal and shirt). Let’s call this model A. We now want to tackle a different task: we have images of sandals and shirts, and we want to train a binary classifier (positive=shirt, negative=sandal). That task is quite similar to the first one, so we can try transfer learning."
   ]
  },
  {
   "cell_type": "markdown",
   "metadata": {},
   "source": [
    "Let's split the fashion MNIST training set in two:\n",
    "- X_train_A: all images of all items except for sandals and shirts (classes 5 and 6)\n",
    "- X_train_B: a much smaller training set of just the first 200 images of sandals or shirts"
   ]
  },
  {
   "cell_type": "code",
   "execution_count": 26,
   "metadata": {},
   "outputs": [],
   "source": [
    "def split_dataset(X, y):\n",
    "    y_5_or_6 = (y == 5) | (y == 6) # sandals or shirts\n",
    "    y_A = y[~y_5_or_6]\n",
    "    y_A[y_A > 6] -= 2 # class indices 7, 8, 9 should be moved to 5, 6, 7\n",
    "    y_B = (y[y_5_or_6] == 6).astype(np.float32) # binary classification task: is it a shirt (class 6)?\n",
    "    return ((X[~y_5_or_6], y_A),\n",
    "            (X[y_5_or_6], y_B))\n",
    "\n",
    "(X_train_A, y_train_A), (X_train_B, y_train_B) = split_dataset(X_train, y_train)\n",
    "(X_valid_A, y_valid_A), (X_valid_B, y_valid_B) = split_dataset(X_valid, y_valid)\n",
    "(X_test_A, y_test_A), (X_test_B, y_test_B) = split_dataset(X_test, y_test)\n",
    "X_train_B = X_train_B[:200]\n",
    "y_train_B = y_train_B[:200]"
   ]
  },
  {
   "cell_type": "code",
   "execution_count": 27,
   "metadata": {},
   "outputs": [],
   "source": [
    "model_A = keras.models.Sequential()\n",
    "model_A.add(keras.layers.Flatten(input_shape=[28, 28]))\n",
    "for n_hidden in (300, 100, 50, 50, 50):\n",
    "    model_A.add(keras.layers.Dense(n_hidden, activation=\"selu\"))\n",
    "model_A.add(keras.layers.Dense(8, activation=\"softmax\"))"
   ]
  },
  {
   "cell_type": "code",
   "execution_count": 28,
   "metadata": {},
   "outputs": [
    {
     "name": "stdout",
     "output_type": "stream",
     "text": [
      "Epoch 1/20\n",
      "1375/1375 [==============================] - 1s 973us/step - loss: 0.6087 - accuracy: 0.8035 - val_loss: 0.3900 - val_accuracy: 0.8625\n",
      "Epoch 2/20\n",
      "1375/1375 [==============================] - 1s 892us/step - loss: 0.3626 - accuracy: 0.8756 - val_loss: 0.3363 - val_accuracy: 0.8764\n",
      "Epoch 3/20\n",
      "1375/1375 [==============================] - 1s 885us/step - loss: 0.3232 - accuracy: 0.8887 - val_loss: 0.3071 - val_accuracy: 0.8916\n",
      "Epoch 4/20\n",
      "1375/1375 [==============================] - 1s 890us/step - loss: 0.3031 - accuracy: 0.8950 - val_loss: 0.2925 - val_accuracy: 0.8991\n",
      "Epoch 5/20\n",
      "1375/1375 [==============================] - 1s 886us/step - loss: 0.2890 - accuracy: 0.9002 - val_loss: 0.2872 - val_accuracy: 0.8986\n",
      "Epoch 6/20\n",
      "1375/1375 [==============================] - 1s 889us/step - loss: 0.2791 - accuracy: 0.9041 - val_loss: 0.2795 - val_accuracy: 0.9028\n",
      "Epoch 7/20\n",
      "1375/1375 [==============================] - 1s 884us/step - loss: 0.2707 - accuracy: 0.9078 - val_loss: 0.2681 - val_accuracy: 0.9091\n",
      "Epoch 8/20\n",
      "1375/1375 [==============================] - 1s 886us/step - loss: 0.2640 - accuracy: 0.9094 - val_loss: 0.2632 - val_accuracy: 0.9108\n",
      "Epoch 9/20\n",
      "1375/1375 [==============================] - 1s 887us/step - loss: 0.2585 - accuracy: 0.9118 - val_loss: 0.2592 - val_accuracy: 0.9143\n",
      "Epoch 10/20\n",
      "1375/1375 [==============================] - 1s 890us/step - loss: 0.2538 - accuracy: 0.9128 - val_loss: 0.2519 - val_accuracy: 0.9133\n",
      "Epoch 11/20\n",
      "1375/1375 [==============================] - 1s 886us/step - loss: 0.2492 - accuracy: 0.9153 - val_loss: 0.2579 - val_accuracy: 0.9131\n",
      "Epoch 12/20\n",
      "1375/1375 [==============================] - 1s 886us/step - loss: 0.2450 - accuracy: 0.9161 - val_loss: 0.2477 - val_accuracy: 0.9148\n",
      "Epoch 13/20\n",
      "1375/1375 [==============================] - 1s 904us/step - loss: 0.2419 - accuracy: 0.9170 - val_loss: 0.2473 - val_accuracy: 0.9145\n",
      "Epoch 14/20\n",
      "1375/1375 [==============================] - 1s 889us/step - loss: 0.2381 - accuracy: 0.9192 - val_loss: 0.2452 - val_accuracy: 0.9165\n",
      "Epoch 15/20\n",
      "1375/1375 [==============================] - 1s 887us/step - loss: 0.2351 - accuracy: 0.9190 - val_loss: 0.2417 - val_accuracy: 0.9143\n",
      "Epoch 16/20\n",
      "1375/1375 [==============================] - 1s 887us/step - loss: 0.2324 - accuracy: 0.9211 - val_loss: 0.2492 - val_accuracy: 0.9160\n",
      "Epoch 17/20\n",
      "1375/1375 [==============================] - 1s 889us/step - loss: 0.2294 - accuracy: 0.9217 - val_loss: 0.2435 - val_accuracy: 0.9138\n",
      "Epoch 18/20\n",
      "1375/1375 [==============================] - 1s 889us/step - loss: 0.2268 - accuracy: 0.9227 - val_loss: 0.2395 - val_accuracy: 0.9175\n",
      "Epoch 19/20\n",
      "1375/1375 [==============================] - 1s 897us/step - loss: 0.2244 - accuracy: 0.9235 - val_loss: 0.2377 - val_accuracy: 0.9170\n",
      "Epoch 20/20\n",
      "1375/1375 [==============================] - 1s 892us/step - loss: 0.2218 - accuracy: 0.9243 - val_loss: 0.2354 - val_accuracy: 0.9175\n"
     ]
    }
   ],
   "source": [
    "model_A.compile(loss=\"sparse_categorical_crossentropy\",\n",
    "                optimizer=keras.optimizers.SGD(lr=1e-3),\n",
    "                metrics=[\"accuracy\"])\n",
    "\n",
    "history = model_A.fit(X_train_A, y_train_A, epochs=20,\n",
    "                    validation_data=(X_valid_A, y_valid_A))"
   ]
  },
  {
   "cell_type": "markdown",
   "metadata": {},
   "source": [
    "Now we create a new model (model B) based on that model A layers, let’s reuse all the layers except for the output layer. We can train model B for task B, but since the new output layer was initialized randomly, it will make large errors, so there will be large error gradients that may wreck the reused weights. To avoid this, one approach is to freeze the reused layers during the first few epochs, giving the new layer some time to learn reasonable weights. To do this, we have to set every layer’s trainable attribute to false, compile the model and train it for a few epochs; then unfreeze the reused layers (which requires compiling the model again) and continue training to fine-tune the reused layers for task B."
   ]
  },
  {
   "cell_type": "code",
   "execution_count": 29,
   "metadata": {},
   "outputs": [
    {
     "name": "stdout",
     "output_type": "stream",
     "text": [
      "Epoch 1/4\n",
      "7/7 [==============================] - 0s 18ms/step - loss: 0.6857 - accuracy: 0.5950 - val_loss: 0.6873 - val_accuracy: 0.6024\n",
      "Epoch 2/4\n",
      "7/7 [==============================] - 0s 5ms/step - loss: 0.6125 - accuracy: 0.6700 - val_loss: 0.6227 - val_accuracy: 0.6744\n",
      "Epoch 3/4\n",
      "7/7 [==============================] - 0s 5ms/step - loss: 0.5522 - accuracy: 0.7200 - val_loss: 0.5673 - val_accuracy: 0.7323\n",
      "Epoch 4/4\n",
      "7/7 [==============================] - 0s 5ms/step - loss: 0.5007 - accuracy: 0.8050 - val_loss: 0.5203 - val_accuracy: 0.7698\n",
      "Epoch 1/16\n",
      "7/7 [==============================] - 0s 18ms/step - loss: 0.4000 - accuracy: 0.8800 - val_loss: 0.3507 - val_accuracy: 0.8955\n",
      "Epoch 2/16\n",
      "7/7 [==============================] - 0s 5ms/step - loss: 0.2824 - accuracy: 0.9500 - val_loss: 0.2683 - val_accuracy: 0.9452\n",
      "Epoch 3/16\n",
      "7/7 [==============================] - 0s 5ms/step - loss: 0.2175 - accuracy: 0.9600 - val_loss: 0.2175 - val_accuracy: 0.9574\n",
      "Epoch 4/16\n",
      "7/7 [==============================] - 0s 5ms/step - loss: 0.1778 - accuracy: 0.9800 - val_loss: 0.1847 - val_accuracy: 0.9675\n",
      "Epoch 5/16\n",
      "7/7 [==============================] - 0s 5ms/step - loss: 0.1508 - accuracy: 0.9850 - val_loss: 0.1605 - val_accuracy: 0.9726\n",
      "Epoch 6/16\n",
      "7/7 [==============================] - 0s 5ms/step - loss: 0.1308 - accuracy: 0.9900 - val_loss: 0.1422 - val_accuracy: 0.9797\n",
      "Epoch 7/16\n",
      "7/7 [==============================] - 0s 5ms/step - loss: 0.1157 - accuracy: 0.9950 - val_loss: 0.1282 - val_accuracy: 0.9807\n",
      "Epoch 8/16\n",
      "7/7 [==============================] - 0s 5ms/step - loss: 0.1038 - accuracy: 0.9950 - val_loss: 0.1173 - val_accuracy: 0.9828\n",
      "Epoch 9/16\n",
      "7/7 [==============================] - 0s 5ms/step - loss: 0.0947 - accuracy: 0.9950 - val_loss: 0.1085 - val_accuracy: 0.9828\n",
      "Epoch 10/16\n",
      "7/7 [==============================] - 0s 5ms/step - loss: 0.0870 - accuracy: 0.9950 - val_loss: 0.1009 - val_accuracy: 0.9828\n",
      "Epoch 11/16\n",
      "7/7 [==============================] - 0s 5ms/step - loss: 0.0807 - accuracy: 0.9950 - val_loss: 0.0942 - val_accuracy: 0.9858\n",
      "Epoch 12/16\n",
      "7/7 [==============================] - 0s 5ms/step - loss: 0.0752 - accuracy: 0.9950 - val_loss: 0.0889 - val_accuracy: 0.9868\n",
      "Epoch 13/16\n",
      "7/7 [==============================] - 0s 5ms/step - loss: 0.0705 - accuracy: 0.9950 - val_loss: 0.0843 - val_accuracy: 0.9878\n",
      "Epoch 14/16\n",
      "7/7 [==============================] - 0s 5ms/step - loss: 0.0666 - accuracy: 0.9950 - val_loss: 0.0802 - val_accuracy: 0.9888\n",
      "Epoch 15/16\n",
      "7/7 [==============================] - 0s 5ms/step - loss: 0.0630 - accuracy: 0.9950 - val_loss: 0.0767 - val_accuracy: 0.9888\n",
      "Epoch 16/16\n",
      "7/7 [==============================] - 0s 5ms/step - loss: 0.0599 - accuracy: 0.9950 - val_loss: 0.0733 - val_accuracy: 0.9899\n"
     ]
    }
   ],
   "source": [
    "model_A_clone = keras.models.clone_model(model_A)\n",
    "model_A_clone.set_weights(model_A.get_weights())\n",
    "model_B = keras.models.Sequential(model_A_clone.layers[:-1])\n",
    "model_B.add(keras.layers.Dense(1, activation=\"sigmoid\"))\n",
    "\n",
    "for layer in model_B.layers[:-1]:\n",
    "    layer.trainable = False\n",
    "\n",
    "model_B.compile(loss=\"binary_crossentropy\",\n",
    "                optimizer=keras.optimizers.SGD(lr=1e-3),\n",
    "                metrics=[\"accuracy\"])\n",
    "\n",
    "history = model_B.fit(X_train_B, y_train_B, epochs=4,\n",
    "                      validation_data=(X_valid_B, y_valid_B))\n",
    "\n",
    "for layer in model_B.layers[:-1]:\n",
    "    layer.trainable = True\n",
    "\n",
    "model_B.compile(loss=\"binary_crossentropy\",\n",
    "                optimizer=keras.optimizers.SGD(lr=1e-3),\n",
    "                metrics=[\"accuracy\"])\n",
    "\n",
    "history = model_B.fit(X_train_B, y_train_B, epochs=16,\n",
    "                      validation_data=(X_valid_B, y_valid_B))"
   ]
  },
  {
   "cell_type": "markdown",
   "metadata": {},
   "source": [
    "So, what’s the final verdict? We can compare with a network learned from scratch:"
   ]
  },
  {
   "cell_type": "code",
   "execution_count": 30,
   "metadata": {},
   "outputs": [
    {
     "name": "stdout",
     "output_type": "stream",
     "text": [
      "Epoch 1/20\n",
      "7/7 [==============================] - 0s 18ms/step - loss: 0.9043 - accuracy: 0.4700 - val_loss: 0.7915 - val_accuracy: 0.5213\n",
      "Epoch 2/20\n",
      "7/7 [==============================] - 0s 5ms/step - loss: 0.7158 - accuracy: 0.6150 - val_loss: 0.6530 - val_accuracy: 0.6268\n",
      "Epoch 3/20\n",
      "7/7 [==============================] - 0s 5ms/step - loss: 0.5870 - accuracy: 0.6850 - val_loss: 0.5427 - val_accuracy: 0.7170\n",
      "Epoch 4/20\n",
      "7/7 [==============================] - 0s 5ms/step - loss: 0.4858 - accuracy: 0.7650 - val_loss: 0.4640 - val_accuracy: 0.7982\n",
      "Epoch 5/20\n",
      "7/7 [==============================] - 0s 5ms/step - loss: 0.4124 - accuracy: 0.8200 - val_loss: 0.4019 - val_accuracy: 0.8550\n",
      "Epoch 6/20\n",
      "7/7 [==============================] - 0s 5ms/step - loss: 0.3545 - accuracy: 0.8850 - val_loss: 0.3522 - val_accuracy: 0.9026\n",
      "Epoch 7/20\n",
      "7/7 [==============================] - 0s 5ms/step - loss: 0.3055 - accuracy: 0.9250 - val_loss: 0.3134 - val_accuracy: 0.9300\n",
      "Epoch 8/20\n",
      "7/7 [==============================] - 0s 5ms/step - loss: 0.2686 - accuracy: 0.9550 - val_loss: 0.2839 - val_accuracy: 0.9412\n",
      "Epoch 9/20\n",
      "7/7 [==============================] - 0s 5ms/step - loss: 0.2399 - accuracy: 0.9650 - val_loss: 0.2595 - val_accuracy: 0.9442\n",
      "Epoch 10/20\n",
      "7/7 [==============================] - 0s 6ms/step - loss: 0.2167 - accuracy: 0.9750 - val_loss: 0.2382 - val_accuracy: 0.9533\n",
      "Epoch 11/20\n",
      "7/7 [==============================] - 0s 6ms/step - loss: 0.1964 - accuracy: 0.9750 - val_loss: 0.2203 - val_accuracy: 0.9594\n",
      "Epoch 12/20\n",
      "7/7 [==============================] - 0s 5ms/step - loss: 0.1789 - accuracy: 0.9750 - val_loss: 0.2067 - val_accuracy: 0.9625\n",
      "Epoch 13/20\n",
      "7/7 [==============================] - 0s 6ms/step - loss: 0.1657 - accuracy: 0.9750 - val_loss: 0.1938 - val_accuracy: 0.9655\n",
      "Epoch 14/20\n",
      "7/7 [==============================] - 0s 6ms/step - loss: 0.1533 - accuracy: 0.9750 - val_loss: 0.1826 - val_accuracy: 0.9675\n",
      "Epoch 15/20\n",
      "7/7 [==============================] - 0s 5ms/step - loss: 0.1423 - accuracy: 0.9850 - val_loss: 0.1728 - val_accuracy: 0.9686\n",
      "Epoch 16/20\n",
      "7/7 [==============================] - 0s 5ms/step - loss: 0.1327 - accuracy: 0.9900 - val_loss: 0.1638 - val_accuracy: 0.9675\n",
      "Epoch 17/20\n",
      "7/7 [==============================] - 0s 5ms/step - loss: 0.1240 - accuracy: 0.9900 - val_loss: 0.1563 - val_accuracy: 0.9686\n",
      "Epoch 18/20\n",
      "7/7 [==============================] - 0s 5ms/step - loss: 0.1168 - accuracy: 0.9900 - val_loss: 0.1494 - val_accuracy: 0.9706\n",
      "Epoch 19/20\n",
      "7/7 [==============================] - 0s 6ms/step - loss: 0.1101 - accuracy: 0.9900 - val_loss: 0.1435 - val_accuracy: 0.9716\n",
      "Epoch 20/20\n",
      "7/7 [==============================] - 0s 6ms/step - loss: 0.1042 - accuracy: 0.9900 - val_loss: 0.1381 - val_accuracy: 0.9716\n"
     ]
    }
   ],
   "source": [
    "model_B = keras.models.Sequential()\n",
    "model_B.add(keras.layers.Flatten(input_shape=[28, 28]))\n",
    "for n_hidden in (300, 100, 50, 50, 50):\n",
    "    model_B.add(keras.layers.Dense(n_hidden, activation=\"selu\"))\n",
    "model_B.add(keras.layers.Dense(1, activation=\"sigmoid\"))\n",
    "\n",
    "model_B.compile(loss=\"binary_crossentropy\",\n",
    "                optimizer=keras.optimizers.SGD(lr=1e-3),\n",
    "                metrics=[\"accuracy\"])\n",
    "\n",
    "history = model_B.fit(X_train_B, y_train_B, epochs=20,\n",
    "                      validation_data=(X_valid_B, y_valid_B))"
   ]
  },
  {
   "cell_type": "markdown",
   "metadata": {},
   "source": [
    "If you try to change the classes or the random seed, you will see that the improvement generally drops, or even vanishes or reverses.\n",
    "\n",
    "It turns out that transfer learning does not work very well with small dense networks, presumably because small networks learn few patterns, and dense networks learn very specific patterns, which are unlikely to be useful in other tasks. Transfer learning works best with deep convolutional neural networks, which tend to learn feature detectors that are much more general (especially in the lower layers). "
   ]
  },
  {
   "cell_type": "markdown",
   "metadata": {},
   "source": [
    "## Faster Optimization\n",
    "\n",
    "Training large DNNs can be painfully slow. A huge speed boost comes from using a\n",
    "faster optimizer than the regular Gradient Descent optimizer. In this section we will present the most popular algorithms: momentum optimization, Nesterov Accelerated Gradient, AdaGrad, RMSProp, and finally Adam and Nadam optimization."
   ]
  },
  {
   "cell_type": "markdown",
   "metadata": {},
   "source": [
    "### Momentum Optimization\n",
    "\n",
    "Imagine a bowling ball rolling down a gentle slope on a smooth surface: it will start out slowly, but it will quickly pick up momentum until it eventually reaches terminal velocity. In contrast, regular Gradient Descent will simply take small, regular steps down the slope, so the algorithm will take much more time to reach the bottom.\n",
    "\n",
    "Recall that Gradient Descent updates the weights by subtracting the gradient of the cost function with regard to the weight multiplied by the learning rate:\n",
    "\n",
    "$\\theta = \\theta - \\eta \\nabla J(\\theta)$\n",
    "\n",
    "It does not care about what the earlier gradients were. If the local gradient is tiny, it goes very slowly.\n",
    "\n",
    "Momentum optimization ([Boris T. Polyak **Some Methods of Speeding Up the Convergence of Iteration Methods** USSR Computational Mathematics and Mathematical Physics 4, no. 5 (1964)](https://vsokolov.org/courses/750/files/polyak64.pdf)) cares a great deal about what previous gradients were: at each iteration, it subtracts the local gradient from the momentum vector $m$ and it updates the weights by adding this momentum:\n",
    "\n",
    "$1.\\quad m \\longleftarrow \\beta m - \\eta \\nabla_{\\theta} J(\\theta)$\n",
    "\n",
    "$2.\\quad \\theta \\longleftarrow \\theta + m$\n",
    "\n",
    "In other words, the gradient is **used for acceleration, not for speed**. To simulate some sort of friction mechanism and prevent the momentum from growing too large, the algorithm introduces a new hyperparameter $\\beta$, called the **momentum**, which must be set between 0 (high friction) and 1 (no friction). A typicalvmomentum value is 0.9."
   ]
  },
  {
   "cell_type": "markdown",
   "metadata": {},
   "source": [
    "We can add a Momentum optimezer to our from scratch library:"
   ]
  },
  {
   "cell_type": "code",
   "execution_count": 14,
   "metadata": {},
   "outputs": [],
   "source": [
    "from scratch.linear_algebra import Tensor\n",
    "from scratch.neural_networks import Layer, Optimizer\n",
    "\n",
    "class Momentum(Optimizer):\n",
    "    def __init__(self,\n",
    "                 learning_rate: float,\n",
    "                 momentum: float = 0.9) -> None:\n",
    "        self.lr = learning_rate\n",
    "        self.mo = momentum\n",
    "        self.updates: List[Tensor] = []  # running average\n",
    "\n",
    "    def step(self, layer: Layer) -> None:\n",
    "        # If we have no previous updates, start with all zeros.\n",
    "        if not self.updates:\n",
    "            self.updates = [zeros_like(grad) for grad in layer.grads()]\n",
    "\n",
    "        for update, param, grad in zip(self.updates,\n",
    "                                       layer.params(),\n",
    "                                       layer.grads()):\n",
    "            # Apply momentum\n",
    "            update[:] = tensor_combine(\n",
    "                lambda u, g: self.mo * u + (1 - self.mo) * g,\n",
    "                update,\n",
    "                grad)\n",
    "\n",
    "            # Then take a gradient step\n",
    "            param[:] = tensor_combine(\n",
    "                lambda p, u: p - self.lr * u,\n",
    "                param,\n",
    "                update)\n"
   ]
  },
  {
   "cell_type": "markdown",
   "metadata": {},
   "source": [
    "In order to use momentum optimization in Keras, we have to use the SGD optimizer and set its **momentum hyperparameter**:"
   ]
  },
  {
   "cell_type": "code",
   "execution_count": 31,
   "metadata": {},
   "outputs": [],
   "source": [
    "optimizer = keras.optimizers.SGD(lr=0.001, momentum=0.9)"
   ]
  },
  {
   "cell_type": "markdown",
   "metadata": {},
   "source": [
    "### Nesterov Accelerated Gradient\n",
    "\n",
    "The **Nesterov Accelerated Gradient (NAG**) method ([Yurii Nesterov **A Method for Unconstrained Convex Minimization Problem with the Rate of Convergence** Doklady AN USSR 269 (1983)](http://mpawankumar.info/teaching/cdt-big-data/nesterov83.pdf)), is a small variant to momentum optimization which measures the gradient of the cost function not at the local position but slightly ahead in the direction of the momentum, at:\n",
    "\n",
    "$1.\\quad m \\longleftarrow \\beta m - \\eta \\nabla_{\\theta} J(\\theta + \\beta m)$\n",
    "\n",
    "$2.\\quad \\theta \\longleftarrow \\theta + m$"
   ]
  },
  {
   "cell_type": "markdown",
   "metadata": {},
   "source": [
    "This small tweak works because in general the momentum vector will be pointing in the right direction (toward the optimum), so it will be slightly more accurate to use the gradient measured a bit farther in that direction rather than the gradient at the original position:  \n",
    "\n",
    "<img src=\"./images/nesterov.png\" width=\"500\">\n"
   ]
  },
  {
   "cell_type": "markdown",
   "metadata": {},
   "source": [
    "To use it, simply set **nesterov=True** when creating the SGD optimizer:"
   ]
  },
  {
   "cell_type": "code",
   "execution_count": 32,
   "metadata": {},
   "outputs": [],
   "source": [
    "optimizer = keras.optimizers.SGD(lr=0.001, momentum=0.9, nesterov=True)"
   ]
  },
  {
   "cell_type": "markdown",
   "metadata": {},
   "source": [
    "### AdaGrad\n",
    "\n",
    "Consider the elongated bowl problem again: Gradient Descent starts by quickly going down the steepest slope, which does not point straight toward the global optimum, then it very slowly goes down to the bottom of the valley. It would be nice if the algorithm could correct its direction earlier to point a bit more toward the global optimum. The **AdaGrad algorithm** ([John Duchi et al. **Adaptive Subgradient Methods for Online Learning and Stochastic Optimization** Journal of Machine Learning Research 12 (2011)](https://www.jmlr.org/papers/volume12/duchi11a/duchi11a.pdf)) achieves this correction by scaling down the gradient vector along the\n",
    "steepest dimensions:\n",
    "\n",
    "$1.\\quad s \\longleftarrow s + \\nabla_{\\theta} J(\\theta) \\otimes \\nabla_{\\theta} J(\\theta)$\n",
    "\n",
    "$2.\\quad  \\theta \\longleftarrow \\theta - \\eta \\nabla_{\\theta} J(\\theta) \\oslash \\sqrt{s + \\epsilon}$\n",
    "\n",
    "The first step accumulates the square of the gradients into the vector $s$, the second step is almost identical to Gradient Descent, but the gradient vector is scaled down by a factor of $\\sqrt{s + \\epsilon}$ ($\\epsilon$ is a smoothing term to avoid division by zero. \n",
    "\n",
    "The vectorized form is equivalent to simultaneously computing:\n",
    "\n",
    "$\\begin{align}\n",
    "s_i \\longleftarrow s_i + (\\frac{\\partial J(\\theta}{\\partial \\theta_i})^2\n",
    "\\end{align}$\n",
    "\n",
    "$\\begin{align}\n",
    "\\theta_i \\longleftarrow \\theta_i - \\frac{\\eta}{\\sqrt{s_i + \\epsilon}} \\frac{\\partial J(\\theta)}{\\partial \\theta_i}\n",
    "\\end{align}$"
   ]
  },
  {
   "cell_type": "markdown",
   "metadata": {},
   "source": [
    "In short, this algorithm decays the learning rate, but it does so faster for steep dimensions than for dimensions with gentler slopes. This is called an **adaptive learning rate**. It helps point the resulting updates more directly toward the global optimum.\n",
    "\n",
    "<img src=\"./images/adagrad.png\" width=\"500\">"
   ]
  },
  {
   "cell_type": "markdown",
   "metadata": {},
   "source": [
    "AdaGrad frequently performs well for simple quadratic problems, but it often stops too early when training neural networks. The learning rate gets scaled down so much that the algorithm ends up stopping entirely before reaching the global optimum. You  should not use it to train deep neural networks (it may be efficient for simpler tasks such as Linear Regression). Still, understanding AdaGrad is helpful to grasp the other adaptive learning rate optimizers.\n",
    "\n",
    "Keras has an Adagrad optimizer: "
   ]
  },
  {
   "cell_type": "code",
   "execution_count": 33,
   "metadata": {},
   "outputs": [],
   "source": [
    "optimizer = keras.optimizers.Adagrad(lr=0.001)"
   ]
  },
  {
   "cell_type": "markdown",
   "metadata": {},
   "source": [
    "### RMSProp\n",
    "\n",
    "The **RMSProp algorithm** ([Geoffrey Hinton, Coursera class on neural networks] (https://homl.info/57)) fixes the AdaGrad risk of slowing down a bit too fast by accumulating only the gradients from the most recent iterations (as opposed to all the gradients since the beginning of training). It does so by using exponential decay in the first step:\n",
    "\n",
    "\n",
    "$1.\\quad s \\longleftarrow \\beta s + (1-\\beta)\\nabla_{\\theta} J(\\theta) \\otimes \\nabla_{\\theta} J(\\theta)$\n",
    "\n",
    "$2.\\quad \\theta \\longleftarrow \\theta - \\eta \\nabla_{\\theta} J(\\theta) \\oslash \\sqrt{s + \\epsilon}$"
   ]
  },
  {
   "cell_type": "markdown",
   "metadata": {},
   "source": [
    "The decay rate $β$ is typically set to 0.9, and it is a new hyperparameter, but this default value often works well, so we may not need to tune it at all. Except on very simple problems, this optimizer almost always performs much better than AdaGrad. \n",
    "\n",
    "Keras has an RMSprop optimizer:"
   ]
  },
  {
   "cell_type": "code",
   "execution_count": 34,
   "metadata": {},
   "outputs": [],
   "source": [
    "optimizer = keras.optimizers.RMSprop(lr=0.001, rho=0.9)"
   ]
  },
  {
   "cell_type": "markdown",
   "metadata": {},
   "source": [
    "### Adam\n",
    "\n",
    "The Adaptive Moment Estimation **Adam algorithm** ([Diederik P. Kingma and Jimmy Ba. **Adam: A Method for Stochastic Optimization** arXiv preprint arXiv:1412.6980 (2014)](https://arxiv.org/abs/1412.6980)) combines the ideas of momentum optimization and RMSProp: just like momentum optimization, it keeps track of an exponentially decaying average of past gradients; and just like RMSProp, it keeps track of an exponentially decaying average of past squared gradients.\n",
    "\n",
    "$1.\\quad m \\longleftarrow \\beta_1 m - (1-\\beta_1) \\nabla_{\\theta} J(\\theta)$\n",
    "\n",
    "$2.\\quad  s \\longleftarrow \\beta_2 s + (1-\\beta_2)\\nabla_{\\theta} J(\\theta) \\otimes \\nabla_{\\theta} J(\\theta)$\n",
    "\n",
    "$\\begin{align}\n",
    "3.\\quad \n",
    "\\hat{m} \\longleftarrow \\frac{m}{1-\\beta_1^T} \\quad T:\\text{interation number}\n",
    "\\end{align}$\n",
    "\n",
    "$\\begin{align}\n",
    "4.\\quad \n",
    "\\hat{s} \\longleftarrow \\frac{s}{1-\\beta_2^T}\n",
    "\\end{align}$\n",
    "\n",
    "$5.\\quad  \\theta \\longleftarrow \\theta + \\eta \\hat{m} \\oslash \\sqrt{\\hat{s} + \\epsilon}$\n"
   ]
  },
  {
   "cell_type": "markdown",
   "metadata": {},
   "source": [
    "Keras has an Adam optimizer:"
   ]
  },
  {
   "cell_type": "code",
   "execution_count": 35,
   "metadata": {},
   "outputs": [],
   "source": [
    "optimizer = keras.optimizers.Adam(lr=0.001, beta_1=0.9, beta_2=0.999)"
   ]
  },
  {
   "cell_type": "markdown",
   "metadata": {},
   "source": [
    "We can mention a variants of Adam, called **Nadam algorithm** ([Timothy Dozat **Incorporating Nesterov Momentum into Adam** (2016)](http://cs229.stanford.edu/proj2015/054_report.pdf)) which include the the Nesterov trick in Adam."
   ]
  },
  {
   "cell_type": "markdown",
   "metadata": {},
   "source": [
    "### Higher orders derivatives\n",
    "\n",
    "All the optimization techniques discussed so far only rely on the first-order partial derivatives (**Jacobians**). The optimization literature also contains amazing algorithms based on the second-order partial derivatives (the **Hessians**, which are the partial derivatives of the Jacobians). Unfortunately, these algorithms are very hard to apply to deep neural networks because there are $n^2$ Hessians per output (where $n$ is the number of parameters), as opposed to just $n$ Jacobians per output. Since DNNs typically have tens of thousands of parameters, the second-order optimization algorithms often don’t even fit in memory, and even when they do, computing the Hessians is just too slow."
   ]
  },
  {
   "cell_type": "markdown",
   "metadata": {},
   "source": [
    "### Remarks\n",
    "\n",
    "All these adaptive optimization methods  are often great, converging fast to a good solution. However, this paper [Ashia C. Wilson et al. **The Marginal Value of Adaptive Gradient Methods in Machine Learning** Advances in Neural Information Processing Systems 30 (2017): 4148–4158.](https://arxiv.org/abs/1705.08292) showed that they can lead to solutions that generalize poorly on some datasets. \n",
    "\n",
    "So when we are disappointed by our model’s performance, we can try using plain Nesterov Accelerated Gradient instead: our  dataset may just be allergic to adaptive\n",
    "gradients. Also check out the latest research, because it’s moving fast."
   ]
  },
  {
   "cell_type": "markdown",
   "metadata": {},
   "source": [
    "## Learning Rate Scheduling\n",
    "\n",
    "Finding a good learning rate is very important: \n",
    "- if we set it much too high, training may diverge; \n",
    "- if we set it too low, training will eventually converge to the optimum, but it will take a very long time; \n",
    "- if we set it slightly too high, it will make progress very quickly at first, but it will end up dancing around the optimum, never really settling down\n",
    "\n",
    "We can find a good learning rate by training the model for a few hundred iterations, exponentially increasing the learning rate from a very small value to a very large value, and then looking at the learning curve and picking a learning rate slightly lower than the one at which the learning curve starts shooting back up. we can then\n",
    "reinitialize our model and train it with that learning rate.\n",
    "\n",
    "But we can do better than a constant learning rate: if we start with a large learning rate and then reduce it once training stops making fast progress, we can reach a good solution faster than with the optimal constant learning rate. \n",
    "\n",
    "<img src=\"./images/learning-rate.png\" width=\"500\">\n",
    "\n",
    "There are many different strategies, called **learning schedule** to reduce the learning rate during training."
   ]
  },
  {
   "cell_type": "markdown",
   "metadata": {},
   "source": [
    "### Power scheduling\n",
    "\n",
    "Set the learning rate to a function of the iteration number $t$: \n",
    "\n",
    "$\\begin{align}\n",
    "\\eta(t) = \\frac{\\eta_0}{(1+t/s)^c}\n",
    "\\end{align}$\n",
    "\n",
    "The initial learning rate $\\eta_0$ , the power $c$ (typically set to 1), and the steps $s$ are hyperparameters. The learning rate drops at each step. After $s$ steps, it is down to $\\eta_0/2$. After $s$ more steps, it is down to $\\eta_0/3$,\n",
    "then it goes down to $\\eta_0/4$, then $\\eta_0/5$, and so on. As you can see, this schedule first drops quickly, then more and more slowly. Of course, power scheduling requires tuning $\\eta$ and $s$ and $c$.\n",
    "\n",
    "To implement power scheduling in Keras, you have to set the **decay hyperparameter** when creating an optimizer (the decay is the inverse of $s$ and Keras assumes $c=1$):"
   ]
  },
  {
   "cell_type": "code",
   "execution_count": 37,
   "metadata": {},
   "outputs": [],
   "source": [
    "optimizer = keras.optimizers.SGD(lr=0.01, decay=1e-4)"
   ]
  },
  {
   "cell_type": "code",
   "execution_count": 49,
   "metadata": {},
   "outputs": [
    {
     "name": "stdout",
     "output_type": "stream",
     "text": [
      "Epoch 1/25\n",
      "1719/1719 [==============================] - 2s 957us/step - loss: 0.6873 - accuracy: 0.7570 - val_loss: 0.5159 - val_accuracy: 0.8256\n",
      "Epoch 2/25\n",
      "1719/1719 [==============================] - 2s 1ms/step - loss: 0.4948 - accuracy: 0.8244 - val_loss: 0.4653 - val_accuracy: 0.8414\n",
      "Epoch 3/25\n",
      "1719/1719 [==============================] - 2s 930us/step - loss: 0.4543 - accuracy: 0.8396 - val_loss: 0.4412 - val_accuracy: 0.8498\n",
      "Epoch 4/25\n",
      "1719/1719 [==============================] - 2s 899us/step - loss: 0.4312 - accuracy: 0.8483 - val_loss: 0.4240 - val_accuracy: 0.8570\n",
      "Epoch 5/25\n",
      "1719/1719 [==============================] - 2s 894us/step - loss: 0.4153 - accuracy: 0.8540 - val_loss: 0.4146 - val_accuracy: 0.8620\n",
      "Epoch 6/25\n",
      "1719/1719 [==============================] - 2s 902us/step - loss: 0.4025 - accuracy: 0.8592 - val_loss: 0.4054 - val_accuracy: 0.8626\n",
      "Epoch 7/25\n",
      "1719/1719 [==============================] - 1s 856us/step - loss: 0.3927 - accuracy: 0.8625 - val_loss: 0.3985 - val_accuracy: 0.8646\n",
      "Epoch 8/25\n",
      "1719/1719 [==============================] - 1s 853us/step - loss: 0.3840 - accuracy: 0.8657 - val_loss: 0.3936 - val_accuracy: 0.8666\n",
      "Epoch 9/25\n",
      "1719/1719 [==============================] - 1s 868us/step - loss: 0.3768 - accuracy: 0.8675 - val_loss: 0.3894 - val_accuracy: 0.8666\n",
      "Epoch 10/25\n",
      "1719/1719 [==============================] - 2s 873us/step - loss: 0.3700 - accuracy: 0.8705 - val_loss: 0.3848 - val_accuracy: 0.8694\n",
      "Epoch 11/25\n",
      "1719/1719 [==============================] - 2s 902us/step - loss: 0.3645 - accuracy: 0.8722 - val_loss: 0.3812 - val_accuracy: 0.8682\n",
      "Epoch 12/25\n",
      "1719/1719 [==============================] - 2s 882us/step - loss: 0.3591 - accuracy: 0.8740 - val_loss: 0.3796 - val_accuracy: 0.8688\n",
      "Epoch 13/25\n",
      "1719/1719 [==============================] - 2s 974us/step - loss: 0.3544 - accuracy: 0.8760 - val_loss: 0.3763 - val_accuracy: 0.8694\n",
      "Epoch 14/25\n",
      "1719/1719 [==============================] - 2s 949us/step - loss: 0.3498 - accuracy: 0.8777 - val_loss: 0.3727 - val_accuracy: 0.8696\n",
      "Epoch 15/25\n",
      "1719/1719 [==============================] - 2s 907us/step - loss: 0.3457 - accuracy: 0.8788 - val_loss: 0.3699 - val_accuracy: 0.8710\n",
      "Epoch 16/25\n",
      "1719/1719 [==============================] - 2s 929us/step - loss: 0.3418 - accuracy: 0.8806 - val_loss: 0.3687 - val_accuracy: 0.8726\n",
      "Epoch 17/25\n",
      "1719/1719 [==============================] - 2s 916us/step - loss: 0.3381 - accuracy: 0.8819 - val_loss: 0.3665 - val_accuracy: 0.8726\n",
      "Epoch 18/25\n",
      "1719/1719 [==============================] - 2s 1ms/step - loss: 0.3347 - accuracy: 0.8831 - val_loss: 0.3639 - val_accuracy: 0.8742\n",
      "Epoch 19/25\n",
      "1719/1719 [==============================] - 2s 911us/step - loss: 0.3314 - accuracy: 0.8842 - val_loss: 0.3613 - val_accuracy: 0.8754\n",
      "Epoch 20/25\n",
      "1719/1719 [==============================] - 2s 907us/step - loss: 0.3280 - accuracy: 0.8855 - val_loss: 0.3627 - val_accuracy: 0.8732\n",
      "Epoch 21/25\n",
      "1719/1719 [==============================] - 2s 889us/step - loss: 0.3254 - accuracy: 0.8860 - val_loss: 0.3590 - val_accuracy: 0.8752\n",
      "Epoch 22/25\n",
      "1719/1719 [==============================] - 2s 1ms/step - loss: 0.3224 - accuracy: 0.8876 - val_loss: 0.3583 - val_accuracy: 0.8752\n",
      "Epoch 23/25\n",
      "1719/1719 [==============================] - 2s 929us/step - loss: 0.3196 - accuracy: 0.8889 - val_loss: 0.3570 - val_accuracy: 0.8768\n",
      "Epoch 24/25\n",
      "1719/1719 [==============================] - 2s 898us/step - loss: 0.3171 - accuracy: 0.8893 - val_loss: 0.3553 - val_accuracy: 0.8752\n",
      "Epoch 25/25\n",
      "1719/1719 [==============================] - 2s 1ms/step - loss: 0.3145 - accuracy: 0.8901 - val_loss: 0.3550 - val_accuracy: 0.8756\n"
     ]
    }
   ],
   "source": [
    "model = keras.models.Sequential([\n",
    "    keras.layers.Flatten(input_shape=[28, 28]),\n",
    "    keras.layers.Dense(300, activation=\"selu\", kernel_initializer=\"lecun_normal\"),\n",
    "    keras.layers.Dense(100, activation=\"selu\", kernel_initializer=\"lecun_normal\"),\n",
    "    keras.layers.Dense(10, activation=\"softmax\")\n",
    "])\n",
    "\n",
    "model.compile(loss=\"sparse_categorical_crossentropy\", optimizer=optimizer, metrics=[\"accuracy\"])\n",
    "\n",
    "n_epochs = 25\n",
    "history = model.fit(X_train_scaled, y_train, epochs=n_epochs,\n",
    "                    validation_data=(X_valid_scaled, y_valid))"
   ]
  },
  {
   "cell_type": "code",
   "execution_count": 51,
   "metadata": {},
   "outputs": [
    {
     "data": {
      "image/png": "[encoded data removed]",
      "text/plain": [
       "<Figure size 432x288 with 1 Axes>"
      ]
     },
     "metadata": {
      "needs_background": "light"
     },
     "output_type": "display_data"
    }
   ],
   "source": [
    "learning_rate = 0.01\n",
    "decay = 1e-4\n",
    "batch_size = 32\n",
    "n_steps_per_epoch = len(X_train) // batch_size\n",
    "epochs = np.arange(n_epochs)\n",
    "lrs = learning_rate / (1 + decay * epochs * n_steps_per_epoch)\n",
    "\n",
    "plt.plot(epochs, lrs,  \"o-\")\n",
    "plt.axis([0, n_epochs - 1, 0, 0.01])\n",
    "plt.xlabel(\"Epoch\")\n",
    "plt.ylabel(\"Learning Rate\")\n",
    "plt.title(\"Power Scheduling\", fontsize=14)\n",
    "plt.grid(True)\n",
    "plt.show()"
   ]
  },
  {
   "cell_type": "markdown",
   "metadata": {},
   "source": [
    "### Exponential scheduling\n",
    "\n",
    "Set the learning rate to \n",
    "\n",
    "$\\eta(t) = \\eta_0 0.1^{t/s}$ \n",
    "\n",
    "The learning rate will gradually drop by a factor of 10 every $s$ steps. While power scheduling reduces the learning rate more and more slowly, exponential scheduling keeps slashing it by a factor of 10 every $s$ steps.\n",
    "\n",
    "To implement exponential scheduling in Keras, you need to define a function that takes the current epoch and returns the learning rate, then create a **LearningRateScheduler callback**, giving it the schedule function, and pass this callback to the fit() method."
   ]
  },
  {
   "cell_type": "code",
   "execution_count": 47,
   "metadata": {},
   "outputs": [],
   "source": [
    "def exponential_decay_fn(epoch):\n",
    "    return 0.01 * 0.1**(epoch / 20)\n",
    "\n",
    "lr_scheduler = keras.callbacks.LearningRateScheduler(exponential_decay_fn)"
   ]
  },
  {
   "cell_type": "code",
   "execution_count": 52,
   "metadata": {},
   "outputs": [
    {
     "name": "stdout",
     "output_type": "stream",
     "text": [
      "Epoch 1/25\n",
      "1719/1719 [==============================] - 4s 3ms/step - loss: 0.8541 - accuracy: 0.7548 - val_loss: 0.7697 - val_accuracy: 0.7716\n",
      "Epoch 2/25\n",
      "1719/1719 [==============================] - 4s 3ms/step - loss: 0.7129 - accuracy: 0.7873 - val_loss: 1.1835 - val_accuracy: 0.6618\n",
      "Epoch 3/25\n",
      "1719/1719 [==============================] - 5s 3ms/step - loss: 0.6578 - accuracy: 0.7993 - val_loss: 0.5880 - val_accuracy: 0.8334\n",
      "Epoch 4/25\n",
      "1719/1719 [==============================] - 4s 3ms/step - loss: 0.5435 - accuracy: 0.8340 - val_loss: 0.5926 - val_accuracy: 0.8274\n",
      "Epoch 5/25\n",
      "1719/1719 [==============================] - 5s 3ms/step - loss: 0.4891 - accuracy: 0.8438 - val_loss: 0.5841 - val_accuracy: 0.8170\n",
      "Epoch 6/25\n",
      "1719/1719 [==============================] - 5s 3ms/step - loss: 0.4812 - accuracy: 0.8494 - val_loss: 0.4889 - val_accuracy: 0.8560\n",
      "Epoch 7/25\n",
      "1719/1719 [==============================] - 5s 3ms/step - loss: 0.4182 - accuracy: 0.8646 - val_loss: 0.4837 - val_accuracy: 0.8654\n",
      "Epoch 8/25\n",
      "1719/1719 [==============================] - 5s 3ms/step - loss: 0.3840 - accuracy: 0.8745 - val_loss: 0.4728 - val_accuracy: 0.8658\n",
      "Epoch 9/25\n",
      "1719/1719 [==============================] - 5s 3ms/step - loss: 0.3626 - accuracy: 0.8822 - val_loss: 0.4836 - val_accuracy: 0.8742\n",
      "Epoch 10/25\n",
      "1719/1719 [==============================] - 5s 3ms/step - loss: 0.3273 - accuracy: 0.8905 - val_loss: 0.4337 - val_accuracy: 0.8738\n",
      "Epoch 11/25\n",
      "1719/1719 [==============================] - 5s 3ms/step - loss: 0.3142 - accuracy: 0.8949 - val_loss: 0.4525 - val_accuracy: 0.8638\n",
      "Epoch 12/25\n",
      "1719/1719 [==============================] - 5s 3ms/step - loss: 0.2893 - accuracy: 0.9040 - val_loss: 0.4710 - val_accuracy: 0.8772\n",
      "Epoch 13/25\n",
      "1719/1719 [==============================] - 5s 3ms/step - loss: 0.2665 - accuracy: 0.9092 - val_loss: 0.4323 - val_accuracy: 0.8816\n",
      "Epoch 14/25\n",
      "1719/1719 [==============================] - 5s 3ms/step - loss: 0.2502 - accuracy: 0.9145 - val_loss: 0.4570 - val_accuracy: 0.8834\n",
      "Epoch 15/25\n",
      "1719/1719 [==============================] - 5s 3ms/step - loss: 0.2330 - accuracy: 0.9203 - val_loss: 0.4377 - val_accuracy: 0.8824\n",
      "Epoch 16/25\n",
      "1719/1719 [==============================] - 4s 3ms/step - loss: 0.2209 - accuracy: 0.9265 - val_loss: 0.4666 - val_accuracy: 0.8858\n",
      "Epoch 17/25\n",
      "1719/1719 [==============================] - 5s 3ms/step - loss: 0.2052 - accuracy: 0.9294 - val_loss: 0.4199 - val_accuracy: 0.8868\n",
      "Epoch 18/25\n",
      "1719/1719 [==============================] - 4s 2ms/step - loss: 0.1923 - accuracy: 0.9343 - val_loss: 0.4927 - val_accuracy: 0.8866\n",
      "Epoch 19/25\n",
      "1719/1719 [==============================] - 4s 2ms/step - loss: 0.1763 - accuracy: 0.9404 - val_loss: 0.5069 - val_accuracy: 0.8878\n",
      "Epoch 20/25\n",
      "1719/1719 [==============================] - 4s 2ms/step - loss: 0.1661 - accuracy: 0.9434 - val_loss: 0.5272 - val_accuracy: 0.8862\n",
      "Epoch 21/25\n",
      "1719/1719 [==============================] - 4s 2ms/step - loss: 0.1570 - accuracy: 0.9467 - val_loss: 0.5088 - val_accuracy: 0.8920\n",
      "Epoch 22/25\n",
      "1719/1719 [==============================] - 4s 2ms/step - loss: 0.1469 - accuracy: 0.9511 - val_loss: 0.5229 - val_accuracy: 0.8892\n",
      "Epoch 23/25\n",
      "1719/1719 [==============================] - 4s 2ms/step - loss: 0.1372 - accuracy: 0.9542 - val_loss: 0.5335 - val_accuracy: 0.8886\n",
      "Epoch 24/25\n",
      "1719/1719 [==============================] - 4s 2ms/step - loss: 0.1281 - accuracy: 0.9579 - val_loss: 0.5765 - val_accuracy: 0.8856\n",
      "Epoch 25/25\n",
      "1719/1719 [==============================] - 4s 2ms/step - loss: 0.1236 - accuracy: 0.9596 - val_loss: 0.5630 - val_accuracy: 0.8892\n"
     ]
    }
   ],
   "source": [
    "model = keras.models.Sequential([\n",
    "    keras.layers.Flatten(input_shape=[28, 28]),\n",
    "    keras.layers.Dense(300, activation=\"selu\", kernel_initializer=\"lecun_normal\"),\n",
    "    keras.layers.Dense(100, activation=\"selu\", kernel_initializer=\"lecun_normal\"),\n",
    "    keras.layers.Dense(10, activation=\"softmax\")\n",
    "])\n",
    "\n",
    "model.compile(loss=\"sparse_categorical_crossentropy\", optimizer=\"nadam\", metrics=[\"accuracy\"])\n",
    "\n",
    "n_epochs = 25\n",
    "history = model.fit(X_train_scaled, y_train, epochs=n_epochs,\n",
    "                    validation_data=(X_valid_scaled, y_valid),\n",
    "                    callbacks=[lr_scheduler])"
   ]
  },
  {
   "cell_type": "code",
   "execution_count": 53,
   "metadata": {},
   "outputs": [
    {
     "data": {
      "image/png": "[encoded data removed]",
      "text/plain": [
       "<Figure size 432x288 with 1 Axes>"
      ]
     },
     "metadata": {
      "needs_background": "light"
     },
     "output_type": "display_data"
    }
   ],
   "source": [
    "plt.plot(history.epoch, history.history[\"lr\"], \"o-\")\n",
    "plt.axis([0, n_epochs - 1, 0, 0.011])\n",
    "plt.xlabel(\"Epoch\")\n",
    "plt.ylabel(\"Learning Rate\")\n",
    "plt.title(\"Exponential Scheduling\", fontsize=14)\n",
    "plt.grid(True)\n",
    "plt.show()"
   ]
  },
  {
   "cell_type": "markdown",
   "metadata": {},
   "source": [
    "### Piecewise constant scheduling\n",
    "\n",
    "Use a constant learning rate for a number of epochs (e.g., $\\eta=0.1$ for 5 epochs), then a smaller learning rate for another number of epochs (e.g., $\\eta=0.001$ for 50 epochs), and so on. Although this solution can work very well, it requires fiddling around to figure out the right sequence of learning rates and how long to use each of them.\n",
    "\n",
    "For using Piecewise constant scheduling with Keras, we can do similar to the previous one:"
   ]
  },
  {
   "cell_type": "code",
   "execution_count": 55,
   "metadata": {},
   "outputs": [],
   "source": [
    "def piecewise_constant_fn(epoch):\n",
    "    if epoch < 5:\n",
    "        return 0.01\n",
    "    elif epoch < 15:\n",
    "        return 0.005\n",
    "    else:\n",
    "        return 0.001\n",
    "    \n",
    "lr_scheduler = keras.callbacks.LearningRateScheduler(piecewise_constant_fn)"
   ]
  },
  {
   "cell_type": "code",
   "execution_count": 56,
   "metadata": {},
   "outputs": [
    {
     "name": "stdout",
     "output_type": "stream",
     "text": [
      "Epoch 1/25\n",
      "1719/1719 [==============================] - 5s 3ms/step - loss: 0.8676 - accuracy: 0.7496 - val_loss: 0.8298 - val_accuracy: 0.7782\n",
      "Epoch 2/25\n",
      "1719/1719 [==============================] - 4s 3ms/step - loss: 0.8535 - accuracy: 0.7474 - val_loss: 1.0883 - val_accuracy: 0.6594\n",
      "Epoch 3/25\n",
      "1719/1719 [==============================] - 4s 3ms/step - loss: 1.0013 - accuracy: 0.6868 - val_loss: 1.0355 - val_accuracy: 0.7278\n",
      "Epoch 4/25\n",
      "1719/1719 [==============================] - 4s 3ms/step - loss: 0.9643 - accuracy: 0.7057 - val_loss: 1.0247 - val_accuracy: 0.6698\n",
      "Epoch 5/25\n",
      "1719/1719 [==============================] - 4s 3ms/step - loss: 1.0945 - accuracy: 0.6435 - val_loss: 1.1318 - val_accuracy: 0.5930\n",
      "Epoch 6/25\n",
      "1719/1719 [==============================] - 4s 3ms/step - loss: 0.9385 - accuracy: 0.6257 - val_loss: 0.8873 - val_accuracy: 0.6412\n",
      "Epoch 7/25\n",
      "1719/1719 [==============================] - 4s 3ms/step - loss: 0.8517 - accuracy: 0.6602 - val_loss: 0.9160 - val_accuracy: 0.6496\n",
      "Epoch 8/25\n",
      "1719/1719 [==============================] - 4s 2ms/step - loss: 0.8295 - accuracy: 0.6679 - val_loss: 0.8091 - val_accuracy: 0.7030\n",
      "Epoch 9/25\n",
      "1719/1719 [==============================] - 4s 2ms/step - loss: 0.7049 - accuracy: 0.7602 - val_loss: 0.6572 - val_accuracy: 0.8192\n",
      "Epoch 10/25\n",
      "1719/1719 [==============================] - 4s 2ms/step - loss: 0.5871 - accuracy: 0.8232 - val_loss: 0.7158 - val_accuracy: 0.8380\n",
      "Epoch 11/25\n",
      "1719/1719 [==============================] - 4s 2ms/step - loss: 0.5744 - accuracy: 0.8345 - val_loss: 0.6101 - val_accuracy: 0.8282\n",
      "Epoch 12/25\n",
      "1719/1719 [==============================] - 4s 2ms/step - loss: 0.5300 - accuracy: 0.8432 - val_loss: 0.5889 - val_accuracy: 0.8372\n",
      "Epoch 13/25\n",
      "1719/1719 [==============================] - 4s 3ms/step - loss: 0.5334 - accuracy: 0.8434 - val_loss: 0.6056 - val_accuracy: 0.8510\n",
      "Epoch 14/25\n",
      "1719/1719 [==============================] - 4s 3ms/step - loss: 0.5054 - accuracy: 0.8494 - val_loss: 0.7671 - val_accuracy: 0.8168\n",
      "Epoch 15/25\n",
      "1719/1719 [==============================] - 4s 2ms/step - loss: 0.5136 - accuracy: 0.8498 - val_loss: 0.6985 - val_accuracy: 0.8350\n",
      "Epoch 16/25\n",
      "1719/1719 [==============================] - 4s 3ms/step - loss: 0.3663 - accuracy: 0.8809 - val_loss: 0.5467 - val_accuracy: 0.8632\n",
      "Epoch 17/25\n",
      "1719/1719 [==============================] - 4s 3ms/step - loss: 0.3373 - accuracy: 0.8889 - val_loss: 0.5355 - val_accuracy: 0.8700\n",
      "Epoch 18/25\n",
      "1719/1719 [==============================] - 4s 3ms/step - loss: 0.3242 - accuracy: 0.8919 - val_loss: 0.6232 - val_accuracy: 0.8584\n",
      "Epoch 19/25\n",
      "1719/1719 [==============================] - 5s 3ms/step - loss: 0.3148 - accuracy: 0.8945 - val_loss: 0.5708 - val_accuracy: 0.8664\n",
      "Epoch 20/25\n",
      "1719/1719 [==============================] - 5s 3ms/step - loss: 0.3024 - accuracy: 0.8973 - val_loss: 0.5706 - val_accuracy: 0.8732\n",
      "Epoch 21/25\n",
      "1719/1719 [==============================] - 5s 3ms/step - loss: 0.2910 - accuracy: 0.9017 - val_loss: 0.5730 - val_accuracy: 0.8704\n",
      "Epoch 22/25\n",
      "1719/1719 [==============================] - 5s 3ms/step - loss: 0.2857 - accuracy: 0.9039 - val_loss: 0.5890 - val_accuracy: 0.8648\n",
      "Epoch 23/25\n",
      "1719/1719 [==============================] - 5s 3ms/step - loss: 0.2755 - accuracy: 0.9072 - val_loss: 0.5462 - val_accuracy: 0.8692\n",
      "Epoch 24/25\n",
      "1719/1719 [==============================] - 4s 3ms/step - loss: 0.2689 - accuracy: 0.9094 - val_loss: 0.5600 - val_accuracy: 0.8692\n",
      "Epoch 25/25\n",
      "1719/1719 [==============================] - 4s 3ms/step - loss: 0.2632 - accuracy: 0.9124 - val_loss: 0.5515 - val_accuracy: 0.8694\n"
     ]
    }
   ],
   "source": [
    "model = keras.models.Sequential([\n",
    "    keras.layers.Flatten(input_shape=[28, 28]),\n",
    "    keras.layers.Dense(300, activation=\"selu\", kernel_initializer=\"lecun_normal\"),\n",
    "    keras.layers.Dense(100, activation=\"selu\", kernel_initializer=\"lecun_normal\"),\n",
    "    keras.layers.Dense(10, activation=\"softmax\")\n",
    "])\n",
    "\n",
    "model.compile(loss=\"sparse_categorical_crossentropy\", optimizer=\"nadam\", metrics=[\"accuracy\"])\n",
    "\n",
    "n_epochs = 25\n",
    "history = model.fit(X_train_scaled, y_train, epochs=n_epochs,\n",
    "                    validation_data=(X_valid_scaled, y_valid),\n",
    "                    callbacks=[lr_scheduler])"
   ]
  },
  {
   "cell_type": "code",
   "execution_count": 57,
   "metadata": {},
   "outputs": [
    {
     "data": {
      "image/png": "[encoded data removed]",
      "text/plain": [
       "<Figure size 432x288 with 1 Axes>"
      ]
     },
     "metadata": {
      "needs_background": "light"
     },
     "output_type": "display_data"
    }
   ],
   "source": [
    "plt.plot(history.epoch, [piecewise_constant_fn(epoch) for epoch in history.epoch], \"o-\")\n",
    "plt.axis([0, n_epochs - 1, 0, 0.011])\n",
    "plt.xlabel(\"Epoch\")\n",
    "plt.ylabel(\"Learning Rate\")\n",
    "plt.title(\"Piecewise Constant Scheduling\", fontsize=14)\n",
    "plt.grid(True)\n",
    "plt.show()"
   ]
  },
  {
   "cell_type": "markdown",
   "metadata": {},
   "source": [
    "### Performance scheduling\n",
    "\n",
    "Measure the validation error every $N$ steps (just like for early stopping), and reduce the learning rate by a factor of $\\lambda$ when the error stops dropping.\n",
    "\n",
    "To use Performance Scheduling in Keras, we can use the **ReduceLROnPlateau callback**:"
   ]
  },
  {
   "cell_type": "code",
   "execution_count": 58,
   "metadata": {},
   "outputs": [],
   "source": [
    "lr_scheduler = keras.callbacks.ReduceLROnPlateau(factor=0.5, patience=5)"
   ]
  },
  {
   "cell_type": "code",
   "execution_count": 59,
   "metadata": {},
   "outputs": [
    {
     "name": "stdout",
     "output_type": "stream",
     "text": [
      "Epoch 1/25\n",
      "1719/1719 [==============================] - 2s 1ms/step - loss: 0.5920 - accuracy: 0.8073 - val_loss: 0.5493 - val_accuracy: 0.8152\n",
      "Epoch 2/25\n",
      "1719/1719 [==============================] - 2s 1ms/step - loss: 0.5100 - accuracy: 0.8365 - val_loss: 0.4757 - val_accuracy: 0.8534\n",
      "Epoch 3/25\n",
      "1719/1719 [==============================] - 2s 1ms/step - loss: 0.5033 - accuracy: 0.8439 - val_loss: 0.5757 - val_accuracy: 0.8384\n",
      "Epoch 4/25\n",
      "1719/1719 [==============================] - 2s 955us/step - loss: 0.5065 - accuracy: 0.8465 - val_loss: 0.4976 - val_accuracy: 0.8404\n",
      "Epoch 5/25\n",
      "1719/1719 [==============================] - 2s 923us/step - loss: 0.5214 - accuracy: 0.8486 - val_loss: 0.7465 - val_accuracy: 0.8086\n",
      "Epoch 6/25\n",
      "1719/1719 [==============================] - 2s 1ms/step - loss: 0.5009 - accuracy: 0.8541 - val_loss: 0.6929 - val_accuracy: 0.8278\n",
      "Epoch 7/25\n",
      "1719/1719 [==============================] - 2s 920us/step - loss: 0.5439 - accuracy: 0.8510 - val_loss: 0.6673 - val_accuracy: 0.8404\n",
      "Epoch 8/25\n",
      "1719/1719 [==============================] - 2s 907us/step - loss: 0.3019 - accuracy: 0.8941 - val_loss: 0.3960 - val_accuracy: 0.8800\n",
      "Epoch 9/25\n",
      "1719/1719 [==============================] - 2s 908us/step - loss: 0.2574 - accuracy: 0.9069 - val_loss: 0.3981 - val_accuracy: 0.8820\n",
      "Epoch 10/25\n",
      "1719/1719 [==============================] - 2s 908us/step - loss: 0.2300 - accuracy: 0.9145 - val_loss: 0.4517 - val_accuracy: 0.8816\n",
      "Epoch 11/25\n",
      "1719/1719 [==============================] - 2s 907us/step - loss: 0.2137 - accuracy: 0.9211 - val_loss: 0.4204 - val_accuracy: 0.8774\n",
      "Epoch 12/25\n",
      "1719/1719 [==============================] - 2s 989us/step - loss: 0.2048 - accuracy: 0.9245 - val_loss: 0.3887 - val_accuracy: 0.8874\n",
      "Epoch 13/25\n",
      "1719/1719 [==============================] - 2s 997us/step - loss: 0.1925 - accuracy: 0.9284 - val_loss: 0.4410 - val_accuracy: 0.8862\n",
      "Epoch 14/25\n",
      "1719/1719 [==============================] - 2s 957us/step - loss: 0.1826 - accuracy: 0.9323 - val_loss: 0.4281 - val_accuracy: 0.8872\n",
      "Epoch 15/25\n",
      "1719/1719 [==============================] - 2s 916us/step - loss: 0.1731 - accuracy: 0.9354 - val_loss: 0.4172 - val_accuracy: 0.8896\n",
      "Epoch 16/25\n",
      "1719/1719 [==============================] - 2s 961us/step - loss: 0.1685 - accuracy: 0.9378 - val_loss: 0.4180 - val_accuracy: 0.8904\n",
      "Epoch 17/25\n",
      "1719/1719 [==============================] - 2s 915us/step - loss: 0.1539 - accuracy: 0.9417 - val_loss: 0.4658 - val_accuracy: 0.8884\n",
      "Epoch 18/25\n",
      "1719/1719 [==============================] - 2s 911us/step - loss: 0.1029 - accuracy: 0.9595 - val_loss: 0.4636 - val_accuracy: 0.8910\n",
      "Epoch 19/25\n",
      "1719/1719 [==============================] - 2s 933us/step - loss: 0.0875 - accuracy: 0.9663 - val_loss: 0.4644 - val_accuracy: 0.8852\n",
      "Epoch 20/25\n",
      "1719/1719 [==============================] - 2s 908us/step - loss: 0.0812 - accuracy: 0.9685 - val_loss: 0.4763 - val_accuracy: 0.8962\n",
      "Epoch 21/25\n",
      "1719/1719 [==============================] - 2s 918us/step - loss: 0.0742 - accuracy: 0.9718 - val_loss: 0.4928 - val_accuracy: 0.8902\n",
      "Epoch 22/25\n",
      "1719/1719 [==============================] - 2s 910us/step - loss: 0.0705 - accuracy: 0.9731 - val_loss: 0.5056 - val_accuracy: 0.8994\n",
      "Epoch 23/25\n",
      "1719/1719 [==============================] - 2s 993us/step - loss: 0.0518 - accuracy: 0.9813 - val_loss: 0.5208 - val_accuracy: 0.8992\n",
      "Epoch 24/25\n",
      "1719/1719 [==============================] - 2s 1ms/step - loss: 0.0461 - accuracy: 0.9834 - val_loss: 0.5200 - val_accuracy: 0.8992\n",
      "Epoch 25/25\n",
      "1719/1719 [==============================] - 2s 1ms/step - loss: 0.0438 - accuracy: 0.9843 - val_loss: 0.5475 - val_accuracy: 0.8968\n"
     ]
    }
   ],
   "source": [
    "model = keras.models.Sequential([\n",
    "    keras.layers.Flatten(input_shape=[28, 28]),\n",
    "    keras.layers.Dense(300, activation=\"selu\", kernel_initializer=\"lecun_normal\"),\n",
    "    keras.layers.Dense(100, activation=\"selu\", kernel_initializer=\"lecun_normal\"),\n",
    "    keras.layers.Dense(10, activation=\"softmax\")\n",
    "])\n",
    "\n",
    "optimizer = keras.optimizers.SGD(lr=0.02, momentum=0.9)\n",
    "\n",
    "model.compile(loss=\"sparse_categorical_crossentropy\", optimizer=optimizer, metrics=[\"accuracy\"])\n",
    "\n",
    "n_epochs = 25\n",
    "\n",
    "history = model.fit(X_train_scaled, y_train, epochs=n_epochs,\n",
    "                    validation_data=(X_valid_scaled, y_valid),\n",
    "                    callbacks=[lr_scheduler])"
   ]
  },
  {
   "cell_type": "code",
   "execution_count": 60,
   "metadata": {},
   "outputs": [
    {
     "data": {
      "image/png": "[encoded data removed]",
      "text/plain": [
       "<Figure size 432x288 with 2 Axes>"
      ]
     },
     "metadata": {
      "needs_background": "light"
     },
     "output_type": "display_data"
    }
   ],
   "source": [
    "plt.plot(history.epoch, history.history[\"lr\"], \"bo-\")\n",
    "plt.xlabel(\"Epoch\")\n",
    "plt.ylabel(\"Learning Rate\", color='b')\n",
    "plt.tick_params('y', colors='b')\n",
    "plt.gca().set_xlim(0, n_epochs - 1)\n",
    "plt.grid(True)\n",
    "\n",
    "ax2 = plt.gca().twinx()\n",
    "ax2.plot(history.epoch, history.history[\"val_loss\"], \"r^-\")\n",
    "ax2.set_ylabel('Validation Loss', color='r')\n",
    "ax2.tick_params('y', colors='r')\n",
    "\n",
    "plt.title(\"Reduce LR on Plateau\", fontsize=14)\n",
    "plt.show()"
   ]
  },
  {
   "cell_type": "markdown",
   "metadata": {},
   "source": [
    "### Comparison \n",
    "\n",
    "The paper [Andrew Senior et al. **An Empirical Study of Learning Rates in Deep Neural Networks for Speech Recognition** Proceedings of the IEEE International Conference on Acoustics, Speech, and Signal Processing (2013): 6724–6728.](https://ieeexplore.ieee.org/document/6638963) compared the performance of some of the most popular learning schedules when using momentum optimization to train deep neural networks for speech recognition. The authors concluded that, in this setting, both performance scheduling and exponential scheduling performed well. They favored exponential scheduling because it was easy to tune and it converged slightly faster to the optimal solution (they also mentioned that it was easier to implement than performance scheduling, but in Keras both options are easy)."
   ]
  },
  {
   "cell_type": "markdown",
   "metadata": {},
   "source": [
    "## Regularization\n",
    "\n",
    "DNNs typically have tens of thousands of parameters (even millions). This gives them an incredible amount of freedom and means they can fit a huge variety of complex datasets. But this great flexibility also makes the network **prone to overfitting** the training set. We need regularization."
   ]
  },
  {
   "cell_type": "markdown",
   "metadata": {},
   "source": [
    "### Early stopping\n",
    "\n",
    "Early stopping is a form of regularization used to avoid overfitting when training a learner with an iterative method, such as gradient descent. Such methods update the learner so as to make it better fit the training data with each iteration. Up to a point, this improves the learner's performance on data outside of the training set. Past that point, however, improving the learner's fit to the training data comes at the expense of increased generalization error. Early stopping rules provide guidance as to how many iterations can be run before the learner begins to over-fit. \n",
    "\n",
    "In Keras we can use the **EarlyStopping callback**:"
   ]
  },
  {
   "cell_type": "code",
   "execution_count": 80,
   "metadata": {},
   "outputs": [
    {
     "name": "stdout",
     "output_type": "stream",
     "text": [
      "Epoch 1/250\n",
      "1719/1719 [==============================] - 2s 887us/step - loss: 27.6178 - val_loss: 27.5936\n",
      "Epoch 2/250\n",
      "1719/1719 [==============================] - 1s 813us/step - loss: 27.6156 - val_loss: 27.5925\n",
      "Epoch 3/250\n",
      "1719/1719 [==============================] - 1s 817us/step - loss: 27.6149 - val_loss: 27.5920\n",
      "Epoch 4/250\n",
      "1719/1719 [==============================] - 1s 815us/step - loss: 27.6144 - val_loss: 27.5916\n",
      "Epoch 5/250\n",
      "1719/1719 [==============================] - 1s 865us/step - loss: 27.6141 - val_loss: 27.5913\n",
      "Epoch 6/250\n",
      "1719/1719 [==============================] - 1s 844us/step - loss: 27.6139 - val_loss: 27.5911\n",
      "Epoch 7/250\n",
      "1719/1719 [==============================] - 2s 879us/step - loss: 27.6137 - val_loss: 27.5910\n",
      "Epoch 8/250\n",
      "1719/1719 [==============================] - 2s 974us/step - loss: 27.6136 - val_loss: 27.5909\n",
      "Epoch 9/250\n",
      "1719/1719 [==============================] - 2s 883us/step - loss: 27.6134 - val_loss: 27.5907\n",
      "Epoch 10/250\n",
      "1719/1719 [==============================] - 2s 964us/step - loss: 27.6133 - val_loss: 27.5907\n",
      "Epoch 11/250\n",
      "1719/1719 [==============================] - 1s 860us/step - loss: 27.6132 - val_loss: 27.5906\n",
      "Epoch 12/250\n",
      "1719/1719 [==============================] - 1s 828us/step - loss: 27.6131 - val_loss: 27.5905\n",
      "Epoch 13/250\n",
      "1719/1719 [==============================] - 1s 814us/step - loss: 27.6131 - val_loss: 27.5904\n",
      "Epoch 14/250\n",
      "1719/1719 [==============================] - 1s 823us/step - loss: 27.6130 - val_loss: 27.5904\n",
      "Epoch 15/250\n",
      "1719/1719 [==============================] - 1s 837us/step - loss: 27.6130 - val_loss: 27.5903\n",
      "Epoch 16/250\n",
      "1719/1719 [==============================] - 1s 809us/step - loss: 27.6129 - val_loss: 27.5903\n",
      "Epoch 17/250\n",
      "1719/1719 [==============================] - 1s 833us/step - loss: 27.6129 - val_loss: 27.5902\n",
      "Epoch 18/250\n",
      "1719/1719 [==============================] - 2s 880us/step - loss: 27.6129 - val_loss: 27.5902\n",
      "Epoch 19/250\n",
      "1719/1719 [==============================] - 2s 915us/step - loss: 27.6128 - val_loss: 27.5902\n",
      "Epoch 20/250\n",
      "1719/1719 [==============================] - 1s 824us/step - loss: 27.6129 - val_loss: 27.5902\n",
      "Epoch 21/250\n",
      "1719/1719 [==============================] - 1s 812us/step - loss: 27.6128 - val_loss: 27.5901\n",
      "Epoch 22/250\n",
      "1719/1719 [==============================] - 1s 828us/step - loss: 27.6128 - val_loss: 27.5901\n",
      "Epoch 23/250\n",
      "1719/1719 [==============================] - 1s 816us/step - loss: 27.6128 - val_loss: 27.5901\n",
      "Epoch 24/250\n",
      "1719/1719 [==============================] - 1s 812us/step - loss: 27.6127 - val_loss: 27.5900\n",
      "Epoch 25/250\n",
      "1719/1719 [==============================] - 2s 900us/step - loss: 27.6127 - val_loss: 27.5900\n",
      "Epoch 26/250\n",
      "1719/1719 [==============================] - 2s 901us/step - loss: 27.6127 - val_loss: 27.5900\n",
      "Epoch 27/250\n",
      "1719/1719 [==============================] - 2s 937us/step - loss: 27.6127 - val_loss: 27.5900\n",
      "Epoch 28/250\n",
      "1719/1719 [==============================] - 1s 833us/step - loss: 27.6127 - val_loss: 27.5900\n",
      "Epoch 29/250\n",
      "1719/1719 [==============================] - 1s 799us/step - loss: 27.6127 - val_loss: 27.5900\n",
      "Epoch 30/250\n",
      "1719/1719 [==============================] - 1s 808us/step - loss: 27.6126 - val_loss: 27.5899\n",
      "Epoch 31/250\n",
      "1719/1719 [==============================] - 1s 814us/step - loss: 27.6126 - val_loss: 27.5899\n",
      "Epoch 32/250\n",
      "1719/1719 [==============================] - 1s 809us/step - loss: 27.6126 - val_loss: 27.5899\n",
      "Epoch 33/250\n",
      "1719/1719 [==============================] - 1s 831us/step - loss: 27.6126 - val_loss: 27.5899\n",
      "Epoch 34/250\n",
      "1719/1719 [==============================] - 1s 811us/step - loss: 27.6126 - val_loss: 27.5899\n",
      "Epoch 35/250\n",
      "1719/1719 [==============================] - 1s 825us/step - loss: 27.6125 - val_loss: 27.5899\n",
      "Epoch 36/250\n",
      "1719/1719 [==============================] - 1s 806us/step - loss: 27.6125 - val_loss: 27.5899\n",
      "Epoch 37/250\n",
      "1719/1719 [==============================] - 1s 804us/step - loss: 27.6125 - val_loss: 27.5898\n",
      "Epoch 38/250\n",
      "1719/1719 [==============================] - 1s 817us/step - loss: 27.6125 - val_loss: 27.5898\n",
      "Epoch 39/250\n",
      "1719/1719 [==============================] - 1s 804us/step - loss: 27.6125 - val_loss: 27.5898\n",
      "Epoch 40/250\n",
      "1719/1719 [==============================] - 1s 802us/step - loss: 27.6124 - val_loss: 27.5898\n",
      "Epoch 41/250\n",
      "1719/1719 [==============================] - 1s 811us/step - loss: 27.6124 - val_loss: 27.5898\n",
      "Epoch 42/250\n",
      "1719/1719 [==============================] - 1s 819us/step - loss: 27.6124 - val_loss: 27.5898\n",
      "Epoch 43/250\n",
      "1719/1719 [==============================] - 1s 816us/step - loss: 27.6124 - val_loss: 27.5898\n",
      "Epoch 44/250\n",
      "1719/1719 [==============================] - 1s 818us/step - loss: 27.6124 - val_loss: 27.5898\n",
      "Epoch 45/250\n",
      "1719/1719 [==============================] - 1s 822us/step - loss: 27.6124 - val_loss: 27.5898\n",
      "Epoch 46/250\n",
      "1719/1719 [==============================] - 1s 818us/step - loss: 27.6124 - val_loss: 27.5898\n",
      "Epoch 47/250\n",
      "1719/1719 [==============================] - 1s 840us/step - loss: 27.6124 - val_loss: 27.5897\n",
      "Epoch 48/250\n",
      "1719/1719 [==============================] - 2s 908us/step - loss: 27.6123 - val_loss: 27.5897\n",
      "Epoch 49/250\n",
      "1719/1719 [==============================] - 1s 853us/step - loss: 27.6124 - val_loss: 27.5897\n",
      "Epoch 50/250\n",
      "1719/1719 [==============================] - 1s 831us/step - loss: 27.6123 - val_loss: 27.5897\n",
      "Epoch 51/250\n",
      "1719/1719 [==============================] - 1s 823us/step - loss: 27.6123 - val_loss: 27.5897\n",
      "Epoch 52/250\n",
      "1719/1719 [==============================] - 1s 843us/step - loss: 27.6123 - val_loss: 27.5897\n"
     ]
    },
    {
     "data": {
      "text/plain": [
       "52"
      ]
     },
     "execution_count": 80,
     "metadata": {},
     "output_type": "execute_result"
    }
   ],
   "source": [
    "callback = keras.callbacks.EarlyStopping(monitor='loss', patience=2)\n",
    "\n",
    "model = keras.models.Sequential([\n",
    "    keras.layers.Flatten(input_shape=[28, 28]),\n",
    "    keras.layers.Dense(300, activation=\"selu\", kernel_initializer=\"lecun_normal\"),\n",
    "    keras.layers.Dense(100, activation=\"selu\", kernel_initializer=\"lecun_normal\"),\n",
    "    keras.layers.Dense(10, activation=\"softmax\")\n",
    "])\n",
    "\n",
    "model.compile(keras.optimizers.SGD(), loss='mse')\n",
    "\n",
    "history = model.fit(X_train_scaled, y_train, epochs=250,\n",
    "                    validation_data=(X_valid_scaled, y_valid),\n",
    "                    callbacks=[callback])\n",
    "\n",
    "len(history.history['loss'])"
   ]
  },
  {
   "cell_type": "markdown",
   "metadata": {},
   "source": [
    "### L1 and L2 regularization\n",
    "\n",
    "Just like for simple linear models, you can use $\\ell_1$ regularization to constrain a neural network’s connection weights, and/or $\\ell_2$ regularization if we want a sparse model (with many weights equal to 0). In these methods a regularization term is added to the cost function to forces the learning algorithm to not only fit the data but also keep the model weights as small as possible. \n",
    "\n",
    "In Keras we can specify the regularization in that way:"
   ]
  },
  {
   "cell_type": "code",
   "execution_count": 81,
   "metadata": {},
   "outputs": [],
   "source": [
    "layer = keras.layers.Dense(100, activation=\"elu\",\n",
    "                           kernel_initializer=\"he_normal\",\n",
    "                           kernel_regularizer=keras.regularizers.l2(0.01))"
   ]
  },
  {
   "cell_type": "markdown",
   "metadata": {},
   "source": [
    "The **l2()** function returns a regularizer that will be called at each step during training to compute the regularization loss. This is then added to the final loss. We can use **keras.regularizers.l1()** if we want $\\ell_1$ regularization, if we want both regularization, we can use **keras.regularizers.l1_l2()** function.\n",
    "\n",
    "Since typically we want to apply the same regularizer to all layers in the network, as well as using the same activation function and the same initialization strategy in all hidden layers, we may find ourself repeating the same arguments. This makes the code ugly and error-prone. To avoid this, we can use Python’s **functools.partial()** function, which lets we create a thin wrapper for any callable, with some default argument values:"
   ]
  },
  {
   "cell_type": "code",
   "execution_count": 82,
   "metadata": {},
   "outputs": [
    {
     "name": "stdout",
     "output_type": "stream",
     "text": [
      "Epoch 1/2\n",
      "1719/1719 [==============================] - 4s 2ms/step - loss: 1.5936 - accuracy: 0.8121 - val_loss: 0.7835 - val_accuracy: 0.8058\n",
      "Epoch 2/2\n",
      "1719/1719 [==============================] - 4s 3ms/step - loss: 0.7172 - accuracy: 0.8270 - val_loss: 0.6900 - val_accuracy: 0.8392\n"
     ]
    }
   ],
   "source": [
    "from functools import partial\n",
    "\n",
    "RegularizedDense = partial(keras.layers.Dense,\n",
    "                           activation=\"elu\",\n",
    "                           kernel_initializer=\"he_normal\",\n",
    "                           kernel_regularizer=keras.regularizers.l2(0.01))\n",
    "\n",
    "model = keras.models.Sequential([\n",
    "            keras.layers.Flatten(input_shape=[28, 28]),\n",
    "            RegularizedDense(300),\n",
    "            RegularizedDense(100),\n",
    "            RegularizedDense(10, activation=\"softmax\")\n",
    "])\n",
    "\n",
    "model.compile(loss=\"sparse_categorical_crossentropy\", optimizer=\"nadam\", \n",
    "              metrics=[\"accuracy\"])\n",
    "\n",
    "n_epochs = 2\n",
    "history = model.fit(X_train_scaled, y_train, epochs=n_epochs,\n",
    "                    validation_data=(X_valid_scaled, y_valid))"
   ]
  },
  {
   "cell_type": "markdown",
   "metadata": {},
   "source": [
    "### Dropout\n",
    "Dropout [Nitish Srivastava et al. **Dropout: A Simple Way to Prevent Neural Networks from Overfitting** Journal of Machine Learning Research (2014)](https://dl.acm.org/doi/10.5555/2627435.2670313) is one of the most popular regularization techniques for deep neural networks.  It is a fairly simple algorithm: at every training step, every neuron (including the input neurons, but always excluding the output neurons) has a probability $p$ of being temporarily “dropped out”, meaning it will be entirely ignored during this training step, but it may be active during the next step. The hyperparameter $p$ is called the **dropout rate** and it is typically set between 10% and 50%. After training, neurons don’t get dropped anymore.\n",
    "\n",
    "<img src=\"./images/dropout.png\" width=\"500\">"
   ]
  },
  {
   "cell_type": "markdown",
   "metadata": {},
   "source": [
    "Neurons trained with dropout cannot coadapt with their neighboring neurons; they have to be as useful as possible on their own. They also cannot rely excessively on just a few input neurons; they must pay attention to each of their input neurons. They end up being less sensitive to slight changes in the inputs. In the end, we get a more robust network that generalizes better.\n",
    "\n",
    "Another way to understand the power of dropout is to realize that a unique neural network is generated at each training step. Since each neuron can be either present or absent, there are a total of $2^N$ possible networks (where N is the total number of droppable neurons). This is such a huge number that it is virtually impossible for the same neural network to be sampled twice. Once you have run 10,000 training steps, you have essentially trained 10,000 different neural networks (each with just one training instance). These neural networks are obviously not independent because they share many of their weights, but they are nevertheless all different. The resulting neural network can be seen as an averaging ensemble of all these smaller\n",
    "neural networks.\n",
    "\n",
    "There is one small but important technical detail. Suppose $p=50%$, in which case a durign test neuron would be connected to twice as many input neurons as it would be (on average) during training. To compensate for this fact, we need to multiply each neuron’s input connection weights by 0.5 after training. If we don’t, each neuron will get a total input signal roughly twice as large as what the network was trained on and will be unlikely to perform well. More generally, we need to multiply each input connection weight by the keep probability $(1 – p)$ after training. Alternatively, we can divide each neuron’s output by the keep probability during training (these alternatives are not perfectly equivalent, but they work equally well).\n",
    "\n",
    "Since dropout is only active during training, comparing the training loss and the\n",
    "validation loss can be misleading. In particular, a model may be overfitting the training set and yet have similar training and validation losses. So make sure to evaluate the training loss without dropout (e.g., after training)."
   ]
  },
  {
   "cell_type": "markdown",
   "metadata": {},
   "source": [
    "We can implement dropout on our from scratch library:"
   ]
  },
  {
   "cell_type": "code",
   "execution_count": 15,
   "metadata": {},
   "outputs": [],
   "source": [
    "class Dropout(Layer):\n",
    "    def __init__(self, p: float) -> None:\n",
    "        self.p = p\n",
    "        self.train = True\n",
    "\n",
    "    def forward(self, input: Tensor) -> Tensor:\n",
    "        if self.train:\n",
    "            # Create a mask of 0s and 1s shaped like the input\n",
    "            # using the specified probability.\n",
    "            self.mask = tensor_apply(\n",
    "                lambda _: 0 if random.random() < self.p else 1,\n",
    "                input)\n",
    "            # Multiply by the mask to dropout inputs.\n",
    "            return tensor_combine(operator.mul, input, self.mask)\n",
    "        else:\n",
    "            # During evaluation just scale down the outputs uniformly.\n",
    "            return tensor_apply(lambda x: x * (1 - self.p), input)\n",
    "\n",
    "    def backward(self, gradient: Tensor) -> Tensor:\n",
    "        if self.train:\n",
    "            # Only propagate the gradients where mask == 1\n",
    "            return tensor_combine(operator.mul, gradient, self.mask)\n",
    "        else:\n",
    "            raise RuntimeError(\"don't call backward when not in train mode\")"
   ]
  },
  {
   "cell_type": "markdown",
   "metadata": {},
   "source": [
    "To implement dropout using Keras, you can use the keras.layers.Dropout layer:"
   ]
  },
  {
   "cell_type": "code",
   "execution_count": 84,
   "metadata": {},
   "outputs": [
    {
     "name": "stdout",
     "output_type": "stream",
     "text": [
      "Epoch 1/2\n",
      "1719/1719 [==============================] - 4s 2ms/step - loss: 0.5754 - accuracy: 0.8031 - val_loss: 0.3748 - val_accuracy: 0.8654\n",
      "Epoch 2/2\n",
      "1719/1719 [==============================] - 4s 2ms/step - loss: 0.4227 - accuracy: 0.8452 - val_loss: 0.3450 - val_accuracy: 0.8700\n"
     ]
    }
   ],
   "source": [
    "model = keras.models.Sequential([\n",
    "    keras.layers.Flatten(input_shape=[28, 28]),\n",
    "    keras.layers.Dropout(rate=0.2),\n",
    "    keras.layers.Dense(300, activation=\"elu\", kernel_initializer=\"he_normal\"),\n",
    "    keras.layers.Dropout(rate=0.2),\n",
    "    keras.layers.Dense(100, activation=\"elu\", kernel_initializer=\"he_normal\"),\n",
    "    keras.layers.Dropout(rate=0.2),\n",
    "    keras.layers.Dense(10, activation=\"softmax\")\n",
    "])\n",
    "\n",
    "model.compile(loss=\"sparse_categorical_crossentropy\", optimizer=\"nadam\", metrics=[\"accuracy\"])\n",
    "\n",
    "n_epochs = 2\n",
    "history = model.fit(X_train_scaled, y_train, epochs=n_epochs,\n",
    "                    validation_data=(X_valid_scaled, y_valid))"
   ]
  },
  {
   "cell_type": "markdown",
   "metadata": {},
   "source": [
    "If we observe that the model is overfitting, we can increase the dropout rate. Conversely, we should try decreasing the dropout rate if the model underfits the training set. It can also help to increase the dropout rate for large layers, and reduce it for small ones. Moreover, many state-of-the-art architectures only use dropout after the last hidden layer, so we may want to try this if full dropout is too strong. Dropout does tend to significantly slow down convergence, but it usually\n",
    "results in a much better model when tuned properly. So, it is generally well worth the extra time and effort."
   ]
  },
  {
   "cell_type": "markdown",
   "metadata": {},
   "source": [
    "If we want to regularize a self-normalizing network based on the SELU activation\n",
    "function, we should use **alpha dropout**, a variant of dropout that preserves the mean and standard deviation of its inputs (as regular dropout would break self-normalization):"
   ]
  },
  {
   "cell_type": "code",
   "execution_count": 85,
   "metadata": {},
   "outputs": [
    {
     "name": "stdout",
     "output_type": "stream",
     "text": [
      "Epoch 1/20\n",
      "1719/1719 [==============================] - 2s 1ms/step - loss: 0.6646 - accuracy: 0.7583 - val_loss: 0.5628 - val_accuracy: 0.8476\n",
      "Epoch 2/20\n",
      "1719/1719 [==============================] - 2s 1ms/step - loss: 0.5583 - accuracy: 0.7928 - val_loss: 0.5272 - val_accuracy: 0.8488\n",
      "Epoch 3/20\n",
      "1719/1719 [==============================] - 2s 1ms/step - loss: 0.5259 - accuracy: 0.8043 - val_loss: 0.5402 - val_accuracy: 0.8468\n",
      "Epoch 4/20\n",
      "1719/1719 [==============================] - 2s 1ms/step - loss: 0.5068 - accuracy: 0.8124 - val_loss: 0.5033 - val_accuracy: 0.8480\n",
      "Epoch 5/20\n",
      "1719/1719 [==============================] - 2s 1ms/step - loss: 0.4935 - accuracy: 0.8161 - val_loss: 0.4873 - val_accuracy: 0.8498\n",
      "Epoch 6/20\n",
      "1719/1719 [==============================] - 2s 1ms/step - loss: 0.4798 - accuracy: 0.8230 - val_loss: 0.4815 - val_accuracy: 0.8594\n",
      "Epoch 7/20\n",
      "1719/1719 [==============================] - 2s 1ms/step - loss: 0.4692 - accuracy: 0.8274 - val_loss: 0.4325 - val_accuracy: 0.8646\n",
      "Epoch 8/20\n",
      "1719/1719 [==============================] - 2s 1ms/step - loss: 0.4679 - accuracy: 0.8271 - val_loss: 0.4266 - val_accuracy: 0.8694\n",
      "Epoch 9/20\n",
      "1719/1719 [==============================] - 2s 1ms/step - loss: 0.4570 - accuracy: 0.8298 - val_loss: 0.4139 - val_accuracy: 0.8746\n",
      "Epoch 10/20\n",
      "1719/1719 [==============================] - 2s 1ms/step - loss: 0.4584 - accuracy: 0.8309 - val_loss: 0.4198 - val_accuracy: 0.8724\n",
      "Epoch 11/20\n",
      "1719/1719 [==============================] - 2s 1ms/step - loss: 0.4523 - accuracy: 0.8322 - val_loss: 0.4384 - val_accuracy: 0.8752\n",
      "Epoch 12/20\n",
      "1719/1719 [==============================] - 2s 1ms/step - loss: 0.4438 - accuracy: 0.8357 - val_loss: 0.4875 - val_accuracy: 0.8590\n",
      "Epoch 13/20\n",
      "1719/1719 [==============================] - 2s 1ms/step - loss: 0.4374 - accuracy: 0.8369 - val_loss: 0.4203 - val_accuracy: 0.8740\n",
      "Epoch 14/20\n",
      "1719/1719 [==============================] - 2s 1ms/step - loss: 0.4365 - accuracy: 0.8379 - val_loss: 0.4564 - val_accuracy: 0.8766\n",
      "Epoch 15/20\n",
      "1719/1719 [==============================] - 2s 1ms/step - loss: 0.4344 - accuracy: 0.8385 - val_loss: 0.4193 - val_accuracy: 0.8762\n",
      "Epoch 16/20\n",
      "1719/1719 [==============================] - 2s 1ms/step - loss: 0.4293 - accuracy: 0.8401 - val_loss: 0.4112 - val_accuracy: 0.8816\n",
      "Epoch 17/20\n",
      "1719/1719 [==============================] - 2s 1ms/step - loss: 0.4248 - accuracy: 0.8418 - val_loss: 0.4010 - val_accuracy: 0.8792\n",
      "Epoch 18/20\n",
      "1719/1719 [==============================] - 2s 1ms/step - loss: 0.4261 - accuracy: 0.8423 - val_loss: 0.4023 - val_accuracy: 0.8780\n",
      "Epoch 19/20\n",
      "1719/1719 [==============================] - 2s 1ms/step - loss: 0.4179 - accuracy: 0.8439 - val_loss: 0.4284 - val_accuracy: 0.8740\n",
      "Epoch 20/20\n",
      "1719/1719 [==============================] - 2s 1ms/step - loss: 0.4218 - accuracy: 0.8420 - val_loss: 0.5023 - val_accuracy: 0.8700\n"
     ]
    }
   ],
   "source": [
    "model = keras.models.Sequential([\n",
    "    keras.layers.Flatten(input_shape=[28, 28]),\n",
    "    keras.layers.AlphaDropout(rate=0.2),\n",
    "    keras.layers.Dense(300, activation=\"selu\", kernel_initializer=\"lecun_normal\"),\n",
    "    keras.layers.AlphaDropout(rate=0.2),\n",
    "    keras.layers.Dense(100, activation=\"selu\", kernel_initializer=\"lecun_normal\"),\n",
    "    keras.layers.AlphaDropout(rate=0.2),\n",
    "    keras.layers.Dense(10, activation=\"softmax\")\n",
    "])\n",
    "\n",
    "optimizer = keras.optimizers.SGD(lr=0.01, momentum=0.9, nesterov=True)\n",
    "\n",
    "model.compile(loss=\"sparse_categorical_crossentropy\", optimizer=optimizer, metrics=[\"accuracy\"])\n",
    "\n",
    "n_epochs = 20\n",
    "history = model.fit(X_train_scaled, y_train, epochs=n_epochs,\n",
    "                    validation_data=(X_valid_scaled, y_valid))"
   ]
  },
  {
   "cell_type": "markdown",
   "metadata": {},
   "source": [
    "### Monte Carlo Dropout\n",
    "\n",
    "Monte Carlo Dropout ([Yarin Gal and Zoubin Ghahramani **Dropout as a Bayesian Approximation: Representing Model Uncertainty in Deep Learning** Proceedings of the 33rd International Conference on Machine Learning (2016)](https://arxiv.org/abs/1506.02142)) is a clever realization that the use of the regular dropout can be interpreted as a Bayesian approximation of a well known probabilistic model: the Gaussian process. \n",
    "\n",
    "We can treat the many different networks (with different neurons dropped out) as Monte Carlo samples from the space of all available models. This provides mathematical grounds to reason about the model’s uncertainty and, as it turns out, often improves its performance.\n",
    "\n",
    "How does it work? We simply apply dropout at test time, that's all! Then, instead of one prediction, we get many, one by each model. We can then average them or analyze their distributions. And the best part: it does not require any changes in the model’s architecture. We can even use this trick on a model that has already been trained! To see it working in practice, let’s train a simple network to recognize digits from the MNIST dataset.\n",
    "\n",
    "We can try to boost the dropout model we trained earlier without retraining it. We just make 100 predictions over the test set, setting training=True to ensure that the Dropout layer is active, and stack the predictions. Since dropout is active, all the predictions will be different. Then we average and we get a prediction. Averaging over multiple predictions with dropout on gives us a Monte Carlo estimate that is generally more reliable than the result of a single prediction with dropout\n",
    "off."
   ]
  },
  {
   "cell_type": "code",
   "execution_count": 86,
   "metadata": {},
   "outputs": [],
   "source": [
    "y_probas = np.stack([model(X_test_scaled, training=True) for sample in range(100)])\n",
    "y_proba = y_probas.mean(axis=0)"
   ]
  },
  {
   "cell_type": "markdown",
   "metadata": {},
   "source": [
    "For example, let’s look at the model’s prediction for the first instance in\n",
    "the test set, with dropout off:"
   ]
  },
  {
   "cell_type": "code",
   "execution_count": 87,
   "metadata": {},
   "outputs": [
    {
     "data": {
      "text/plain": [
       "array([[0.  , 0.  , 0.  , 0.  , 0.  , 0.  , 0.  , 0.01, 0.  , 0.98]],\n",
       "      dtype=float32)"
      ]
     },
     "execution_count": 87,
     "metadata": {},
     "output_type": "execute_result"
    }
   ],
   "source": [
    "np.round(model.predict(X_test_scaled[:1]), 2)"
   ]
  },
  {
   "cell_type": "markdown",
   "metadata": {},
   "source": [
    "Compare this with the predictions made when dropout is activated:"
   ]
  },
  {
   "cell_type": "code",
   "execution_count": 91,
   "metadata": {},
   "outputs": [
    {
     "data": {
      "text/plain": [
       "array([[0.  , 0.  , 0.  , 0.  , 0.  , 0.17, 0.  , 0.25, 0.  , 0.58]],\n",
       "      dtype=float32)"
      ]
     },
     "execution_count": 91,
     "metadata": {},
     "output_type": "execute_result"
    }
   ],
   "source": [
    "np.round(y_proba[:1], 2)"
   ]
  },
  {
   "cell_type": "markdown",
   "metadata": {},
   "source": [
    "The model still thinks this image belongs to class 9, but only with a 58% confidence, which seems much more reasonable than 98%. Plus it’s useful to know exactly which other classes it thinks are likely. And you can also take a look at the standard deviation of the probability estimates:"
   ]
  },
  {
   "cell_type": "code",
   "execution_count": 92,
   "metadata": {},
   "outputs": [
    {
     "data": {
      "text/plain": [
       "array([[0.  , 0.  , 0.  , 0.  , 0.  , 0.22, 0.  , 0.2 , 0.01, 0.28]],\n",
       "      dtype=float32)"
      ]
     },
     "execution_count": 92,
     "metadata": {},
     "output_type": "execute_result"
    }
   ],
   "source": [
    "y_std = y_probas.std(axis=0)\n",
    "np.round(y_std[:1], 2)"
   ]
  },
  {
   "cell_type": "markdown",
   "metadata": {},
   "source": [
    "Apparently there’s quite a lot of variance in the probability estimates: if we were building a risk-sensitive system (e.g., a medical or financial system), we should probably treat such an uncertain prediction with extreme caution.\n",
    "\n",
    "Moreover, the model’s accuracy got a small boost:"
   ]
  },
  {
   "cell_type": "code",
   "execution_count": 95,
   "metadata": {},
   "outputs": [
    {
     "data": {
      "text/plain": [
       "0.8622"
      ]
     },
     "execution_count": 95,
     "metadata": {},
     "output_type": "execute_result"
    }
   ],
   "source": [
    "y_pred = np.argmax(y_proba, axis=1)\n",
    "accuracy = np.sum(y_pred == y_test) / len(y_test)\n",
    "accuracy"
   ]
  },
  {
   "cell_type": "markdown",
   "metadata": {},
   "source": [
    "The number of samples we use (100 in this example) is a hyperparameter we can tweak. The higher it is, the more accurate the predictions and their uncertainty estimates will be. However, if we double it, inference time will also be doubled. Moreover, above a certain number of samples, we will notice little improvement. So our job is to find the right trade-off between latency and accuracy, depending on our application."
   ]
  },
  {
   "cell_type": "markdown",
   "metadata": {},
   "source": [
    "### MaxNorm Regularization\n",
    "\n",
    "Max-norm regularization* constrains the incoming connection weights $w$ of each neuron $\\left\\|w\\right\\|_2 < r$, where $r$ is the **maxnorm hyperparameter**. It does not add a regularization loss term to the overall loss function. Instead, it is typically implemented by computing $\\left\\|w\\right\\|_2$ after each training step and rescaling w if needed.\n",
    "\n",
    "Reducing $r$ increases the amount of regularization and helps reduce overfitting. Max-norm regularization can also help alleviate the unstable gradients problems (if you are not using Batch Normalization).\n",
    "\n",
    "In Keras, we can set the **kernel_constraint argument** of each hidden layer to a **max_norm()** constraint with the appropriate max value, like this:"
   ]
  },
  {
   "cell_type": "code",
   "execution_count": 96,
   "metadata": {},
   "outputs": [
    {
     "data": {
      "text/plain": [
       "<tensorflow.python.keras.layers.core.Dense at 0x7fe7308b9b20>"
      ]
     },
     "execution_count": 96,
     "metadata": {},
     "output_type": "execute_result"
    }
   ],
   "source": [
    "keras.layers.Dense(100, activation=\"elu\", kernel_initializer=\"he_normal\",\n",
    "kernel_constraint=keras.constraints.max_norm(1.))"
   ]
  },
  {
   "cell_type": "markdown",
   "metadata": {},
   "source": [
    "## Summary and Practical Guidelines\n",
    "\n",
    "We have covered a wide range of techniques, and you may be wondering which ones you should use. This depends on the task, and there is no clear consensus yet, but the configuration in the following table work fine in most cases, without requiring much hyperparameter tuning:\n",
    "\n",
    "<img src=\"./images/guidelines.png\" width=\"500\">\n"
   ]
  },
  {
   "cell_type": "markdown",
   "metadata": {},
   "source": [
    "Don’t forget to normalize the input features! \n",
    "\n",
    "We should also try to reuse parts of a pretrained neural network if we can find one that solves a similar problem.\n",
    "\n",
    "If we need a sparse model, we can use $\\ell_1$ regularization (and optionally zero out the tiny weights after training). If we need an even sparser model, we can use the TensorFlow Model Optimization Toolkit. This will break self-normalization, so we should use the default configuration in this case.\n",
    "\n",
    "If we need a low-latency model (one that performs lightning-fast predictions), we may need to use fewer layers, fold the Batch Normalization layers into the previous layers, and possibly use a faster activation function such as leaky ReLU or just ReLU.\n",
    "\n",
    "If we are building a risk-sensitive application, or inference latency is not very important in our application, we can use Monte Carlo Dropout to boost performance and get more reliable probability estimates, along with uncertainty estimates.\n",
    "\n",
    "Finally, we may want to reduce the float precision from 32 bits to 16 or even 8 bits (e.g. to deploying a model to an embedded Device).\n",
    "\n",
    "It is possible to create really powerful DNS with Keras, however, we can need even more control (for example, to write a custom loss function or to tweak the training algorithm). For such cases we will need to use TensorFlow’s lower-level API."
   ]
  },
  {
   "cell_type": "markdown",
   "metadata": {},
   "source": [
    "## Exercise\n",
    "\n",
    "**Practice training a deep neural network on the CIFAR10 image dataset. The dataset is composed of 60,000 32 × 32–pixel color images (50,000 for training, 10,000 for testing) with 10 classes. You can load it with keras.datasets.cifar10.load_ data()**"
   ]
  },
  {
   "cell_type": "code",
   "execution_count": 99,
   "metadata": {},
   "outputs": [],
   "source": [
    "(X_train_full, y_train_full), (X_test, y_test) = keras.datasets.cifar10.load_data()\n",
    "\n",
    "X_train = X_train_full[5000:]\n",
    "y_train = y_train_full[5000:]\n",
    "X_valid = X_train_full[:5000]\n",
    "y_valid = y_train_full[:5000]"
   ]
  },
  {
   "cell_type": "markdown",
   "metadata": {},
   "source": [
    "**1 - Build a DNN with 20 hidden layers of 100 neurons each (that’s too many, but it’s the point of this exercise). Use He initialization and the ELU activation function.**"
   ]
  },
  {
   "cell_type": "code",
   "execution_count": 108,
   "metadata": {},
   "outputs": [],
   "source": [
    "keras.backend.clear_session()\n",
    "tf.random.set_seed(42)\n",
    "np.random.seed(42)\n",
    "\n",
    "model = keras.models.Sequential()\n",
    "model.add(keras.layers.Flatten(input_shape=[32, 32, 3]))\n",
    "for _ in range(20):\n",
    "    model.add(keras.layers.Dense(100,\n",
    "                                 activation=\"elu\",\n",
    "                                 kernel_initializer=\"he_normal\"))"
   ]
  },
  {
   "cell_type": "markdown",
   "metadata": {},
   "source": [
    "**2 - Using Nadam optimization and early stopping, train the network on the CIFAR10 dataset. You’ll need a softmax output layer with 10 neurons. Remember to search for the right learning rate each time you change the model’s architecture or hyperparameters.**"
   ]
  },
  {
   "cell_type": "code",
   "execution_count": 109,
   "metadata": {},
   "outputs": [
    {
     "name": "stdout",
     "output_type": "stream",
     "text": [
      "Epoch 1/100\n",
      "1407/1407 [==============================] - 9s 6ms/step - loss: 3.9728 - accuracy: 0.1676 - val_loss: 2.2328 - val_accuracy: 0.2040\n",
      "Epoch 2/100\n",
      "1407/1407 [==============================] - 8s 6ms/step - loss: 2.0702 - accuracy: 0.2427 - val_loss: 2.0485 - val_accuracy: 0.2402\n",
      "Epoch 3/100\n",
      "1407/1407 [==============================] - 9s 6ms/step - loss: 1.9416 - accuracy: 0.2920 - val_loss: 1.9681 - val_accuracy: 0.2964\n",
      "Epoch 4/100\n",
      "1407/1407 [==============================] - 8s 6ms/step - loss: 1.8585 - accuracy: 0.3220 - val_loss: 1.9178 - val_accuracy: 0.3254\n",
      "Epoch 5/100\n",
      "1407/1407 [==============================] - 8s 6ms/step - loss: 1.7985 - accuracy: 0.3451 - val_loss: 1.8256 - val_accuracy: 0.3384\n",
      "Epoch 6/100\n",
      "1407/1407 [==============================] - 9s 6ms/step - loss: 1.7495 - accuracy: 0.3665 - val_loss: 1.7430 - val_accuracy: 0.3692\n",
      "Epoch 7/100\n",
      "1407/1407 [==============================] - 8s 6ms/step - loss: 1.7072 - accuracy: 0.3825 - val_loss: 1.7199 - val_accuracy: 0.3824\n",
      "Epoch 8/100\n",
      "1407/1407 [==============================] - 8s 6ms/step - loss: 1.6735 - accuracy: 0.3959 - val_loss: 1.6746 - val_accuracy: 0.3972\n",
      "Epoch 9/100\n",
      "1407/1407 [==============================] - 8s 6ms/step - loss: 1.6407 - accuracy: 0.4087 - val_loss: 1.6622 - val_accuracy: 0.4004\n",
      "Epoch 10/100\n",
      "1407/1407 [==============================] - 8s 6ms/step - loss: 1.6126 - accuracy: 0.4184 - val_loss: 1.7065 - val_accuracy: 0.3840\n",
      "Epoch 11/100\n",
      "1407/1407 [==============================] - 9s 6ms/step - loss: 1.5885 - accuracy: 0.4298 - val_loss: 1.6736 - val_accuracy: 0.3914\n",
      "Epoch 12/100\n",
      "1407/1407 [==============================] - 9s 6ms/step - loss: 1.5626 - accuracy: 0.4385 - val_loss: 1.6220 - val_accuracy: 0.4224\n",
      "Epoch 13/100\n",
      "1407/1407 [==============================] - 8s 6ms/step - loss: 1.5452 - accuracy: 0.4425 - val_loss: 1.6332 - val_accuracy: 0.4144\n",
      "Epoch 14/100\n",
      "1407/1407 [==============================] - 8s 6ms/step - loss: 1.5282 - accuracy: 0.4515 - val_loss: 1.5785 - val_accuracy: 0.4326\n",
      "Epoch 15/100\n",
      "1407/1407 [==============================] - 8s 6ms/step - loss: 1.5095 - accuracy: 0.4586 - val_loss: 1.6267 - val_accuracy: 0.4164\n",
      "Epoch 16/100\n",
      "1407/1407 [==============================] - 9s 6ms/step - loss: 1.4898 - accuracy: 0.4644 - val_loss: 1.5846 - val_accuracy: 0.4316\n",
      "Epoch 17/100\n",
      "1407/1407 [==============================] - 9s 6ms/step - loss: 1.4836 - accuracy: 0.4662 - val_loss: 1.5549 - val_accuracy: 0.4420\n",
      "Epoch 18/100\n",
      "1407/1407 [==============================] - 9s 6ms/step - loss: 1.4670 - accuracy: 0.4732 - val_loss: 1.5457 - val_accuracy: 0.4516\n",
      "Epoch 19/100\n",
      "1407/1407 [==============================] - 9s 6ms/step - loss: 1.4522 - accuracy: 0.4772 - val_loss: 1.5355 - val_accuracy: 0.4478\n",
      "Epoch 20/100\n",
      "1407/1407 [==============================] - 8s 6ms/step - loss: 1.4403 - accuracy: 0.4851 - val_loss: 1.5592 - val_accuracy: 0.4440\n",
      "Epoch 21/100\n",
      "1407/1407 [==============================] - 9s 6ms/step - loss: 1.4297 - accuracy: 0.4861 - val_loss: 1.5524 - val_accuracy: 0.4544\n",
      "Epoch 22/100\n",
      "1407/1407 [==============================] - 9s 6ms/step - loss: 1.4163 - accuracy: 0.4912 - val_loss: 1.5181 - val_accuracy: 0.4578\n",
      "Epoch 23/100\n",
      "1407/1407 [==============================] - 9s 6ms/step - loss: 1.4064 - accuracy: 0.4958 - val_loss: 1.5249 - val_accuracy: 0.4546\n",
      "Epoch 24/100\n",
      "1407/1407 [==============================] - 9s 6ms/step - loss: 1.3956 - accuracy: 0.4987 - val_loss: 1.5273 - val_accuracy: 0.4528\n",
      "Epoch 25/100\n",
      "1407/1407 [==============================] - 8s 6ms/step - loss: 1.3827 - accuracy: 0.5036 - val_loss: 1.5233 - val_accuracy: 0.4608\n",
      "Epoch 26/100\n",
      "1407/1407 [==============================] - 8s 6ms/step - loss: 1.3725 - accuracy: 0.5064 - val_loss: 1.5618 - val_accuracy: 0.4434\n",
      "Epoch 27/100\n",
      "1407/1407 [==============================] - 8s 6ms/step - loss: 1.3615 - accuracy: 0.5111 - val_loss: 1.4960 - val_accuracy: 0.4762\n",
      "Epoch 28/100\n",
      "1407/1407 [==============================] - 8s 6ms/step - loss: 1.3502 - accuracy: 0.5153 - val_loss: 1.5058 - val_accuracy: 0.4608\n",
      "Epoch 29/100\n",
      "1407/1407 [==============================] - 9s 6ms/step - loss: 1.3438 - accuracy: 0.5194 - val_loss: 1.5381 - val_accuracy: 0.4612\n",
      "Epoch 30/100\n",
      "1407/1407 [==============================] - 8s 6ms/step - loss: 1.3328 - accuracy: 0.5213 - val_loss: 1.6025 - val_accuracy: 0.4500\n",
      "Epoch 31/100\n",
      "1407/1407 [==============================] - 8s 6ms/step - loss: 1.3237 - accuracy: 0.5251 - val_loss: 1.5175 - val_accuracy: 0.4602\n",
      "Epoch 32/100\n",
      "1407/1407 [==============================] - 8s 6ms/step - loss: 1.3161 - accuracy: 0.5253 - val_loss: 1.5397 - val_accuracy: 0.4572\n",
      "Epoch 33/100\n",
      "1407/1407 [==============================] - 8s 6ms/step - loss: 1.3057 - accuracy: 0.5314 - val_loss: 1.4997 - val_accuracy: 0.4776\n",
      "Epoch 34/100\n",
      "1407/1407 [==============================] - 8s 6ms/step - loss: 1.3001 - accuracy: 0.5297 - val_loss: 1.5482 - val_accuracy: 0.4620\n",
      "Epoch 35/100\n",
      "1407/1407 [==============================] - 8s 6ms/step - loss: 1.2918 - accuracy: 0.5362 - val_loss: 1.5474 - val_accuracy: 0.4604\n",
      "Epoch 36/100\n",
      "1407/1407 [==============================] - 8s 6ms/step - loss: 1.2814 - accuracy: 0.5394 - val_loss: 1.5434 - val_accuracy: 0.4658\n",
      "Epoch 37/100\n",
      "1407/1407 [==============================] - 8s 6ms/step - loss: 1.2705 - accuracy: 0.5450 - val_loss: 1.5502 - val_accuracy: 0.4706\n",
      "Epoch 38/100\n",
      "1407/1407 [==============================] - 8s 6ms/step - loss: 1.2674 - accuracy: 0.5448 - val_loss: 1.5527 - val_accuracy: 0.4624\n",
      "Epoch 39/100\n",
      "1407/1407 [==============================] - 8s 6ms/step - loss: 1.2550 - accuracy: 0.5476 - val_loss: 1.5482 - val_accuracy: 0.4602\n",
      "Epoch 40/100\n",
      "1407/1407 [==============================] - 8s 6ms/step - loss: 1.2504 - accuracy: 0.5519 - val_loss: 1.5881 - val_accuracy: 0.4574\n",
      "Epoch 41/100\n",
      "1407/1407 [==============================] - 8s 6ms/step - loss: 1.2435 - accuracy: 0.5523 - val_loss: 1.5403 - val_accuracy: 0.4670\n",
      "Epoch 42/100\n",
      "1407/1407 [==============================] - 8s 6ms/step - loss: 1.2352 - accuracy: 0.5537 - val_loss: 1.5343 - val_accuracy: 0.4790\n",
      "Epoch 43/100\n",
      "1407/1407 [==============================] - 8s 6ms/step - loss: 1.2268 - accuracy: 0.5582 - val_loss: 1.5344 - val_accuracy: 0.4708\n",
      "Epoch 44/100\n",
      "1407/1407 [==============================] - 8s 6ms/step - loss: 1.2207 - accuracy: 0.5608 - val_loss: 1.5782 - val_accuracy: 0.4526\n",
      "Epoch 45/100\n",
      "1407/1407 [==============================] - 8s 6ms/step - loss: 1.2138 - accuracy: 0.5631 - val_loss: 1.5182 - val_accuracy: 0.4794\n",
      "Epoch 46/100\n",
      "1407/1407 [==============================] - 8s 6ms/step - loss: 1.2037 - accuracy: 0.5696 - val_loss: 1.5435 - val_accuracy: 0.4650\n",
      "Epoch 47/100\n",
      "1407/1407 [==============================] - 8s 6ms/step - loss: 1.1951 - accuracy: 0.5693 - val_loss: 1.5532 - val_accuracy: 0.4686\n"
     ]
    },
    {
     "data": {
      "text/plain": [
       "<tensorflow.python.keras.callbacks.History at 0x7fe78379dca0>"
      ]
     },
     "execution_count": 109,
     "metadata": {},
     "output_type": "execute_result"
    }
   ],
   "source": [
    "model.add(keras.layers.Dense(10, activation=\"softmax\"))\n",
    "\n",
    "optimizer = keras.optimizers.Nadam(lr=5e-5)\n",
    "\n",
    "model.compile(loss=\"sparse_categorical_crossentropy\",\n",
    "              optimizer=optimizer,\n",
    "              metrics=[\"accuracy\"])\n",
    "\n",
    "early_stopping_cb = keras.callbacks.EarlyStopping(patience=20)\n",
    "callbacks = [early_stopping_cb]\n",
    "\n",
    "model.fit(X_train, y_train, epochs=100,\n",
    "          validation_data=(X_valid, y_valid),\n",
    "          callbacks=callbacks)"
   ]
  },
  {
   "cell_type": "markdown",
   "metadata": {},
   "source": [
    "**3 - Now try adding Batch Normalization and compare the learning curves: Is it converging faster than before? Does it produce a better model? How does it affect training speed?**"
   ]
  },
  {
   "cell_type": "code",
   "execution_count": 110,
   "metadata": {},
   "outputs": [
    {
     "name": "stdout",
     "output_type": "stream",
     "text": [
      "Epoch 1/100\n",
      "1407/1407 [==============================] - 15s 11ms/step - loss: 1.8411 - accuracy: 0.3426 - val_loss: 1.6602 - val_accuracy: 0.4042\n",
      "Epoch 2/100\n",
      "1407/1407 [==============================] - 15s 10ms/step - loss: 1.6666 - accuracy: 0.4099 - val_loss: 1.5887 - val_accuracy: 0.4304\n",
      "Epoch 3/100\n",
      "1407/1407 [==============================] - 14s 10ms/step - loss: 1.5996 - accuracy: 0.4305 - val_loss: 1.5781 - val_accuracy: 0.4326\n",
      "Epoch 4/100\n",
      "1407/1407 [==============================] - 14s 10ms/step - loss: 1.5511 - accuracy: 0.4499 - val_loss: 1.5064 - val_accuracy: 0.4676\n",
      "Epoch 5/100\n",
      "1407/1407 [==============================] - 14s 10ms/step - loss: 1.5083 - accuracy: 0.4660 - val_loss: 1.4412 - val_accuracy: 0.4844\n",
      "Epoch 6/100\n",
      "1407/1407 [==============================] - 14s 10ms/step - loss: 1.4684 - accuracy: 0.4807 - val_loss: 1.4179 - val_accuracy: 0.4984\n",
      "Epoch 7/100\n",
      "1407/1407 [==============================] - 14s 10ms/step - loss: 1.4370 - accuracy: 0.4914 - val_loss: 1.4277 - val_accuracy: 0.4906\n",
      "Epoch 8/100\n",
      "1407/1407 [==============================] - 14s 10ms/step - loss: 1.4062 - accuracy: 0.5029 - val_loss: 1.3843 - val_accuracy: 0.5130\n",
      "Epoch 9/100\n",
      "1407/1407 [==============================] - 14s 10ms/step - loss: 1.3819 - accuracy: 0.5122 - val_loss: 1.3691 - val_accuracy: 0.5108\n",
      "Epoch 10/100\n",
      "1407/1407 [==============================] - 14s 10ms/step - loss: 1.3593 - accuracy: 0.5198 - val_loss: 1.3552 - val_accuracy: 0.5226\n",
      "Epoch 11/100\n",
      "1407/1407 [==============================] - 15s 10ms/step - loss: 1.3376 - accuracy: 0.5274 - val_loss: 1.3678 - val_accuracy: 0.5142\n",
      "Epoch 12/100\n",
      "1407/1407 [==============================] - 14s 10ms/step - loss: 1.3141 - accuracy: 0.5361 - val_loss: 1.3844 - val_accuracy: 0.5080\n",
      "Epoch 13/100\n",
      "1407/1407 [==============================] - 15s 11ms/step - loss: 1.2970 - accuracy: 0.5410 - val_loss: 1.3566 - val_accuracy: 0.5164\n",
      "Epoch 14/100\n",
      "1407/1407 [==============================] - 14s 10ms/step - loss: 1.2757 - accuracy: 0.5512 - val_loss: 1.3626 - val_accuracy: 0.5248\n",
      "Epoch 15/100\n",
      "1407/1407 [==============================] - 14s 10ms/step - loss: 1.2608 - accuracy: 0.5564 - val_loss: 1.3616 - val_accuracy: 0.5276\n",
      "Epoch 16/100\n",
      "1407/1407 [==============================] - 13s 9ms/step - loss: 1.2506 - accuracy: 0.5584 - val_loss: 1.3350 - val_accuracy: 0.5286\n",
      "Epoch 17/100\n",
      "1407/1407 [==============================] - 13s 9ms/step - loss: 1.2300 - accuracy: 0.5654 - val_loss: 1.3370 - val_accuracy: 0.5408\n",
      "Epoch 18/100\n",
      "1407/1407 [==============================] - 13s 9ms/step - loss: 1.2130 - accuracy: 0.5728 - val_loss: 1.3564 - val_accuracy: 0.5294\n",
      "Epoch 19/100\n",
      "1407/1407 [==============================] - 14s 10ms/step - loss: 1.2012 - accuracy: 0.5777 - val_loss: 1.3396 - val_accuracy: 0.5342\n",
      "Epoch 20/100\n",
      "1407/1407 [==============================] - 14s 10ms/step - loss: 1.1878 - accuracy: 0.5857 - val_loss: 1.3716 - val_accuracy: 0.5196\n",
      "Epoch 21/100\n",
      "1407/1407 [==============================] - 13s 9ms/step - loss: 1.1739 - accuracy: 0.5878 - val_loss: 1.3639 - val_accuracy: 0.5258\n",
      "Epoch 22/100\n",
      "1407/1407 [==============================] - 13s 9ms/step - loss: 1.1613 - accuracy: 0.5921 - val_loss: 1.3551 - val_accuracy: 0.5222\n",
      "Epoch 23/100\n",
      "1407/1407 [==============================] - 13s 10ms/step - loss: 1.1509 - accuracy: 0.5971 - val_loss: 1.3348 - val_accuracy: 0.5386\n",
      "Epoch 24/100\n",
      "1407/1407 [==============================] - 15s 10ms/step - loss: 1.1354 - accuracy: 0.5995 - val_loss: 1.3478 - val_accuracy: 0.5388\n",
      "Epoch 25/100\n",
      "1407/1407 [==============================] - 14s 10ms/step - loss: 1.1265 - accuracy: 0.6055 - val_loss: 1.3345 - val_accuracy: 0.5392\n",
      "Epoch 26/100\n",
      "1407/1407 [==============================] - 15s 10ms/step - loss: 1.1139 - accuracy: 0.6062 - val_loss: 1.3455 - val_accuracy: 0.5368\n",
      "Epoch 27/100\n",
      "1407/1407 [==============================] - 14s 10ms/step - loss: 1.1023 - accuracy: 0.6139 - val_loss: 1.3470 - val_accuracy: 0.5388\n",
      "Epoch 28/100\n",
      "1407/1407 [==============================] - 14s 10ms/step - loss: 1.0916 - accuracy: 0.6170 - val_loss: 1.3566 - val_accuracy: 0.5338\n",
      "Epoch 29/100\n",
      "1407/1407 [==============================] - 13s 9ms/step - loss: 1.0834 - accuracy: 0.6206 - val_loss: 1.3344 - val_accuracy: 0.5398\n",
      "Epoch 30/100\n",
      "1407/1407 [==============================] - 13s 9ms/step - loss: 1.0693 - accuracy: 0.6238 - val_loss: 1.3473 - val_accuracy: 0.5378\n",
      "Epoch 31/100\n",
      "1407/1407 [==============================] - 13s 9ms/step - loss: 1.0601 - accuracy: 0.6280 - val_loss: 1.3462 - val_accuracy: 0.5442\n",
      "Epoch 32/100\n",
      "1407/1407 [==============================] - 13s 9ms/step - loss: 1.0523 - accuracy: 0.6291 - val_loss: 1.3808 - val_accuracy: 0.5338\n",
      "Epoch 33/100\n",
      "1407/1407 [==============================] - 13s 9ms/step - loss: 1.0369 - accuracy: 0.6360 - val_loss: 1.3682 - val_accuracy: 0.5450\n",
      "Epoch 34/100\n",
      "1407/1407 [==============================] - 14s 10ms/step - loss: 1.0316 - accuracy: 0.6379 - val_loss: 1.3348 - val_accuracy: 0.5458\n",
      "Epoch 35/100\n",
      "1407/1407 [==============================] - 14s 10ms/step - loss: 1.0215 - accuracy: 0.6409 - val_loss: 1.3490 - val_accuracy: 0.5440\n",
      "Epoch 36/100\n",
      "1407/1407 [==============================] - 13s 9ms/step - loss: 1.0136 - accuracy: 0.6434 - val_loss: 1.3568 - val_accuracy: 0.5408\n",
      "Epoch 37/100\n",
      "1407/1407 [==============================] - 14s 10ms/step - loss: 0.9949 - accuracy: 0.6494 - val_loss: 1.3628 - val_accuracy: 0.5396\n",
      "Epoch 38/100\n",
      "1407/1407 [==============================] - 14s 10ms/step - loss: 0.9936 - accuracy: 0.6542 - val_loss: 1.3617 - val_accuracy: 0.5482\n",
      "Epoch 39/100\n",
      "1407/1407 [==============================] - 14s 10ms/step - loss: 0.9830 - accuracy: 0.6567 - val_loss: 1.3767 - val_accuracy: 0.5446\n",
      "Epoch 40/100\n",
      "1407/1407 [==============================] - 14s 10ms/step - loss: 0.9680 - accuracy: 0.6630 - val_loss: 1.4200 - val_accuracy: 0.5314\n",
      "Epoch 41/100\n",
      "1407/1407 [==============================] - 13s 9ms/step - loss: 0.9677 - accuracy: 0.6615 - val_loss: 1.3692 - val_accuracy: 0.5450\n",
      "Epoch 42/100\n",
      "1407/1407 [==============================] - 14s 10ms/step - loss: 0.9539 - accuracy: 0.6643 - val_loss: 1.3841 - val_accuracy: 0.5310\n",
      "Epoch 43/100\n",
      "1407/1407 [==============================] - 13s 9ms/step - loss: 0.9522 - accuracy: 0.6676 - val_loss: 1.4036 - val_accuracy: 0.5382\n",
      "Epoch 44/100\n",
      "1407/1407 [==============================] - 14s 10ms/step - loss: 0.9416 - accuracy: 0.6688 - val_loss: 1.4114 - val_accuracy: 0.5236\n",
      "Epoch 45/100\n",
      "1407/1407 [==============================] - 14s 10ms/step - loss: 0.9293 - accuracy: 0.6736 - val_loss: 1.4224 - val_accuracy: 0.5324\n",
      "Epoch 46/100\n",
      "1407/1407 [==============================] - 14s 10ms/step - loss: 0.9266 - accuracy: 0.6763 - val_loss: 1.3875 - val_accuracy: 0.5442\n",
      "Epoch 47/100\n",
      "1407/1407 [==============================] - 14s 10ms/step - loss: 0.9075 - accuracy: 0.6807 - val_loss: 1.4449 - val_accuracy: 0.5280\n",
      "Epoch 48/100\n",
      "1407/1407 [==============================] - 14s 10ms/step - loss: 0.9092 - accuracy: 0.6799 - val_loss: 1.4167 - val_accuracy: 0.5338\n",
      "Epoch 49/100\n",
      "1407/1407 [==============================] - 14s 10ms/step - loss: 0.8956 - accuracy: 0.6870 - val_loss: 1.4260 - val_accuracy: 0.5294\n"
     ]
    },
    {
     "data": {
      "text/plain": [
       "<tensorflow.python.keras.callbacks.History at 0x7fe730ba64f0>"
      ]
     },
     "execution_count": 110,
     "metadata": {},
     "output_type": "execute_result"
    }
   ],
   "source": [
    "keras.backend.clear_session()\n",
    "tf.random.set_seed(42)\n",
    "np.random.seed(42)\n",
    "\n",
    "model = keras.models.Sequential()\n",
    "model.add(keras.layers.Flatten(input_shape=[32, 32, 3]))\n",
    "model.add(keras.layers.BatchNormalization())\n",
    "for _ in range(20):\n",
    "    model.add(keras.layers.Dense(100, kernel_initializer=\"he_normal\"))\n",
    "    model.add(keras.layers.BatchNormalization())\n",
    "    model.add(keras.layers.Activation(\"elu\"))\n",
    "model.add(keras.layers.Dense(10, activation=\"softmax\"))\n",
    "\n",
    "optimizer = keras.optimizers.Nadam(lr=5e-4)\n",
    "model.compile(loss=\"sparse_categorical_crossentropy\",\n",
    "              optimizer=optimizer,\n",
    "              metrics=[\"accuracy\"])\n",
    "\n",
    "early_stopping_cb = keras.callbacks.EarlyStopping(patience=20)\n",
    "callbacks = [early_stopping_cb]\n",
    "\n",
    "model.fit(X_train, y_train, epochs=100,\n",
    "          validation_data=(X_valid, y_valid),\n",
    "          callbacks=callbacks)"
   ]
  },
  {
   "cell_type": "markdown",
   "metadata": {},
   "source": [
    "Is the model converging faster than before? Much faster! The previous model took 39 epochs to reach the lowest validation loss, while the new model with BN took 18 epochs. That's more than twice as fast as the previous model. The BN layers stabilized training and allowed us to use a much larger learning rate, so convergence was faster.\n",
    "\n",
    "Does BN produce a better model? Yes! The final model is also much better, with 52% accuracy instead of 47%. It's still not a very good model, but at least it's much better than before.\n",
    "\n",
    "How does BN affect training speed? Although the model converged twice as fast, each epoch took more time, because of the extra computations required by the BN layers. "
   ]
  },
  {
   "cell_type": "markdown",
   "metadata": {},
   "source": [
    "**4  - Try replacing Batch Normalization with SELU, and make the necessary adjustements to ensure the network selfnormalizes (i.e., standardize the input features, use LeCun normal initialization, make sure the DNN contains only a\n",
    "sequence of dense layers, etc.)**"
   ]
  },
  {
   "cell_type": "code",
   "execution_count": 111,
   "metadata": {},
   "outputs": [
    {
     "name": "stdout",
     "output_type": "stream",
     "text": [
      "Epoch 1/100\n",
      "1407/1407 [==============================] - 6s 4ms/step - loss: 1.9303 - accuracy: 0.3043 - val_loss: 1.7878 - val_accuracy: 0.3552\n",
      "Epoch 2/100\n",
      "1407/1407 [==============================] - 6s 4ms/step - loss: 1.7113 - accuracy: 0.3908 - val_loss: 1.7028 - val_accuracy: 0.3828\n",
      "Epoch 3/100\n",
      "1407/1407 [==============================] - 6s 4ms/step - loss: 1.6190 - accuracy: 0.4301 - val_loss: 1.6692 - val_accuracy: 0.4022\n",
      "Epoch 4/100\n",
      "1407/1407 [==============================] - 6s 4ms/step - loss: 1.5512 - accuracy: 0.4539 - val_loss: 1.6350 - val_accuracy: 0.4300\n",
      "Epoch 5/100\n",
      "1407/1407 [==============================] - 6s 4ms/step - loss: 1.4944 - accuracy: 0.4766 - val_loss: 1.5773 - val_accuracy: 0.4356\n",
      "Epoch 6/100\n",
      "1407/1407 [==============================] - 6s 4ms/step - loss: 1.4473 - accuracy: 0.4909 - val_loss: 1.5529 - val_accuracy: 0.4630\n",
      "Epoch 7/100\n",
      "1407/1407 [==============================] - 6s 4ms/step - loss: 1.4061 - accuracy: 0.5091 - val_loss: 1.5290 - val_accuracy: 0.4682\n",
      "Epoch 8/100\n",
      "1407/1407 [==============================] - 6s 4ms/step - loss: 1.3619 - accuracy: 0.5246 - val_loss: 1.4633 - val_accuracy: 0.4792\n",
      "Epoch 9/100\n",
      "1407/1407 [==============================] - 6s 4ms/step - loss: 1.3266 - accuracy: 0.5414 - val_loss: 1.4787 - val_accuracy: 0.4776\n",
      "Epoch 10/100\n",
      "1407/1407 [==============================] - 6s 4ms/step - loss: 1.2991 - accuracy: 0.5490 - val_loss: 1.4794 - val_accuracy: 0.4934\n",
      "Epoch 11/100\n",
      "1407/1407 [==============================] - 6s 4ms/step - loss: 1.2671 - accuracy: 0.5612 - val_loss: 1.5529 - val_accuracy: 0.4982\n",
      "Epoch 12/100\n",
      "1407/1407 [==============================] - 6s 4ms/step - loss: 1.2378 - accuracy: 0.5749 - val_loss: 1.4942 - val_accuracy: 0.4902\n",
      "Epoch 13/100\n",
      "1407/1407 [==============================] - 7s 5ms/step - loss: 1.2140 - accuracy: 0.5779 - val_loss: 1.4868 - val_accuracy: 0.5024\n",
      "Epoch 14/100\n",
      "1407/1407 [==============================] - 7s 5ms/step - loss: 1.1901 - accuracy: 0.5918 - val_loss: 1.4839 - val_accuracy: 0.5082\n",
      "Epoch 15/100\n",
      "1407/1407 [==============================] - 7s 5ms/step - loss: 1.1629 - accuracy: 0.6004 - val_loss: 1.5097 - val_accuracy: 0.4968\n",
      "Epoch 16/100\n",
      "1407/1407 [==============================] - 7s 5ms/step - loss: 1.1331 - accuracy: 0.6101 - val_loss: 1.5001 - val_accuracy: 0.5120\n",
      "Epoch 17/100\n",
      "1407/1407 [==============================] - 8s 6ms/step - loss: 1.1144 - accuracy: 0.6156 - val_loss: 1.4856 - val_accuracy: 0.5056\n",
      "Epoch 18/100\n",
      "1407/1407 [==============================] - 7s 5ms/step - loss: 1.0962 - accuracy: 0.6244 - val_loss: 1.5116 - val_accuracy: 0.4966\n",
      "Epoch 19/100\n",
      "1407/1407 [==============================] - 8s 5ms/step - loss: 1.0790 - accuracy: 0.6313 - val_loss: 1.5787 - val_accuracy: 0.5070\n",
      "Epoch 20/100\n",
      "1407/1407 [==============================] - 8s 5ms/step - loss: 1.0551 - accuracy: 0.6397 - val_loss: 1.4987 - val_accuracy: 0.5144\n",
      "Epoch 21/100\n",
      "1407/1407 [==============================] - 7s 5ms/step - loss: 1.0367 - accuracy: 0.6477 - val_loss: 1.6292 - val_accuracy: 0.4462\n",
      "Epoch 22/100\n",
      "1407/1407 [==============================] - 8s 5ms/step - loss: 1.0812 - accuracy: 0.6301 - val_loss: 1.5280 - val_accuracy: 0.5136\n",
      "Epoch 23/100\n",
      "1407/1407 [==============================] - 8s 6ms/step - loss: 0.9976 - accuracy: 0.6617 - val_loss: 1.5392 - val_accuracy: 0.5040\n",
      "Epoch 24/100\n",
      "1407/1407 [==============================] - 8s 6ms/step - loss: 0.9829 - accuracy: 0.6654 - val_loss: 1.5505 - val_accuracy: 0.5170\n",
      "Epoch 25/100\n",
      "1407/1407 [==============================] - 8s 6ms/step - loss: 2.1855 - accuracy: 0.6488 - val_loss: 1.5468 - val_accuracy: 0.4992\n",
      "Epoch 26/100\n",
      "1407/1407 [==============================] - 8s 6ms/step - loss: 1.0176 - accuracy: 0.6510 - val_loss: 1.5474 - val_accuracy: 0.5020\n",
      "Epoch 27/100\n",
      "1407/1407 [==============================] - 8s 5ms/step - loss: 0.9565 - accuracy: 0.6734 - val_loss: 1.5545 - val_accuracy: 0.5076\n",
      "Epoch 28/100\n",
      "1407/1407 [==============================] - 8s 6ms/step - loss: 0.9167 - accuracy: 0.6870 - val_loss: 1.5659 - val_accuracy: 0.5138\n"
     ]
    },
    {
     "data": {
      "text/plain": [
       "<tensorflow.python.keras.callbacks.History at 0x7fe7836ab280>"
      ]
     },
     "execution_count": 111,
     "metadata": {},
     "output_type": "execute_result"
    }
   ],
   "source": [
    "keras.backend.clear_session()\n",
    "tf.random.set_seed(42)\n",
    "np.random.seed(42)\n",
    "\n",
    "model = keras.models.Sequential()\n",
    "model.add(keras.layers.Flatten(input_shape=[32, 32, 3]))\n",
    "for _ in range(20):\n",
    "    model.add(keras.layers.Dense(100,\n",
    "                                 kernel_initializer=\"lecun_normal\",\n",
    "                                 activation=\"selu\"))\n",
    "model.add(keras.layers.Dense(10, activation=\"softmax\"))\n",
    "\n",
    "optimizer = keras.optimizers.Nadam(lr=7e-4)\n",
    "model.compile(loss=\"sparse_categorical_crossentropy\",\n",
    "              optimizer=optimizer,\n",
    "              metrics=[\"accuracy\"])\n",
    "\n",
    "early_stopping_cb = keras.callbacks.EarlyStopping(patience=20)\n",
    "callbacks = [early_stopping_cb]\n",
    "\n",
    "X_means = X_train.mean(axis=0)\n",
    "X_stds = X_train.std(axis=0)\n",
    "X_train_scaled = (X_train - X_means) / X_stds\n",
    "X_valid_scaled = (X_valid - X_means) / X_stds\n",
    "X_test_scaled = (X_test - X_means) / X_stds\n",
    "\n",
    "model.fit(X_train_scaled, y_train, epochs=100,\n",
    "          validation_data=(X_valid_scaled, y_valid),\n",
    "          callbacks=callbacks)"
   ]
  },
  {
   "cell_type": "markdown",
   "metadata": {},
   "source": [
    "We get 51.4% accuracy, which is better than the original model, but not quite as good as the model using batch normalization. Moreover, it took 13 epochs to reach the best model, which is much faster than both the original model and the BN model, plus each epoch took a short time just like the original model. So it's by far the fastest model to train (both in terms of epochs and wall time)."
   ]
  },
  {
   "cell_type": "markdown",
   "metadata": {},
   "source": [
    "**5 - Try regularizing the model with alpha dropout. Then, without retraining your model, see if you can achieve better accuracy using MC Dropout.**"
   ]
  },
  {
   "cell_type": "code",
   "execution_count": 112,
   "metadata": {},
   "outputs": [
    {
     "name": "stdout",
     "output_type": "stream",
     "text": [
      "Epoch 1/100\n",
      "1407/1407 [==============================] - 6s 4ms/step - loss: 1.8973 - accuracy: 0.3245 - val_loss: 1.7629 - val_accuracy: 0.3738\n",
      "Epoch 2/100\n",
      "1407/1407 [==============================] - 6s 4ms/step - loss: 1.6695 - accuracy: 0.4080 - val_loss: 1.6333 - val_accuracy: 0.4226\n",
      "Epoch 3/100\n",
      "1407/1407 [==============================] - 6s 4ms/step - loss: 1.5810 - accuracy: 0.4441 - val_loss: 1.6475 - val_accuracy: 0.4314\n",
      "Epoch 4/100\n",
      "1407/1407 [==============================] - 6s 4ms/step - loss: 1.5112 - accuracy: 0.4739 - val_loss: 1.5459 - val_accuracy: 0.4624\n",
      "Epoch 5/100\n",
      "1407/1407 [==============================] - 6s 4ms/step - loss: 1.4553 - accuracy: 0.4964 - val_loss: 1.5467 - val_accuracy: 0.4726\n",
      "Epoch 6/100\n",
      "1407/1407 [==============================] - 6s 4ms/step - loss: 1.4119 - accuracy: 0.5046 - val_loss: 1.5186 - val_accuracy: 0.4806\n",
      "Epoch 7/100\n",
      "1407/1407 [==============================] - 6s 4ms/step - loss: 1.3637 - accuracy: 0.5257 - val_loss: 1.5568 - val_accuracy: 0.4804\n",
      "Epoch 8/100\n",
      "1407/1407 [==============================] - 5s 4ms/step - loss: 1.3237 - accuracy: 0.5404 - val_loss: 1.4716 - val_accuracy: 0.4936\n",
      "Epoch 9/100\n",
      "1407/1407 [==============================] - 6s 4ms/step - loss: 1.2900 - accuracy: 0.5549 - val_loss: 1.5639 - val_accuracy: 0.4806\n",
      "Epoch 10/100\n",
      "1407/1407 [==============================] - 6s 4ms/step - loss: 1.2594 - accuracy: 0.5633 - val_loss: 1.5023 - val_accuracy: 0.4910\n",
      "Epoch 11/100\n",
      "1407/1407 [==============================] - 5s 4ms/step - loss: 1.2290 - accuracy: 0.5758 - val_loss: 1.5683 - val_accuracy: 0.5048\n",
      "Epoch 12/100\n",
      "1407/1407 [==============================] - 6s 4ms/step - loss: 1.1973 - accuracy: 0.5879 - val_loss: 1.5097 - val_accuracy: 0.5012\n",
      "Epoch 13/100\n",
      "1407/1407 [==============================] - 6s 4ms/step - loss: 1.1644 - accuracy: 0.5986 - val_loss: 1.5513 - val_accuracy: 0.5036\n",
      "Epoch 14/100\n",
      "1407/1407 [==============================] - 6s 4ms/step - loss: 1.1423 - accuracy: 0.6074 - val_loss: 1.6108 - val_accuracy: 0.4994\n",
      "Epoch 15/100\n",
      "1407/1407 [==============================] - 5s 4ms/step - loss: 1.1110 - accuracy: 0.6208 - val_loss: 1.5413 - val_accuracy: 0.5082\n",
      "Epoch 16/100\n",
      "1407/1407 [==============================] - 5s 4ms/step - loss: 1.0902 - accuracy: 0.6275 - val_loss: 1.5833 - val_accuracy: 0.4988\n",
      "Epoch 17/100\n",
      "1407/1407 [==============================] - 6s 4ms/step - loss: 1.0601 - accuracy: 0.6368 - val_loss: 1.6264 - val_accuracy: 0.5030\n",
      "Epoch 18/100\n",
      "1407/1407 [==============================] - 6s 4ms/step - loss: 1.0411 - accuracy: 0.6447 - val_loss: 1.6524 - val_accuracy: 0.5072\n",
      "Epoch 19/100\n",
      "1407/1407 [==============================] - 5s 4ms/step - loss: 1.0200 - accuracy: 0.6485 - val_loss: 1.6484 - val_accuracy: 0.5036\n",
      "Epoch 20/100\n",
      "1407/1407 [==============================] - 6s 4ms/step - loss: 0.9998 - accuracy: 0.6605 - val_loss: 1.6678 - val_accuracy: 0.5030\n",
      "Epoch 21/100\n",
      "1407/1407 [==============================] - 5s 4ms/step - loss: 0.9827 - accuracy: 0.6677 - val_loss: 1.6860 - val_accuracy: 0.5018\n",
      "Epoch 22/100\n",
      "1407/1407 [==============================] - 6s 4ms/step - loss: 0.9664 - accuracy: 0.6696 - val_loss: 1.7288 - val_accuracy: 0.5082\n",
      "Epoch 23/100\n",
      "1407/1407 [==============================] - 6s 4ms/step - loss: 0.9462 - accuracy: 0.6791 - val_loss: 1.6977 - val_accuracy: 0.5090\n",
      "Epoch 24/100\n",
      "1407/1407 [==============================] - 6s 4ms/step - loss: 0.9255 - accuracy: 0.6862 - val_loss: 1.7885 - val_accuracy: 0.5112\n",
      "Epoch 25/100\n",
      "1407/1407 [==============================] - 6s 4ms/step - loss: 0.9090 - accuracy: 0.6922 - val_loss: 1.7232 - val_accuracy: 0.5148\n",
      "Epoch 26/100\n",
      "1407/1407 [==============================] - 6s 5ms/step - loss: 0.8840 - accuracy: 0.7026 - val_loss: 1.7941 - val_accuracy: 0.5008\n",
      "Epoch 27/100\n",
      "1407/1407 [==============================] - 6s 4ms/step - loss: 0.8733 - accuracy: 0.7056 - val_loss: 1.7456 - val_accuracy: 0.5066\n",
      "Epoch 28/100\n",
      "1407/1407 [==============================] - 6s 4ms/step - loss: 0.8617 - accuracy: 0.7093 - val_loss: 1.7443 - val_accuracy: 0.5056\n"
     ]
    },
    {
     "data": {
      "text/plain": [
       "<tensorflow.python.keras.callbacks.History at 0x7fe770af6be0>"
      ]
     },
     "execution_count": 112,
     "metadata": {},
     "output_type": "execute_result"
    }
   ],
   "source": [
    "keras.backend.clear_session()\n",
    "tf.random.set_seed(42)\n",
    "np.random.seed(42)\n",
    "\n",
    "model = keras.models.Sequential()\n",
    "model.add(keras.layers.Flatten(input_shape=[32, 32, 3]))\n",
    "for _ in range(20):\n",
    "    model.add(keras.layers.Dense(100,\n",
    "                                 kernel_initializer=\"lecun_normal\",\n",
    "                                 activation=\"selu\"))\n",
    "\n",
    "model.add(keras.layers.AlphaDropout(rate=0.1))\n",
    "model.add(keras.layers.Dense(10, activation=\"softmax\"))\n",
    "\n",
    "optimizer = keras.optimizers.Nadam(lr=5e-4)\n",
    "model.compile(loss=\"sparse_categorical_crossentropy\",\n",
    "              optimizer=optimizer,\n",
    "              metrics=[\"accuracy\"])\n",
    "\n",
    "early_stopping_cb = keras.callbacks.EarlyStopping(patience=20)\n",
    "callbacks = [early_stopping_cb]\n",
    "\n",
    "X_means = X_train.mean(axis=0)\n",
    "X_stds = X_train.std(axis=0)\n",
    "X_train_scaled = (X_train - X_means) / X_stds\n",
    "X_valid_scaled = (X_valid - X_means) / X_stds\n",
    "X_test_scaled = (X_test - X_means) / X_stds\n",
    "\n",
    "model.fit(X_train_scaled, y_train, epochs=100,\n",
    "          validation_data=(X_valid_scaled, y_valid),\n",
    "          callbacks=callbacks)"
   ]
  },
  {
   "cell_type": "markdown",
   "metadata": {},
   "source": [
    "The model reaches 50.8% accuracy on the validation set. That's very slightly worse than without dropout (51.4%). With an extensive hyperparameter search, it might be possible to do better, but probably not much better in this case.\n",
    "\n",
    "Let's use MC Dropout now:"
   ]
  },
  {
   "cell_type": "code",
   "execution_count": 113,
   "metadata": {},
   "outputs": [
    {
     "data": {
      "text/plain": [
       "0.5048"
      ]
     },
     "execution_count": 113,
     "metadata": {},
     "output_type": "execute_result"
    }
   ],
   "source": [
    "class MCAlphaDropout(keras.layers.AlphaDropout):\n",
    "    def call(self, inputs):\n",
    "        return super().call(inputs, training=True)\n",
    "    \n",
    "mc_model = keras.models.Sequential([\n",
    "    MCAlphaDropout(layer.rate) if isinstance(layer, keras.layers.AlphaDropout) else layer\n",
    "    for layer in model.layers\n",
    "])\n",
    "\n",
    "def mc_dropout_predict_probas(mc_model, X, n_samples=10):\n",
    "    Y_probas = [mc_model.predict(X) for sample in range(n_samples)]\n",
    "    return np.mean(Y_probas, axis=0)\n",
    "\n",
    "def mc_dropout_predict_classes(mc_model, X, n_samples=10):\n",
    "    Y_probas = mc_dropout_predict_probas(mc_model, X, n_samples)\n",
    "    return np.argmax(Y_probas, axis=1)\n",
    "\n",
    "keras.backend.clear_session()\n",
    "tf.random.set_seed(42)\n",
    "np.random.seed(42)\n",
    "\n",
    "y_pred = mc_dropout_predict_classes(mc_model, X_valid_scaled)\n",
    "accuracy = np.mean(y_pred == y_valid[:, 0])\n",
    "accuracy"
   ]
  },
  {
   "cell_type": "markdown",
   "metadata": {},
   "source": [
    "We only get virtually no accuracy improvement in this case (from 50.8% to 50.9%).\n",
    "So the best model we got in this exercise is the Batch Normalization model."
   ]
  }
 ],
 "metadata": {
  "kernelspec": {
   "display_name": "Python 3",
   "language": "python",
   "name": "python3"
  },
  "language_info": {
   "codemirror_mode": {
    "name": "ipython",
    "version": 3
   },
   "file_extension": ".py",
   "mimetype": "text/x-python",
   "name": "python",
   "nbconvert_exporter": "python",
   "pygments_lexer": "ipython3",
   "version": "3.8.10"
  },
  "nav_menu": {},
  "toc": {
   "navigate_menu": true,
   "number_sections": true,
   "sideBar": true,
   "threshold": 6,
   "toc_cell": false,
   "toc_section_display": "block",
   "toc_window_display": false
  }
 },
 "nbformat": 4,
 "nbformat_minor": 4
}
